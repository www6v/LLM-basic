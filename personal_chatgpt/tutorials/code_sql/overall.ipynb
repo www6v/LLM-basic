{
 "cells": [
  {
   "cell_type": "code",
   "execution_count": 1,
   "id": "d5ec5066-e828-4e08-a019-ed9820c2da70",
   "metadata": {
    "execution": {
     "iopub.execute_input": "2024-07-07T08:29:55.060391Z",
     "iopub.status.busy": "2024-07-07T08:29:55.059761Z",
     "iopub.status.idle": "2024-07-07T08:30:04.181701Z",
     "shell.execute_reply": "2024-07-07T08:30:04.180733Z",
     "shell.execute_reply.started": "2024-07-07T08:29:55.060342Z"
    }
   },
   "outputs": [],
   "source": [
    "import torch\n",
    "from transformers import AutoModelForCausalLM, AutoTokenizer, pipeline"
   ]
  },
  {
   "cell_type": "markdown",
   "id": "650b21ab-1422-4039-b603-d15566484d71",
   "metadata": {},
   "source": [
    "### bigcode/octocoder"
   ]
  },
  {
   "cell_type": "markdown",
   "id": "59fa4883-f5fd-4246-9a59-6333642dda8d",
   "metadata": {},
   "source": [
    "```\n",
    "model = AutoModelForCausalLM.from_pretrained(\"bigcode/octocoder\", \n",
    "                                             torch_dtype=torch.bfloat16, \n",
    "                                             device_map=\"auto\", \n",
    "                                             pad_token_id=0)\n",
    "\n",
    "tokenizer = AutoTokenizer.from_pretrained(\"bigcode/octocoder\")\n",
    "\n",
    "prompt = \"Question: Please write a function in Python that transforms bytes to Giga bytes.\\n\\nAnswer:\"\n",
    "\n",
    "result = pipe(prompt, max_new_tokens=60)[0][\"generated_text\"][len(prompt):]\n",
    "result\n",
    "```"
   ]
  }
 ],
 "metadata": {
  "kernelspec": {
   "display_name": "Python 3 (ipykernel)",
   "language": "python",
   "name": "python3"
  },
  "language_info": {
   "codemirror_mode": {
    "name": "ipython",
    "version": 3
   },
   "file_extension": ".py",
   "mimetype": "text/x-python",
   "name": "python",
   "nbconvert_exporter": "python",
   "pygments_lexer": "ipython3",
   "version": "3.10.13"
  }
 },
 "nbformat": 4,
 "nbformat_minor": 5
}
