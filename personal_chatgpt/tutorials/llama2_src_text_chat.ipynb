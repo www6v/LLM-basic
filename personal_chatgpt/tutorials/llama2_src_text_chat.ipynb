{
 "cells": [
  {
   "cell_type": "markdown",
   "id": "36cfc8b2",
   "metadata": {},
   "source": [
    "## outline"
   ]
  },
  {
   "cell_type": "markdown",
   "id": "85623acf",
   "metadata": {},
   "source": [
    "- 两者底层调的都是\n",
    "    - `Llama` 类对象的模型结构显然是一致的；\n",
    "        ```\n",
    "        tokenizer = Tokenizer(model_path=tokenizer_path)\n",
    "        model = Transformer(model_args)\n",
    "        model.load_state_dict(checkpoint, strict=False)\n",
    "        llama = Llama(model, tokenizer)\n",
    "        ```\n",
    "    - `Llama.generate(prompt_tokens, max_gen_len, ...)`\n",
    "- 差异\n",
    "    - model weights 不同；\n",
    "    - prompt_tokens 的组织不同"
   ]
  },
  {
   "cell_type": "code",
   "execution_count": 3,
   "id": "0039f3d8",
   "metadata": {
    "ExecuteTime": {
     "end_time": "2024-02-03T13:31:26.085473Z",
     "start_time": "2024-02-03T13:31:26.033887Z"
    }
   },
   "outputs": [],
   "source": [
    "# tokenizer\n",
    "from sentencepiece import SentencePieceProcessor\n",
    "sp_model = SentencePieceProcessor(model_file='./tokenizer.model')"
   ]
  },
  {
   "cell_type": "code",
   "execution_count": 7,
   "id": "6f15bc7e",
   "metadata": {
    "ExecuteTime": {
     "end_time": "2024-02-03T13:35:15.747826Z",
     "start_time": "2024-02-03T13:35:15.737792Z"
    }
   },
   "outputs": [
    {
     "data": {
      "text/plain": [
       "1"
      ]
     },
     "execution_count": 7,
     "metadata": {},
     "output_type": "execute_result"
    }
   ],
   "source": [
    "sp_model.bos_id()"
   ]
  },
  {
   "cell_type": "code",
   "execution_count": 8,
   "id": "56133c62",
   "metadata": {
    "ExecuteTime": {
     "end_time": "2024-02-03T13:35:22.596991Z",
     "start_time": "2024-02-03T13:35:22.587410Z"
    }
   },
   "outputs": [
    {
     "data": {
      "text/plain": [
       "2"
      ]
     },
     "execution_count": 8,
     "metadata": {},
     "output_type": "execute_result"
    }
   ],
   "source": [
    "sp_model.eos_id()"
   ]
  },
  {
   "cell_type": "code",
   "execution_count": 9,
   "id": "9467039b",
   "metadata": {
    "ExecuteTime": {
     "end_time": "2024-02-03T13:35:33.506344Z",
     "start_time": "2024-02-03T13:35:33.496915Z"
    }
   },
   "outputs": [
    {
     "data": {
      "text/plain": [
       "-1"
      ]
     },
     "execution_count": 9,
     "metadata": {},
     "output_type": "execute_result"
    }
   ],
   "source": [
    "sp_model.pad_id()"
   ]
  },
  {
   "cell_type": "markdown",
   "id": "5ab1a09d",
   "metadata": {},
   "source": [
    "## 接口层面"
   ]
  },
  {
   "cell_type": "markdown",
   "id": "29741487",
   "metadata": {},
   "source": [
    "```\n",
    "def text_completion(\n",
    "    self,\n",
    "    prompts: List[str],\n",
    "    temperature: float = 0.6,\n",
    "    top_p: float = 0.9,\n",
    "    max_gen_len: Optional[int] = None,\n",
    "    logprobs: bool = False,\n",
    "    echo: bool = False,\n",
    ") -> List[CompletionPrediction]:\n",
    "\n",
    "\n",
    "def chat_completion(\n",
    "    self,\n",
    "    dialogs: List[Dialog],\n",
    "    temperature: float = 0.6,\n",
    "    top_p: float = 0.9,\n",
    "    max_gen_len: Optional[int] = None,\n",
    "    logprobs: bool = False,\n",
    ") -> List[ChatPrediction]:\n",
    "```"
   ]
  },
  {
   "cell_type": "markdown",
   "id": "77daec3d",
   "metadata": {},
   "source": [
    "## chat 接口抽象"
   ]
  },
  {
   "cell_type": "markdown",
   "id": "6c4136d5",
   "metadata": {},
   "source": [
    "```\n",
    "class Message(TypedDict):\n",
    "    role: Role\n",
    "    content: str\n",
    "\n",
    "\n",
    "Dialog = List[Message]\n",
    "\n",
    "B_INST, E_INST = \"[INST]\", \"[/INST]\"\n",
    "B_SYS, E_SYS = \"<<SYS>>\\n\", \"\\n<</SYS>>\\n\\n\"\n",
    "\n",
    "SPECIAL_TAGS = [B_INST, E_INST, \"<<SYS>>\", \"<</SYS>>\"]\n",
    "UNSAFE_ERROR = \"Error: special tags are not allowed as part of the prompt.\"\n",
    "\n",
    "```\n",
    "\n",
    "- role\n",
    "    - system\n",
    "    - user\n",
    "    - assistant\n",
    "    - \"starting with 'system', then 'user' and alternating (u/a/u/a/u...)\"\n",
    "- unsafe requests\n",
    "    - dialog content 中包含 `\"[INST]\", \"[/INST]\", \"<<SYS>>\\n\", \"\\n<</SYS>>\\n\\n\"`"
   ]
  },
  {
   "cell_type": "code",
   "execution_count": 1,
   "id": "c8b1d374",
   "metadata": {
    "ExecuteTime": {
     "end_time": "2024-02-03T13:11:41.640797Z",
     "start_time": "2024-02-03T13:11:41.622790Z"
    },
    "scrolled": true
   },
   "outputs": [
    {
     "name": "stdout",
     "output_type": "stream",
     "text": [
      "\n",
      "<</SYS>>\n",
      "\n",
      "\n"
     ]
    }
   ],
   "source": [
    "print(\"\\n<</SYS>>\\n\\n\")"
   ]
  },
  {
   "cell_type": "markdown",
   "id": "4b16138f",
   "metadata": {},
   "source": [
    "### special tags"
   ]
  },
  {
   "cell_type": "code",
   "execution_count": 13,
   "id": "47d74f7e",
   "metadata": {
    "ExecuteTime": {
     "end_time": "2024-02-03T13:38:18.952910Z",
     "start_time": "2024-02-03T13:38:18.942604Z"
    }
   },
   "outputs": [
    {
     "data": {
      "text/plain": [
       "[518, 25580, 29962]"
      ]
     },
     "execution_count": 13,
     "metadata": {},
     "output_type": "execute_result"
    }
   ],
   "source": [
    "sp_model.encode('[INST]')"
   ]
  },
  {
   "cell_type": "code",
   "execution_count": 14,
   "id": "276bacd7",
   "metadata": {
    "ExecuteTime": {
     "end_time": "2024-02-03T13:38:33.343918Z",
     "start_time": "2024-02-03T13:38:33.333781Z"
    }
   },
   "outputs": [
    {
     "data": {
      "text/plain": [
       "[825]"
      ]
     },
     "execution_count": 14,
     "metadata": {},
     "output_type": "execute_result"
    }
   ],
   "source": [
    "sp_model.encode('what')"
   ]
  },
  {
   "cell_type": "code",
   "execution_count": 23,
   "id": "2baf0f13",
   "metadata": {
    "ExecuteTime": {
     "end_time": "2024-02-03T13:40:21.018737Z",
     "start_time": "2024-02-03T13:40:21.007851Z"
    }
   },
   "outputs": [
    {
     "data": {
      "text/plain": [
       "[518, 29914, 25580, 29962]"
      ]
     },
     "execution_count": 23,
     "metadata": {},
     "output_type": "execute_result"
    }
   ],
   "source": [
    "sp_model.encode('[/INST]')"
   ]
  },
  {
   "cell_type": "code",
   "execution_count": 5,
   "id": "6b9fb0ef",
   "metadata": {
    "ExecuteTime": {
     "end_time": "2024-02-03T13:33:56.868973Z",
     "start_time": "2024-02-03T13:33:56.857895Z"
    }
   },
   "outputs": [
    {
     "data": {
      "text/plain": [
       "[518,\n",
       " 25580,\n",
       " 29962,\n",
       " 825,\n",
       " 338,\n",
       " 278,\n",
       " 9522,\n",
       " 412,\n",
       " 310,\n",
       " 1122,\n",
       " 11586,\n",
       " 895,\n",
       " 29973,\n",
       " 518,\n",
       " 29914,\n",
       " 25580,\n",
       " 29962]"
      ]
     },
     "execution_count": 5,
     "metadata": {},
     "output_type": "execute_result"
    }
   ],
   "source": [
    "# '[INST] what is the recipe of mayonnaise? [/INST]'\n",
    "sp_model.encode('[INST] what is the recipe of mayonnaise? [/INST]')"
   ]
  }
 ],
 "metadata": {
  "kernelspec": {
   "display_name": "Python 3 (ipykernel)",
   "language": "python",
   "name": "python3"
  },
  "language_info": {
   "codemirror_mode": {
    "name": "ipython",
    "version": 3
   },
   "file_extension": ".py",
   "mimetype": "text/x-python",
   "name": "python",
   "nbconvert_exporter": "python",
   "pygments_lexer": "ipython3",
   "version": "3.10.13"
  },
  "toc": {
   "base_numbering": 1,
   "nav_menu": {},
   "number_sections": true,
   "sideBar": true,
   "skip_h1_title": false,
   "title_cell": "Table of Contents",
   "title_sidebar": "Contents",
   "toc_cell": false,
   "toc_position": {},
   "toc_section_display": true,
   "toc_window_display": false
  }
 },
 "nbformat": 4,
 "nbformat_minor": 5
}
