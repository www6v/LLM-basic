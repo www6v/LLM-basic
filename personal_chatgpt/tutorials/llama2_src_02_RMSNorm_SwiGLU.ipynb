{
 "cells": [
  {
   "cell_type": "markdown",
   "id": "927c0a80",
   "metadata": {},
   "source": [
    "## basics"
   ]
  },
  {
   "cell_type": "markdown",
   "id": "af5550a1",
   "metadata": {},
   "source": [
    "- llama2: https://github.com/facebookresearch/llama\n",
    "- rmsnorm: https://github.com/bzhangGo/rmsnorm\n",
    "    - layernorm: https://pytorch.org/docs/stable/generated/torch.nn.LayerNorm.html\n",
    "- Swish: SwiLU, SiLU\n",
    "    - https://arxiv.org/abs/1710.05941v1\n",
    "    - https://pytorch.org/docs/stable/generated/torch.nn.functional.silu.html\n",
    "- 参考：\n",
    "    - https://akgeni.medium.com/llama-concepts-explained-summary-a87f0bd61964"
   ]
  },
  {
   "cell_type": "markdown",
   "id": "19ab1ca7",
   "metadata": {},
   "source": [
    "## RMSNorm"
   ]
  },
  {
   "cell_type": "markdown",
   "id": "f85c762e",
   "metadata": {},
   "source": [
    "- Pre-normalization Using RMSNorm  llama\n",
    "    - root mean square norm\n",
    "    - before attn\n",
    "    - before ffn\n",
    "    - 相比较 layernorm（re-centering，re-scaling），优化了计算时间；\n",
    "        - rms norm 只关注 re-scaling\n",
    "\n",
    "        $$ \\begin{align} \\begin{split} & \\bar{a}_i = \\frac{a_i}{\\text{RMS}(\\mathbf{a})} \\odot g_i, \\quad \\text{where}~~ \\text{RMS}(\\mathbf{a}) = \\sqrt{\\frac{1}{n} \\sum_{i=1}^{n} a_i^2}. \\end{split}\\nonumber \\end{align} $$\n",
    "\n",
    "    - 我们自然地可以得到一个结论就是，经过 rms norm 之后的 $\\bar{\\mathbf{a}}$ 其 $\\ell_2$ norm 为 $\\sqrt n$\n",
    "       \n",
    "$$\n",
    "\\|\\bar{\\mathbf{a}}\\|_2=\\sqrt{\\frac{\\sum a_i^2}{\\frac1n\\sum a_i^2}}=\\sqrt{n}\n",
    "$$\n",
    "       \n",
    "```\n",
    "class RMSNorm(torch.nn.Module):\n",
    "    def __init__(self, dim: int, eps: float = 1e-6):\n",
    "        super().__init__()\n",
    "        self.eps = eps\n",
    "        self.weight = nn.Parameter(torch.ones(dim))\n",
    "\n",
    "    def _norm(self, x):\n",
    "        return x * torch.rsqrt(x.pow(2).mean(-1, keepdim=True) + self.eps)\n",
    "\n",
    "    def forward(self, x):\n",
    "        output = self._norm(x.float()).type_as(x)\n",
    "        return output * self.weight\n",
    "```"
   ]
  },
  {
   "cell_type": "code",
   "execution_count": 49,
   "id": "f64017cf",
   "metadata": {
    "ExecuteTime": {
     "end_time": "2023-08-27T03:01:30.537235Z",
     "start_time": "2023-08-27T03:01:30.530347Z"
    }
   },
   "outputs": [],
   "source": [
    "import numpy as np\n",
    "import torch\n",
    "from torch import nn"
   ]
  },
  {
   "cell_type": "code",
   "execution_count": 50,
   "id": "eaf1801c",
   "metadata": {
    "ExecuteTime": {
     "end_time": "2023-08-27T03:01:31.695337Z",
     "start_time": "2023-08-27T03:01:31.687554Z"
    }
   },
   "outputs": [],
   "source": [
    "bs, seq_len, embedding_dim = 20, 5, 10\n",
    "x = torch.randn(bs, seq_len, embedding_dim)"
   ]
  },
  {
   "cell_type": "markdown",
   "id": "bd67e44c",
   "metadata": {},
   "source": [
    "### layer norm"
   ]
  },
  {
   "cell_type": "code",
   "execution_count": 51,
   "id": "cb3153a0",
   "metadata": {
    "ExecuteTime": {
     "end_time": "2023-08-27T03:01:32.836089Z",
     "start_time": "2023-08-27T03:01:32.828883Z"
    }
   },
   "outputs": [],
   "source": [
    "ln = nn.LayerNorm(embedding_dim)"
   ]
  },
  {
   "cell_type": "code",
   "execution_count": 52,
   "id": "19f29cf8",
   "metadata": {
    "ExecuteTime": {
     "end_time": "2023-08-27T03:01:34.523707Z",
     "start_time": "2023-08-27T03:01:34.518962Z"
    }
   },
   "outputs": [],
   "source": [
    "x_ln = ln(x)"
   ]
  },
  {
   "cell_type": "code",
   "execution_count": 53,
   "id": "692ca5b3",
   "metadata": {
    "ExecuteTime": {
     "end_time": "2023-08-27T03:01:35.396960Z",
     "start_time": "2023-08-27T03:01:35.385592Z"
    },
    "scrolled": true
   },
   "outputs": [
    {
     "name": "stdout",
     "output_type": "stream",
     "text": [
      "tensor(5.9605e-08, grad_fn=<MeanBackward0>)\n",
      "tensor(1.0000, grad_fn=<StdBackward0>)\n"
     ]
    }
   ],
   "source": [
    "print(x_ln[1, 3, :].mean())\n",
    "print(x_ln[1, 2, :].std(unbiased=False))"
   ]
  },
  {
   "cell_type": "markdown",
   "id": "c6bf8c65",
   "metadata": {},
   "source": [
    "### RMSNorm"
   ]
  },
  {
   "cell_type": "code",
   "execution_count": 54,
   "id": "daf950e4",
   "metadata": {
    "ExecuteTime": {
     "end_time": "2023-08-27T03:01:36.811177Z",
     "start_time": "2023-08-27T03:01:36.799776Z"
    }
   },
   "outputs": [],
   "source": [
    "class RMSNorm(torch.nn.Module):\n",
    "    def __init__(self, dim: int, eps: float = 1e-6):\n",
    "        super().__init__()\n",
    "        self.eps = eps\n",
    "        self.weight = nn.Parameter(torch.ones(dim))\n",
    "\n",
    "    def _norm(self, x):\n",
    "        return x * torch.rsqrt(x.pow(2).mean(-1, keepdim=True) + self.eps)\n",
    "\n",
    "    def forward(self, x):\n",
    "        output = self._norm(x.float()).type_as(x)\n",
    "        return output * self.weight"
   ]
  },
  {
   "cell_type": "code",
   "execution_count": 55,
   "id": "818f15ba",
   "metadata": {
    "ExecuteTime": {
     "end_time": "2023-08-27T03:01:38.640294Z",
     "start_time": "2023-08-27T03:01:38.633348Z"
    }
   },
   "outputs": [],
   "source": [
    "rms_norm = RMSNorm(embedding_dim)"
   ]
  },
  {
   "cell_type": "code",
   "execution_count": 56,
   "id": "d083b8ee",
   "metadata": {
    "ExecuteTime": {
     "end_time": "2023-08-27T03:01:41.347286Z",
     "start_time": "2023-08-27T03:01:41.339557Z"
    }
   },
   "outputs": [],
   "source": [
    "x_rms = rms_norm(x)"
   ]
  },
  {
   "cell_type": "code",
   "execution_count": 57,
   "id": "982c329f",
   "metadata": {
    "ExecuteTime": {
     "end_time": "2023-08-27T03:01:42.421377Z",
     "start_time": "2023-08-27T03:01:42.409470Z"
    }
   },
   "outputs": [
    {
     "data": {
      "text/plain": [
       "tensor([-0.3122,  0.9869,  1.8558, -0.2024,  1.5226,  0.3007, -0.2040,  0.7356,\n",
       "        -0.2018,  0.1626])"
      ]
     },
     "execution_count": 57,
     "metadata": {},
     "output_type": "execute_result"
    }
   ],
   "source": [
    "x[0, 0, :]"
   ]
  },
  {
   "cell_type": "code",
   "execution_count": 58,
   "id": "5ea94c1b",
   "metadata": {
    "ExecuteTime": {
     "end_time": "2023-08-27T03:01:55.766644Z",
     "start_time": "2023-08-27T03:01:55.754206Z"
    }
   },
   "outputs": [
    {
     "data": {
      "text/plain": [
       "tensor([-0.3578,  1.1309,  2.1267, -0.2320,  1.7448,  0.3445, -0.2338,  0.8430,\n",
       "        -0.2313,  0.1863], grad_fn=<SliceBackward0>)"
      ]
     },
     "execution_count": 58,
     "metadata": {},
     "output_type": "execute_result"
    }
   ],
   "source": [
    "x_rms[0, 0, :]"
   ]
  },
  {
   "cell_type": "code",
   "execution_count": 59,
   "id": "7f4623ee",
   "metadata": {
    "ExecuteTime": {
     "end_time": "2023-08-27T03:02:17.641125Z",
     "start_time": "2023-08-27T03:02:17.628265Z"
    },
    "scrolled": true
   },
   "outputs": [
    {
     "data": {
      "text/plain": [
       "tensor([-0.3578,  1.1309,  2.1267, -0.2320,  1.7448,  0.3445, -0.2338,  0.8430,\n",
       "        -0.2313,  0.1863])"
      ]
     },
     "execution_count": 59,
     "metadata": {},
     "output_type": "execute_result"
    }
   ],
   "source": [
    "x[0, 0, :] / torch.sqrt(torch.sum(x[0, 0, :].pow(2)) / embedding_dim)"
   ]
  },
  {
   "cell_type": "code",
   "execution_count": 60,
   "id": "58274f34",
   "metadata": {
    "ExecuteTime": {
     "end_time": "2023-08-27T03:02:35.786945Z",
     "start_time": "2023-08-27T03:02:35.774105Z"
    }
   },
   "outputs": [
    {
     "data": {
      "text/plain": [
       "tensor(3.1623, grad_fn=<LinalgVectorNormBackward0>)"
      ]
     },
     "execution_count": 60,
     "metadata": {},
     "output_type": "execute_result"
    }
   ],
   "source": [
    "torch.norm(x_rms[0, 0, :])"
   ]
  },
  {
   "cell_type": "code",
   "execution_count": 61,
   "id": "9e8f2a12",
   "metadata": {
    "ExecuteTime": {
     "end_time": "2023-08-27T03:02:52.426327Z",
     "start_time": "2023-08-27T03:02:52.415531Z"
    }
   },
   "outputs": [
    {
     "data": {
      "text/plain": [
       "3.1622776601683795"
      ]
     },
     "execution_count": 61,
     "metadata": {},
     "output_type": "execute_result"
    }
   ],
   "source": [
    "np.sqrt(embedding_dim)"
   ]
  },
  {
   "cell_type": "markdown",
   "id": "56b4aeba",
   "metadata": {},
   "source": [
    "## SwiGLU"
   ]
  },
  {
   "cell_type": "markdown",
   "id": "b1ebd1c6",
   "metadata": {},
   "source": [
    "- Inspiration of using SwiGLU in LLaMA is taken from PaLM.\n",
    "- 也叫 SiLU (Sigmoid Linear Unit)，\n",
    "\n",
    "$$\n",
    "\\text{silu}(x)=x\\cdot\\sigma(x)=x\\cdot\\frac{1}{1+\\exp(-x)}=\\frac{x}{1+\\exp(-x)}\n",
    "$$"
   ]
  },
  {
   "cell_type": "code",
   "execution_count": 62,
   "id": "b68901c1",
   "metadata": {
    "ExecuteTime": {
     "end_time": "2023-08-27T03:03:49.508244Z",
     "start_time": "2023-08-27T03:03:49.499907Z"
    }
   },
   "outputs": [],
   "source": [
    "def sigmoid(x):\n",
    "    return  1/(1 + np.exp(-x))\n",
    "\n",
    "def swish(x):\n",
    "    return x*sigmoid(x)"
   ]
  },
  {
   "cell_type": "code",
   "execution_count": 63,
   "id": "c17503e3",
   "metadata": {
    "ExecuteTime": {
     "end_time": "2023-08-27T03:03:50.869626Z",
     "start_time": "2023-08-27T03:03:50.862499Z"
    }
   },
   "outputs": [],
   "source": [
    "import matplotlib.pyplot as plt\n",
    "plt.rcParams['figure.dpi'] = 120"
   ]
  },
  {
   "cell_type": "code",
   "execution_count": 64,
   "id": "49463789",
   "metadata": {
    "ExecuteTime": {
     "end_time": "2023-08-27T03:03:51.948231Z",
     "start_time": "2023-08-27T03:03:51.731153Z"
    }
   },
   "outputs": [
    {
     "data": {
      "text/plain": [
       "[<matplotlib.lines.Line2D at 0x7f935fd59c00>]"
      ]
     },
     "execution_count": 64,
     "metadata": {},
     "output_type": "execute_result"
    },
    {
     "data": {
      "image/png": "[encoded data removed]",
      "text/plain": [
       "<Figure size 768x576 with 1 Axes>"
      ]
     },
     "metadata": {},
     "output_type": "display_data"
    }
   ],
   "source": [
    "x = np.arange(-5, 5, .01)\n",
    "plt.plot(x, swish(x))"
   ]
  },
  {
   "cell_type": "code",
   "execution_count": 65,
   "id": "e52a8df2",
   "metadata": {
    "ExecuteTime": {
     "end_time": "2023-08-27T03:04:13.933059Z",
     "start_time": "2023-08-27T03:04:13.922943Z"
    }
   },
   "outputs": [
    {
     "data": {
      "text/plain": [
       "tensor([-0.0604, -1.9817,  0.2858,  1.0949,  1.1000])"
      ]
     },
     "execution_count": 65,
     "metadata": {},
     "output_type": "execute_result"
    }
   ],
   "source": [
    "x = torch.randn(5)\n",
    "x"
   ]
  },
  {
   "cell_type": "code",
   "execution_count": 66,
   "id": "f932d8f2",
   "metadata": {
    "ExecuteTime": {
     "end_time": "2023-08-27T03:04:17.649623Z",
     "start_time": "2023-08-27T03:04:17.637925Z"
    }
   },
   "outputs": [
    {
     "data": {
      "text/plain": [
       "tensor([-0.0293, -0.2401,  0.1632,  0.8204,  0.8253])"
      ]
     },
     "execution_count": 66,
     "metadata": {},
     "output_type": "execute_result"
    }
   ],
   "source": [
    "x/(1+torch.exp(-x))"
   ]
  },
  {
   "cell_type": "code",
   "execution_count": 40,
   "id": "32ff46db",
   "metadata": {
    "ExecuteTime": {
     "end_time": "2023-08-26T13:23:52.305936Z",
     "start_time": "2023-08-26T13:23:52.299935Z"
    }
   },
   "outputs": [],
   "source": [
    "import torch.nn.functional as F"
   ]
  },
  {
   "cell_type": "code",
   "execution_count": 67,
   "id": "54b29feb",
   "metadata": {
    "ExecuteTime": {
     "end_time": "2023-08-27T03:04:31.767497Z",
     "start_time": "2023-08-27T03:04:31.755234Z"
    }
   },
   "outputs": [
    {
     "data": {
      "text/plain": [
       "tensor([-0.0293, -0.2401,  0.1632,  0.8204,  0.8253])"
      ]
     },
     "execution_count": 67,
     "metadata": {},
     "output_type": "execute_result"
    }
   ],
   "source": [
    "F.silu(x)"
   ]
  }
 ],
 "metadata": {
  "kernelspec": {
   "display_name": "Python 3 (ipykernel)",
   "language": "python",
   "name": "python3"
  },
  "language_info": {
   "codemirror_mode": {
    "name": "ipython",
    "version": 3
   },
   "file_extension": ".py",
   "mimetype": "text/x-python",
   "name": "python",
   "nbconvert_exporter": "python",
   "pygments_lexer": "ipython3",
   "version": "3.10.9"
  },
  "toc": {
   "base_numbering": 1,
   "nav_menu": {},
   "number_sections": true,
   "sideBar": true,
   "skip_h1_title": false,
   "title_cell": "Table of Contents",
   "title_sidebar": "Contents",
   "toc_cell": false,
   "toc_position": {
    "height": "calc(100% - 180px)",
    "left": "10px",
    "top": "150px",
    "width": "336px"
   },
   "toc_section_display": true,
   "toc_window_display": true
  }
 },
 "nbformat": 4,
 "nbformat_minor": 5
}
