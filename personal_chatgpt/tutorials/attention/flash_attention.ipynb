{
 "cells": [
  {
   "cell_type": "code",
   "execution_count": 2,
   "id": "54c560a8-4e2e-4f73-8313-3d35fedc57f9",
   "metadata": {},
   "outputs": [],
   "source": [
    "# !pip install flash-attn"
   ]
  },
  {
   "cell_type": "markdown",
   "id": "26e3a5a0-aa2c-46c1-b839-93e7c536c229",
   "metadata": {},
   "source": [
    "```\n",
    "model_kwargs = dict(\n",
    "    # set this to True if your GPU supports it (Flash Attention drastically speeds up model computations)\n",
    "    attn_implementation=\"flash_attention_2\", \n",
    "    torch_dtype=\"auto\",\n",
    "    use_cache=False, # set to False as we're going to use gradient checkpointing\n",
    "    device_map=device_map,\n",
    "    quantization_config=quantization_config,\n",
    ")\n",
    "```"
   ]
  },
  {
   "cell_type": "code",
   "execution_count": null,
   "id": "205d03df-cf03-4b3e-80d5-fc5e53192c3d",
   "metadata": {},
   "outputs": [],
   "source": []
  }
 ],
 "metadata": {
  "kernelspec": {
   "display_name": "Python 3 (ipykernel)",
   "language": "python",
   "name": "python3"
  },
  "language_info": {
   "codemirror_mode": {
    "name": "ipython",
    "version": 3
   },
   "file_extension": ".py",
   "mimetype": "text/x-python",
   "name": "python",
   "nbconvert_exporter": "python",
   "pygments_lexer": "ipython3",
   "version": "3.10.13"
  }
 },
 "nbformat": 4,
 "nbformat_minor": 5
}
