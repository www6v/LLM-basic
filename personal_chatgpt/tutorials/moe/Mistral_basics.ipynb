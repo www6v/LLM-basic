{
 "cells": [
  {
   "cell_type": "code",
   "execution_count": 7,
   "id": "54b122e8",
   "metadata": {
    "ExecuteTime": {
     "end_time": "2024-02-18T13:15:54.969309Z",
     "start_time": "2024-02-18T13:15:54.965065Z"
    }
   },
   "outputs": [],
   "source": [
    "import os\n",
    "os.environ['http_proxy'] = 'http://127.0.0.1:7890'\n",
    "os.environ['https_proxy'] = 'http://127.0.0.1:7890'"
   ]
  },
  {
   "cell_type": "code",
   "execution_count": 8,
   "id": "195efeab",
   "metadata": {
    "ExecuteTime": {
     "end_time": "2024-02-18T13:15:55.926967Z",
     "start_time": "2024-02-18T13:15:55.921444Z"
    }
   },
   "outputs": [],
   "source": [
    "from transformers import AutoModelForCausalLM, AutoTokenizer"
   ]
  },
  {
   "cell_type": "code",
   "execution_count": 9,
   "id": "ef13a61b",
   "metadata": {
    "ExecuteTime": {
     "end_time": "2024-02-18T13:15:56.798717Z",
     "start_time": "2024-02-18T13:15:56.794583Z"
    }
   },
   "outputs": [],
   "source": [
    "# model_id = \"mistralai/Mistral-7B-v0.1\"\n",
    "model_id = \"mistralai/Mixtral-8x7B-Instruct-v0.1\""
   ]
  },
  {
   "cell_type": "code",
   "execution_count": 11,
   "id": "0fe6798d",
   "metadata": {
    "ExecuteTime": {
     "end_time": "2024-02-18T13:16:14.348965Z",
     "start_time": "2024-02-18T13:16:10.028432Z"
    }
   },
   "outputs": [
    {
     "data": {
      "application/vnd.jupyter.widget-view+json": {
       "model_id": "2af033a642ed4c12a283babc31013a4f",
       "version_major": 2,
       "version_minor": 0
      },
      "text/plain": [
       "Loading checkpoint shards:   0%|          | 0/2 [00:00<?, ?it/s]"
      ]
     },
     "metadata": {},
     "output_type": "display_data"
    }
   ],
   "source": [
    "tokenizer = AutoTokenizer.from_pretrained(model_id)\n",
    "# model = AutoModelForCausalLM.from_pretrained(model_id, force_download=True, resume_download=False)\n",
    "model = AutoModelForCausalLM.from_pretrained(model_id, )"
   ]
  },
  {
   "cell_type": "markdown",
   "id": "7f672ed5",
   "metadata": {},
   "source": [
    "## tokenizer"
   ]
  },
  {
   "cell_type": "code",
   "execution_count": 16,
   "id": "08cffac4",
   "metadata": {
    "ExecuteTime": {
     "end_time": "2024-02-18T13:17:57.654682Z",
     "start_time": "2024-02-18T13:17:57.649542Z"
    }
   },
   "outputs": [
    {
     "data": {
      "text/plain": [
       "{'bos_token': '<s>', 'eos_token': '</s>', 'unk_token': '<unk>'}"
      ]
     },
     "execution_count": 16,
     "metadata": {},
     "output_type": "execute_result"
    }
   ],
   "source": [
    "tokenizer.special_tokens_map"
   ]
  },
  {
   "cell_type": "code",
   "execution_count": 18,
   "id": "8e8b916c",
   "metadata": {
    "ExecuteTime": {
     "end_time": "2024-02-18T13:18:13.868150Z",
     "start_time": "2024-02-18T13:18:13.861674Z"
    }
   },
   "outputs": [
    {
     "data": {
      "text/plain": [
       "2"
      ]
     },
     "execution_count": 18,
     "metadata": {},
     "output_type": "execute_result"
    }
   ],
   "source": [
    "tokenizer.eos_token_id"
   ]
  },
  {
   "cell_type": "code",
   "execution_count": 20,
   "id": "288f37cf",
   "metadata": {
    "ExecuteTime": {
     "end_time": "2024-02-18T13:18:21.470097Z",
     "start_time": "2024-02-18T13:18:21.465649Z"
    }
   },
   "outputs": [],
   "source": [
    "tokenizer.pad_token"
   ]
  },
  {
   "cell_type": "code",
   "execution_count": 27,
   "id": "edd5d882",
   "metadata": {
    "ExecuteTime": {
     "end_time": "2024-02-18T13:20:53.179226Z",
     "start_time": "2024-02-18T13:20:53.174795Z"
    }
   },
   "outputs": [],
   "source": [
    "# Setting `pad_token_id` to `eos_token_id`:2 for open-end generation.\n",
    "tokenizer.pad_token_id = tokenizer.eos_token_id"
   ]
  },
  {
   "cell_type": "code",
   "execution_count": 28,
   "id": "cd955656",
   "metadata": {
    "ExecuteTime": {
     "end_time": "2024-02-18T13:20:54.219919Z",
     "start_time": "2024-02-18T13:20:54.213658Z"
    }
   },
   "outputs": [],
   "source": [
    "text = \"Hello my name is\"\n",
    "inputs = tokenizer(text, return_tensors=\"pt\")"
   ]
  },
  {
   "cell_type": "markdown",
   "id": "11b45571",
   "metadata": {},
   "source": [
    "## generate"
   ]
  },
  {
   "cell_type": "code",
   "execution_count": 26,
   "id": "c1e66b84",
   "metadata": {
    "ExecuteTime": {
     "end_time": "2024-02-18T13:20:12.259590Z",
     "start_time": "2024-02-18T13:20:12.254272Z"
    }
   },
   "outputs": [
    {
     "data": {
      "text/plain": [
       "'Hello my name is Katie and I am a 20 year old student from the UK. I am currently studying for a degree in English Literature and Creative Writing at the University of Leeds. I have always loved writing and reading and I am very passionate about both. I have been writing for as long as I can remember and I have always been a very creative person. I have always been a very creative person and I have always loved writing. I have always been a very creative person and I have always'"
      ]
     },
     "execution_count": 26,
     "metadata": {},
     "output_type": "execute_result"
    }
   ],
   "source": [
    "# outputs = model.generate(**inputs, max_new_tokens=40)\n",
    "# default: max_new_tokens == 20\n",
    "outputs = model.generate(**inputs, max_new_tokens=100)\n",
    "outputs"
   ]
  },
  {
   "cell_type": "code",
   "execution_count": 29,
   "id": "56e26a5f",
   "metadata": {
    "ExecuteTime": {
     "end_time": "2024-02-18T13:21:09.609575Z",
     "start_time": "2024-02-18T13:21:09.601515Z"
    }
   },
   "outputs": [
    {
     "data": {
      "text/plain": [
       "'Hello my name is Katie and I am a 20 year old student from the UK. I am currently studying for a degree in English Literature and Creative Writing at the University of Leeds. I have always loved writing and reading and I am very passionate about both. I have been writing for as long as I can remember and I have always been a very creative person. I have always been a very creative person and I have always loved writing. I have always been a very creative person and I have always'"
      ]
     },
     "execution_count": 29,
     "metadata": {},
     "output_type": "execute_result"
    }
   ],
   "source": [
    "tokenizer.decode(outputs[0], skip_special_tokens=True)"
   ]
  },
  {
   "cell_type": "code",
   "execution_count": 44,
   "id": "ed8d13d1",
   "metadata": {
    "ExecuteTime": {
     "end_time": "2024-02-18T13:26:41.780435Z",
     "start_time": "2024-02-18T13:26:26.018961Z"
    }
   },
   "outputs": [
    {
     "name": "stderr",
     "output_type": "stream",
     "text": [
      "Setting `pad_token_id` to `eos_token_id`:2 for open-end generation.\n"
     ]
    }
   ],
   "source": [
    "inputs = tokenizer(\"123*456=\", return_tensors='pt')\n",
    "outputs = model.generate(**inputs, max_new_tokens=20, num_beams=5, num_return_sequences=5)"
   ]
  },
  {
   "cell_type": "code",
   "execution_count": 47,
   "id": "6446e868",
   "metadata": {
    "ExecuteTime": {
     "end_time": "2024-02-18T13:26:52.002387Z",
     "start_time": "2024-02-18T13:26:51.995176Z"
    }
   },
   "outputs": [
    {
     "data": {
      "text/plain": [
       "'<s> 123*456=789*123=456*123=789\\n'"
      ]
     },
     "execution_count": 47,
     "metadata": {},
     "output_type": "execute_result"
    }
   ],
   "source": [
    "tokenizer.decode(outputs[2], )"
   ]
  },
  {
   "cell_type": "code",
   "execution_count": null,
   "id": "e73d238b",
   "metadata": {},
   "outputs": [],
   "source": []
  }
 ],
 "metadata": {
  "kernelspec": {
   "display_name": "Python 3 (ipykernel)",
   "language": "python",
   "name": "python3"
  },
  "language_info": {
   "codemirror_mode": {
    "name": "ipython",
    "version": 3
   },
   "file_extension": ".py",
   "mimetype": "text/x-python",
   "name": "python",
   "nbconvert_exporter": "python",
   "pygments_lexer": "ipython3",
   "version": "3.10.13"
  },
  "toc": {
   "base_numbering": 1,
   "nav_menu": {},
   "number_sections": true,
   "sideBar": true,
   "skip_h1_title": false,
   "title_cell": "Table of Contents",
   "title_sidebar": "Contents",
   "toc_cell": false,
   "toc_position": {},
   "toc_section_display": true,
   "toc_window_display": false
  }
 },
 "nbformat": 4,
 "nbformat_minor": 5
}
