{
 "cells": [
  {
   "cell_type": "markdown",
   "id": "cec703de-7d79-436e-bbaf-2605d9bfce24",
   "metadata": {},
   "source": [
    "- source code\n",
    "    - https://github.com/mistralai/mistral-src/blob/main/moe_one_file_ref.py"
   ]
  }
 ],
 "metadata": {
  "kernelspec": {
   "display_name": "Python 3 (ipykernel)",
   "language": "python",
   "name": "python3"
  },
  "language_info": {
   "codemirror_mode": {
    "name": "ipython",
    "version": 3
   },
   "file_extension": ".py",
   "mimetype": "text/x-python",
   "name": "python",
   "nbconvert_exporter": "python",
   "pygments_lexer": "ipython3",
   "version": "3.10.13"
  }
 },
 "nbformat": 4,
 "nbformat_minor": 5
}
