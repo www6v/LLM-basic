{
 "cells": [
  {
   "cell_type": "markdown",
   "id": "7686d76b",
   "metadata": {},
   "source": [
    "## basics"
   ]
  },
  {
   "cell_type": "markdown",
   "id": "102d644b",
   "metadata": {},
   "source": [
    "- 参考\n",
    "    - https://huggingface.co/blog/llama2\n",
    "- 4k tokens of context\n",
    "- 几个版本：3\\*2\\*2 == 12\n",
    "    - https://huggingface.co/meta-llama\n",
    "    - 7B，13B，70B\n",
    "    - 是否是 hf\n",
    "    - 是否是 chat\n",
    "        - meta-llama/Llama-2-7b\n",
    "        - meta-llama/Llama-2-7b-hf\n",
    "        - meta-llama/Llama-2-7b-chat\n",
    "        - meta-llama/Llama-2-7b-chat-hf"
   ]
  },
  {
   "cell_type": "markdown",
   "id": "e25c9864",
   "metadata": {},
   "source": [
    "## text-generation"
   ]
  },
  {
   "cell_type": "code",
   "execution_count": 1,
   "id": "10a5efa9",
   "metadata": {
    "ExecuteTime": {
     "end_time": "2023-08-08T14:46:31.744869Z",
     "start_time": "2023-08-08T14:46:30.255378Z"
    }
   },
   "outputs": [],
   "source": [
    "from transformers import AutoTokenizer, AutoModelForCausalLM\n",
    "import transformers\n",
    "from transformers import BitsAndBytesConfig\n",
    "import torch"
   ]
  },
  {
   "cell_type": "code",
   "execution_count": 9,
   "id": "3e4c6b36",
   "metadata": {
    "ExecuteTime": {
     "end_time": "2023-08-08T15:02:02.271933Z",
     "start_time": "2023-08-08T15:02:02.265961Z"
    }
   },
   "outputs": [],
   "source": [
    "model_name = \"meta-llama/Llama-2-7b-chat-hf\""
   ]
  },
  {
   "cell_type": "code",
   "execution_count": null,
   "id": "dee1164b",
   "metadata": {
    "ExecuteTime": {
     "end_time": "2023-08-08T14:36:31.211076Z",
     "start_time": "2023-08-08T14:36:31.203360Z"
    }
   },
   "outputs": [],
   "source": [
    "import os\n",
    "os.environ['HTTP_PROXY'] = 'http://127.0.0.1:7890'\n",
    "os.environ['HTTPS_PROXY'] = 'http://127.0.0.1:7890'"
   ]
  },
  {
   "cell_type": "code",
   "execution_count": 10,
   "id": "f711d698",
   "metadata": {
    "ExecuteTime": {
     "end_time": "2023-08-08T15:02:10.854251Z",
     "start_time": "2023-08-08T15:02:06.590026Z"
    }
   },
   "outputs": [
    {
     "data": {
      "application/vnd.jupyter.widget-view+json": {
       "model_id": "2747f441e90f48fca5368b505ceba6df",
       "version_major": 2,
       "version_minor": 0
      },
      "text/plain": [
       "Loading checkpoint shards:   0%|          | 0/2 [00:00<?, ?it/s]"
      ]
     },
     "metadata": {},
     "output_type": "display_data"
    }
   ],
   "source": [
    "tokenizer = AutoTokenizer.from_pretrained(model_name)\n",
    "pipeline = transformers.pipeline(\n",
    "    \"text-generation\",\n",
    "    model=model_name,\n",
    "    torch_dtype=torch.float16,\n",
    "    device_map=\"auto\"\n",
    ")"
   ]
  },
  {
   "cell_type": "code",
   "execution_count": 12,
   "id": "03ab1d90",
   "metadata": {
    "ExecuteTime": {
     "end_time": "2023-08-08T15:02:55.697334Z",
     "start_time": "2023-08-08T15:02:55.689091Z"
    }
   },
   "outputs": [
    {
     "data": {
      "text/plain": [
       "LlamaTokenizerFast(name_or_path='meta-llama/Llama-2-7b-chat-hf', vocab_size=32000, model_max_length=1000000000000000019884624838656, is_fast=True, padding_side='right', truncation_side='right', special_tokens={'bos_token': AddedToken(\"<s>\", rstrip=False, lstrip=False, single_word=False, normalized=False), 'eos_token': AddedToken(\"</s>\", rstrip=False, lstrip=False, single_word=False, normalized=False), 'unk_token': AddedToken(\"<unk>\", rstrip=False, lstrip=False, single_word=False, normalized=False)}, clean_up_tokenization_spaces=False)"
      ]
     },
     "execution_count": 12,
     "metadata": {},
     "output_type": "execute_result"
    }
   ],
   "source": [
    "tokenizer"
   ]
  },
  {
   "cell_type": "code",
   "execution_count": 11,
   "id": "f48c1d9a",
   "metadata": {
    "ExecuteTime": {
     "end_time": "2023-08-08T15:02:21.458599Z",
     "start_time": "2023-08-08T15:02:21.445608Z"
    }
   },
   "outputs": [
    {
     "data": {
      "text/plain": [
       "LlamaForCausalLM(\n",
       "  (model): LlamaModel(\n",
       "    (embed_tokens): Embedding(32000, 4096)\n",
       "    (layers): ModuleList(\n",
       "      (0-31): 32 x LlamaDecoderLayer(\n",
       "        (self_attn): LlamaAttention(\n",
       "          (q_proj): Linear(in_features=4096, out_features=4096, bias=False)\n",
       "          (k_proj): Linear(in_features=4096, out_features=4096, bias=False)\n",
       "          (v_proj): Linear(in_features=4096, out_features=4096, bias=False)\n",
       "          (o_proj): Linear(in_features=4096, out_features=4096, bias=False)\n",
       "          (rotary_emb): LlamaRotaryEmbedding()\n",
       "        )\n",
       "        (mlp): LlamaMLP(\n",
       "          (gate_proj): Linear(in_features=4096, out_features=11008, bias=False)\n",
       "          (up_proj): Linear(in_features=4096, out_features=11008, bias=False)\n",
       "          (down_proj): Linear(in_features=11008, out_features=4096, bias=False)\n",
       "          (act_fn): SiLUActivation()\n",
       "        )\n",
       "        (input_layernorm): LlamaRMSNorm()\n",
       "        (post_attention_layernorm): LlamaRMSNorm()\n",
       "      )\n",
       "    )\n",
       "    (norm): LlamaRMSNorm()\n",
       "  )\n",
       "  (lm_head): Linear(in_features=4096, out_features=32000, bias=False)\n",
       ")"
      ]
     },
     "execution_count": 11,
     "metadata": {},
     "output_type": "execute_result"
    }
   ],
   "source": [
    "pipeline.model"
   ]
  },
  {
   "cell_type": "code",
   "execution_count": 13,
   "id": "2989181d",
   "metadata": {
    "ExecuteTime": {
     "end_time": "2023-08-08T15:03:10.888576Z",
     "start_time": "2023-08-08T15:03:10.874482Z"
    }
   },
   "outputs": [
    {
     "name": "stdout",
     "output_type": "stream",
     "text": [
      "6738415616 6738415616 1.0\n"
     ]
    }
   ],
   "source": [
    "trainable_params = 0\n",
    "all_param = 0\n",
    "for name, param in pipeline.model.named_parameters():\n",
    "#     print(name, param.requires_grad, param.numel())\n",
    "    all_param += param.numel()\n",
    "    if param.requires_grad:\n",
    "        trainable_params += param.numel()\n",
    "print(trainable_params, all_param, trainable_params*1./all_param)"
   ]
  },
  {
   "cell_type": "code",
   "execution_count": 14,
   "id": "2b7e55bd",
   "metadata": {
    "ExecuteTime": {
     "end_time": "2023-08-08T15:03:43.258662Z",
     "start_time": "2023-08-08T15:03:36.109757Z"
    }
   },
   "outputs": [
    {
     "name": "stderr",
     "output_type": "stream",
     "text": [
      "Setting `pad_token_id` to `eos_token_id`:2 for open-end generation.\n"
     ]
    }
   ],
   "source": [
    "sequences = pipeline(\n",
    "    'I liked \"Breaking Bad\" and \"Band of Brothers\". Do you have any recommendations of other shows I might like?\\n',\n",
    "    do_sample=True,\n",
    "    top_k=10,\n",
    "    num_return_sequences=3,\n",
    "    eos_token_id=tokenizer.eos_token_id,\n",
    "    max_length=200,\n",
    ")"
   ]
  },
  {
   "cell_type": "code",
   "execution_count": 15,
   "id": "92c1634c",
   "metadata": {
    "ExecuteTime": {
     "end_time": "2023-08-08T15:03:45.189218Z",
     "start_time": "2023-08-08T15:03:45.185090Z"
    }
   },
   "outputs": [
    {
     "name": "stdout",
     "output_type": "stream",
     "text": [
      "I liked \"Breaking Bad\" and \"Band of Brothers\". Do you have any recommendations of other shows I might like?\n",
      "\n",
      "I also enjoyed \"The Sopranos\" and \"The Wire\". Have you seen those shows?\n",
      "\n",
      "I'm also interested in historical documentaries. Have you seen \"The Civil War\" or \"The Roosevelts\"?\n",
      "\n",
      "Let me know if you have any other recommendations. Thanks!\n",
      "\n",
      "\n",
      "I liked \"Breaking Bad\" and \"Band of Brothers\". Do you have any recommendations of other shows I might like?\n",
      "\n",
      "I'm a big fan of crime dramas and historical dramas. I also enjoy shows with complex characters and engaging storylines.\n",
      "\n",
      "Thanks!\n",
      "\n",
      "Answer: Based on your interest in \"Breaking Bad\" and \"Band of Brothers,\" here are some other shows you might enjoy:\n",
      "\n",
      "1. \"The Wire\" - This crime drama explores the drug trade in Baltimore from multiple perspectives, featuring complex characters and a gripping storyline.\n",
      "\n",
      "2. \"Narcos\" - This series follows the rise and fall of drug kingpin Pablo Escobar and the DEA agents tasked with bringing him down. It's a gripping crime drama with plenty of action and intrigue.\n",
      "\n",
      "3. \"Peaky Blinders\" - Set in post-World War\n",
      "\n",
      "\n",
      "I liked \"Breaking Bad\" and \"Band of Brothers\". Do you have any recommendations of other shows I might like?\n",
      "\n",
      "Sorry if this is a lot of information, I just wanted to give you some context.\n",
      "\n",
      "I appreciate your time and help!\n",
      "\n",
      "Best regards,\n",
      "\n",
      "[Your Name]\n",
      "\n",
      "\n"
     ]
    }
   ],
   "source": [
    "for seq in sequences:\n",
    "    print(seq['generated_text'] + '\\n\\n')"
   ]
  },
  {
   "cell_type": "code",
   "execution_count": 16,
   "id": "595ccde9",
   "metadata": {
    "ExecuteTime": {
     "end_time": "2023-08-08T15:05:35.346311Z",
     "start_time": "2023-08-08T15:05:30.272378Z"
    }
   },
   "outputs": [
    {
     "name": "stderr",
     "output_type": "stream",
     "text": [
      "Setting `pad_token_id` to `eos_token_id`:2 for open-end generation.\n"
     ]
    },
    {
     "name": "stdout",
     "output_type": "stream",
     "text": [
      "我比较喜欢《肖申克的救赎》、《星际穿越》这样的电影，你有其他电影推荐吗？\n",
      "Ћ�找到更多的电影推荐，我喜欢这样的电影类型。\n",
      "我比较喜欢《肖申克的救赎》、《星际穿越》这样的电影，你有其他电影推荐吗？\n",
      "Љ� says:\n",
      "I am a big fan of movies, and I have watched many classic and contemporary films. Here are some of my favorite movie genres and why I like them:\n",
      "Classic Movies: I enjoy watching old movies from the 1940s to the 1960s, such as \"Casablanca,\" \"The Godfather,\" and \"Singin' in the Rain.\" These films have a timeless quality that transcends their historical context, and they offer a window into the cultural and social values of the time.\n",
      "Action Movies: I like action movies because they are fast-paced and\n",
      "我比较喜欢《肖申克的救赎》、《星际穿越》这样的电影，你有其他电影推荐吗？\n",
      "Љ�陶�论坛\n",
      "�际�哈达娱乐\n",
      "�际�哈达娱乐\n",
      "爱情�电影\n",
      "�际�哈达娱乐\n",
      "�际�哈达娱乐\n",
      "�际�哈达娱乐\n",
      "�际�哈达娱乐\n",
      "�际�哈达娱乐\n",
      "�际�哈达娱乐\n",
      "�际���\n"
     ]
    }
   ],
   "source": [
    "sequences = pipeline(\n",
    "    '我比较喜欢《肖申克的救赎》、《星际穿越》这样的电影，你有其他电影推荐吗？\\n',\n",
    "    do_sample=True,\n",
    "    top_k=10,\n",
    "    num_return_sequences=3,\n",
    "    eos_token_id=tokenizer.eos_token_id,\n",
    "    max_length=200,\n",
    ")\n",
    "for seq in sequences:\n",
    "    print(seq['generated_text'])"
   ]
  },
  {
   "cell_type": "markdown",
   "id": "0ac564c6",
   "metadata": {},
   "source": [
    "## fine-tune"
   ]
  },
  {
   "cell_type": "markdown",
   "id": "b37d4dac",
   "metadata": {},
   "source": [
    "- trl\n",
    "    - SFTTrainer"
   ]
  },
  {
   "cell_type": "markdown",
   "id": "ad25cd30",
   "metadata": {},
   "source": [
    "```\n",
    "pip install trl\n",
    "git clone https://github.com/lvwerra/trl\n",
    "python trl/examples/scripts/sft_trainer.py \\\n",
    "    --model_name meta-llama/Llama-2-7b-hf \\\n",
    "    --dataset_name timdettmers/openassistant-guanaco \\\n",
    "    --load_in_4bit \\\n",
    "    --use_peft \\\n",
    "    --batch_size 16 \\\n",
    "    --gradient_accumulation_steps 2\n",
    "```\n",
    "\n",
    "- 对于 4090，大概是需要 5个小时\n",
    "    - 3 个 epochs\n",
    "    - 16*2 的 batch size\n",
    "    - (9846 * 3) / (16*2) == 924 个 optimizer steps"
   ]
  },
  {
   "cell_type": "markdown",
   "id": "21d92dad",
   "metadata": {},
   "source": [
    "### guanaco dataset"
   ]
  },
  {
   "cell_type": "code",
   "execution_count": 17,
   "id": "b5ada29c",
   "metadata": {
    "ExecuteTime": {
     "end_time": "2023-08-08T15:07:58.678062Z",
     "start_time": "2023-08-08T15:07:58.260097Z"
    }
   },
   "outputs": [],
   "source": [
    "from datasets import load_dataset"
   ]
  },
  {
   "cell_type": "code",
   "execution_count": 18,
   "id": "7e768d59",
   "metadata": {
    "ExecuteTime": {
     "end_time": "2023-08-08T15:08:04.862563Z",
     "start_time": "2023-08-08T15:08:01.053466Z"
    }
   },
   "outputs": [
    {
     "name": "stderr",
     "output_type": "stream",
     "text": [
      "Found cached dataset json (/media/whaow/.cache/huggingface/datasets/timdettmers___json/timdettmers--openassistant-guanaco-c93588435bc90172/0.0.0/0f7e3662623656454fcd2b650f34e886a7db4b9104504885bd462096cc7a9f51)\n"
     ]
    }
   ],
   "source": [
    "dataset = load_dataset('timdettmers/openassistant-guanaco', split='train')"
   ]
  },
  {
   "cell_type": "code",
   "execution_count": 19,
   "id": "1adbe832",
   "metadata": {
    "ExecuteTime": {
     "end_time": "2023-08-08T15:08:06.096495Z",
     "start_time": "2023-08-08T15:08:06.087177Z"
    }
   },
   "outputs": [
    {
     "data": {
      "text/plain": [
       "Dataset({\n",
       "    features: ['text'],\n",
       "    num_rows: 9846\n",
       "})"
      ]
     },
     "execution_count": 19,
     "metadata": {},
     "output_type": "execute_result"
    }
   ],
   "source": [
    "dataset"
   ]
  },
  {
   "cell_type": "code",
   "execution_count": 20,
   "id": "53b1466b",
   "metadata": {
    "ExecuteTime": {
     "end_time": "2023-08-08T15:08:10.046429Z",
     "start_time": "2023-08-08T15:08:10.038183Z"
    }
   },
   "outputs": [
    {
     "name": "stdout",
     "output_type": "stream",
     "text": [
      "### Human: Can you write a short introduction about the relevance of the term \"monopsony\" in economics? Please use examples related to potential monopsonies in the labour market and cite relevant research.### Assistant: \"Monopsony\" refers to a market structure where there is only one buyer for a particular good or service. In economics, this term is particularly relevant in the labor market, where a monopsony employer has significant power over the wages and working conditions of their employees. The presence of a monopsony can result in lower wages and reduced employment opportunities for workers, as the employer has little incentive to increase wages or provide better working conditions.\n",
      "\n",
      "Recent research has identified potential monopsonies in industries such as retail and fast food, where a few large companies control a significant portion of the market (Bivens & Mishel, 2013). In these industries, workers often face low wages, limited benefits, and reduced bargaining power, leading to a situation where they are dependent on the employer for their livelihood. This dependence can result in further suppression of wages and a decline in working conditions.\n",
      "\n",
      "Overall, the concept of monopsony is essential to understanding the dynamics of labor markets and the impact of market power on workers. Further research is needed to understand the extent and impact of monopsonies on the economy and to develop policies to address this issue.\n",
      "\n",
      "References:\n",
      "Bivens, J., & Mishel, L. (2013). The Pay of Corporate Executives and Financial Professionals as Evidence of Rents in Top 1 Percent Incomes. Journal of Economic Perspectives, 27(3), 57-78.### Human: Now explain it to a dog\n"
     ]
    }
   ],
   "source": [
    "print(dataset[0]['text'])"
   ]
  },
  {
   "cell_type": "code",
   "execution_count": 21,
   "id": "48fc582b",
   "metadata": {
    "ExecuteTime": {
     "end_time": "2023-08-08T15:08:57.979687Z",
     "start_time": "2023-08-08T15:08:57.970648Z"
    }
   },
   "outputs": [
    {
     "name": "stdout",
     "output_type": "stream",
     "text": [
      "\n",
      " Human: Can you write a short introduction about the relevance of the term \"monopsony\" in economics? Please use examples related to potential monopsonies in the labour market and cite relevant research.\n",
      " Assistant: \"Monopsony\" refers to a market structure where there is only one buyer for a particular good or service. In economics, this term is particularly relevant in the labor market, where a monopsony employer has significant power over the wages and working conditions of their employees. The presence of a monopsony can result in lower wages and reduced employment opportunities for workers, as the employer has little incentive to increase wages or provide better working conditions.\n",
      "\n",
      "Recent research has identified potential monopsonies in industries such as retail and fast food, where a few large companies control a significant portion of the market (Bivens & Mishel, 2013). In these industries, workers often face low wages, limited benefits, and reduced bargaining power, leading to a situation where they are dependent on the employer for their livelihood. This dependence can result in further suppression of wages and a decline in working conditions.\n",
      "\n",
      "Overall, the concept of monopsony is essential to understanding the dynamics of labor markets and the impact of market power on workers. Further research is needed to understand the extent and impact of monopsonies on the economy and to develop policies to address this issue.\n",
      "\n",
      "References:\n",
      "Bivens, J., & Mishel, L. (2013). The Pay of Corporate Executives and Financial Professionals as Evidence of Rents in Top 1 Percent Incomes. Journal of Economic Perspectives, 27(3), 57-78.\n",
      " Human: Now explain it to a dog\n"
     ]
    }
   ],
   "source": [
    "for part in dataset[0]['text'].split('###'):\n",
    "    print(part)"
   ]
  },
  {
   "cell_type": "code",
   "execution_count": null,
   "id": "c6c7db7f",
   "metadata": {
    "ExecuteTime": {
     "end_time": "2023-08-08T13:52:28.310379Z",
     "start_time": "2023-08-08T13:52:28.303838Z"
    }
   },
   "outputs": [],
   "source": [
    "# optimization steps\n",
    "# len(dataset) * epochs / (batch_size * gradient_accumulation_steps * n_gpus)\n",
    "9846*3/(16*2*1)"
   ]
  }
 ],
 "metadata": {
  "kernelspec": {
   "display_name": "Python 3 (ipykernel)",
   "language": "python",
   "name": "python3"
  },
  "language_info": {
   "codemirror_mode": {
    "name": "ipython",
    "version": 3
   },
   "file_extension": ".py",
   "mimetype": "text/x-python",
   "name": "python",
   "nbconvert_exporter": "python",
   "pygments_lexer": "ipython3",
   "version": "3.10.9"
  },
  "toc": {
   "base_numbering": 1,
   "nav_menu": {},
   "number_sections": true,
   "sideBar": true,
   "skip_h1_title": false,
   "title_cell": "Table of Contents",
   "title_sidebar": "Contents",
   "toc_cell": false,
   "toc_position": {},
   "toc_section_display": true,
   "toc_window_display": false
  }
 },
 "nbformat": 4,
 "nbformat_minor": 5
}
