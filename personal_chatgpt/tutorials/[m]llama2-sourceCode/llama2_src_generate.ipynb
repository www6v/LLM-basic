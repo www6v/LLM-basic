{
 "cells": [
  {
   "cell_type": "code",
   "execution_count": 1,
   "id": "b3b861e1",
   "metadata": {
    "ExecuteTime": {
     "end_time": "2023-10-12T13:41:33.273558Z",
     "start_time": "2023-10-12T13:41:33.256780Z"
    }
   },
   "outputs": [],
   "source": [
    "text = \"I believe the meaning of life is\""
   ]
  },
  {
   "cell_type": "code",
   "execution_count": 2,
   "id": "b80eb53b",
   "metadata": {
    "ExecuteTime": {
     "end_time": "2023-10-12T13:41:48.556461Z",
     "start_time": "2023-10-12T13:41:48.504192Z"
    }
   },
   "outputs": [],
   "source": [
    "from sentencepiece import SentencePieceProcessor\n",
    "sp_model = SentencePieceProcessor(model_file='./tokenizer.model')"
   ]
  },
  {
   "cell_type": "code",
   "execution_count": 13,
   "id": "9190542f",
   "metadata": {
    "ExecuteTime": {
     "end_time": "2023-10-12T13:52:23.641942Z",
     "start_time": "2023-10-12T13:52:23.636257Z"
    }
   },
   "outputs": [
    {
     "name": "stdout",
     "output_type": "stream",
     "text": [
      "1\n",
      "2\n",
      "-1\n",
      "32000\n"
     ]
    }
   ],
   "source": [
    "print(sp_model.bos_id())\n",
    "print(sp_model.eos_id())\n",
    "print(sp_model.pad_id())\n",
    "print(sp_model.vocab_size())"
   ]
  },
  {
   "cell_type": "code",
   "execution_count": 6,
   "id": "efb86fe7",
   "metadata": {
    "ExecuteTime": {
     "end_time": "2023-10-12T13:42:39.316049Z",
     "start_time": "2023-10-12T13:42:39.305490Z"
    }
   },
   "outputs": [
    {
     "data": {
      "text/plain": [
       "[1, 306, 4658, 278, 6593, 310, 2834, 338]"
      ]
     },
     "execution_count": 6,
     "metadata": {},
     "output_type": "execute_result"
    }
   ],
   "source": [
    "prompt_tokens = [sp_model.bos_id(), *sp_model.encode(text)]\n",
    "prompt_tokens"
   ]
  },
  {
   "cell_type": "markdown",
   "id": "1316eb1b",
   "metadata": {},
   "source": [
    "```\n",
    "generation_tokens, generation_logprobs = self.generate(\n",
    "    prompt_tokens=prompt_tokens,\n",
    "    max_gen_len=max_gen_len,\n",
    "    temperature=temperature,\n",
    "    top_p=top_p,\n",
    "    logprobs=logprobs,\n",
    "    echo=echo,\n",
    ")\n",
    "```\n",
    "\n",
    "- `echo (bool, optional): `\n",
    "    - `Flag indicating whether to include prompt tokens in the generated output. Defaults to False.`\n",
    "- `total_len = min(params.max_seq_len, max_gen_len + max_prompt_len)`\n",
    "    - `params.max_seq_len`: 1024 (2048)\n",
    "    - max_gen_len + max_prompt_len = 64 + 8 = 72"
   ]
  },
  {
   "cell_type": "markdown",
   "id": "06b281c6",
   "metadata": {},
   "source": [
    "## basics"
   ]
  },
  {
   "cell_type": "markdown",
   "id": "cdbd7de5",
   "metadata": {},
   "source": [
    "- RMSNorm 与 SwiGLU：https://www.bilibili.com/video/BV1e14y1C7G8\n",
    "- RoPE 相对位置编码：\n",
    "    - https://www.bilibili.com/video/BV1Dh4y1P7KY/\n",
    "    - https://www.bilibili.com/video/BV18u411M7j1/\n",
    "- cache KV：https://www.bilibili.com/video/BV1FB4y1Z79y/\n",
    "- GQA，Grouped Query Attention：https://www.bilibili.com/video/BV1vc411o7fa/\n",
    "- top_p/top_k，nuclear sampling 核采样\n",
    "    - https://www.bilibili.com/video/BV1Ho4y1x76q"
   ]
  },
  {
   "cell_type": "markdown",
   "id": "6679a1f0",
   "metadata": {},
   "source": [
    "## `Llama.generate`"
   ]
  },
  {
   "cell_type": "markdown",
   "id": "69480af2",
   "metadata": {},
   "source": [
    "| **model** | **heads** | **layers** | **dim** |   **head_dim**   |\n",
    "|-----------|-----------|------------|---------|------------------|\n",
    "| 7b        | 32        | 32         | 4096    | 4096/32=128      |\n",
    "| 13b       | 40        | 40         | 5120    | 5120/40=128      |\n",
    "| 70b       | 64        | 80         | 8192    | 8192/64=128      |"
   ]
  },
  {
   "cell_type": "markdown",
   "id": "23b54ec1",
   "metadata": {},
   "source": [
    "### `logits = self.model.forward(tokens, prev_pos)`"
   ]
  },
  {
   "cell_type": "markdown",
   "id": "953fec1a",
   "metadata": {},
   "source": [
    "```\n",
    "for cur_pos in range(min_prompt_len, total_len):\n",
    "    # logits.shape: [bsz, slice_seq_len, vocab_size]\n",
    "    # tokens: [0, 8), prompt 部分, \n",
    "    # 下一次 tokens: [8, 9)\n",
    "    # 下一次 tokens: [9, 10)\n",
    "    logits = self.model.forward(tokens[:, prev_pos:cur_pos], prev_pos)\n",
    "```\n",
    "\n",
    "- input prompt tokens 在第一次 forward的时候，整体进来的，需要进行上三角的 mask；"
   ]
  },
  {
   "cell_type": "markdown",
   "id": "3811166b",
   "metadata": {},
   "source": [
    "- I believe the meanning of life is \n",
    "- I believe the meanning of life is to \n",
    "- I believe the meanning of life is to find\n",
    "- I believe the meanning of life is to find the\n",
    "- I believe the meanning of life is to find the happiness\n",
    "- I believe the meanning of life is to find the happiness that\n",
    "- I believe the meanning of life is to find the happiness that comes \n",
    "- I believe the meanning of life is to find the happiness that comes from"
   ]
  },
  {
   "cell_type": "markdown",
   "id": "9b0f8be6",
   "metadata": {},
   "source": [
    "### cache KV"
   ]
  },
  {
   "cell_type": "markdown",
   "id": "f2b91b6d",
   "metadata": {},
   "source": [
    "- token by token 的生成\n",
    "- 接口层面，`logits = self.model.forward(tokens[:, prev_pos:cur_pos], prev_pos)`\n",
    "    - 一次只接受一个 token\n",
    "    - 历史 token(input prompts + 截止到当前生成的 tokens) 信息缓存在 cache_KV 中\n",
    "    - Attention layer\n",
    "\n",
    "        ```\n",
    "        # 截止到当前（包含历史）！！！\n",
    "        keys = self.cache_k[:bsz, : start_pos + seqlen]\n",
    "        values = self.cache_v[:bsz, : start_pos + seqlen]\n",
    "        ```"
   ]
  },
  {
   "cell_type": "markdown",
   "id": "1b492082",
   "metadata": {},
   "source": [
    "### 其他控制参数"
   ]
  },
  {
   "cell_type": "markdown",
   "id": "0298befb",
   "metadata": {},
   "source": [
    "- 返回相关：\n",
    "    - `token_logprobs`\n",
    "    - `echo`\n",
    "- 生成相关 \n",
    "    - `temperature`：温度，温度越高越平均（随机性越高，entropy越高），越低越sharp（确定性越高，entropy 越低）\n",
    "        $$\n",
    "        \\frac{\\exp\\left(\\frac{z_i}{T}\\right)}{\\sum_j\\exp\\left(\\frac{z_j}T\\right)}\n",
    "        $$\n",
    "    - `top_p`：核采样；https://www.bilibili.com/video/BV1Ho4y1x76q"
   ]
  },
  {
   "cell_type": "markdown",
   "id": "e3ef052c",
   "metadata": {},
   "source": [
    "- temperature & top_p\n",
    "\n",
    "```\n",
    "if temperature > 0:\n",
    "    # temperature 与 top_p 组合使用\n",
    "    probs = torch.softmax(logits[:, -1] / temperature, dim=-1)\n",
    "    next_token = sample_top_p(probs, top_p)\n",
    "else:\n",
    "    next_token = torch.argmax(logits[:, -1], dim=-1)\n",
    "```"
   ]
  }
 ],
 "metadata": {
  "kernelspec": {
   "display_name": "Python 3 (ipykernel)",
   "language": "python",
   "name": "python3"
  },
  "language_info": {
   "codemirror_mode": {
    "name": "ipython",
    "version": 3
   },
   "file_extension": ".py",
   "mimetype": "text/x-python",
   "name": "python",
   "nbconvert_exporter": "python",
   "pygments_lexer": "ipython3",
   "version": "3.10.13"
  },
  "toc": {
   "base_numbering": 1,
   "nav_menu": {},
   "number_sections": true,
   "sideBar": true,
   "skip_h1_title": false,
   "title_cell": "Table of Contents",
   "title_sidebar": "Contents",
   "toc_cell": false,
   "toc_position": {},
   "toc_section_display": true,
   "toc_window_display": false
  }
 },
 "nbformat": 4,
 "nbformat_minor": 5
}
