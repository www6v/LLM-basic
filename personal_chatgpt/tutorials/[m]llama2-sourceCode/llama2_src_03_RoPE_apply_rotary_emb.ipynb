{
 "cells": [
  {
   "cell_type": "markdown",
   "id": "124d63c0",
   "metadata": {},
   "source": [
    "- Transformer中Position Embedding的意义：“破坏Transformer结构的完全对称性”。\n",
    "    - 即对 sequence 中的 token 顺序敏感"
   ]
  },
  {
   "cell_type": "code",
   "execution_count": 68,
   "id": "e04d065b",
   "metadata": {
    "ExecuteTime": {
     "end_time": "2023-10-09T13:51:35.581498Z",
     "start_time": "2023-10-09T13:51:35.575159Z"
    }
   },
   "outputs": [],
   "source": [
    "import numpy as np\n",
    "import matplotlib.pyplot as plt\n",
    "import torch\n",
    "from torch import nn\n",
    "from typing import Tuple"
   ]
  },
  {
   "cell_type": "markdown",
   "id": "c70c1390",
   "metadata": {},
   "source": [
    "## cis 编码"
   ]
  },
  {
   "cell_type": "markdown",
   "id": "028cd298",
   "metadata": {},
   "source": [
    "$$\n",
    "\\begin{split}\n",
    "f(q,m)&=qe^{im\\theta}\\\\\n",
    "f(q,m)&=\\begin{pmatrix}\n",
    "\\cos m\\theta & -\\sin m\\theta\\\\\n",
    "\\sin m\\theta & \\cos m\\theta\n",
    "\\end{pmatrix}\\begin{pmatrix}\n",
    "q_0\\\\\n",
    "q_1\n",
    "\\end{pmatrix}\\\\\n",
    "&=R_mq\n",
    "\\end{split}\n",
    "$$"
   ]
  },
  {
   "cell_type": "markdown",
   "id": "5fdd85f7",
   "metadata": {},
   "source": [
    "$$\n",
    "\\begin{split}\n",
    "R(\\alpha)R(\\beta)&=R(\\alpha+\\beta)\\\\\n",
    "R^T(\\alpha)R(\\beta)&=\\begin{pmatrix}\n",
    "\\cos\\alpha & \\sin\\alpha\\\\\n",
    "-\\sin\\alpha & \\cos\\alpha\n",
    "\\end{pmatrix}\\begin{pmatrix}\n",
    "\\cos\\beta & -\\sin\\beta\\\\\n",
    "\\sin\\beta & \\cos\\beta\n",
    "\\end{pmatrix}\\\\\n",
    "&=R(-\\alpha)R(\\beta)\\\\\n",
    "&=R(\\beta-\\alpha)\n",
    "\\end{split}\n",
    "$$"
   ]
  },
  {
   "cell_type": "markdown",
   "id": "19d3f45b",
   "metadata": {},
   "source": [
    "$$\n",
    "\\begin{split}\n",
    "f(q,m)^Tf(k,n)&=(R_mq)^T(R_nk)\\\\\n",
    "&=q^T(R^T_mR_n)k\\\\\n",
    "&=q^TR_{n-m}k\n",
    "\\end{split}\n",
    "$$"
   ]
  },
  {
   "cell_type": "code",
   "execution_count": 43,
   "id": "7fea281e",
   "metadata": {
    "ExecuteTime": {
     "end_time": "2023-10-06T12:36:58.031123Z",
     "start_time": "2023-10-06T12:36:58.023822Z"
    }
   },
   "outputs": [],
   "source": [
    "def R(theta):\n",
    "    theta = np.radians(theta)\n",
    "    c, s = np.cos(theta), np.sin(theta)\n",
    "    return np.array([[c, -s], [s, c]])"
   ]
  },
  {
   "cell_type": "code",
   "execution_count": 44,
   "id": "f4da157d",
   "metadata": {
    "ExecuteTime": {
     "end_time": "2023-10-06T12:37:10.730709Z",
     "start_time": "2023-10-06T12:37:10.723557Z"
    }
   },
   "outputs": [],
   "source": [
    "R1 = R(30)\n",
    "R2 = R(60)"
   ]
  },
  {
   "cell_type": "code",
   "execution_count": 45,
   "id": "fbf7a432",
   "metadata": {
    "ExecuteTime": {
     "end_time": "2023-10-06T12:37:11.954689Z",
     "start_time": "2023-10-06T12:37:11.945708Z"
    }
   },
   "outputs": [
    {
     "data": {
      "text/plain": [
       "array([[ 2.62681588e-16, -1.00000000e+00],\n",
       "       [ 1.00000000e+00,  2.62681588e-16]])"
      ]
     },
     "execution_count": 45,
     "metadata": {},
     "output_type": "execute_result"
    }
   ],
   "source": [
    "R1.dot(R2)"
   ]
  },
  {
   "cell_type": "code",
   "execution_count": 51,
   "id": "50cf6147",
   "metadata": {
    "ExecuteTime": {
     "end_time": "2023-10-06T12:43:28.832712Z",
     "start_time": "2023-10-06T12:43:28.823095Z"
    }
   },
   "outputs": [
    {
     "data": {
      "text/plain": [
       "array([[ 0.8660254, -0.5      ],\n",
       "       [ 0.5      ,  0.8660254]])"
      ]
     },
     "execution_count": 51,
     "metadata": {},
     "output_type": "execute_result"
    }
   ],
   "source": [
    "R1.T.dot(R2)"
   ]
  },
  {
   "cell_type": "code",
   "execution_count": 47,
   "id": "8e58216d",
   "metadata": {
    "ExecuteTime": {
     "end_time": "2023-10-06T12:37:40.464654Z",
     "start_time": "2023-10-06T12:37:40.453083Z"
    }
   },
   "outputs": [
    {
     "data": {
      "text/plain": [
       "array([[ 6.123234e-17, -1.000000e+00],\n",
       "       [ 1.000000e+00,  6.123234e-17]])"
      ]
     },
     "execution_count": 47,
     "metadata": {},
     "output_type": "execute_result"
    }
   ],
   "source": [
    "R(30+60)"
   ]
  },
  {
   "cell_type": "code",
   "execution_count": 50,
   "id": "dcd680b4",
   "metadata": {
    "ExecuteTime": {
     "end_time": "2023-10-06T12:43:26.294014Z",
     "start_time": "2023-10-06T12:43:26.283828Z"
    }
   },
   "outputs": [
    {
     "data": {
      "text/plain": [
       "array([[ 0.8660254, -0.5      ],\n",
       "       [ 0.5      ,  0.8660254]])"
      ]
     },
     "execution_count": 50,
     "metadata": {},
     "output_type": "execute_result"
    }
   ],
   "source": [
    "R(60-30)"
   ]
  },
  {
   "cell_type": "markdown",
   "id": "411633af",
   "metadata": {},
   "source": [
    "## apply_rotary_emb\n"
   ]
  },
  {
   "cell_type": "markdown",
   "id": "80906f78",
   "metadata": {},
   "source": [
    "| **model** | **heads** | **layers** | **dim** | **head_dim** |\n",
    "|-----------|-----------|------------|---------|--------------|\n",
    "| 7b        | 32        | 32         | 4096    | 4096/32      |\n",
    "| 13b       | 40        | 40         | 5120    | 5120/40      |\n",
    "| 70b       | 64        | 80         | 8192    | 8192/64      |"
   ]
  },
  {
   "cell_type": "markdown",
   "id": "3c5f3523",
   "metadata": {},
   "source": [
    "- position encoding 直接作用于 q(query) 与 k(key)\n",
    "    - `q = wq(x)`\n",
    "    - `k = wk(x)`\n",
    "- 是一种乘性，而非 sin position encoding 的加性；\n",
    "    - BERT（Transformer库）的 position encoding 也是加性的；"
   ]
  },
  {
   "cell_type": "markdown",
   "id": "0bc06e36",
   "metadata": {},
   "source": [
    "`xq, xk = apply_rotary_emb(xq, xk, freqs_cis=freqs_cis)`\n",
    "- input:\n",
    "    - xq: [1, 8, 32, 128]\n",
    "    - xk: [1, 8, 32, 128]\n",
    "    - freqs_cis.shape: [8, 64]"
   ]
  },
  {
   "cell_type": "code",
   "execution_count": 71,
   "id": "dc9c51ac",
   "metadata": {
    "ExecuteTime": {
     "end_time": "2023-10-09T14:34:26.486592Z",
     "start_time": "2023-10-09T14:34:26.476730Z"
    }
   },
   "outputs": [],
   "source": [
    "def apply_rotary_emb(\n",
    "    xq: torch.Tensor,\n",
    "    xk: torch.Tensor,\n",
    "    freqs_cis: torch.Tensor,\n",
    ") -> Tuple[torch.Tensor, torch.Tensor]:\n",
    "    \n",
    "    # [1, 8, 32, 128] => [1, 8, 32, 64] (*2)\n",
    "    xq_ = torch.view_as_complex(xq.float().reshape(*xq.shape[:-1], -1, 2))\n",
    "    # [1, 8, 32, 128] => [1, 8, 32, 64] (*2)\n",
    "    xk_ = torch.view_as_complex(xk.float().reshape(*xk.shape[:-1], -1, 2))\n",
    "    \n",
    "    # [8, 64] => [1, 8, 1, 64]\n",
    "    freqs_cis = reshape_for_broadcast(freqs_cis, xq_)\n",
    "    \n",
    "    # (xq_ * freqs_cis).shape == [1, 8, 32, 64]\n",
    "    # torch.view_as_real(xq_ * freqs_cis).shape == [1, 8, 32, 64, 2]\n",
    "    # flatten(3) == [1, 8, 32, 128]\n",
    "    xq_out = torch.view_as_real(xq_ * freqs_cis).flatten(3)\n",
    "    \n",
    "    # xq_out == [1, 8, 32, 128]\n",
    "    xk_out = torch.view_as_real(xk_ * freqs_cis).flatten(3)\n",
    "    return xq_out.type_as(xq), xk_out.type_as(xk)"
   ]
  },
  {
   "cell_type": "code",
   "execution_count": 72,
   "id": "e05feb6d",
   "metadata": {
    "ExecuteTime": {
     "end_time": "2023-10-09T14:42:51.986193Z",
     "start_time": "2023-10-09T14:42:51.981312Z"
    }
   },
   "outputs": [],
   "source": [
    "# self.params.dim // self.params.n_heads, self.params.max_seq_len * 2\n",
    "# params.dim == 4096, n_heads == 32, 2^12/2^5 == 2^7 == 128\n",
    "# params.max_seq_len == 1024\n",
    "# freqs_cis = precompute_freqs_cis(4096//32, 2048)\n",
    "# freqs_cis.shape"
   ]
  },
  {
   "cell_type": "code",
   "execution_count": 73,
   "id": "d91c0884",
   "metadata": {
    "ExecuteTime": {
     "end_time": "2023-10-09T14:42:53.648607Z",
     "start_time": "2023-10-09T14:42:53.609141Z"
    }
   },
   "outputs": [],
   "source": [
    "from sentencepiece import SentencePieceProcessor\n",
    "sp_model = SentencePieceProcessor(model_file='./tokenizer.model')"
   ]
  },
  {
   "cell_type": "code",
   "execution_count": 74,
   "id": "de1a9ca3",
   "metadata": {
    "ExecuteTime": {
     "end_time": "2023-10-09T14:42:55.742540Z",
     "start_time": "2023-10-09T14:42:55.733072Z"
    }
   },
   "outputs": [
    {
     "data": {
      "text/plain": [
       "[1, 306, 4658, 278, 6593, 310, 2834, 338]"
      ]
     },
     "execution_count": 74,
     "metadata": {},
     "output_type": "execute_result"
    }
   ],
   "source": [
    "prompt = 'I believe the meaning of life is'\n",
    "[sp_model.bos_id(), *sp_model.encode(prompt)]"
   ]
  },
  {
   "cell_type": "markdown",
   "id": "e50d8c7d",
   "metadata": {},
   "source": [
    "## 远程（$m-n$）衰减性"
   ]
  },
  {
   "cell_type": "markdown",
   "id": "53559433",
   "metadata": {},
   "source": [
    "- Transformer升级之路：2、博采众长的旋转式位置编码\n",
    "    - https://spaces.ac.cn/archives/8265/comment-page-1"
   ]
  },
  {
   "cell_type": "markdown",
   "id": "437ddccc",
   "metadata": {},
   "source": [
    "$$\n",
    "\\begin{split}\n",
    "&S_j=\\sum_{i=0}^{j-1}\\exp(i(m-n)\\theta_i)\\\\\n",
    "&\\theta_i=10000^{-2i/d}\n",
    "\\end{split}\n",
    "$$"
   ]
  },
  {
   "cell_type": "code",
   "execution_count": 36,
   "id": "569c81e9",
   "metadata": {
    "ExecuteTime": {
     "end_time": "2023-10-06T08:13:12.278455Z",
     "start_time": "2023-10-06T08:13:12.271532Z"
    }
   },
   "outputs": [],
   "source": [
    "def s(m, d=128):\n",
    "    theta_i = lambda i: 10000**(-2*i/d)\n",
    "    return np.sum([np.abs(np.sum(np.exp(1j*m*theta_i(np.arange(0, j))))) for j in range(0, d//2)])"
   ]
  },
  {
   "cell_type": "code",
   "execution_count": 37,
   "id": "eb68764e",
   "metadata": {
    "ExecuteTime": {
     "end_time": "2023-10-06T08:13:13.763507Z",
     "start_time": "2023-10-06T08:13:13.358314Z"
    }
   },
   "outputs": [],
   "source": [
    "d = 128\n",
    "xs = np.arange(256)\n",
    "ys = [s(x)/(d//2) for x in xs]"
   ]
  },
  {
   "cell_type": "code",
   "execution_count": 38,
   "id": "fc09ed96",
   "metadata": {
    "ExecuteTime": {
     "end_time": "2023-10-06T08:13:14.778114Z",
     "start_time": "2023-10-06T08:13:14.581238Z"
    }
   },
   "outputs": [
    {
     "data": {
      "text/plain": [
       "[<matplotlib.lines.Line2D at 0x7fa182eb2d70>]"
      ]
     },
     "execution_count": 38,
     "metadata": {},
     "output_type": "execute_result"
    },
    {
     "data": {
      "image/png": "[encoded data removed]",
      "text/plain": [
       "<Figure size 640x480 with 1 Axes>"
      ]
     },
     "metadata": {},
     "output_type": "display_data"
    }
   ],
   "source": [
    "plt.plot(xs, ys)"
   ]
  },
  {
   "cell_type": "code",
   "execution_count": null,
   "id": "2d0f8d7d",
   "metadata": {},
   "outputs": [],
   "source": []
  }
 ],
 "metadata": {
  "kernelspec": {
   "display_name": "Python 3 (ipykernel)",
   "language": "python",
   "name": "python3"
  },
  "language_info": {
   "codemirror_mode": {
    "name": "ipython",
    "version": 3
   },
   "file_extension": ".py",
   "mimetype": "text/x-python",
   "name": "python",
   "nbconvert_exporter": "python",
   "pygments_lexer": "ipython3",
   "version": "3.10.13"
  },
  "toc": {
   "base_numbering": 1,
   "nav_menu": {},
   "number_sections": true,
   "sideBar": true,
   "skip_h1_title": false,
   "title_cell": "Table of Contents",
   "title_sidebar": "Contents",
   "toc_cell": false,
   "toc_position": {},
   "toc_section_display": true,
   "toc_window_display": false
  }
 },
 "nbformat": 4,
 "nbformat_minor": 5
}
