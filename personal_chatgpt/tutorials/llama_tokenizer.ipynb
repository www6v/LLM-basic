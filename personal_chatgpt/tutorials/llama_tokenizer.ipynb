{
 "cells": [
  {
   "cell_type": "markdown",
   "id": "e3a4b6b7",
   "metadata": {},
   "source": [
    "## hf"
   ]
  },
  {
   "cell_type": "markdown",
   "id": "c133c762",
   "metadata": {},
   "source": [
    "```\n",
    ">> from transformers import AutoTokenizer\n",
    ">> tokenizer = AutoTokenizer.from_pretrained('meta-1lama/Llama-2-7b-chat-hf'\n",
    ">> tokenizer.special_tokens_map\n",
    "{'bos_token: '<s>', 'eos_token': '</s>', 'unk_token': '<unk>'}\n",
    ">> tokenizer.pad_token\n",
    "Using pad_token, but it is not set yet.\n",
    "```"
   ]
  },
  {
   "cell_type": "markdown",
   "id": "95c0b84f",
   "metadata": {},
   "source": [
    "- `<s> </s>`  作为开始和结束 token 是 hf 版 llama2 的结果，不是 llama github 版的编码方式"
   ]
  }
 ],
 "metadata": {
  "kernelspec": {
   "display_name": "Python 3 (ipykernel)",
   "language": "python",
   "name": "python3"
  },
  "language_info": {
   "codemirror_mode": {
    "name": "ipython",
    "version": 3
   },
   "file_extension": ".py",
   "mimetype": "text/x-python",
   "name": "python",
   "nbconvert_exporter": "python",
   "pygments_lexer": "ipython3",
   "version": "3.10.9"
  },
  "toc": {
   "base_numbering": 1,
   "nav_menu": {},
   "number_sections": true,
   "sideBar": true,
   "skip_h1_title": false,
   "title_cell": "Table of Contents",
   "title_sidebar": "Contents",
   "toc_cell": false,
   "toc_position": {},
   "toc_section_display": true,
   "toc_window_display": false
  }
 },
 "nbformat": 4,
 "nbformat_minor": 5
}
