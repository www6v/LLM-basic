{
 "cells": [
  {
   "cell_type": "code",
   "execution_count": 1,
   "id": "9fa49167-a509-4bb2-9cdc-2071e71aa08d",
   "metadata": {
    "execution": {
     "iopub.execute_input": "2024-07-05T14:00:37.992203Z",
     "iopub.status.busy": "2024-07-05T14:00:37.991544Z",
     "iopub.status.idle": "2024-07-05T14:00:38.034038Z",
     "shell.execute_reply": "2024-07-05T14:00:38.032465Z",
     "shell.execute_reply.started": "2024-07-05T14:00:37.992152Z"
    }
   },
   "outputs": [],
   "source": [
    "import tiktoken"
   ]
  },
  {
   "cell_type": "code",
   "execution_count": 4,
   "id": "9b0d20a2-fc3c-4c7e-afa3-06c2a5656d0b",
   "metadata": {
    "execution": {
     "iopub.execute_input": "2024-07-05T14:01:22.438102Z",
     "iopub.status.busy": "2024-07-05T14:01:22.437652Z",
     "iopub.status.idle": "2024-07-05T14:01:25.380154Z",
     "shell.execute_reply": "2024-07-05T14:01:25.378713Z",
     "shell.execute_reply.started": "2024-07-05T14:01:22.438069Z"
    }
   },
   "outputs": [],
   "source": [
    "T = tiktoken.get_encoding('cl100k_base')"
   ]
  },
  {
   "cell_type": "markdown",
   "id": "7a1d34f6-a48a-42d5-97a0-c7c50c36bd9f",
   "metadata": {},
   "source": [
    "### 数字的不连续性"
   ]
  },
  {
   "cell_type": "code",
   "execution_count": 18,
   "id": "6a80873c-b43e-4f74-b5fe-3ad132d54e58",
   "metadata": {
    "execution": {
     "iopub.execute_input": "2024-07-05T14:05:40.349082Z",
     "iopub.status.busy": "2024-07-05T14:05:40.348472Z",
     "iopub.status.idle": "2024-07-05T14:05:40.361011Z",
     "shell.execute_reply": "2024-07-05T14:05:40.358986Z",
     "shell.execute_reply.started": "2024-07-05T14:05:40.349036Z"
    }
   },
   "outputs": [
    {
     "data": {
      "text/plain": [
       "[4513, 19, 10, 10961, 22]"
      ]
     },
     "execution_count": 18,
     "metadata": {},
     "output_type": "execute_result"
    }
   ],
   "source": [
    "T.encode('1234+4567')"
   ]
  },
  {
   "cell_type": "code",
   "execution_count": 20,
   "id": "da78e526-e5f2-4968-ad5d-616a53751a01",
   "metadata": {
    "execution": {
     "iopub.execute_input": "2024-07-05T14:06:16.515299Z",
     "iopub.status.busy": "2024-07-05T14:06:16.514710Z",
     "iopub.status.idle": "2024-07-05T14:06:16.526425Z",
     "shell.execute_reply": "2024-07-05T14:06:16.524411Z",
     "shell.execute_reply.started": "2024-07-05T14:06:16.515254Z"
    }
   },
   "outputs": [
    {
     "name": "stdout",
     "output_type": "stream",
     "text": [
      "123\n",
      "4\n",
      "+\n",
      "456\n",
      "7\n"
     ]
    }
   ],
   "source": [
    "for t_id in [4513, 19, 10, 10961, 22]:\n",
    "    print(T.decode([t_id]))"
   ]
  },
  {
   "cell_type": "markdown",
   "id": "d04fb881-98b9-4693-9fea-5ec5c424c485",
   "metadata": {},
   "source": [
    "### `world` vs. ` world`"
   ]
  },
  {
   "cell_type": "code",
   "execution_count": 5,
   "id": "a6615551-2747-4510-b7bc-9c3a3e2bd68c",
   "metadata": {
    "execution": {
     "iopub.execute_input": "2024-07-05T14:01:47.266713Z",
     "iopub.status.busy": "2024-07-05T14:01:47.266388Z",
     "iopub.status.idle": "2024-07-05T14:01:47.281060Z",
     "shell.execute_reply": "2024-07-05T14:01:47.278860Z",
     "shell.execute_reply.started": "2024-07-05T14:01:47.266690Z"
    }
   },
   "outputs": [
    {
     "data": {
      "text/plain": [
       "[14957]"
      ]
     },
     "execution_count": 5,
     "metadata": {},
     "output_type": "execute_result"
    }
   ],
   "source": [
    "T.encode('world')"
   ]
  },
  {
   "cell_type": "code",
   "execution_count": 6,
   "id": "78f58bd8-2095-4f98-a673-86d46a7532fd",
   "metadata": {
    "execution": {
     "iopub.execute_input": "2024-07-05T14:01:54.015112Z",
     "iopub.status.busy": "2024-07-05T14:01:54.014497Z",
     "iopub.status.idle": "2024-07-05T14:01:54.027439Z",
     "shell.execute_reply": "2024-07-05T14:01:54.025406Z",
     "shell.execute_reply.started": "2024-07-05T14:01:54.015068Z"
    }
   },
   "outputs": [
    {
     "data": {
      "text/plain": [
       "[1917]"
      ]
     },
     "execution_count": 6,
     "metadata": {},
     "output_type": "execute_result"
    }
   ],
   "source": [
    "T.encode(' world')"
   ]
  },
  {
   "cell_type": "code",
   "execution_count": 9,
   "id": "8252c5c6-3acd-4f90-8c15-69230041bc57",
   "metadata": {
    "execution": {
     "iopub.execute_input": "2024-07-05T14:04:14.386929Z",
     "iopub.status.busy": "2024-07-05T14:04:14.386315Z",
     "iopub.status.idle": "2024-07-05T14:04:14.399261Z",
     "shell.execute_reply": "2024-07-05T14:04:14.397229Z",
     "shell.execute_reply.started": "2024-07-05T14:04:14.386882Z"
    }
   },
   "outputs": [
    {
     "data": {
      "text/plain": [
       "[15339, 1917]"
      ]
     },
     "execution_count": 9,
     "metadata": {},
     "output_type": "execute_result"
    }
   ],
   "source": [
    "T.encode('hello world')"
   ]
  },
  {
   "cell_type": "code",
   "execution_count": 15,
   "id": "ede9c23c-d4f2-4678-8da0-ffb7b7663917",
   "metadata": {
    "execution": {
     "iopub.execute_input": "2024-07-05T14:04:59.603568Z",
     "iopub.status.busy": "2024-07-05T14:04:59.602943Z",
     "iopub.status.idle": "2024-07-05T14:04:59.616327Z",
     "shell.execute_reply": "2024-07-05T14:04:59.614296Z",
     "shell.execute_reply.started": "2024-07-05T14:04:59.603522Z"
    }
   },
   "outputs": [
    {
     "data": {
      "text/plain": [
       "[14957]"
      ]
     },
     "execution_count": 15,
     "metadata": {},
     "output_type": "execute_result"
    }
   ],
   "source": [
    "T.encode('world')"
   ]
  },
  {
   "cell_type": "code",
   "execution_count": 16,
   "id": "43add5e2-2daa-4d9e-8093-7ea7a1a47cb9",
   "metadata": {
    "execution": {
     "iopub.execute_input": "2024-07-05T14:05:12.916070Z",
     "iopub.status.busy": "2024-07-05T14:05:12.915417Z",
     "iopub.status.idle": "2024-07-05T14:05:12.928762Z",
     "shell.execute_reply": "2024-07-05T14:05:12.926647Z",
     "shell.execute_reply.started": "2024-07-05T14:05:12.916022Z"
    }
   },
   "outputs": [
    {
     "data": {
      "text/plain": [
       "' worldworld'"
      ]
     },
     "execution_count": 16,
     "metadata": {},
     "output_type": "execute_result"
    }
   ],
   "source": [
    "T.decode([1917, 14957])"
   ]
  },
  {
   "cell_type": "code",
   "execution_count": null,
   "id": "e8d9db85-3a4a-44f9-93d9-d2ae94c82582",
   "metadata": {},
   "outputs": [],
   "source": []
  }
 ],
 "metadata": {
  "kernelspec": {
   "display_name": "Python 3 (ipykernel)",
   "language": "python",
   "name": "python3"
  },
  "language_info": {
   "codemirror_mode": {
    "name": "ipython",
    "version": 3
   },
   "file_extension": ".py",
   "mimetype": "text/x-python",
   "name": "python",
   "nbconvert_exporter": "python",
   "pygments_lexer": "ipython3",
   "version": "3.10.13"
  }
 },
 "nbformat": 4,
 "nbformat_minor": 5
}
