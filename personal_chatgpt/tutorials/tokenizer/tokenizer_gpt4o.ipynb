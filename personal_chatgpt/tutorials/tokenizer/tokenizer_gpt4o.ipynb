{
 "cells": [
  {
   "cell_type": "markdown",
   "id": "08c83924-4348-42b6-ad2c-02a423f12abe",
   "metadata": {},
   "source": [
    "- https://mp.weixin.qq.com/s/BnwGitYV59LXqaenP3dR6w"
   ]
  },
  {
   "cell_type": "markdown",
   "id": "21b76ebe-3937-42ca-b431-40bd01bb5ef4",
   "metadata": {},
   "source": [
    "## `cl100k_base` => `o200k_base`"
   ]
  },
  {
   "cell_type": "code",
   "execution_count": 15,
   "id": "ba08e030-3c70-4cb7-bbdc-75486940f810",
   "metadata": {},
   "outputs": [],
   "source": [
    "import tiktoken\n",
    "import langdetect\n",
    "import regex as re"
   ]
  },
  {
   "cell_type": "code",
   "execution_count": 2,
   "id": "09237ebe-fb36-4f4b-950b-0ee99c0899d8",
   "metadata": {},
   "outputs": [],
   "source": [
    "# https://platform.openai.com/tokenizer\n",
    "T1 = tiktoken.get_encoding('cl100k_base')\n",
    "T2 = tiktoken.get_encoding('o200k_base')"
   ]
  },
  {
   "cell_type": "code",
   "execution_count": 3,
   "id": "bccddcad-b6b1-46e0-98d5-be17b7b55d50",
   "metadata": {},
   "outputs": [
    {
     "data": {
      "text/plain": [
       "[72, 3021, 6369, 70, 418]"
      ]
     },
     "execution_count": 3,
     "metadata": {},
     "output_type": "execute_result"
    }
   ],
   "source": [
    "T1.encode('i love chatgpt')"
   ]
  },
  {
   "cell_type": "code",
   "execution_count": 4,
   "id": "f3be79af-34a6-4457-a6e4-a6ca5e45727b",
   "metadata": {},
   "outputs": [
    {
     "data": {
      "text/plain": [
       "[72, 3047, 7999, 70, 555]"
      ]
     },
     "execution_count": 4,
     "metadata": {},
     "output_type": "execute_result"
    }
   ],
   "source": [
    "T2.encode('i love chatgpt')"
   ]
  },
  {
   "cell_type": "code",
   "execution_count": 5,
   "id": "c3ae20b9-d97a-4317-9440-755efc670608",
   "metadata": {},
   "outputs": [
    {
     "data": {
      "text/plain": [
       "(100277, 200019)"
      ]
     },
     "execution_count": 5,
     "metadata": {},
     "output_type": "execute_result"
    }
   ],
   "source": [
    "T1.n_vocab, T2.n_vocab"
   ]
  },
  {
   "cell_type": "markdown",
   "id": "fef08a77-0168-4f74-9c1f-cf948f6df3f3",
   "metadata": {},
   "source": [
    "## 更大的词表 => 压缩 token_ids"
   ]
  },
  {
   "cell_type": "markdown",
   "id": "29fa95ca-d48d-44dd-8eaa-f2cc31ac37dd",
   "metadata": {},
   "source": [
    "- https://openai.com/index/hello-gpt-4o/\n",
    "- 更大的词表，一段话（sentence）encoder 之后的 token_id 会变少，也就是一些词（甚至词组）会更容易命中词表，而不再会被拆分为多个 token_ids\n",
    "    - 从经济上的考虑，api price 就会更低"
   ]
  },
  {
   "cell_type": "code",
   "execution_count": 20,
   "id": "bdb46bab-3145-4fb4-96e6-d3408e2e67d9",
   "metadata": {},
   "outputs": [
    {
     "data": {
      "text/plain": [
       "34"
      ]
     },
     "execution_count": 20,
     "metadata": {},
     "output_type": "execute_result"
    }
   ],
   "source": [
    "len(T1.encode('你好，我的名字是GPT-4o。我是一种新型的语言模型，很高兴见到你!'))"
   ]
  },
  {
   "cell_type": "code",
   "execution_count": 21,
   "id": "beff3609-f1c0-4ff6-a2ca-01e175020a22",
   "metadata": {},
   "outputs": [
    {
     "data": {
      "text/plain": [
       "24"
      ]
     },
     "execution_count": 21,
     "metadata": {},
     "output_type": "execute_result"
    }
   ],
   "source": [
    "len(T2.encode('你好，我的名字是GPT-4o。我是一种新型的语言模型，很高兴见到你!'))"
   ]
  },
  {
   "cell_type": "code",
   "execution_count": 6,
   "id": "5b7bc7c7-8af5-4d15-a0d4-e0576a52b071",
   "metadata": {},
   "outputs": [],
   "source": [
    "token_ids_len1 = 0\n",
    "token_ids_len2 = 0\n",
    "with open('./xyj.txt', 'r', encoding='utf-8') as f:\n",
    "    for line in f.readlines():\n",
    "        token_ids_len1 += len(T1.encode(line))\n",
    "        token_ids_len2 += len(T2.encode(line))"
   ]
  },
  {
   "cell_type": "code",
   "execution_count": 7,
   "id": "7044045f-06e4-4f8f-9fcf-f5fed5efcd8b",
   "metadata": {},
   "outputs": [
    {
     "data": {
      "text/plain": [
       "(990508, 703303, 1.408365953223575, 0.7100427255509294)"
      ]
     },
     "execution_count": 7,
     "metadata": {},
     "output_type": "execute_result"
    }
   ],
   "source": [
    "token_ids_len1, token_ids_len2, token_ids_len1/token_ids_len2, token_ids_len2/token_ids_len1"
   ]
  },
  {
   "cell_type": "markdown",
   "id": "eb4fb283-d872-4d7c-b195-3f6fe37ace4d",
   "metadata": {},
   "source": [
    "## gpt-4o 中文 tokenizer"
   ]
  },
  {
   "cell_type": "markdown",
   "id": "e9cd72fc-e96d-4769-a60c-16fbee50ef9b",
   "metadata": {},
   "source": [
    "- 先看一个现象：https://chat.openai.com/share/f4227bf3-bc46-43d1-a982-f7dea78702ed\n",
    "    - “给主人留下些什么吧”这句话翻译成英文\n",
    "- 出于压缩tokens的目的，先在最广泛的基础语料里，训练了一把tokenizer，但没做过多的过滤，而在实际训练 transformer 的过程中，又过滤了基础语料的低质量数据集，导致那些只在基础语料中大量出现的token 未被充分训练；\n",
    "- https://gist.github.com/ctlllll/4451e94f3b2ca415515f3ee369c8c374"
   ]
  },
  {
   "cell_type": "code",
   "execution_count": 22,
   "id": "f8feabd5-cc4a-4ad3-b02e-eb66f7c0fcdd",
   "metadata": {},
   "outputs": [
    {
     "data": {
      "text/plain": [
       "[177431]"
      ]
     },
     "execution_count": 22,
     "metadata": {},
     "output_type": "execute_result"
    }
   ],
   "source": [
    "T2.encode(\"给主人留下些什么吧\")"
   ]
  },
  {
   "cell_type": "code",
   "execution_count": 23,
   "id": "231a9b01-a9d1-497e-a430-b011b6c60ec2",
   "metadata": {},
   "outputs": [
    {
     "data": {
      "text/plain": [
       "[90112, 36668, 17792, 40198, 247, 17297, 98184, 6271, 222, 82696, 7305, 100]"
      ]
     },
     "execution_count": 23,
     "metadata": {},
     "output_type": "execute_result"
    }
   ],
   "source": [
    "T1.encode(\"给主人留下些什么吧\")"
   ]
  },
  {
   "cell_type": "code",
   "execution_count": 8,
   "id": "c2785d71-b53f-4c17-accb-d86fb107adb8",
   "metadata": {},
   "outputs": [
    {
     "name": "stderr",
     "output_type": "stream",
     "text": [
      "thread '<unnamed>' panicked at src/lib.rs:179:64:\n",
      "no entry found for key\n",
      "note: run with `RUST_BACKTRACE=1` environment variable to display a backtrace\n",
      "thread '<unnamed>' panicked at src/lib.rs:179:64:\n",
      "no entry found for key\n",
      "thread '<unnamed>' panicked at src/lib.rs:179:64:\n",
      "no entry found for key\n",
      "thread '<unnamed>' panicked at src/lib.rs:179:64:\n",
      "no entry found for key\n",
      "thread '<unnamed>' panicked at src/lib.rs:179:64:\n",
      "no entry found for key\n",
      "thread '<unnamed>' panicked at src/lib.rs:179:64:\n",
      "no entry found for key\n",
      "thread '<unnamed>' panicked at src/lib.rs:179:64:\n",
      "no entry found for key\n",
      "thread '<unnamed>' panicked at src/lib.rs:179:64:\n",
      "no entry found for key\n",
      "thread '<unnamed>' panicked at src/lib.rs:179:64:\n",
      "no entry found for key\n",
      "thread '<unnamed>' panicked at src/lib.rs:179:64:\n",
      "no entry found for key\n",
      "thread '<unnamed>' panicked at src/lib.rs:179:64:\n",
      "no entry found for key\n",
      "thread '<unnamed>' panicked at src/lib.rs:179:64:\n",
      "no entry found for key\n",
      "thread '<unnamed>' panicked at src/lib.rs:179:64:\n",
      "no entry found for key\n",
      "thread '<unnamed>' panicked at src/lib.rs:179:64:\n",
      "no entry found for key\n",
      "thread '<unnamed>' panicked at src/lib.rs:179:64:\n",
      "no entry found for key\n",
      "thread '<unnamed>' panicked at src/lib.rs:179:64:\n",
      "no entry found for key\n",
      "thread '<unnamed>' panicked at src/lib.rs:179:64:\n",
      "no entry found for key\n",
      "thread '<unnamed>' panicked at src/lib.rs:179:64:\n",
      "no entry found for key\n",
      "thread '<unnamed>' panicked at src/lib.rs:179:64:\n",
      "no entry found for key\n"
     ]
    },
    {
     "name": "stdout",
     "output_type": "stream",
     "text": [
      "185118 _日本毛片免费视频观看\n",
      "116852  中国福利彩票天天\n",
      "128031 久久免费热在线精品\n",
      "154809 无码不卡高清免费v\n",
      "172750  大发快三大小单双\n",
      "177431 给主人留下些什么吧\n",
      "181679  qq的天天中彩票\n",
      "184969 _日本一级特黄大片\n",
      "187822  大发快三开奖结果\n",
      "49649  彩神争霸邀请码\n",
      "89409 免费视频在线观看\n",
      "122333 无码不卡高清免费\n",
      "122712 无码一区二区三区\n",
      "128600  大发时时彩计划\n",
      "133274 】【：】【“】【\n",
      "135161  大发时时彩开奖\n",
      "149168  大发时时彩怎么\n",
      "160029  大发快三是国家\n",
      "160131  大发快三是不是\n",
      "176039 精品一区二区三区\n"
     ]
    }
   ],
   "source": [
    "length_dict = {}\n",
    "\n",
    "for i in range(T2.n_vocab):\n",
    "    try:\n",
    "        length_dict[i] = len(T2.decode([i]))\n",
    "    except:\n",
    "        pass\n",
    "      \n",
    "# Sort by length\n",
    "length_dict = dict(sorted(length_dict.items(), key=lambda item: -item[1]))\n",
    "# print(length_dict)\n",
    "# Print the top 100 chinese wordsÅ\n",
    "tot = 0\n",
    "for item in length_dict:\n",
    "    try:\n",
    "        if langdetect.detect(T2.decode([item])) == \"zh-cn\":\n",
    "            print(item, T2.decode([item]))\n",
    "            tot += 1\n",
    "    except:\n",
    "        pass\n",
    "    if tot == 20:\n",
    "        break"
   ]
  },
  {
   "cell_type": "code",
   "execution_count": 9,
   "id": "b80dd5e6-74aa-4773-b0a7-3087c235ddb7",
   "metadata": {},
   "outputs": [
    {
     "name": "stderr",
     "output_type": "stream",
     "text": [
      "thread '<unnamed>' panicked at src/lib.rs:179:64:\n",
      "no entry found for key\n",
      "thread '<unnamed>' panicked at src/lib.rs:179:64:\n",
      "no entry found for key\n",
      "thread '<unnamed>' panicked at src/lib.rs:179:64:\n",
      "no entry found for key\n",
      "thread '<unnamed>' panicked at src/lib.rs:179:64:\n",
      "no entry found for key\n",
      "thread '<unnamed>' panicked at src/lib.rs:179:64:\n",
      "no entry found for key\n",
      "thread '<unnamed>' panicked at src/lib.rs:179:64:\n",
      "no entry found for key\n",
      "thread '<unnamed>' panicked at src/lib.rs:179:64:\n",
      "no entry found for key\n",
      "thread '<unnamed>' panicked at src/lib.rs:179:64:\n",
      "no entry found for key\n",
      "thread '<unnamed>' panicked at src/lib.rs:179:64:\n",
      "no entry found for key\n",
      "thread '<unnamed>' panicked at src/lib.rs:179:64:\n",
      "no entry found for key\n",
      "thread '<unnamed>' panicked at src/lib.rs:179:64:\n",
      "no entry found for key\n",
      "thread '<unnamed>' panicked at src/lib.rs:179:64:\n",
      "no entry found for key\n",
      "thread '<unnamed>' panicked at src/lib.rs:179:64:\n",
      "no entry found for key\n",
      "thread '<unnamed>' panicked at src/lib.rs:179:64:\n",
      "no entry found for key\n",
      "thread '<unnamed>' panicked at src/lib.rs:179:64:\n",
      "no entry found for key\n",
      "thread '<unnamed>' panicked at src/lib.rs:179:64:\n",
      "no entry found for key\n"
     ]
    },
    {
     "name": "stdout",
     "output_type": "stream",
     "text": [
      "75787 。\n",
      "\n",
      "\n",
      "\n",
      "\n",
      "\n",
      "\n",
      "19066 。\n",
      "\n",
      "\n",
      "\n",
      "\n",
      "54689 。。\n",
      "\n",
      "\n",
      "63093 。',\n",
      "\n",
      "64376 。\",\n",
      "\n",
      "65053 监听页面\n",
      "76718 微软雅黑\n",
      "80000 。”\n",
      "\n",
      "\n",
      "92099 删除成功\n",
      "97432 ”。\n",
      "\n",
      "\n",
      "3490 。\n",
      "\n",
      "\n",
      "28918 、\n",
      "\n",
      "\n",
      "28966 ）\n",
      "\n",
      "\n",
      "38232 。</\n",
      "38365 。\n",
      "\n",
      "41771  获取\n",
      "47436 ：</\n",
      "48858  创建\n",
      "49055 请输入\n",
      "49543 ：\n",
      "\n",
      "\n"
     ]
    }
   ],
   "source": [
    "length_dict = {}\n",
    "\n",
    "for i in range(T1.n_vocab):\n",
    "    try:\n",
    "        length_dict[i] = len(T1.decode([i]))\n",
    "    except:\n",
    "        pass\n",
    "      \n",
    "# Sort by length\n",
    "length_dict = dict(sorted(length_dict.items(), key=lambda item: -item[1]))\n",
    "# print(length_dict)\n",
    "# Print the top 100 chinese words\n",
    "tot = 0\n",
    "for item in length_dict:\n",
    "    try:\n",
    "        if langdetect.detect(T1.decode([item])) == \"zh-cn\":\n",
    "            print(item, T1.decode([item]))\n",
    "            tot += 1\n",
    "    except:\n",
    "        pass\n",
    "    if tot == 20:\n",
    "        break"
   ]
  },
  {
   "cell_type": "code",
   "execution_count": 19,
   "id": "1430b06d-d78f-429b-b9d2-3677bd11915b",
   "metadata": {},
   "outputs": [
    {
     "name": "stdout",
     "output_type": "stream",
     "text": [
      "161518 abcdefghijklmnopqrstuvwxyz\n",
      "184150 ABCDEFGHIJKLMNOPQRSTUVWXYZ\n",
      "130756  verantwoordelijkheid\n",
      "150141  สำนักเลขานุการองค์กร\n",
      "106123  telecommunications\n",
      "133739  selbstverständlich\n",
      "135127  วิเคราะห์บอลวันนี้\n",
      "154976 .onreadystatechange\n",
      "166459  significativamente\n",
      "184611  Telecommunications\n",
      "193348  Wahrscheinlichkeit\n",
      "197767  disproportionately\n",
      "88004  unterschiedlichen\n",
      "100106  interdisciplinary\n",
      "117361 .githubusercontent\n",
      "132622  responsabilidades\n",
      "134381  Herausforderungen\n",
      "135128  multidisciplinary\n",
      "138955  STDMETHODCALLTYPE\n",
      "198090  commercialization\n"
     ]
    },
    {
     "name": "stderr",
     "output_type": "stream",
     "text": [
      "thread '<unnamed>' panicked at src/lib.rs:179:64:\n",
      "no entry found for key\n",
      "thread '<unnamed>' panicked at src/lib.rs:179:64:\n",
      "no entry found for key\n",
      "thread '<unnamed>' panicked at src/lib.rs:179:64:\n",
      "no entry found for key\n",
      "thread '<unnamed>' panicked at src/lib.rs:179:64:\n",
      "no entry found for key\n",
      "thread '<unnamed>' panicked at src/lib.rs:179:64:\n",
      "no entry found for key\n",
      "thread '<unnamed>' panicked at src/lib.rs:179:64:\n",
      "no entry found for key\n",
      "thread '<unnamed>' panicked at src/lib.rs:179:64:\n",
      "no entry found for key\n",
      "thread '<unnamed>' panicked at src/lib.rs:179:64:\n",
      "no entry found for key\n",
      "thread '<unnamed>' panicked at src/lib.rs:179:64:\n",
      "no entry found for key\n",
      "thread '<unnamed>' panicked at src/lib.rs:179:64:\n",
      "no entry found for key\n",
      "thread '<unnamed>' panicked at src/lib.rs:179:64:\n",
      "no entry found for key\n",
      "thread '<unnamed>' panicked at src/lib.rs:179:64:\n",
      "no entry found for key\n",
      "thread '<unnamed>' panicked at src/lib.rs:179:64:\n",
      "no entry found for key\n",
      "thread '<unnamed>' panicked at src/lib.rs:179:64:\n",
      "no entry found for key\n",
      "thread '<unnamed>' panicked at src/lib.rs:179:64:\n",
      "no entry found for key\n",
      "thread '<unnamed>' panicked at src/lib.rs:179:64:\n",
      "no entry found for key\n",
      "thread '<unnamed>' panicked at src/lib.rs:179:64:\n",
      "no entry found for key\n",
      "thread '<unnamed>' panicked at src/lib.rs:179:64:\n",
      "no entry found for key\n",
      "thread '<unnamed>' panicked at src/lib.rs:179:64:\n",
      "no entry found for key\n"
     ]
    }
   ],
   "source": [
    "length_dict = {}\n",
    "\n",
    "for i in range(T2.n_vocab):\n",
    "    try:\n",
    "        length_dict[i] = len(T2.decode([i]))\n",
    "    except:\n",
    "        pass\n",
    "      \n",
    "# Sort by length\n",
    "length_dict = dict(sorted(length_dict.items(), key=lambda item: -item[1]))\n",
    "# print(length_dict)\n",
    "# Print the top 100 chinese words\n",
    "tot = 0\n",
    "pattern = r'^[\\s\\W_=+\\\\-]*$'\n",
    "for item in length_dict:\n",
    "    try:\n",
    "        # print(T2.decode([item]), re.match(pattern, T2.decode([item])))\n",
    "        if not re.match(pattern, T2.decode([item])):\n",
    "            print(item, T2.decode([item]))\n",
    "            tot += 1\n",
    "    except:\n",
    "        pass\n",
    "    if tot == 20:\n",
    "        break"
   ]
  },
  {
   "cell_type": "code",
   "execution_count": null,
   "id": "b7ba5295-4b0e-4698-936f-5ad7acb11a88",
   "metadata": {},
   "outputs": [],
   "source": []
  }
 ],
 "metadata": {
  "kernelspec": {
   "display_name": "Python 3 (ipykernel)",
   "language": "python",
   "name": "python3"
  },
  "language_info": {
   "codemirror_mode": {
    "name": "ipython",
    "version": 3
   },
   "file_extension": ".py",
   "mimetype": "text/x-python",
   "name": "python",
   "nbconvert_exporter": "python",
   "pygments_lexer": "ipython3",
   "version": "3.10.13"
  }
 },
 "nbformat": 4,
 "nbformat_minor": 5
}
