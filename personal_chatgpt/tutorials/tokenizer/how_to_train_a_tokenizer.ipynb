{
 "cells": [
  {
   "cell_type": "code",
   "execution_count": 4,
   "id": "827cae09-b0dd-4163-a269-de7db2274e53",
   "metadata": {
    "execution": {
     "iopub.execute_input": "2024-07-15T12:56:19.753450Z",
     "iopub.status.busy": "2024-07-15T12:56:19.752798Z",
     "iopub.status.idle": "2024-07-15T12:56:19.762287Z",
     "shell.execute_reply": "2024-07-15T12:56:19.760498Z",
     "shell.execute_reply.started": "2024-07-15T12:56:19.753405Z"
    }
   },
   "outputs": [],
   "source": [
    "# !wget -c https://cdn-datasets.huggingface.co/EsperBERTo/data/oscar.eo.txt"
   ]
  },
  {
   "cell_type": "markdown",
   "id": "5fd4a8ca-1c70-46c6-903b-4a10f76e55d9",
   "metadata": {},
   "source": [
    "## BPE：Byte Pair Encoding"
   ]
  },
  {
   "cell_type": "markdown",
   "id": "ced50314-35a1-4518-a4cd-ffe36b46b72a",
   "metadata": {},
   "source": [
    "- BPE：Byte pair encoding，字节对编码；\n",
    "    - ASCII中，一个字符（Character）对应一个字节（Byte）。\n",
    "    - 在处理英语等西方语言时，字符和字节的对应关系较为简单，一个字符通常是一个字节。\n",
    "    - 在处理中文等东亚语言时，字符和字节的对应关系较为复杂，一个字符可能是多个字节。\n",
    "- Byte-Pair Encoding (BPE) was initially developed as an algorithm to **compress texts** (and encoding to token ids), and then **used by OpenAI** for tokenization when pretraining the GPT model. It’s used by a lot of Transformer models, including GPT, GPT-2, RoBERTa, BART, and DeBERTa.\n",
    "\n",
    "\n",
    "```\n",
    "# frequencies\n",
    "(\"hug\", 10), (\"pug\", 5), (\"pun\", 12), (\"bun\", 4), (\"hugs\", 5)\n",
    "\n",
    "# split to characters, form the initial vocabulary\n",
    "(\"h\" \"u\" \"g\", 10), (\"p\" \"u\" \"g\", 5), (\"p\" \"u\" \"n\", 12), (\"b\" \"u\" \"n\", 4), (\"h\" \"u\" \"g\" \"s\", 5)\n",
    "\n",
    "# adj char => 2 chars\n",
    "# ug: 10+5+5 = 20\n",
    "Vocabulary: [\"b\", \"g\", \"h\", \"n\", \"p\", \"s\", \"u\", \"ug\"]\n",
    "Corpus: (\"h\" \"ug\", 10), (\"p\" \"ug\", 5), (\"p\" \"u\" \"n\", 12), (\"b\" \"u\" \"n\", 4), (\"h\" \"ug\" \"s\", 5)\n",
    "\n",
    "# u + n => 12+4\n",
    "Vocabulary: [\"b\", \"g\", \"h\", \"n\", \"p\", \"s\", \"u\", \"ug\", \"un\"]\n",
    "Corpus: (\"h\" \"ug\", 10), (\"p\" \"ug\", 5), (\"p\" \"un\", 12), (\"b\" \"un\", 4), (\"h\" \"ug\" \"s\", 5)\n",
    "\n",
    "# h + ug => 10 + 5\n",
    "Vocabulary: [\"b\", \"g\", \"h\", \"n\", \"p\", \"s\", \"u\", \"ug\", \"un\", \"hug\"]\n",
    "Corpus: (\"hug\", 10), (\"p\" \"ug\", 5), (\"p\" \"un\", 12), (\"b\" \"un\", 4), (\"hug\" \"s\", 5)\n",
    "```"
   ]
  },
  {
   "cell_type": "code",
   "execution_count": 20,
   "id": "ce066445-3299-48f6-9837-1a047649c0db",
   "metadata": {
    "execution": {
     "iopub.execute_input": "2024-07-15T13:08:24.254673Z",
     "iopub.status.busy": "2024-07-15T13:08:24.254062Z",
     "iopub.status.idle": "2024-07-15T13:08:24.263507Z",
     "shell.execute_reply": "2024-07-15T13:08:24.261551Z",
     "shell.execute_reply.started": "2024-07-15T13:08:24.254629Z"
    }
   },
   "outputs": [],
   "source": [
    "corpus = [\n",
    "    \"This is the Hugging Face Course.\",\n",
    "    \"This chapter is about tokenization.\",\n",
    "    \"This section shows several tokenizer algorithms.\",\n",
    "    \"Hopefully, you will be able to understand how they are trained and generate tokens.\",\n",
    "]"
   ]
  },
  {
   "cell_type": "code",
   "execution_count": 21,
   "id": "2f5efbf3-1da6-4a6a-bb68-b5ee57f0b762",
   "metadata": {
    "execution": {
     "iopub.execute_input": "2024-07-15T13:08:37.983882Z",
     "iopub.status.busy": "2024-07-15T13:08:37.983295Z",
     "iopub.status.idle": "2024-07-15T13:08:59.979031Z",
     "shell.execute_reply": "2024-07-15T13:08:59.978114Z",
     "shell.execute_reply.started": "2024-07-15T13:08:37.983838Z"
    }
   },
   "outputs": [],
   "source": [
    "from transformers import AutoTokenizer\n",
    "\n",
    "tokenizer = AutoTokenizer.from_pretrained(\"gpt2\")"
   ]
  },
  {
   "cell_type": "code",
   "execution_count": 25,
   "id": "918a0677-4f77-48a8-b4df-622b20a2fa12",
   "metadata": {
    "execution": {
     "iopub.execute_input": "2024-07-15T13:09:51.675629Z",
     "iopub.status.busy": "2024-07-15T13:09:51.675060Z",
     "iopub.status.idle": "2024-07-15T13:09:51.688752Z",
     "shell.execute_reply": "2024-07-15T13:09:51.686605Z",
     "shell.execute_reply.started": "2024-07-15T13:09:51.675583Z"
    }
   },
   "outputs": [
    {
     "data": {
      "text/plain": [
       "[('This', (0, 4)),\n",
       " ('Ġis', (4, 7)),\n",
       " ('Ġthe', (7, 11)),\n",
       " ('ĠHugging', (11, 19)),\n",
       " ('ĠFace', (19, 24)),\n",
       " ('ĠCourse', (24, 31)),\n",
       " ('.', (31, 32))]"
      ]
     },
     "execution_count": 25,
     "metadata": {},
     "output_type": "execute_result"
    }
   ],
   "source": [
    "tokenizer.backend_tokenizer.pre_tokenizer.pre_tokenize_str(corpus[0])"
   ]
  },
  {
   "cell_type": "code",
   "execution_count": 32,
   "id": "c8b844ec-906b-48d0-8169-7c840973f04f",
   "metadata": {
    "execution": {
     "iopub.execute_input": "2024-07-15T13:12:21.227207Z",
     "iopub.status.busy": "2024-07-15T13:12:21.226573Z",
     "iopub.status.idle": "2024-07-15T13:12:21.239198Z",
     "shell.execute_reply": "2024-07-15T13:12:21.237218Z",
     "shell.execute_reply.started": "2024-07-15T13:12:21.227162Z"
    }
   },
   "outputs": [],
   "source": [
    "from collections import defaultdict\n",
    "\n",
    "word_freqs = defaultdict(int)\n",
    "\n",
    "for text in corpus:\n",
    "    words_with_offsets = tokenizer.backend_tokenizer.pre_tokenizer.pre_tokenize_str(text)\n",
    "    new_words = [word for word, offset in words_with_offsets]\n",
    "    for word in new_words:\n",
    "        word_freqs[word] += 1\n",
    "\n",
    "# word_freqs"
   ]
  },
  {
   "cell_type": "code",
   "execution_count": 33,
   "id": "22af3a40-a718-4482-9560-ee88b8a7cbec",
   "metadata": {
    "execution": {
     "iopub.execute_input": "2024-07-15T13:12:24.123269Z",
     "iopub.status.busy": "2024-07-15T13:12:24.122698Z",
     "iopub.status.idle": "2024-07-15T13:12:24.133272Z",
     "shell.execute_reply": "2024-07-15T13:12:24.131113Z",
     "shell.execute_reply.started": "2024-07-15T13:12:24.123225Z"
    }
   },
   "outputs": [],
   "source": [
    "alphabet = []\n",
    "\n",
    "for word in word_freqs.keys():\n",
    "    for letter in word:\n",
    "        if letter not in alphabet:\n",
    "            alphabet.append(letter)\n",
    "alphabet.sort()\n",
    "# alphabet"
   ]
  },
  {
   "cell_type": "code",
   "execution_count": 34,
   "id": "1c04e33c-226e-407b-8eb9-e8d11a677031",
   "metadata": {
    "execution": {
     "iopub.execute_input": "2024-07-15T13:12:26.789574Z",
     "iopub.status.busy": "2024-07-15T13:12:26.789002Z",
     "iopub.status.idle": "2024-07-15T13:12:26.798029Z",
     "shell.execute_reply": "2024-07-15T13:12:26.795927Z",
     "shell.execute_reply.started": "2024-07-15T13:12:26.789532Z"
    }
   },
   "outputs": [],
   "source": [
    "vocab = [\"<|endoftext|>\"] + alphabet.copy()\n",
    "# vocab"
   ]
  },
  {
   "cell_type": "code",
   "execution_count": 35,
   "id": "dfe1770e-4d4a-4506-a2c8-14aab9d7d84e",
   "metadata": {
    "execution": {
     "iopub.execute_input": "2024-07-15T13:12:35.629965Z",
     "iopub.status.busy": "2024-07-15T13:12:35.629306Z",
     "iopub.status.idle": "2024-07-15T13:12:35.639230Z",
     "shell.execute_reply": "2024-07-15T13:12:35.637032Z",
     "shell.execute_reply.started": "2024-07-15T13:12:35.629918Z"
    }
   },
   "outputs": [],
   "source": [
    "splits = {word: [c for c in word] for word in word_freqs.keys()}\n",
    "# splits"
   ]
  },
  {
   "cell_type": "code",
   "execution_count": 36,
   "id": "f94b9ea0-0512-4989-9b7a-f2fc7ec88c26",
   "metadata": {
    "execution": {
     "iopub.execute_input": "2024-07-15T13:20:36.486324Z",
     "iopub.status.busy": "2024-07-15T13:20:36.485644Z",
     "iopub.status.idle": "2024-07-15T13:20:36.497955Z",
     "shell.execute_reply": "2024-07-15T13:20:36.495679Z",
     "shell.execute_reply.started": "2024-07-15T13:20:36.486274Z"
    }
   },
   "outputs": [],
   "source": [
    "def compute_pair_freqs(splits):\n",
    "    pair_freqs = defaultdict(int)\n",
    "    for word, freq in word_freqs.items():\n",
    "        split = splits[word]\n",
    "        if len(split) == 1:\n",
    "            continue\n",
    "        for i in range(len(split) - 1):\n",
    "            pair = (split[i], split[i + 1])\n",
    "            pair_freqs[pair] += freq\n",
    "    return pair_freqs"
   ]
  },
  {
   "cell_type": "code",
   "execution_count": 37,
   "id": "d6e673b9-3ebd-47d1-a18f-f262680d43b7",
   "metadata": {
    "execution": {
     "iopub.execute_input": "2024-07-15T13:20:44.860127Z",
     "iopub.status.busy": "2024-07-15T13:20:44.859540Z",
     "iopub.status.idle": "2024-07-15T13:20:44.870714Z",
     "shell.execute_reply": "2024-07-15T13:20:44.868545Z",
     "shell.execute_reply.started": "2024-07-15T13:20:44.860082Z"
    }
   },
   "outputs": [
    {
     "name": "stdout",
     "output_type": "stream",
     "text": [
      "('T', 'h'): 3\n",
      "('h', 'i'): 3\n",
      "('i', 's'): 5\n",
      "('Ġ', 'i'): 2\n",
      "('Ġ', 't'): 7\n",
      "('t', 'h'): 3\n"
     ]
    }
   ],
   "source": [
    "pair_freqs = compute_pair_freqs(splits)\n",
    "\n",
    "for i, key in enumerate(pair_freqs.keys()):\n",
    "    print(f\"{key}: {pair_freqs[key]}\")\n",
    "    if i >= 5:\n",
    "        break"
   ]
  },
  {
   "cell_type": "code",
   "execution_count": 38,
   "id": "5ebafcf4-29bf-4fa9-8f07-d82ccea217be",
   "metadata": {
    "execution": {
     "iopub.execute_input": "2024-07-15T13:21:03.267638Z",
     "iopub.status.busy": "2024-07-15T13:21:03.267031Z",
     "iopub.status.idle": "2024-07-15T13:21:03.279515Z",
     "shell.execute_reply": "2024-07-15T13:21:03.277350Z",
     "shell.execute_reply.started": "2024-07-15T13:21:03.267592Z"
    }
   },
   "outputs": [
    {
     "name": "stdout",
     "output_type": "stream",
     "text": [
      "('Ġ', 't') 7\n"
     ]
    }
   ],
   "source": [
    "best_pair = \"\"\n",
    "max_freq = None\n",
    "\n",
    "for pair, freq in pair_freqs.items():\n",
    "    if max_freq is None or max_freq < freq:\n",
    "        best_pair = pair\n",
    "        max_freq = freq\n",
    "\n",
    "print(best_pair, max_freq)"
   ]
  },
  {
   "cell_type": "code",
   "execution_count": 39,
   "id": "beb9aa0e-21d5-4e08-b308-4dc906e31077",
   "metadata": {
    "execution": {
     "iopub.execute_input": "2024-07-15T13:41:07.964400Z",
     "iopub.status.busy": "2024-07-15T13:41:07.963764Z",
     "iopub.status.idle": "2024-07-15T13:41:07.973304Z",
     "shell.execute_reply": "2024-07-15T13:41:07.971180Z",
     "shell.execute_reply.started": "2024-07-15T13:41:07.964351Z"
    }
   },
   "outputs": [],
   "source": [
    "merges = {(\"Ġ\", \"t\"): \"Ġt\"}\n",
    "vocab.append(\"Ġt\")"
   ]
  },
  {
   "cell_type": "code",
   "execution_count": 40,
   "id": "4fe57cb2-4ca4-495c-b639-4ec0328a1d26",
   "metadata": {
    "execution": {
     "iopub.execute_input": "2024-07-15T13:41:11.277160Z",
     "iopub.status.busy": "2024-07-15T13:41:11.276562Z",
     "iopub.status.idle": "2024-07-15T13:41:11.290523Z",
     "shell.execute_reply": "2024-07-15T13:41:11.288346Z",
     "shell.execute_reply.started": "2024-07-15T13:41:11.277116Z"
    }
   },
   "outputs": [
    {
     "data": {
      "text/plain": [
       "['<|endoftext|>',\n",
       " ',',\n",
       " '.',\n",
       " 'C',\n",
       " 'F',\n",
       " 'H',\n",
       " 'T',\n",
       " 'a',\n",
       " 'b',\n",
       " 'c',\n",
       " 'd',\n",
       " 'e',\n",
       " 'f',\n",
       " 'g',\n",
       " 'h',\n",
       " 'i',\n",
       " 'k',\n",
       " 'l',\n",
       " 'm',\n",
       " 'n',\n",
       " 'o',\n",
       " 'p',\n",
       " 'r',\n",
       " 's',\n",
       " 't',\n",
       " 'u',\n",
       " 'v',\n",
       " 'w',\n",
       " 'y',\n",
       " 'z',\n",
       " 'Ġ',\n",
       " 'Ġt']"
      ]
     },
     "execution_count": 40,
     "metadata": {},
     "output_type": "execute_result"
    }
   ],
   "source": [
    "vocab"
   ]
  },
  {
   "cell_type": "code",
   "execution_count": 41,
   "id": "0ef945ea-39ae-4780-b32a-6da8d51f14d4",
   "metadata": {
    "execution": {
     "iopub.execute_input": "2024-07-15T13:41:50.120870Z",
     "iopub.status.busy": "2024-07-15T13:41:50.120257Z",
     "iopub.status.idle": "2024-07-15T13:41:50.132979Z",
     "shell.execute_reply": "2024-07-15T13:41:50.130829Z",
     "shell.execute_reply.started": "2024-07-15T13:41:50.120825Z"
    }
   },
   "outputs": [],
   "source": [
    "def merge_pair(a, b, splits):\n",
    "    for word in word_freqs:\n",
    "        split = splits[word]\n",
    "        if len(split) == 1:\n",
    "            continue\n",
    "\n",
    "        i = 0\n",
    "        while i < len(split) - 1:\n",
    "            if split[i] == a and split[i + 1] == b:\n",
    "                split = split[:i] + [a + b] + split[i + 2 :]\n",
    "            else:\n",
    "                i += 1\n",
    "        splits[word] = split\n",
    "    return splits"
   ]
  },
  {
   "cell_type": "code",
   "execution_count": 43,
   "id": "ed737375-7618-4c06-8272-822b9586a00a",
   "metadata": {
    "execution": {
     "iopub.execute_input": "2024-07-15T13:42:10.138409Z",
     "iopub.status.busy": "2024-07-15T13:42:10.137790Z",
     "iopub.status.idle": "2024-07-15T13:42:10.158712Z",
     "shell.execute_reply": "2024-07-15T13:42:10.156559Z",
     "shell.execute_reply.started": "2024-07-15T13:42:10.138363Z"
    }
   },
   "outputs": [
    {
     "data": {
      "text/plain": [
       "{'This': ['T', 'h', 'i', 's'],\n",
       " 'Ġis': ['Ġ', 'i', 's'],\n",
       " 'Ġthe': ['Ġt', 'h', 'e'],\n",
       " 'ĠHugging': ['Ġ', 'H', 'u', 'g', 'g', 'i', 'n', 'g'],\n",
       " 'ĠFace': ['Ġ', 'F', 'a', 'c', 'e'],\n",
       " 'ĠCourse': ['Ġ', 'C', 'o', 'u', 'r', 's', 'e'],\n",
       " '.': ['.'],\n",
       " 'Ġchapter': ['Ġ', 'c', 'h', 'a', 'p', 't', 'e', 'r'],\n",
       " 'Ġabout': ['Ġ', 'a', 'b', 'o', 'u', 't'],\n",
       " 'Ġtokenization': ['Ġt',\n",
       "  'o',\n",
       "  'k',\n",
       "  'e',\n",
       "  'n',\n",
       "  'i',\n",
       "  'z',\n",
       "  'a',\n",
       "  't',\n",
       "  'i',\n",
       "  'o',\n",
       "  'n'],\n",
       " 'Ġsection': ['Ġ', 's', 'e', 'c', 't', 'i', 'o', 'n'],\n",
       " 'Ġshows': ['Ġ', 's', 'h', 'o', 'w', 's'],\n",
       " 'Ġseveral': ['Ġ', 's', 'e', 'v', 'e', 'r', 'a', 'l'],\n",
       " 'Ġtokenizer': ['Ġt', 'o', 'k', 'e', 'n', 'i', 'z', 'e', 'r'],\n",
       " 'Ġalgorithms': ['Ġ', 'a', 'l', 'g', 'o', 'r', 'i', 't', 'h', 'm', 's'],\n",
       " 'Hopefully': ['H', 'o', 'p', 'e', 'f', 'u', 'l', 'l', 'y'],\n",
       " ',': [','],\n",
       " 'Ġyou': ['Ġ', 'y', 'o', 'u'],\n",
       " 'Ġwill': ['Ġ', 'w', 'i', 'l', 'l'],\n",
       " 'Ġbe': ['Ġ', 'b', 'e'],\n",
       " 'Ġable': ['Ġ', 'a', 'b', 'l', 'e'],\n",
       " 'Ġto': ['Ġt', 'o'],\n",
       " 'Ġunderstand': ['Ġ', 'u', 'n', 'd', 'e', 'r', 's', 't', 'a', 'n', 'd'],\n",
       " 'Ġhow': ['Ġ', 'h', 'o', 'w'],\n",
       " 'Ġthey': ['Ġt', 'h', 'e', 'y'],\n",
       " 'Ġare': ['Ġ', 'a', 'r', 'e'],\n",
       " 'Ġtrained': ['Ġt', 'r', 'a', 'i', 'n', 'e', 'd'],\n",
       " 'Ġand': ['Ġ', 'a', 'n', 'd'],\n",
       " 'Ġgenerate': ['Ġ', 'g', 'e', 'n', 'e', 'r', 'a', 't', 'e'],\n",
       " 'Ġtokens': ['Ġt', 'o', 'k', 'e', 'n', 's']}"
      ]
     },
     "execution_count": 43,
     "metadata": {},
     "output_type": "execute_result"
    }
   ],
   "source": [
    "splits = merge_pair(\"Ġ\", \"t\", splits)\n",
    "splits"
   ]
  },
  {
   "cell_type": "code",
   "execution_count": 44,
   "id": "026d18fd-aae5-46a0-9b82-d4768d043d42",
   "metadata": {
    "execution": {
     "iopub.execute_input": "2024-07-15T13:42:43.724929Z",
     "iopub.status.busy": "2024-07-15T13:42:43.724311Z",
     "iopub.status.idle": "2024-07-15T13:42:43.742216Z",
     "shell.execute_reply": "2024-07-15T13:42:43.740078Z",
     "shell.execute_reply.started": "2024-07-15T13:42:43.724884Z"
    }
   },
   "outputs": [],
   "source": [
    "vocab_size = 50\n",
    "\n",
    "while len(vocab) < vocab_size:\n",
    "    pair_freqs = compute_pair_freqs(splits)\n",
    "    best_pair = \"\"\n",
    "    max_freq = None\n",
    "    for pair, freq in pair_freqs.items():\n",
    "        if max_freq is None or max_freq < freq:\n",
    "            best_pair = pair\n",
    "            max_freq = freq\n",
    "    splits = merge_pair(*best_pair, splits)\n",
    "    merges[best_pair] = best_pair[0] + best_pair[1]\n",
    "    vocab.append(best_pair[0] + best_pair[1])"
   ]
  },
  {
   "cell_type": "code",
   "execution_count": 45,
   "id": "2dcb73be-043c-43a3-b32d-79793a4f58d9",
   "metadata": {
    "execution": {
     "iopub.execute_input": "2024-07-15T13:43:22.438515Z",
     "iopub.status.busy": "2024-07-15T13:43:22.437883Z",
     "iopub.status.idle": "2024-07-15T13:43:22.453267Z",
     "shell.execute_reply": "2024-07-15T13:43:22.451140Z",
     "shell.execute_reply.started": "2024-07-15T13:43:22.438468Z"
    }
   },
   "outputs": [
    {
     "data": {
      "text/plain": [
       "{('Ġ', 't'): 'Ġt',\n",
       " ('i', 's'): 'is',\n",
       " ('e', 'r'): 'er',\n",
       " ('Ġ', 'a'): 'Ġa',\n",
       " ('Ġt', 'o'): 'Ġto',\n",
       " ('e', 'n'): 'en',\n",
       " ('T', 'h'): 'Th',\n",
       " ('Th', 'is'): 'This',\n",
       " ('o', 'u'): 'ou',\n",
       " ('s', 'e'): 'se',\n",
       " ('Ġto', 'k'): 'Ġtok',\n",
       " ('Ġtok', 'en'): 'Ġtoken',\n",
       " ('n', 'd'): 'nd',\n",
       " ('Ġ', 'is'): 'Ġis',\n",
       " ('Ġt', 'h'): 'Ġth',\n",
       " ('Ġth', 'e'): 'Ġthe',\n",
       " ('i', 'n'): 'in',\n",
       " ('Ġa', 'b'): 'Ġab',\n",
       " ('Ġtoken', 'i'): 'Ġtokeni'}"
      ]
     },
     "execution_count": 45,
     "metadata": {},
     "output_type": "execute_result"
    }
   ],
   "source": [
    "merges"
   ]
  },
  {
   "cell_type": "code",
   "execution_count": 46,
   "id": "b911d250-3d6b-407a-836b-9853069328b9",
   "metadata": {
    "execution": {
     "iopub.execute_input": "2024-07-15T13:43:50.057274Z",
     "iopub.status.busy": "2024-07-15T13:43:50.056659Z",
     "iopub.status.idle": "2024-07-15T13:43:50.070075Z",
     "shell.execute_reply": "2024-07-15T13:43:50.067826Z",
     "shell.execute_reply.started": "2024-07-15T13:43:50.057229Z"
    }
   },
   "outputs": [
    {
     "data": {
      "text/plain": [
       "['<|endoftext|>',\n",
       " ',',\n",
       " '.',\n",
       " 'C',\n",
       " 'F',\n",
       " 'H',\n",
       " 'T',\n",
       " 'a',\n",
       " 'b',\n",
       " 'c',\n",
       " 'd',\n",
       " 'e',\n",
       " 'f',\n",
       " 'g',\n",
       " 'h',\n",
       " 'i',\n",
       " 'k',\n",
       " 'l',\n",
       " 'm',\n",
       " 'n',\n",
       " 'o',\n",
       " 'p',\n",
       " 'r',\n",
       " 's',\n",
       " 't',\n",
       " 'u',\n",
       " 'v',\n",
       " 'w',\n",
       " 'y',\n",
       " 'z',\n",
       " 'Ġ',\n",
       " 'Ġt',\n",
       " 'is',\n",
       " 'er',\n",
       " 'Ġa',\n",
       " 'Ġto',\n",
       " 'en',\n",
       " 'Th',\n",
       " 'This',\n",
       " 'ou',\n",
       " 'se',\n",
       " 'Ġtok',\n",
       " 'Ġtoken',\n",
       " 'nd',\n",
       " 'Ġis',\n",
       " 'Ġth',\n",
       " 'Ġthe',\n",
       " 'in',\n",
       " 'Ġab',\n",
       " 'Ġtokeni']"
      ]
     },
     "execution_count": 46,
     "metadata": {},
     "output_type": "execute_result"
    }
   ],
   "source": [
    "vocab"
   ]
  },
  {
   "cell_type": "markdown",
   "id": "dfaa2412-fe29-409c-ab97-5137ccf245a1",
   "metadata": {},
   "source": [
    "### tokenize a text"
   ]
  },
  {
   "cell_type": "code",
   "execution_count": 48,
   "id": "1e0632fa-3a1d-4ee7-a238-7b21ace9d26d",
   "metadata": {
    "execution": {
     "iopub.execute_input": "2024-07-15T13:44:34.583569Z",
     "iopub.status.busy": "2024-07-15T13:44:34.582933Z",
     "iopub.status.idle": "2024-07-15T13:44:34.598296Z",
     "shell.execute_reply": "2024-07-15T13:44:34.596124Z",
     "shell.execute_reply.started": "2024-07-15T13:44:34.583522Z"
    }
   },
   "outputs": [
    {
     "data": {
      "text/plain": [
       "{('Ġ', 't'): 'Ġt',\n",
       " ('i', 's'): 'is',\n",
       " ('e', 'r'): 'er',\n",
       " ('Ġ', 'a'): 'Ġa',\n",
       " ('Ġt', 'o'): 'Ġto',\n",
       " ('e', 'n'): 'en',\n",
       " ('T', 'h'): 'Th',\n",
       " ('Th', 'is'): 'This',\n",
       " ('o', 'u'): 'ou',\n",
       " ('s', 'e'): 'se',\n",
       " ('Ġto', 'k'): 'Ġtok',\n",
       " ('Ġtok', 'en'): 'Ġtoken',\n",
       " ('n', 'd'): 'nd',\n",
       " ('Ġ', 'is'): 'Ġis',\n",
       " ('Ġt', 'h'): 'Ġth',\n",
       " ('Ġth', 'e'): 'Ġthe',\n",
       " ('i', 'n'): 'in',\n",
       " ('Ġa', 'b'): 'Ġab',\n",
       " ('Ġtoken', 'i'): 'Ġtokeni'}"
      ]
     },
     "execution_count": 48,
     "metadata": {},
     "output_type": "execute_result"
    }
   ],
   "source": [
    "merges"
   ]
  },
  {
   "cell_type": "code",
   "execution_count": 47,
   "id": "773f1acd-fe3b-4460-ba5b-5d118a692082",
   "metadata": {
    "execution": {
     "iopub.execute_input": "2024-07-15T13:44:00.366511Z",
     "iopub.status.busy": "2024-07-15T13:44:00.365887Z",
     "iopub.status.idle": "2024-07-15T13:44:00.381024Z",
     "shell.execute_reply": "2024-07-15T13:44:00.379122Z",
     "shell.execute_reply.started": "2024-07-15T13:44:00.366466Z"
    }
   },
   "outputs": [],
   "source": [
    "def tokenize(text):\n",
    "    pre_tokenize_result = tokenizer._tokenizer.pre_tokenizer.pre_tokenize_str(text)\n",
    "    pre_tokenized_text = [word for word, offset in pre_tokenize_result]\n",
    "    splits = [[l for l in word] for word in pre_tokenized_text]\n",
    "    for pair, merge in merges.items():\n",
    "        for idx, split in enumerate(splits):\n",
    "            i = 0\n",
    "            while i < len(split) - 1:\n",
    "                if split[i] == pair[0] and split[i + 1] == pair[1]:\n",
    "                    split = split[:i] + [merge] + split[i + 2 :]\n",
    "                else:\n",
    "                    i += 1\n",
    "            splits[idx] = split\n",
    "\n",
    "    return sum(splits, [])"
   ]
  },
  {
   "cell_type": "code",
   "execution_count": null,
   "id": "62563375-8834-4195-929a-b33f9efac1a9",
   "metadata": {},
   "outputs": [],
   "source": []
  },
  {
   "cell_type": "markdown",
   "id": "ddca9c4e-46c6-4848-b59c-4da83706de01",
   "metadata": {},
   "source": [
    "## train a tokenizer"
   ]
  },
  {
   "cell_type": "markdown",
   "id": "b1828dab-1320-4bb9-8227-6255f01d9525",
   "metadata": {},
   "source": [
    "- https://colab.research.google.com/github/huggingface/blog/blob/main/notebooks/01_how_to_train.ipynb#scrollTo=hO5M3vrAhcuj"
   ]
  },
  {
   "cell_type": "code",
   "execution_count": 5,
   "id": "8f3e3505-7b94-4df9-92a8-768e120e540d",
   "metadata": {
    "execution": {
     "iopub.execute_input": "2024-07-15T12:57:52.373124Z",
     "iopub.status.busy": "2024-07-15T12:57:52.372520Z",
     "iopub.status.idle": "2024-07-15T12:57:53.258851Z",
     "shell.execute_reply": "2024-07-15T12:57:53.256539Z",
     "shell.execute_reply.started": "2024-07-15T12:57:52.373079Z"
    }
   },
   "outputs": [
    {
     "name": "stdout",
     "output_type": "stream",
     "text": [
      "sentence-transformers                   2.2.2\n",
      "tokenizers                              0.19.1\n",
      "transformers                            4.42.3\n"
     ]
    }
   ],
   "source": [
    "!pip list | grep -E 'transformers|tokenizers'"
   ]
  },
  {
   "cell_type": "code",
   "execution_count": 7,
   "id": "a3c51899-0538-47fd-9e57-dde84bde0bdb",
   "metadata": {
    "execution": {
     "iopub.execute_input": "2024-07-15T12:58:25.989168Z",
     "iopub.status.busy": "2024-07-15T12:58:25.988561Z",
     "iopub.status.idle": "2024-07-15T12:58:25.997479Z",
     "shell.execute_reply": "2024-07-15T12:58:25.995346Z",
     "shell.execute_reply.started": "2024-07-15T12:58:25.989123Z"
    }
   },
   "outputs": [],
   "source": [
    "from tokenizers import ByteLevelBPETokenizer\n",
    "from pathlib import Path"
   ]
  },
  {
   "cell_type": "code",
   "execution_count": 11,
   "id": "49dd0d8c-7478-4bfd-a9db-ebf176a3ff2a",
   "metadata": {
    "execution": {
     "iopub.execute_input": "2024-07-15T12:59:17.440471Z",
     "iopub.status.busy": "2024-07-15T12:59:17.439903Z",
     "iopub.status.idle": "2024-07-15T12:59:17.449406Z",
     "shell.execute_reply": "2024-07-15T12:59:17.447398Z",
     "shell.execute_reply.started": "2024-07-15T12:59:17.440427Z"
    }
   },
   "outputs": [],
   "source": [
    "tokenizer = ByteLevelBPETokenizer()\n",
    "paths = ['./oscar.eo.txt']"
   ]
  },
  {
   "cell_type": "code",
   "execution_count": 12,
   "id": "b0286278-162f-49f5-9c26-0b2a665f0762",
   "metadata": {
    "execution": {
     "iopub.execute_input": "2024-07-15T12:59:33.842170Z",
     "iopub.status.busy": "2024-07-15T12:59:33.841528Z",
     "iopub.status.idle": "2024-07-15T13:00:05.320366Z",
     "shell.execute_reply": "2024-07-15T13:00:05.319023Z",
     "shell.execute_reply.started": "2024-07-15T12:59:33.842125Z"
    }
   },
   "outputs": [
    {
     "name": "stdout",
     "output_type": "stream",
     "text": [
      "\n",
      "\n",
      "\n"
     ]
    }
   ],
   "source": [
    "# cpu \n",
    "tokenizer.train(files=paths, vocab_size=52_000, min_frequency=2, special_tokens=[\n",
    "    \"<s>\",\n",
    "    \"<pad>\",\n",
    "    \"</s>\",\n",
    "    \"<unk>\",\n",
    "    \"<mask>\",\n",
    "])"
   ]
  },
  {
   "cell_type": "code",
   "execution_count": 14,
   "id": "9fd9b92a-8ac4-414b-b2fd-cb441083a843",
   "metadata": {
    "execution": {
     "iopub.execute_input": "2024-07-15T13:00:29.176492Z",
     "iopub.status.busy": "2024-07-15T13:00:29.176258Z",
     "iopub.status.idle": "2024-07-15T13:00:29.203129Z",
     "shell.execute_reply": "2024-07-15T13:00:29.202358Z",
     "shell.execute_reply.started": "2024-07-15T13:00:29.176477Z"
    }
   },
   "outputs": [
    {
     "data": {
      "text/plain": [
       "['EsperBERTo/vocab.json', 'EsperBERTo/merges.txt']"
      ]
     },
     "execution_count": 14,
     "metadata": {},
     "output_type": "execute_result"
    }
   ],
   "source": [
    "tokenizer.save_model(\"EsperBERTo\")\n",
    "\n",
    "# tokenizer = ByteLevelBPETokenizer(\n",
    "#     \"./EsperBERTo/vocab.json\",\n",
    "#     \"./EsperBERTo/merges.txt\",\n",
    "# )"
   ]
  },
  {
   "cell_type": "code",
   "execution_count": 18,
   "id": "a21a394a-ba67-48c6-bd4b-15583ca0ef2f",
   "metadata": {
    "execution": {
     "iopub.execute_input": "2024-07-15T13:02:20.510313Z",
     "iopub.status.busy": "2024-07-15T13:02:20.509860Z",
     "iopub.status.idle": "2024-07-15T13:02:20.521419Z",
     "shell.execute_reply": "2024-07-15T13:02:20.519368Z",
     "shell.execute_reply.started": "2024-07-15T13:02:20.510276Z"
    }
   },
   "outputs": [
    {
     "data": {
      "text/plain": [
       "2"
      ]
     },
     "execution_count": 18,
     "metadata": {},
     "output_type": "execute_result"
    }
   ],
   "source": [
    "tokenizer.token_to_id('</s>')"
   ]
  },
  {
   "cell_type": "code",
   "execution_count": 19,
   "id": "1f0eda07-7aa1-410a-9a76-13116cab67f5",
   "metadata": {
    "execution": {
     "iopub.execute_input": "2024-07-15T13:03:27.425227Z",
     "iopub.status.busy": "2024-07-15T13:03:27.424619Z",
     "iopub.status.idle": "2024-07-15T13:03:27.437592Z",
     "shell.execute_reply": "2024-07-15T13:03:27.435514Z",
     "shell.execute_reply.started": "2024-07-15T13:03:27.425181Z"
    }
   },
   "outputs": [
    {
     "data": {
      "text/plain": [
       "['</s>']"
      ]
     },
     "execution_count": 19,
     "metadata": {},
     "output_type": "execute_result"
    }
   ],
   "source": [
    "tokenizer.encode('</s>').tokens"
   ]
  },
  {
   "cell_type": "code",
   "execution_count": null,
   "id": "51758b89-e2ef-46fd-bd50-d6be029934ce",
   "metadata": {},
   "outputs": [],
   "source": []
  }
 ],
 "metadata": {
  "kernelspec": {
   "display_name": "Python 3 (ipykernel)",
   "language": "python",
   "name": "python3"
  },
  "language_info": {
   "codemirror_mode": {
    "name": "ipython",
    "version": 3
   },
   "file_extension": ".py",
   "mimetype": "text/x-python",
   "name": "python",
   "nbconvert_exporter": "python",
   "pygments_lexer": "ipython3",
   "version": "3.10.13"
  }
 },
 "nbformat": 4,
 "nbformat_minor": 5
}
