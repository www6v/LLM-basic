{
 "cells": [
  {
   "cell_type": "markdown",
   "id": "e35bee49-9635-4cf4-87a1-7c2d899b12e8",
   "metadata": {},
   "source": [
    "- context window\n",
    "    - 8k\n",
    "    - ...\n",
    "    - 256k\n",
    "    - 512k\n",
    "    - 1M\n",
    "    - 2M\n",
    "- methods\n",
    "    - RoPE\n",
    "    - Position Interpolation：2k -> 32k\n",
    "        - https://arxiv.org/abs/2306.15595\n",
    "    - LongRoPE\n",
    "    - Theta Scaling\n",
    "    - TS w/ Ring Attn"
   ]
  },
  {
   "cell_type": "markdown",
   "id": "b037862d-f1c9-45a5-a040-57c5a063a21c",
   "metadata": {},
   "source": [
    "## RoPE theta"
   ]
  },
  {
   "cell_type": "markdown",
   "id": "f5e4e74a-82c1-48dc-9c25-3cb1ae1cd59c",
   "metadata": {},
   "source": [
    "$$\n",
    "\\Theta = \\{\\theta_i = 10000^{-2(i-1)/d}, i \\in [1, 2, \\ldots, d/2]\\}\n",
    "$$"
   ]
  },
  {
   "cell_type": "code",
   "execution_count": null,
   "id": "9c052a1b-2dad-465e-8e3f-b2988b33a27d",
   "metadata": {},
   "outputs": [],
   "source": []
  }
 ],
 "metadata": {
  "kernelspec": {
   "display_name": "Python 3 (ipykernel)",
   "language": "python",
   "name": "python3"
  },
  "language_info": {
   "codemirror_mode": {
    "name": "ipython",
    "version": 3
   },
   "file_extension": ".py",
   "mimetype": "text/x-python",
   "name": "python",
   "nbconvert_exporter": "python",
   "pygments_lexer": "ipython3",
   "version": "3.10.13"
  }
 },
 "nbformat": 4,
 "nbformat_minor": 5
}
