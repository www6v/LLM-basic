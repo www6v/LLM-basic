{
 "cells": [
  {
   "cell_type": "code",
   "execution_count": null,
   "id": "480dd70d",
   "metadata": {
    "ExecuteTime": {
     "end_time": "2023-07-30T08:36:00.400500Z",
     "start_time": "2023-07-30T08:36:00.400491Z"
    }
   },
   "outputs": [],
   "source": [
    "#!pip install -q git+ssh://git@github.com/huggingface/transformers.git\n",
    "#!pip install -U git+ssh://git@github.com/huggingface/accelerate.git\n",
    "#!pip install --upgrade bitsandbytes\n",
    "#!pip install trl"
   ]
  },
  {
   "cell_type": "code",
   "execution_count": 2,
   "id": "5a77e99b",
   "metadata": {
    "ExecuteTime": {
     "end_time": "2023-07-30T10:20:36.192158Z",
     "start_time": "2023-07-30T10:20:36.188495Z"
    }
   },
   "outputs": [],
   "source": [
    "import torch\n",
    "from datasets import load_dataset\n",
    "from peft import LoraConfig, get_peft_model, prepare_model_for_int8_training\n",
    "from transformers import AutoModelForCausalLM, AutoTokenizer, TrainingArguments\n",
    "from trl import SFTTrainer"
   ]
  },
  {
   "cell_type": "markdown",
   "id": "b40aa3cd",
   "metadata": {},
   "source": [
    "## dataset"
   ]
  },
  {
   "cell_type": "code",
   "execution_count": 3,
   "id": "08d0eebc",
   "metadata": {
    "ExecuteTime": {
     "end_time": "2023-07-30T10:20:37.216399Z",
     "start_time": "2023-07-30T10:20:37.211441Z"
    }
   },
   "outputs": [],
   "source": [
    "import os\n",
    "os.environ['HTTP_PROXY'] = 'http://127.0.0.1:7890'\n",
    "os.environ['HTTPS_PROXY'] = 'http://127.0.0.1:7890'"
   ]
  },
  {
   "cell_type": "code",
   "execution_count": 4,
   "id": "425a1c1c",
   "metadata": {
    "ExecuteTime": {
     "end_time": "2023-07-30T10:20:43.048402Z",
     "start_time": "2023-07-30T10:20:38.237153Z"
    }
   },
   "outputs": [
    {
     "name": "stderr",
     "output_type": "stream",
     "text": [
      "Found cached dataset parquet (/media/whaow/.cache/huggingface/datasets/tatsu-lab___parquet/tatsu-lab--alpaca-2b32f0433506ef5f/0.0.0/2a3b91fbd88a2c90d1dbbb32b460cf621d31bd5b05b934492fdef7d8d6f236ec)\n"
     ]
    }
   ],
   "source": [
    "train_dataset = load_dataset(\"tatsu-lab/alpaca\", split=\"train\")"
   ]
  },
  {
   "cell_type": "code",
   "execution_count": 8,
   "id": "31c92948",
   "metadata": {
    "ExecuteTime": {
     "end_time": "2023-07-30T10:26:37.979973Z",
     "start_time": "2023-07-30T10:26:37.971141Z"
    }
   },
   "outputs": [
    {
     "data": {
      "text/plain": [
       "Dataset({\n",
       "    features: ['instruction', 'input', 'output', 'text'],\n",
       "    num_rows: 52002\n",
       "})"
      ]
     },
     "execution_count": 8,
     "metadata": {},
     "output_type": "execute_result"
    }
   ],
   "source": [
    "train_dataset"
   ]
  },
  {
   "cell_type": "code",
   "execution_count": 9,
   "id": "5c8e5e02",
   "metadata": {
    "ExecuteTime": {
     "end_time": "2023-07-30T10:26:51.930546Z",
     "start_time": "2023-07-30T10:26:51.920102Z"
    }
   },
   "outputs": [
    {
     "data": {
      "text/plain": [
       "{'instruction': 'Give three tips for staying healthy.',\n",
       " 'input': '',\n",
       " 'output': '1.Eat a balanced diet and make sure to include plenty of fruits and vegetables. \\n2. Exercise regularly to keep your body active and strong. \\n3. Get enough sleep and maintain a consistent sleep schedule.',\n",
       " 'text': 'Below is an instruction that describes a task. Write a response that appropriately completes the request.\\n\\n### Instruction:\\nGive three tips for staying healthy.\\n\\n### Response:\\n1.Eat a balanced diet and make sure to include plenty of fruits and vegetables. \\n2. Exercise regularly to keep your body active and strong. \\n3. Get enough sleep and maintain a consistent sleep schedule.'}"
      ]
     },
     "execution_count": 9,
     "metadata": {},
     "output_type": "execute_result"
    }
   ],
   "source": [
    "# without input\n",
    "train_dataset[0]"
   ]
  },
  {
   "cell_type": "code",
   "execution_count": 10,
   "id": "d49a0d90",
   "metadata": {
    "ExecuteTime": {
     "end_time": "2023-07-30T10:27:16.117977Z",
     "start_time": "2023-07-30T10:27:16.109638Z"
    }
   },
   "outputs": [
    {
     "name": "stdout",
     "output_type": "stream",
     "text": [
      "Below is an instruction that describes a task. Write a response that appropriately completes the request.\n",
      "\n",
      "### Instruction:\n",
      "Give three tips for staying healthy.\n",
      "\n",
      "### Response:\n",
      "1.Eat a balanced diet and make sure to include plenty of fruits and vegetables. \n",
      "2. Exercise regularly to keep your body active and strong. \n",
      "3. Get enough sleep and maintain a consistent sleep schedule.\n"
     ]
    }
   ],
   "source": [
    "print(train_dataset[0]['text'])"
   ]
  },
  {
   "cell_type": "code",
   "execution_count": 11,
   "id": "191c048d",
   "metadata": {
    "ExecuteTime": {
     "end_time": "2023-07-30T10:27:50.929859Z",
     "start_time": "2023-07-30T10:27:50.918451Z"
    }
   },
   "outputs": [
    {
     "data": {
      "text/plain": [
       "{'instruction': 'Identify the odd one out.',\n",
       " 'input': 'Twitter, Instagram, Telegram',\n",
       " 'output': 'Telegram',\n",
       " 'text': 'Below is an instruction that describes a task, paired with an input that provides further context. Write a response that appropriately completes the request.\\n\\n### Instruction:\\nIdentify the odd one out.\\n\\n### Input:\\nTwitter, Instagram, Telegram\\n\\n### Response:\\nTelegram'}"
      ]
     },
     "execution_count": 11,
     "metadata": {},
     "output_type": "execute_result"
    }
   ],
   "source": [
    "# with input\n",
    "train_dataset[5]"
   ]
  },
  {
   "cell_type": "code",
   "execution_count": 12,
   "id": "b94bf40e",
   "metadata": {
    "ExecuteTime": {
     "end_time": "2023-07-30T10:28:00.450460Z",
     "start_time": "2023-07-30T10:28:00.441577Z"
    }
   },
   "outputs": [
    {
     "name": "stdout",
     "output_type": "stream",
     "text": [
      "Below is an instruction that describes a task, paired with an input that provides further context. Write a response that appropriately completes the request.\n",
      "\n",
      "### Instruction:\n",
      "Identify the odd one out.\n",
      "\n",
      "### Input:\n",
      "Twitter, Instagram, Telegram\n",
      "\n",
      "### Response:\n",
      "Telegram\n"
     ]
    }
   ],
   "source": [
    "print(train_dataset[5]['text'])"
   ]
  },
  {
   "cell_type": "markdown",
   "id": "8a1ea694",
   "metadata": {},
   "source": [
    "## tokenizer & model"
   ]
  },
  {
   "cell_type": "code",
   "execution_count": 5,
   "id": "8ed080f6",
   "metadata": {
    "ExecuteTime": {
     "end_time": "2023-07-30T10:20:46.567455Z",
     "start_time": "2023-07-30T10:20:45.437213Z"
    }
   },
   "outputs": [
    {
     "name": "stderr",
     "output_type": "stream",
     "text": [
      "Using unk_token, but it is not set yet.\n",
      "Using unk_token, but it is not set yet.\n"
     ]
    }
   ],
   "source": [
    "model_ckpt = \"Salesforce/xgen-7b-8k-base\"\n",
    "tokenizer = AutoTokenizer.from_pretrained(model_ckpt, trust_remote_code=True)\n",
    "tokenizer.pad_token = tokenizer.eos_token"
   ]
  },
  {
   "cell_type": "code",
   "execution_count": 6,
   "id": "382e04a7",
   "metadata": {
    "ExecuteTime": {
     "end_time": "2023-07-30T10:20:49.795036Z",
     "start_time": "2023-07-30T10:20:49.784937Z"
    }
   },
   "outputs": [
    {
     "data": {
      "text/plain": [
       "XgenTokenizer(name_or_path='Salesforce/xgen-7b-8k-base', vocab_size=50313, model_max_length=8192, is_fast=False, padding_side='right', truncation_side='right', special_tokens={'eos_token': AddedToken(\"<|endoftext|>\", rstrip=False, lstrip=False, single_word=False, normalized=True), 'pad_token': '<|endoftext|>'}, clean_up_tokenization_spaces=True)"
      ]
     },
     "execution_count": 6,
     "metadata": {},
     "output_type": "execute_result"
    }
   ],
   "source": [
    "tokenizer"
   ]
  },
  {
   "cell_type": "code",
   "execution_count": 7,
   "id": "acfbb83b",
   "metadata": {
    "ExecuteTime": {
     "end_time": "2023-07-30T10:21:08.893713Z",
     "start_time": "2023-07-30T10:20:50.944281Z"
    }
   },
   "outputs": [
    {
     "data": {
      "application/vnd.jupyter.widget-view+json": {
       "model_id": "c12d58061fd5498a8085ade23d73b61b",
       "version_major": 2,
       "version_minor": 0
      },
      "text/plain": [
       "Loading checkpoint shards:   0%|          | 0/3 [00:00<?, ?it/s]"
      ]
     },
     "metadata": {},
     "output_type": "display_data"
    }
   ],
   "source": [
    "model = AutoModelForCausalLM.from_pretrained(\n",
    "        model_ckpt, load_in_4bit=True, torch_dtype=torch.float16, device_map=\"auto\"\n",
    "    )"
   ]
  },
  {
   "cell_type": "code",
   "execution_count": 18,
   "id": "fa94aef8",
   "metadata": {
    "ExecuteTime": {
     "end_time": "2023-07-30T10:32:07.704058Z",
     "start_time": "2023-07-30T10:32:07.681282Z"
    },
    "scrolled": true
   },
   "outputs": [
    {
     "name": "stdout",
     "output_type": "stream",
     "text": [
      "0 model.embed_tokens.weight torch.float16 cuda:0\n",
      "1 model.layers.0.self_attn.q_proj.weight torch.uint8 cuda:0\n",
      "2 model.layers.0.self_attn.k_proj.weight torch.uint8 cuda:0\n",
      "3 model.layers.0.self_attn.v_proj.weight torch.uint8 cuda:0\n",
      "4 model.layers.0.self_attn.o_proj.weight torch.uint8 cuda:0\n",
      "5 model.layers.0.mlp.gate_proj.weight torch.uint8 cuda:0\n",
      "6 model.layers.0.mlp.up_proj.weight torch.uint8 cuda:0\n",
      "7 model.layers.0.mlp.down_proj.weight torch.uint8 cuda:0\n",
      "8 model.layers.0.input_layernorm.weight torch.float16 cuda:0\n",
      "9 model.layers.0.post_attention_layernorm.weight torch.float16 cuda:0\n",
      "10 model.layers.1.self_attn.q_proj.weight torch.uint8 cuda:0\n",
      "11 model.layers.1.self_attn.k_proj.weight torch.uint8 cuda:0\n",
      "12 model.layers.1.self_attn.v_proj.weight torch.uint8 cuda:0\n",
      "13 model.layers.1.self_attn.o_proj.weight torch.uint8 cuda:0\n",
      "14 model.layers.1.mlp.gate_proj.weight torch.uint8 cuda:0\n",
      "15 model.layers.1.mlp.up_proj.weight torch.uint8 cuda:0\n",
      "16 model.layers.1.mlp.down_proj.weight torch.uint8 cuda:0\n",
      "17 model.layers.1.input_layernorm.weight torch.float16 cuda:0\n",
      "18 model.layers.1.post_attention_layernorm.weight torch.float16 cuda:0\n",
      "19 model.layers.2.self_attn.q_proj.weight torch.uint8 cuda:0\n",
      "20 model.layers.2.self_attn.k_proj.weight torch.uint8 cuda:0\n",
      "21 model.layers.2.self_attn.v_proj.weight torch.uint8 cuda:0\n",
      "22 model.layers.2.self_attn.o_proj.weight torch.uint8 cuda:0\n",
      "23 model.layers.2.mlp.gate_proj.weight torch.uint8 cuda:0\n",
      "24 model.layers.2.mlp.up_proj.weight torch.uint8 cuda:0\n",
      "25 model.layers.2.mlp.down_proj.weight torch.uint8 cuda:0\n",
      "26 model.layers.2.input_layernorm.weight torch.float16 cuda:0\n",
      "27 model.layers.2.post_attention_layernorm.weight torch.float16 cuda:0\n",
      "28 model.layers.3.self_attn.q_proj.weight torch.uint8 cuda:0\n",
      "29 model.layers.3.self_attn.k_proj.weight torch.uint8 cuda:0\n",
      "30 model.layers.3.self_attn.v_proj.weight torch.uint8 cuda:0\n",
      "31 model.layers.3.self_attn.o_proj.weight torch.uint8 cuda:0\n",
      "32 model.layers.3.mlp.gate_proj.weight torch.uint8 cuda:0\n",
      "33 model.layers.3.mlp.up_proj.weight torch.uint8 cuda:0\n",
      "34 model.layers.3.mlp.down_proj.weight torch.uint8 cuda:0\n",
      "35 model.layers.3.input_layernorm.weight torch.float16 cuda:0\n",
      "36 model.layers.3.post_attention_layernorm.weight torch.float16 cuda:0\n",
      "37 model.layers.4.self_attn.q_proj.weight torch.uint8 cuda:0\n",
      "38 model.layers.4.self_attn.k_proj.weight torch.uint8 cuda:0\n",
      "39 model.layers.4.self_attn.v_proj.weight torch.uint8 cuda:0\n",
      "40 model.layers.4.self_attn.o_proj.weight torch.uint8 cuda:0\n",
      "41 model.layers.4.mlp.gate_proj.weight torch.uint8 cuda:0\n",
      "42 model.layers.4.mlp.up_proj.weight torch.uint8 cuda:0\n",
      "43 model.layers.4.mlp.down_proj.weight torch.uint8 cuda:0\n",
      "44 model.layers.4.input_layernorm.weight torch.float16 cuda:0\n",
      "45 model.layers.4.post_attention_layernorm.weight torch.float16 cuda:0\n",
      "46 model.layers.5.self_attn.q_proj.weight torch.uint8 cuda:0\n",
      "47 model.layers.5.self_attn.k_proj.weight torch.uint8 cuda:0\n",
      "48 model.layers.5.self_attn.v_proj.weight torch.uint8 cuda:0\n",
      "49 model.layers.5.self_attn.o_proj.weight torch.uint8 cuda:0\n",
      "50 model.layers.5.mlp.gate_proj.weight torch.uint8 cuda:0\n",
      "51 model.layers.5.mlp.up_proj.weight torch.uint8 cuda:0\n",
      "52 model.layers.5.mlp.down_proj.weight torch.uint8 cuda:0\n",
      "53 model.layers.5.input_layernorm.weight torch.float16 cuda:0\n",
      "54 model.layers.5.post_attention_layernorm.weight torch.float16 cuda:0\n",
      "55 model.layers.6.self_attn.q_proj.weight torch.uint8 cuda:0\n",
      "56 model.layers.6.self_attn.k_proj.weight torch.uint8 cuda:0\n",
      "57 model.layers.6.self_attn.v_proj.weight torch.uint8 cuda:0\n",
      "58 model.layers.6.self_attn.o_proj.weight torch.uint8 cuda:0\n",
      "59 model.layers.6.mlp.gate_proj.weight torch.uint8 cuda:0\n",
      "60 model.layers.6.mlp.up_proj.weight torch.uint8 cuda:0\n",
      "61 model.layers.6.mlp.down_proj.weight torch.uint8 cuda:0\n",
      "62 model.layers.6.input_layernorm.weight torch.float16 cuda:0\n",
      "63 model.layers.6.post_attention_layernorm.weight torch.float16 cuda:0\n",
      "64 model.layers.7.self_attn.q_proj.weight torch.uint8 cuda:0\n",
      "65 model.layers.7.self_attn.k_proj.weight torch.uint8 cuda:0\n",
      "66 model.layers.7.self_attn.v_proj.weight torch.uint8 cuda:0\n",
      "67 model.layers.7.self_attn.o_proj.weight torch.uint8 cuda:0\n",
      "68 model.layers.7.mlp.gate_proj.weight torch.uint8 cuda:0\n",
      "69 model.layers.7.mlp.up_proj.weight torch.uint8 cuda:0\n",
      "70 model.layers.7.mlp.down_proj.weight torch.uint8 cuda:0\n",
      "71 model.layers.7.input_layernorm.weight torch.float16 cuda:0\n",
      "72 model.layers.7.post_attention_layernorm.weight torch.float16 cuda:0\n",
      "73 model.layers.8.self_attn.q_proj.weight torch.uint8 cuda:0\n",
      "74 model.layers.8.self_attn.k_proj.weight torch.uint8 cuda:0\n",
      "75 model.layers.8.self_attn.v_proj.weight torch.uint8 cuda:0\n",
      "76 model.layers.8.self_attn.o_proj.weight torch.uint8 cuda:0\n",
      "77 model.layers.8.mlp.gate_proj.weight torch.uint8 cuda:0\n",
      "78 model.layers.8.mlp.up_proj.weight torch.uint8 cuda:0\n",
      "79 model.layers.8.mlp.down_proj.weight torch.uint8 cuda:0\n",
      "80 model.layers.8.input_layernorm.weight torch.float16 cuda:0\n",
      "81 model.layers.8.post_attention_layernorm.weight torch.float16 cuda:0\n",
      "82 model.layers.9.self_attn.q_proj.weight torch.uint8 cuda:0\n",
      "83 model.layers.9.self_attn.k_proj.weight torch.uint8 cuda:0\n",
      "84 model.layers.9.self_attn.v_proj.weight torch.uint8 cuda:0\n",
      "85 model.layers.9.self_attn.o_proj.weight torch.uint8 cuda:0\n",
      "86 model.layers.9.mlp.gate_proj.weight torch.uint8 cuda:0\n",
      "87 model.layers.9.mlp.up_proj.weight torch.uint8 cuda:0\n",
      "88 model.layers.9.mlp.down_proj.weight torch.uint8 cuda:0\n",
      "89 model.layers.9.input_layernorm.weight torch.float16 cuda:0\n",
      "90 model.layers.9.post_attention_layernorm.weight torch.float16 cuda:0\n",
      "91 model.layers.10.self_attn.q_proj.weight torch.uint8 cuda:0\n",
      "92 model.layers.10.self_attn.k_proj.weight torch.uint8 cuda:0\n",
      "93 model.layers.10.self_attn.v_proj.weight torch.uint8 cuda:0\n",
      "94 model.layers.10.self_attn.o_proj.weight torch.uint8 cuda:0\n",
      "95 model.layers.10.mlp.gate_proj.weight torch.uint8 cuda:0\n",
      "96 model.layers.10.mlp.up_proj.weight torch.uint8 cuda:0\n",
      "97 model.layers.10.mlp.down_proj.weight torch.uint8 cuda:0\n",
      "98 model.layers.10.input_layernorm.weight torch.float16 cuda:0\n",
      "99 model.layers.10.post_attention_layernorm.weight torch.float16 cuda:0\n",
      "100 model.layers.11.self_attn.q_proj.weight torch.uint8 cuda:0\n",
      "101 model.layers.11.self_attn.k_proj.weight torch.uint8 cuda:0\n",
      "102 model.layers.11.self_attn.v_proj.weight torch.uint8 cuda:0\n",
      "103 model.layers.11.self_attn.o_proj.weight torch.uint8 cuda:0\n",
      "104 model.layers.11.mlp.gate_proj.weight torch.uint8 cuda:0\n",
      "105 model.layers.11.mlp.up_proj.weight torch.uint8 cuda:0\n",
      "106 model.layers.11.mlp.down_proj.weight torch.uint8 cuda:0\n",
      "107 model.layers.11.input_layernorm.weight torch.float16 cuda:0\n",
      "108 model.layers.11.post_attention_layernorm.weight torch.float16 cuda:0\n",
      "109 model.layers.12.self_attn.q_proj.weight torch.uint8 cuda:0\n",
      "110 model.layers.12.self_attn.k_proj.weight torch.uint8 cuda:0\n",
      "111 model.layers.12.self_attn.v_proj.weight torch.uint8 cuda:0\n",
      "112 model.layers.12.self_attn.o_proj.weight torch.uint8 cuda:0\n",
      "113 model.layers.12.mlp.gate_proj.weight torch.uint8 cuda:0\n",
      "114 model.layers.12.mlp.up_proj.weight torch.uint8 cuda:0\n",
      "115 model.layers.12.mlp.down_proj.weight torch.uint8 cuda:0\n",
      "116 model.layers.12.input_layernorm.weight torch.float16 cuda:0\n",
      "117 model.layers.12.post_attention_layernorm.weight torch.float16 cuda:0\n",
      "118 model.layers.13.self_attn.q_proj.weight torch.uint8 cuda:0\n",
      "119 model.layers.13.self_attn.k_proj.weight torch.uint8 cuda:0\n",
      "120 model.layers.13.self_attn.v_proj.weight torch.uint8 cuda:0\n",
      "121 model.layers.13.self_attn.o_proj.weight torch.uint8 cuda:0\n",
      "122 model.layers.13.mlp.gate_proj.weight torch.uint8 cuda:0\n",
      "123 model.layers.13.mlp.up_proj.weight torch.uint8 cuda:0\n",
      "124 model.layers.13.mlp.down_proj.weight torch.uint8 cuda:0\n",
      "125 model.layers.13.input_layernorm.weight torch.float16 cuda:0\n",
      "126 model.layers.13.post_attention_layernorm.weight torch.float16 cuda:0\n",
      "127 model.layers.14.self_attn.q_proj.weight torch.uint8 cuda:1\n",
      "128 model.layers.14.self_attn.k_proj.weight torch.uint8 cuda:1\n",
      "129 model.layers.14.self_attn.v_proj.weight torch.uint8 cuda:1\n",
      "130 model.layers.14.self_attn.o_proj.weight torch.uint8 cuda:1\n",
      "131 model.layers.14.mlp.gate_proj.weight torch.uint8 cuda:1\n",
      "132 model.layers.14.mlp.up_proj.weight torch.uint8 cuda:1\n",
      "133 model.layers.14.mlp.down_proj.weight torch.uint8 cuda:1\n",
      "134 model.layers.14.input_layernorm.weight torch.float16 cuda:1\n",
      "135 model.layers.14.post_attention_layernorm.weight torch.float16 cuda:1\n",
      "136 model.layers.15.self_attn.q_proj.weight torch.uint8 cuda:1\n",
      "137 model.layers.15.self_attn.k_proj.weight torch.uint8 cuda:1\n",
      "138 model.layers.15.self_attn.v_proj.weight torch.uint8 cuda:1\n",
      "139 model.layers.15.self_attn.o_proj.weight torch.uint8 cuda:1\n",
      "140 model.layers.15.mlp.gate_proj.weight torch.uint8 cuda:1\n",
      "141 model.layers.15.mlp.up_proj.weight torch.uint8 cuda:1\n",
      "142 model.layers.15.mlp.down_proj.weight torch.uint8 cuda:1\n",
      "143 model.layers.15.input_layernorm.weight torch.float16 cuda:1\n",
      "144 model.layers.15.post_attention_layernorm.weight torch.float16 cuda:1\n",
      "145 model.layers.16.self_attn.q_proj.weight torch.uint8 cuda:1\n",
      "146 model.layers.16.self_attn.k_proj.weight torch.uint8 cuda:1\n",
      "147 model.layers.16.self_attn.v_proj.weight torch.uint8 cuda:1\n",
      "148 model.layers.16.self_attn.o_proj.weight torch.uint8 cuda:1\n",
      "149 model.layers.16.mlp.gate_proj.weight torch.uint8 cuda:1\n",
      "150 model.layers.16.mlp.up_proj.weight torch.uint8 cuda:1\n",
      "151 model.layers.16.mlp.down_proj.weight torch.uint8 cuda:1\n",
      "152 model.layers.16.input_layernorm.weight torch.float16 cuda:1\n",
      "153 model.layers.16.post_attention_layernorm.weight torch.float16 cuda:1\n",
      "154 model.layers.17.self_attn.q_proj.weight torch.uint8 cuda:1\n",
      "155 model.layers.17.self_attn.k_proj.weight torch.uint8 cuda:1\n",
      "156 model.layers.17.self_attn.v_proj.weight torch.uint8 cuda:1\n",
      "157 model.layers.17.self_attn.o_proj.weight torch.uint8 cuda:1\n",
      "158 model.layers.17.mlp.gate_proj.weight torch.uint8 cuda:1\n",
      "159 model.layers.17.mlp.up_proj.weight torch.uint8 cuda:1\n",
      "160 model.layers.17.mlp.down_proj.weight torch.uint8 cuda:1\n",
      "161 model.layers.17.input_layernorm.weight torch.float16 cuda:1\n",
      "162 model.layers.17.post_attention_layernorm.weight torch.float16 cuda:1\n",
      "163 model.layers.18.self_attn.q_proj.weight torch.uint8 cuda:1\n",
      "164 model.layers.18.self_attn.k_proj.weight torch.uint8 cuda:1\n",
      "165 model.layers.18.self_attn.v_proj.weight torch.uint8 cuda:1\n",
      "166 model.layers.18.self_attn.o_proj.weight torch.uint8 cuda:1\n",
      "167 model.layers.18.mlp.gate_proj.weight torch.uint8 cuda:1\n",
      "168 model.layers.18.mlp.up_proj.weight torch.uint8 cuda:1\n",
      "169 model.layers.18.mlp.down_proj.weight torch.uint8 cuda:1\n",
      "170 model.layers.18.input_layernorm.weight torch.float16 cuda:1\n",
      "171 model.layers.18.post_attention_layernorm.weight torch.float16 cuda:1\n",
      "172 model.layers.19.self_attn.q_proj.weight torch.uint8 cuda:1\n",
      "173 model.layers.19.self_attn.k_proj.weight torch.uint8 cuda:1\n",
      "174 model.layers.19.self_attn.v_proj.weight torch.uint8 cuda:1\n",
      "175 model.layers.19.self_attn.o_proj.weight torch.uint8 cuda:1\n",
      "176 model.layers.19.mlp.gate_proj.weight torch.uint8 cuda:1\n",
      "177 model.layers.19.mlp.up_proj.weight torch.uint8 cuda:1\n",
      "178 model.layers.19.mlp.down_proj.weight torch.uint8 cuda:1\n",
      "179 model.layers.19.input_layernorm.weight torch.float16 cuda:1\n",
      "180 model.layers.19.post_attention_layernorm.weight torch.float16 cuda:1\n",
      "181 model.layers.20.self_attn.q_proj.weight torch.uint8 cuda:1\n",
      "182 model.layers.20.self_attn.k_proj.weight torch.uint8 cuda:1\n",
      "183 model.layers.20.self_attn.v_proj.weight torch.uint8 cuda:1\n",
      "184 model.layers.20.self_attn.o_proj.weight torch.uint8 cuda:1\n",
      "185 model.layers.20.mlp.gate_proj.weight torch.uint8 cuda:1\n",
      "186 model.layers.20.mlp.up_proj.weight torch.uint8 cuda:1\n",
      "187 model.layers.20.mlp.down_proj.weight torch.uint8 cuda:1\n",
      "188 model.layers.20.input_layernorm.weight torch.float16 cuda:1\n",
      "189 model.layers.20.post_attention_layernorm.weight torch.float16 cuda:1\n",
      "190 model.layers.21.self_attn.q_proj.weight torch.uint8 cuda:1\n",
      "191 model.layers.21.self_attn.k_proj.weight torch.uint8 cuda:1\n",
      "192 model.layers.21.self_attn.v_proj.weight torch.uint8 cuda:1\n",
      "193 model.layers.21.self_attn.o_proj.weight torch.uint8 cuda:1\n",
      "194 model.layers.21.mlp.gate_proj.weight torch.uint8 cuda:1\n",
      "195 model.layers.21.mlp.up_proj.weight torch.uint8 cuda:1\n",
      "196 model.layers.21.mlp.down_proj.weight torch.uint8 cuda:1\n",
      "197 model.layers.21.input_layernorm.weight torch.float16 cuda:1\n",
      "198 model.layers.21.post_attention_layernorm.weight torch.float16 cuda:1\n",
      "199 model.layers.22.self_attn.q_proj.weight torch.uint8 cuda:1\n",
      "200 model.layers.22.self_attn.k_proj.weight torch.uint8 cuda:1\n",
      "201 model.layers.22.self_attn.v_proj.weight torch.uint8 cuda:1\n",
      "202 model.layers.22.self_attn.o_proj.weight torch.uint8 cuda:1\n",
      "203 model.layers.22.mlp.gate_proj.weight torch.uint8 cuda:1\n",
      "204 model.layers.22.mlp.up_proj.weight torch.uint8 cuda:1\n",
      "205 model.layers.22.mlp.down_proj.weight torch.uint8 cuda:1\n",
      "206 model.layers.22.input_layernorm.weight torch.float16 cuda:1\n",
      "207 model.layers.22.post_attention_layernorm.weight torch.float16 cuda:1\n",
      "208 model.layers.23.self_attn.q_proj.weight torch.uint8 cuda:1\n",
      "209 model.layers.23.self_attn.k_proj.weight torch.uint8 cuda:1\n",
      "210 model.layers.23.self_attn.v_proj.weight torch.uint8 cuda:1\n",
      "211 model.layers.23.self_attn.o_proj.weight torch.uint8 cuda:1\n",
      "212 model.layers.23.mlp.gate_proj.weight torch.uint8 cuda:1\n",
      "213 model.layers.23.mlp.up_proj.weight torch.uint8 cuda:1\n",
      "214 model.layers.23.mlp.down_proj.weight torch.uint8 cuda:1\n",
      "215 model.layers.23.input_layernorm.weight torch.float16 cuda:1\n",
      "216 model.layers.23.post_attention_layernorm.weight torch.float16 cuda:1\n",
      "217 model.layers.24.self_attn.q_proj.weight torch.uint8 cuda:1\n",
      "218 model.layers.24.self_attn.k_proj.weight torch.uint8 cuda:1\n",
      "219 model.layers.24.self_attn.v_proj.weight torch.uint8 cuda:1\n",
      "220 model.layers.24.self_attn.o_proj.weight torch.uint8 cuda:1\n",
      "221 model.layers.24.mlp.gate_proj.weight torch.uint8 cuda:1\n",
      "222 model.layers.24.mlp.up_proj.weight torch.uint8 cuda:1\n",
      "223 model.layers.24.mlp.down_proj.weight torch.uint8 cuda:1\n",
      "224 model.layers.24.input_layernorm.weight torch.float16 cuda:1\n",
      "225 model.layers.24.post_attention_layernorm.weight torch.float16 cuda:1\n",
      "226 model.layers.25.self_attn.q_proj.weight torch.uint8 cuda:1\n",
      "227 model.layers.25.self_attn.k_proj.weight torch.uint8 cuda:1\n",
      "228 model.layers.25.self_attn.v_proj.weight torch.uint8 cuda:1\n",
      "229 model.layers.25.self_attn.o_proj.weight torch.uint8 cuda:1\n",
      "230 model.layers.25.mlp.gate_proj.weight torch.uint8 cuda:1\n",
      "231 model.layers.25.mlp.up_proj.weight torch.uint8 cuda:1\n",
      "232 model.layers.25.mlp.down_proj.weight torch.uint8 cuda:1\n",
      "233 model.layers.25.input_layernorm.weight torch.float16 cuda:1\n",
      "234 model.layers.25.post_attention_layernorm.weight torch.float16 cuda:1\n",
      "235 model.layers.26.self_attn.q_proj.weight torch.uint8 cuda:1\n",
      "236 model.layers.26.self_attn.k_proj.weight torch.uint8 cuda:1\n",
      "237 model.layers.26.self_attn.v_proj.weight torch.uint8 cuda:1\n",
      "238 model.layers.26.self_attn.o_proj.weight torch.uint8 cuda:1\n",
      "239 model.layers.26.mlp.gate_proj.weight torch.uint8 cuda:1\n",
      "240 model.layers.26.mlp.up_proj.weight torch.uint8 cuda:1\n",
      "241 model.layers.26.mlp.down_proj.weight torch.uint8 cuda:1\n",
      "242 model.layers.26.input_layernorm.weight torch.float16 cuda:1\n",
      "243 model.layers.26.post_attention_layernorm.weight torch.float16 cuda:1\n",
      "244 model.layers.27.self_attn.q_proj.weight torch.uint8 cuda:1\n",
      "245 model.layers.27.self_attn.k_proj.weight torch.uint8 cuda:1\n",
      "246 model.layers.27.self_attn.v_proj.weight torch.uint8 cuda:1\n",
      "247 model.layers.27.self_attn.o_proj.weight torch.uint8 cuda:1\n",
      "248 model.layers.27.mlp.gate_proj.weight torch.uint8 cuda:1\n",
      "249 model.layers.27.mlp.up_proj.weight torch.uint8 cuda:1\n",
      "250 model.layers.27.mlp.down_proj.weight torch.uint8 cuda:1\n",
      "251 model.layers.27.input_layernorm.weight torch.float16 cuda:1\n",
      "252 model.layers.27.post_attention_layernorm.weight torch.float16 cuda:1\n",
      "253 model.layers.28.self_attn.q_proj.weight torch.uint8 cuda:1\n",
      "254 model.layers.28.self_attn.k_proj.weight torch.uint8 cuda:1\n",
      "255 model.layers.28.self_attn.v_proj.weight torch.uint8 cuda:1\n",
      "256 model.layers.28.self_attn.o_proj.weight torch.uint8 cuda:1\n",
      "257 model.layers.28.mlp.gate_proj.weight torch.uint8 cuda:1\n",
      "258 model.layers.28.mlp.up_proj.weight torch.uint8 cuda:1\n",
      "259 model.layers.28.mlp.down_proj.weight torch.uint8 cuda:1\n",
      "260 model.layers.28.input_layernorm.weight torch.float16 cuda:1\n",
      "261 model.layers.28.post_attention_layernorm.weight torch.float16 cuda:1\n",
      "262 model.layers.29.self_attn.q_proj.weight torch.uint8 cuda:1\n",
      "263 model.layers.29.self_attn.k_proj.weight torch.uint8 cuda:1\n",
      "264 model.layers.29.self_attn.v_proj.weight torch.uint8 cuda:1\n",
      "265 model.layers.29.self_attn.o_proj.weight torch.uint8 cuda:1\n",
      "266 model.layers.29.mlp.gate_proj.weight torch.uint8 cuda:1\n",
      "267 model.layers.29.mlp.up_proj.weight torch.uint8 cuda:1\n",
      "268 model.layers.29.mlp.down_proj.weight torch.uint8 cuda:1\n",
      "269 model.layers.29.input_layernorm.weight torch.float16 cuda:1\n",
      "270 model.layers.29.post_attention_layernorm.weight torch.float16 cuda:1\n",
      "271 model.layers.30.self_attn.q_proj.weight torch.uint8 cuda:1\n",
      "272 model.layers.30.self_attn.k_proj.weight torch.uint8 cuda:1\n",
      "273 model.layers.30.self_attn.v_proj.weight torch.uint8 cuda:1\n",
      "274 model.layers.30.self_attn.o_proj.weight torch.uint8 cuda:1\n",
      "275 model.layers.30.mlp.gate_proj.weight torch.uint8 cuda:1\n",
      "276 model.layers.30.mlp.up_proj.weight torch.uint8 cuda:1\n",
      "277 model.layers.30.mlp.down_proj.weight torch.uint8 cuda:1\n",
      "278 model.layers.30.input_layernorm.weight torch.float16 cuda:1\n",
      "279 model.layers.30.post_attention_layernorm.weight torch.float16 cuda:1\n",
      "280 model.layers.31.self_attn.q_proj.weight torch.uint8 cuda:1\n",
      "281 model.layers.31.self_attn.k_proj.weight torch.uint8 cuda:1\n",
      "282 model.layers.31.self_attn.v_proj.weight torch.uint8 cuda:1\n",
      "283 model.layers.31.self_attn.o_proj.weight torch.uint8 cuda:1\n",
      "284 model.layers.31.mlp.gate_proj.weight torch.uint8 cuda:1\n",
      "285 model.layers.31.mlp.up_proj.weight torch.uint8 cuda:1\n",
      "286 model.layers.31.mlp.down_proj.weight torch.uint8 cuda:1\n",
      "287 model.layers.31.input_layernorm.weight torch.float16 cuda:1\n",
      "288 model.layers.31.post_attention_layernorm.weight torch.float16 cuda:1\n",
      "289 model.norm.weight torch.float16 cuda:1\n",
      "290 lm_head.weight torch.float16 cuda:1\n"
     ]
    }
   ],
   "source": [
    "for i, (name, layer) in enumerate(model.named_parameters()):\n",
    "    print(i, name, layer.dtype, layer.device)\n",
    "#     print(i, layer.dtype, layer.device)"
   ]
  },
  {
   "cell_type": "code",
   "execution_count": 17,
   "id": "9bbbf4ca",
   "metadata": {
    "ExecuteTime": {
     "end_time": "2023-07-30T10:31:24.082878Z",
     "start_time": "2023-07-30T10:31:24.068673Z"
    }
   },
   "outputs": [
    {
     "data": {
      "text/plain": [
       "LlamaForCausalLM(\n",
       "  (model): LlamaModel(\n",
       "    (embed_tokens): Embedding(51200, 4096, padding_idx=0)\n",
       "    (layers): ModuleList(\n",
       "      (0-31): 32 x LlamaDecoderLayer(\n",
       "        (self_attn): LlamaAttention(\n",
       "          (q_proj): Linear4bit(in_features=4096, out_features=4096, bias=False)\n",
       "          (k_proj): Linear4bit(in_features=4096, out_features=4096, bias=False)\n",
       "          (v_proj): Linear4bit(in_features=4096, out_features=4096, bias=False)\n",
       "          (o_proj): Linear4bit(in_features=4096, out_features=4096, bias=False)\n",
       "          (rotary_emb): LlamaRotaryEmbedding()\n",
       "        )\n",
       "        (mlp): LlamaMLP(\n",
       "          (gate_proj): Linear4bit(in_features=4096, out_features=11008, bias=False)\n",
       "          (up_proj): Linear4bit(in_features=4096, out_features=11008, bias=False)\n",
       "          (down_proj): Linear4bit(in_features=11008, out_features=4096, bias=False)\n",
       "          (act_fn): SiLUActivation()\n",
       "        )\n",
       "        (input_layernorm): LlamaRMSNorm()\n",
       "        (post_attention_layernorm): LlamaRMSNorm()\n",
       "      )\n",
       "    )\n",
       "    (norm): LlamaRMSNorm()\n",
       "  )\n",
       "  (lm_head): Linear(in_features=4096, out_features=51200, bias=False)\n",
       ")"
      ]
     },
     "execution_count": 17,
     "metadata": {},
     "output_type": "execute_result"
    }
   ],
   "source": [
    "model"
   ]
  },
  {
   "cell_type": "markdown",
   "id": "4b87239a",
   "metadata": {},
   "source": [
    "### embedding"
   ]
  },
  {
   "cell_type": "markdown",
   "id": "edd6a886",
   "metadata": {},
   "source": [
    "- 未必是必要的，需要check tokenizer 的 vocab_size 与 model embedding layer 是否一致"
   ]
  },
  {
   "cell_type": "code",
   "execution_count": 19,
   "id": "53e15236",
   "metadata": {
    "ExecuteTime": {
     "end_time": "2023-07-30T10:32:33.590629Z",
     "start_time": "2023-07-30T10:32:33.579441Z"
    }
   },
   "outputs": [
    {
     "data": {
      "text/plain": [
       "XgenTokenizer(name_or_path='Salesforce/xgen-7b-8k-base', vocab_size=50313, model_max_length=8192, is_fast=False, padding_side='right', truncation_side='right', special_tokens={'eos_token': AddedToken(\"<|endoftext|>\", rstrip=False, lstrip=False, single_word=False, normalized=True), 'pad_token': '<|endoftext|>'}, clean_up_tokenization_spaces=True)"
      ]
     },
     "execution_count": 19,
     "metadata": {},
     "output_type": "execute_result"
    }
   ],
   "source": [
    "tokenizer"
   ]
  },
  {
   "cell_type": "code",
   "execution_count": 20,
   "id": "fd3dcadf",
   "metadata": {
    "ExecuteTime": {
     "end_time": "2023-07-30T10:32:40.050947Z",
     "start_time": "2023-07-30T10:32:40.041077Z"
    }
   },
   "outputs": [
    {
     "data": {
      "text/plain": [
       "Embedding(51200, 4096, padding_idx=0)"
      ]
     },
     "execution_count": 20,
     "metadata": {},
     "output_type": "execute_result"
    }
   ],
   "source": [
    "model.model.embed_tokens"
   ]
  },
  {
   "cell_type": "code",
   "execution_count": 21,
   "id": "c8e66934",
   "metadata": {
    "ExecuteTime": {
     "end_time": "2023-07-30T10:32:49.940047Z",
     "start_time": "2023-07-30T10:32:46.728491Z"
    }
   },
   "outputs": [
    {
     "data": {
      "text/plain": [
       "Embedding(50313, 4096)"
      ]
     },
     "execution_count": 21,
     "metadata": {},
     "output_type": "execute_result"
    }
   ],
   "source": [
    "model.resize_token_embeddings(len(tokenizer))"
   ]
  },
  {
   "cell_type": "markdown",
   "id": "2dcc4f17",
   "metadata": {},
   "source": [
    "###  peft model"
   ]
  },
  {
   "cell_type": "code",
   "execution_count": 22,
   "id": "ed23a56a",
   "metadata": {
    "ExecuteTime": {
     "end_time": "2023-07-30T10:33:48.084060Z",
     "start_time": "2023-07-30T10:33:48.042233Z"
    }
   },
   "outputs": [
    {
     "name": "stderr",
     "output_type": "stream",
     "text": [
      "/home/whaow/anaconda3/lib/python3.10/site-packages/peft/utils/other.py:102: FutureWarning: prepare_model_for_int8_training is deprecated and will be removed in a future version. Use prepare_model_for_kbit_training instead.\n",
      "  warnings.warn(\n"
     ]
    }
   ],
   "source": [
    "model = prepare_model_for_int8_training(model)"
   ]
  },
  {
   "cell_type": "code",
   "execution_count": 23,
   "id": "a7fe0b10",
   "metadata": {
    "ExecuteTime": {
     "end_time": "2023-07-30T10:33:59.217350Z",
     "start_time": "2023-07-30T10:33:52.506389Z"
    }
   },
   "outputs": [],
   "source": [
    "peft_config = LoraConfig(r=16, lora_alpha=32, lora_dropout=0.05, bias=\"none\", task_type=\"CAUSAL_LM\")\n",
    "model = get_peft_model(model, peft_config)"
   ]
  },
  {
   "cell_type": "code",
   "execution_count": 24,
   "id": "05c60e43",
   "metadata": {
    "ExecuteTime": {
     "end_time": "2023-07-30T10:34:04.539607Z",
     "start_time": "2023-07-30T10:34:04.532208Z"
    }
   },
   "outputs": [],
   "source": [
    "training_args = TrainingArguments(\n",
    "        output_dir=\"xgen-7b-tuned-alpaca-l1\",\n",
    "        per_device_train_batch_size=4,\n",
    "        optim=\"adamw_torch\",\n",
    "        logging_steps=10,\n",
    "        learning_rate=2e-4,\n",
    "        fp16=True,\n",
    "        warmup_ratio=0.1,\n",
    "        lr_scheduler_type=\"linear\",\n",
    "        num_train_epochs=1,\n",
    "        save_strategy=\"epoch\",\n",
    "        push_to_hub=False,\n",
    "    )"
   ]
  },
  {
   "cell_type": "code",
   "execution_count": 25,
   "id": "b66aaee5",
   "metadata": {
    "ExecuteTime": {
     "end_time": "2023-07-30T10:44:26.643210Z",
     "start_time": "2023-07-30T10:35:17.796875Z"
    }
   },
   "outputs": [
    {
     "name": "stderr",
     "output_type": "stream",
     "text": [
      "Failed to detect the name of this notebook, you can set it manually with the WANDB_NOTEBOOK_NAME environment variable to enable code saving.\n",
      "\u001b[34m\u001b[1mwandb\u001b[0m: Currently logged in as: \u001b[33mlanchunhui\u001b[0m (\u001b[33mloveresearch\u001b[0m). Use \u001b[1m`wandb login --relogin`\u001b[0m to force relogin\n"
     ]
    },
    {
     "data": {
      "application/vnd.jupyter.widget-view+json": {
       "model_id": "4a99813e12694914b8870adb11fba2f2",
       "version_major": 2,
       "version_minor": 0
      },
      "text/plain": [
       "VBox(children=(Label(value='Waiting for wandb.init()...\\r'), FloatProgress(value=0.016669291232634956, max=1.0…"
      ]
     },
     "metadata": {},
     "output_type": "display_data"
    },
    {
     "data": {
      "text/html": [
       "wandb version 0.15.7 is available!  To upgrade, please run:\n",
       " $ pip install wandb --upgrade"
      ],
      "text/plain": [
       "<IPython.core.display.HTML object>"
      ]
     },
     "metadata": {},
     "output_type": "display_data"
    },
    {
     "data": {
      "text/html": [
       "Tracking run with wandb version 0.15.0"
      ],
      "text/plain": [
       "<IPython.core.display.HTML object>"
      ]
     },
     "metadata": {},
     "output_type": "display_data"
    },
    {
     "data": {
      "text/html": [
       "Run data is saved locally in <code>/home/whaow/workspaces/personal_chatgpt/tutorials/wandb/run-20230730_183521-5g98dx64</code>"
      ],
      "text/plain": [
       "<IPython.core.display.HTML object>"
      ]
     },
     "metadata": {},
     "output_type": "display_data"
    },
    {
     "data": {
      "text/html": [
       "Syncing run <strong><a href='https://wandb.ai/loveresearch/huggingface/runs/5g98dx64' target=\"_blank\">sweet-armadillo-46</a></strong> to <a href='https://wandb.ai/loveresearch/huggingface' target=\"_blank\">Weights & Biases</a> (<a href='https://wandb.me/run' target=\"_blank\">docs</a>)<br/>"
      ],
      "text/plain": [
       "<IPython.core.display.HTML object>"
      ]
     },
     "metadata": {},
     "output_type": "display_data"
    },
    {
     "data": {
      "text/html": [
       " View project at <a href='https://wandb.ai/loveresearch/huggingface' target=\"_blank\">https://wandb.ai/loveresearch/huggingface</a>"
      ],
      "text/plain": [
       "<IPython.core.display.HTML object>"
      ]
     },
     "metadata": {},
     "output_type": "display_data"
    },
    {
     "data": {
      "text/html": [
       " View run at <a href='https://wandb.ai/loveresearch/huggingface/runs/5g98dx64' target=\"_blank\">https://wandb.ai/loveresearch/huggingface/runs/5g98dx64</a>"
      ],
      "text/plain": [
       "<IPython.core.display.HTML object>"
      ]
     },
     "metadata": {},
     "output_type": "display_data"
    },
    {
     "name": "stderr",
     "output_type": "stream",
     "text": [
      "`use_cache=True` is incompatible with gradient checkpointing. Setting `use_cache=False`...\n",
      "/home/whaow/anaconda3/lib/python3.10/site-packages/bitsandbytes/nn/modules.py:224: UserWarning: Input type into Linear4bit is torch.float16, but bnb_4bit_compute_type=torch.float32 (default). This will lead to slow inference or training speed.\n",
      "  warnings.warn(f'Input type into Linear4bit is torch.float16, but bnb_4bit_compute_type=torch.float32 (default). This will lead to slow inference or training speed.')\n"
     ]
    },
    {
     "data": {
      "text/html": [
       "\n",
       "    <div>\n",
       "      \n",
       "      <progress value='198' max='13001' style='width:300px; height:20px; vertical-align: middle;'></progress>\n",
       "      [  198/13001 08:44 < 9:31:09, 0.37 it/s, Epoch 0.02/1]\n",
       "    </div>\n",
       "    <table border=\"1\" class=\"dataframe\">\n",
       "  <thead>\n",
       " <tr style=\"text-align: left;\">\n",
       "      <th>Step</th>\n",
       "      <th>Training Loss</th>\n",
       "    </tr>\n",
       "  </thead>\n",
       "  <tbody>\n",
       "    <tr>\n",
       "      <td>10</td>\n",
       "      <td>1.622400</td>\n",
       "    </tr>\n",
       "    <tr>\n",
       "      <td>20</td>\n",
       "      <td>1.573600</td>\n",
       "    </tr>\n",
       "    <tr>\n",
       "      <td>30</td>\n",
       "      <td>1.591500</td>\n",
       "    </tr>\n",
       "    <tr>\n",
       "      <td>40</td>\n",
       "      <td>1.535000</td>\n",
       "    </tr>\n",
       "    <tr>\n",
       "      <td>50</td>\n",
       "      <td>1.490500</td>\n",
       "    </tr>\n",
       "    <tr>\n",
       "      <td>60</td>\n",
       "      <td>1.462100</td>\n",
       "    </tr>\n",
       "    <tr>\n",
       "      <td>70</td>\n",
       "      <td>1.425800</td>\n",
       "    </tr>\n",
       "    <tr>\n",
       "      <td>80</td>\n",
       "      <td>1.357900</td>\n",
       "    </tr>\n",
       "    <tr>\n",
       "      <td>90</td>\n",
       "      <td>1.325200</td>\n",
       "    </tr>\n",
       "    <tr>\n",
       "      <td>100</td>\n",
       "      <td>1.320800</td>\n",
       "    </tr>\n",
       "    <tr>\n",
       "      <td>110</td>\n",
       "      <td>1.279800</td>\n",
       "    </tr>\n",
       "    <tr>\n",
       "      <td>120</td>\n",
       "      <td>1.222900</td>\n",
       "    </tr>\n",
       "    <tr>\n",
       "      <td>130</td>\n",
       "      <td>1.211500</td>\n",
       "    </tr>\n",
       "    <tr>\n",
       "      <td>140</td>\n",
       "      <td>1.189200</td>\n",
       "    </tr>\n",
       "    <tr>\n",
       "      <td>150</td>\n",
       "      <td>1.216200</td>\n",
       "    </tr>\n",
       "    <tr>\n",
       "      <td>160</td>\n",
       "      <td>1.152300</td>\n",
       "    </tr>\n",
       "    <tr>\n",
       "      <td>170</td>\n",
       "      <td>1.125200</td>\n",
       "    </tr>\n",
       "    <tr>\n",
       "      <td>180</td>\n",
       "      <td>1.100200</td>\n",
       "    </tr>\n",
       "    <tr>\n",
       "      <td>190</td>\n",
       "      <td>1.139800</td>\n",
       "    </tr>\n",
       "  </tbody>\n",
       "</table><p>"
      ],
      "text/plain": [
       "<IPython.core.display.HTML object>"
      ]
     },
     "metadata": {},
     "output_type": "display_data"
    },
    {
     "ename": "KeyboardInterrupt",
     "evalue": "",
     "output_type": "error",
     "traceback": [
      "\u001b[0;31m---------------------------------------------------------------------------\u001b[0m",
      "\u001b[0;31mKeyboardInterrupt\u001b[0m                         Traceback (most recent call last)",
      "Cell \u001b[0;32mIn[25], line 11\u001b[0m\n\u001b[1;32m      1\u001b[0m trainer \u001b[38;5;241m=\u001b[39m SFTTrainer(\n\u001b[1;32m      2\u001b[0m     model\u001b[38;5;241m=\u001b[39mmodel,\n\u001b[1;32m      3\u001b[0m     train_dataset\u001b[38;5;241m=\u001b[39mtrain_dataset,\n\u001b[0;32m   (...)\u001b[0m\n\u001b[1;32m      9\u001b[0m     peft_config\u001b[38;5;241m=\u001b[39mpeft_config,\n\u001b[1;32m     10\u001b[0m )\n\u001b[0;32m---> 11\u001b[0m \u001b[43mtrainer\u001b[49m\u001b[38;5;241;43m.\u001b[39;49m\u001b[43mtrain\u001b[49m\u001b[43m(\u001b[49m\u001b[43m)\u001b[49m\n",
      "File \u001b[0;32m~/anaconda3/lib/python3.10/site-packages/transformers/trainer.py:1531\u001b[0m, in \u001b[0;36mTrainer.train\u001b[0;34m(self, resume_from_checkpoint, trial, ignore_keys_for_eval, **kwargs)\u001b[0m\n\u001b[1;32m   1526\u001b[0m     \u001b[38;5;28mself\u001b[39m\u001b[38;5;241m.\u001b[39mmodel_wrapped \u001b[38;5;241m=\u001b[39m \u001b[38;5;28mself\u001b[39m\u001b[38;5;241m.\u001b[39mmodel\n\u001b[1;32m   1528\u001b[0m inner_training_loop \u001b[38;5;241m=\u001b[39m find_executable_batch_size(\n\u001b[1;32m   1529\u001b[0m     \u001b[38;5;28mself\u001b[39m\u001b[38;5;241m.\u001b[39m_inner_training_loop, \u001b[38;5;28mself\u001b[39m\u001b[38;5;241m.\u001b[39m_train_batch_size, args\u001b[38;5;241m.\u001b[39mauto_find_batch_size\n\u001b[1;32m   1530\u001b[0m )\n\u001b[0;32m-> 1531\u001b[0m \u001b[38;5;28;01mreturn\u001b[39;00m \u001b[43minner_training_loop\u001b[49m\u001b[43m(\u001b[49m\n\u001b[1;32m   1532\u001b[0m \u001b[43m    \u001b[49m\u001b[43margs\u001b[49m\u001b[38;5;241;43m=\u001b[39;49m\u001b[43margs\u001b[49m\u001b[43m,\u001b[49m\n\u001b[1;32m   1533\u001b[0m \u001b[43m    \u001b[49m\u001b[43mresume_from_checkpoint\u001b[49m\u001b[38;5;241;43m=\u001b[39;49m\u001b[43mresume_from_checkpoint\u001b[49m\u001b[43m,\u001b[49m\n\u001b[1;32m   1534\u001b[0m \u001b[43m    \u001b[49m\u001b[43mtrial\u001b[49m\u001b[38;5;241;43m=\u001b[39;49m\u001b[43mtrial\u001b[49m\u001b[43m,\u001b[49m\n\u001b[1;32m   1535\u001b[0m \u001b[43m    \u001b[49m\u001b[43mignore_keys_for_eval\u001b[49m\u001b[38;5;241;43m=\u001b[39;49m\u001b[43mignore_keys_for_eval\u001b[49m\u001b[43m,\u001b[49m\n\u001b[1;32m   1536\u001b[0m \u001b[43m\u001b[49m\u001b[43m)\u001b[49m\n",
      "File \u001b[0;32m~/anaconda3/lib/python3.10/site-packages/transformers/trainer.py:1804\u001b[0m, in \u001b[0;36mTrainer._inner_training_loop\u001b[0;34m(self, batch_size, args, resume_from_checkpoint, trial, ignore_keys_for_eval)\u001b[0m\n\u001b[1;32m   1801\u001b[0m     \u001b[38;5;28mself\u001b[39m\u001b[38;5;241m.\u001b[39mcontrol \u001b[38;5;241m=\u001b[39m \u001b[38;5;28mself\u001b[39m\u001b[38;5;241m.\u001b[39mcallback_handler\u001b[38;5;241m.\u001b[39mon_step_begin(args, \u001b[38;5;28mself\u001b[39m\u001b[38;5;241m.\u001b[39mstate, \u001b[38;5;28mself\u001b[39m\u001b[38;5;241m.\u001b[39mcontrol)\n\u001b[1;32m   1803\u001b[0m \u001b[38;5;28;01mwith\u001b[39;00m \u001b[38;5;28mself\u001b[39m\u001b[38;5;241m.\u001b[39maccelerator\u001b[38;5;241m.\u001b[39maccumulate(model):\n\u001b[0;32m-> 1804\u001b[0m     tr_loss_step \u001b[38;5;241m=\u001b[39m \u001b[38;5;28;43mself\u001b[39;49m\u001b[38;5;241;43m.\u001b[39;49m\u001b[43mtraining_step\u001b[49m\u001b[43m(\u001b[49m\u001b[43mmodel\u001b[49m\u001b[43m,\u001b[49m\u001b[43m \u001b[49m\u001b[43minputs\u001b[49m\u001b[43m)\u001b[49m\n\u001b[1;32m   1806\u001b[0m \u001b[38;5;28;01mif\u001b[39;00m (\n\u001b[1;32m   1807\u001b[0m     args\u001b[38;5;241m.\u001b[39mlogging_nan_inf_filter\n\u001b[1;32m   1808\u001b[0m     \u001b[38;5;129;01mand\u001b[39;00m \u001b[38;5;129;01mnot\u001b[39;00m is_torch_tpu_available()\n\u001b[1;32m   1809\u001b[0m     \u001b[38;5;129;01mand\u001b[39;00m (torch\u001b[38;5;241m.\u001b[39misnan(tr_loss_step) \u001b[38;5;129;01mor\u001b[39;00m torch\u001b[38;5;241m.\u001b[39misinf(tr_loss_step))\n\u001b[1;32m   1810\u001b[0m ):\n\u001b[1;32m   1811\u001b[0m     \u001b[38;5;66;03m# if loss is nan or inf simply add the average of previous logged losses\u001b[39;00m\n\u001b[1;32m   1812\u001b[0m     tr_loss \u001b[38;5;241m+\u001b[39m\u001b[38;5;241m=\u001b[39m tr_loss \u001b[38;5;241m/\u001b[39m (\u001b[38;5;241m1\u001b[39m \u001b[38;5;241m+\u001b[39m \u001b[38;5;28mself\u001b[39m\u001b[38;5;241m.\u001b[39mstate\u001b[38;5;241m.\u001b[39mglobal_step \u001b[38;5;241m-\u001b[39m \u001b[38;5;28mself\u001b[39m\u001b[38;5;241m.\u001b[39m_globalstep_last_logged)\n",
      "File \u001b[0;32m~/anaconda3/lib/python3.10/site-packages/transformers/trainer.py:2657\u001b[0m, in \u001b[0;36mTrainer.training_step\u001b[0;34m(self, model, inputs)\u001b[0m\n\u001b[1;32m   2655\u001b[0m         scaled_loss\u001b[38;5;241m.\u001b[39mbackward()\n\u001b[1;32m   2656\u001b[0m \u001b[38;5;28;01melse\u001b[39;00m:\n\u001b[0;32m-> 2657\u001b[0m     \u001b[38;5;28;43mself\u001b[39;49m\u001b[38;5;241;43m.\u001b[39;49m\u001b[43maccelerator\u001b[49m\u001b[38;5;241;43m.\u001b[39;49m\u001b[43mbackward\u001b[49m\u001b[43m(\u001b[49m\u001b[43mloss\u001b[49m\u001b[43m)\u001b[49m\n\u001b[1;32m   2659\u001b[0m \u001b[38;5;28;01mreturn\u001b[39;00m loss\u001b[38;5;241m.\u001b[39mdetach() \u001b[38;5;241m/\u001b[39m \u001b[38;5;28mself\u001b[39m\u001b[38;5;241m.\u001b[39margs\u001b[38;5;241m.\u001b[39mgradient_accumulation_steps\n",
      "File \u001b[0;32m~/anaconda3/lib/python3.10/site-packages/accelerate/accelerator.py:1907\u001b[0m, in \u001b[0;36mAccelerator.backward\u001b[0;34m(self, loss, **kwargs)\u001b[0m\n\u001b[1;32m   1905\u001b[0m     \u001b[38;5;28;01mreturn\u001b[39;00m\n\u001b[1;32m   1906\u001b[0m \u001b[38;5;28;01melif\u001b[39;00m \u001b[38;5;28mself\u001b[39m\u001b[38;5;241m.\u001b[39mscaler \u001b[38;5;129;01mis\u001b[39;00m \u001b[38;5;129;01mnot\u001b[39;00m \u001b[38;5;28;01mNone\u001b[39;00m:\n\u001b[0;32m-> 1907\u001b[0m     \u001b[38;5;28;43mself\u001b[39;49m\u001b[38;5;241;43m.\u001b[39;49m\u001b[43mscaler\u001b[49m\u001b[38;5;241;43m.\u001b[39;49m\u001b[43mscale\u001b[49m\u001b[43m(\u001b[49m\u001b[43mloss\u001b[49m\u001b[43m)\u001b[49m\u001b[38;5;241;43m.\u001b[39;49m\u001b[43mbackward\u001b[49m\u001b[43m(\u001b[49m\u001b[38;5;241;43m*\u001b[39;49m\u001b[38;5;241;43m*\u001b[39;49m\u001b[43mkwargs\u001b[49m\u001b[43m)\u001b[49m\n\u001b[1;32m   1908\u001b[0m \u001b[38;5;28;01melse\u001b[39;00m:\n\u001b[1;32m   1909\u001b[0m     loss\u001b[38;5;241m.\u001b[39mbackward(\u001b[38;5;241m*\u001b[39m\u001b[38;5;241m*\u001b[39mkwargs)\n",
      "File \u001b[0;32m~/anaconda3/lib/python3.10/site-packages/torch/_tensor.py:487\u001b[0m, in \u001b[0;36mTensor.backward\u001b[0;34m(self, gradient, retain_graph, create_graph, inputs)\u001b[0m\n\u001b[1;32m    477\u001b[0m \u001b[38;5;28;01mif\u001b[39;00m has_torch_function_unary(\u001b[38;5;28mself\u001b[39m):\n\u001b[1;32m    478\u001b[0m     \u001b[38;5;28;01mreturn\u001b[39;00m handle_torch_function(\n\u001b[1;32m    479\u001b[0m         Tensor\u001b[38;5;241m.\u001b[39mbackward,\n\u001b[1;32m    480\u001b[0m         (\u001b[38;5;28mself\u001b[39m,),\n\u001b[0;32m   (...)\u001b[0m\n\u001b[1;32m    485\u001b[0m         inputs\u001b[38;5;241m=\u001b[39minputs,\n\u001b[1;32m    486\u001b[0m     )\n\u001b[0;32m--> 487\u001b[0m \u001b[43mtorch\u001b[49m\u001b[38;5;241;43m.\u001b[39;49m\u001b[43mautograd\u001b[49m\u001b[38;5;241;43m.\u001b[39;49m\u001b[43mbackward\u001b[49m\u001b[43m(\u001b[49m\n\u001b[1;32m    488\u001b[0m \u001b[43m    \u001b[49m\u001b[38;5;28;43mself\u001b[39;49m\u001b[43m,\u001b[49m\u001b[43m \u001b[49m\u001b[43mgradient\u001b[49m\u001b[43m,\u001b[49m\u001b[43m \u001b[49m\u001b[43mretain_graph\u001b[49m\u001b[43m,\u001b[49m\u001b[43m \u001b[49m\u001b[43mcreate_graph\u001b[49m\u001b[43m,\u001b[49m\u001b[43m \u001b[49m\u001b[43minputs\u001b[49m\u001b[38;5;241;43m=\u001b[39;49m\u001b[43minputs\u001b[49m\n\u001b[1;32m    489\u001b[0m \u001b[43m\u001b[49m\u001b[43m)\u001b[49m\n",
      "File \u001b[0;32m~/anaconda3/lib/python3.10/site-packages/torch/autograd/__init__.py:200\u001b[0m, in \u001b[0;36mbackward\u001b[0;34m(tensors, grad_tensors, retain_graph, create_graph, grad_variables, inputs)\u001b[0m\n\u001b[1;32m    195\u001b[0m     retain_graph \u001b[38;5;241m=\u001b[39m create_graph\n\u001b[1;32m    197\u001b[0m \u001b[38;5;66;03m# The reason we repeat same the comment below is that\u001b[39;00m\n\u001b[1;32m    198\u001b[0m \u001b[38;5;66;03m# some Python versions print out the first line of a multi-line function\u001b[39;00m\n\u001b[1;32m    199\u001b[0m \u001b[38;5;66;03m# calls in the traceback and some print out the last line\u001b[39;00m\n\u001b[0;32m--> 200\u001b[0m \u001b[43mVariable\u001b[49m\u001b[38;5;241;43m.\u001b[39;49m\u001b[43m_execution_engine\u001b[49m\u001b[38;5;241;43m.\u001b[39;49m\u001b[43mrun_backward\u001b[49m\u001b[43m(\u001b[49m\u001b[43m  \u001b[49m\u001b[38;5;66;43;03m# Calls into the C++ engine to run the backward pass\u001b[39;49;00m\n\u001b[1;32m    201\u001b[0m \u001b[43m    \u001b[49m\u001b[43mtensors\u001b[49m\u001b[43m,\u001b[49m\u001b[43m \u001b[49m\u001b[43mgrad_tensors_\u001b[49m\u001b[43m,\u001b[49m\u001b[43m \u001b[49m\u001b[43mretain_graph\u001b[49m\u001b[43m,\u001b[49m\u001b[43m \u001b[49m\u001b[43mcreate_graph\u001b[49m\u001b[43m,\u001b[49m\u001b[43m \u001b[49m\u001b[43minputs\u001b[49m\u001b[43m,\u001b[49m\n\u001b[1;32m    202\u001b[0m \u001b[43m    \u001b[49m\u001b[43mallow_unreachable\u001b[49m\u001b[38;5;241;43m=\u001b[39;49m\u001b[38;5;28;43;01mTrue\u001b[39;49;00m\u001b[43m,\u001b[49m\u001b[43m \u001b[49m\u001b[43maccumulate_grad\u001b[49m\u001b[38;5;241;43m=\u001b[39;49m\u001b[38;5;28;43;01mTrue\u001b[39;49;00m\u001b[43m)\u001b[49m\n",
      "\u001b[0;31mKeyboardInterrupt\u001b[0m: "
     ]
    }
   ],
   "source": [
    "trainer = SFTTrainer(\n",
    "    model=model,\n",
    "    train_dataset=train_dataset,\n",
    "    dataset_text_field=\"text\",\n",
    "    max_seq_length=1024,\n",
    "    tokenizer=tokenizer,\n",
    "    args=training_args,\n",
    "    packing=True,\n",
    "    peft_config=peft_config,\n",
    ")\n",
    "trainer.train()"
   ]
  },
  {
   "cell_type": "code",
   "execution_count": null,
   "id": "1ceb2838",
   "metadata": {},
   "outputs": [],
   "source": []
  }
 ],
 "metadata": {
  "kernelspec": {
   "display_name": "Python 3 (ipykernel)",
   "language": "python",
   "name": "python3"
  },
  "language_info": {
   "codemirror_mode": {
    "name": "ipython",
    "version": 3
   },
   "file_extension": ".py",
   "mimetype": "text/x-python",
   "name": "python",
   "nbconvert_exporter": "python",
   "pygments_lexer": "ipython3",
   "version": "3.10.9"
  },
  "toc": {
   "base_numbering": 1,
   "nav_menu": {},
   "number_sections": true,
   "sideBar": true,
   "skip_h1_title": false,
   "title_cell": "Table of Contents",
   "title_sidebar": "Contents",
   "toc_cell": false,
   "toc_position": {},
   "toc_section_display": true,
   "toc_window_display": false
  }
 },
 "nbformat": 4,
 "nbformat_minor": 5
}
