{
 "cells": [
  {
   "cell_type": "markdown",
   "id": "eed3ee30",
   "metadata": {},
   "source": [
    "## lora config"
   ]
  },
  {
   "cell_type": "markdown",
   "id": "d976afc2",
   "metadata": {},
   "source": [
    "```\n",
    "peft_config = LoraConfig(r=16, \n",
    "                         lora_alpha=32, \n",
    "                         lora_dropout=0.05, \n",
    "                         bias=\"none\", \n",
    "                         task_type=\"CAUSAL_LM\")\n",
    "```"
   ]
  }
 ],
 "metadata": {
  "kernelspec": {
   "display_name": "Python 3 (ipykernel)",
   "language": "python",
   "name": "python3"
  },
  "language_info": {
   "codemirror_mode": {
    "name": "ipython",
    "version": 3
   },
   "file_extension": ".py",
   "mimetype": "text/x-python",
   "name": "python",
   "nbconvert_exporter": "python",
   "pygments_lexer": "ipython3",
   "version": "3.10.9"
  },
  "toc": {
   "base_numbering": 1,
   "nav_menu": {},
   "number_sections": true,
   "sideBar": true,
   "skip_h1_title": false,
   "title_cell": "Table of Contents",
   "title_sidebar": "Contents",
   "toc_cell": false,
   "toc_position": {},
   "toc_section_display": true,
   "toc_window_display": false
  }
 },
 "nbformat": 4,
 "nbformat_minor": 5
}
