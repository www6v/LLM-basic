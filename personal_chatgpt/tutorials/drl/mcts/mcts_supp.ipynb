{
 "cells": [
  {
   "cell_type": "markdown",
   "id": "191a5a63",
   "metadata": {},
   "source": [
    "- 参考资料\n",
    "    - mcts with neural nets：\n",
    "        - https://www.andrew.cmu.edu/course/10-403/slides/S19_evolutionarymethods.pdf"
   ]
  },
  {
   "cell_type": "markdown",
   "id": "e2c65e1b",
   "metadata": {},
   "source": [
    "## 从 UCT 到 pUCT"
   ]
  },
  {
   "cell_type": "markdown",
   "id": "89aaed13",
   "metadata": {},
   "source": [
    "- references\n",
    "    - https://courses.cs.washington.edu/courses/cse599i/18wi/resources/lecture19/lecture19.pdf\n",
    "    - 3.1.1 AlphaGo Zero MCTS"
   ]
  },
  {
   "cell_type": "markdown",
   "id": "11b7ae82",
   "metadata": {},
   "source": [
    "$$\n",
    "a_t={\\arg\\max}_{a\\in \\mathcal A}  Q(s_t,a) + U(s_t,a)\n",
    "$$\n",
    "\n",
    "- $Q(s_t,a)$: represents an empirical average of the value of taking action $a$ from state $s_t$.\n",
    "- $U(s_t, a)$ is a an additional term to encourage exploration when the value estimates lack high-confidence and favors actions that have a higher prior-probability"
   ]
  }
 ],
 "metadata": {
  "kernelspec": {
   "display_name": "Python 3 (ipykernel)",
   "language": "python",
   "name": "python3"
  },
  "language_info": {
   "codemirror_mode": {
    "name": "ipython",
    "version": 3
   },
   "file_extension": ".py",
   "mimetype": "text/x-python",
   "name": "python",
   "nbconvert_exporter": "python",
   "pygments_lexer": "ipython3",
   "version": "3.10.13"
  },
  "toc": {
   "base_numbering": 1,
   "nav_menu": {},
   "number_sections": true,
   "sideBar": true,
   "skip_h1_title": false,
   "title_cell": "Table of Contents",
   "title_sidebar": "Contents",
   "toc_cell": false,
   "toc_position": {},
   "toc_section_display": true,
   "toc_window_display": false
  }
 },
 "nbformat": 4,
 "nbformat_minor": 5
}
