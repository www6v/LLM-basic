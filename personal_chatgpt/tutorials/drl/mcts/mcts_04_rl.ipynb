{
 "cells": [
  {
   "cell_type": "code",
   "execution_count": 1,
   "id": "53339dc4",
   "metadata": {
    "ExecuteTime": {
     "end_time": "2024-03-14T14:50:21.240386Z",
     "start_time": "2024-03-14T14:50:21.224842Z"
    }
   },
   "outputs": [],
   "source": [
    "from IPython.display import Image"
   ]
  },
  {
   "cell_type": "markdown",
   "id": "a16bc790",
   "metadata": {},
   "source": [
    "## MDPs as ExpectiMax Trees"
   ]
  },
  {
   "cell_type": "code",
   "execution_count": 3,
   "id": "b01f93a2",
   "metadata": {
    "ExecuteTime": {
     "end_time": "2024-03-14T14:50:29.475312Z",
     "start_time": "2024-03-14T14:50:29.465095Z"
    }
   },
   "outputs": [
    {
     "data": {
      "text/html": [
       "<img src=\"https://gibberblot.github.io/rl-notes/_images/mcts_expectimax.png\" width=\"500\"/>"
      ],
      "text/plain": [
       "<IPython.core.display.Image object>"
      ]
     },
     "execution_count": 3,
     "metadata": {},
     "output_type": "execute_result"
    }
   ],
   "source": [
    "Image(url='https://gibberblot.github.io/rl-notes/_images/mcts_expectimax.png', width=500)"
   ]
  }
 ],
 "metadata": {
  "kernelspec": {
   "display_name": "Python 3 (ipykernel)",
   "language": "python",
   "name": "python3"
  },
  "language_info": {
   "codemirror_mode": {
    "name": "ipython",
    "version": 3
   },
   "file_extension": ".py",
   "mimetype": "text/x-python",
   "name": "python",
   "nbconvert_exporter": "python",
   "pygments_lexer": "ipython3",
   "version": "3.10.13"
  },
  "toc": {
   "base_numbering": 1,
   "nav_menu": {},
   "number_sections": true,
   "sideBar": true,
   "skip_h1_title": false,
   "title_cell": "Table of Contents",
   "title_sidebar": "Contents",
   "toc_cell": false,
   "toc_position": {},
   "toc_section_display": true,
   "toc_window_display": false
  }
 },
 "nbformat": 4,
 "nbformat_minor": 5
}
