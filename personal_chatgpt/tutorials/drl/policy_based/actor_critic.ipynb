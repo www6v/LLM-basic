{
 "cells": [
  {
   "cell_type": "code",
   "execution_count": 2,
   "id": "02890080-4a76-4c7e-a088-e56ac36c2a55",
   "metadata": {},
   "outputs": [],
   "source": [
    "from IPython.display import Image"
   ]
  },
  {
   "cell_type": "markdown",
   "id": "b9b7abb0-84e7-4527-b573-3e739ce4835a",
   "metadata": {},
   "source": [
    "- https://towardsdatascience.com/understanding-actor-critic-methods-931b97b6df3f"
   ]
  },
  {
   "cell_type": "code",
   "execution_count": 2,
   "id": "f9d0ca6e-52de-4459-8cfa-629bf5f82a0c",
   "metadata": {},
   "outputs": [
    {
     "data": {
      "text/html": [
       "<img src=\"https://i0.wp.com/roboticseabass.com/wp-content/uploads/2020/08/deep_rl_banner-1.png?w=1047&ssl=1\" width=\"400\"/>"
      ],
      "text/plain": [
       "<IPython.core.display.Image object>"
      ]
     },
     "execution_count": 2,
     "metadata": {},
     "output_type": "execute_result"
    }
   ],
   "source": [
    "Image(url='https://i0.wp.com/roboticseabass.com/wp-content/uploads/2020/08/deep_rl_banner-1.png?w=1047&ssl=1', width=400)"
   ]
  },
  {
   "cell_type": "markdown",
   "id": "0414096f-8b2f-4398-b6a0-8c85c895d350",
   "metadata": {},
   "source": [
    "## State-Value function Approximation"
   ]
  },
  {
   "cell_type": "markdown",
   "id": "c0c2b74a-e4bf-494e-8bd8-b626c5cc6a2c",
   "metadata": {},
   "source": [
    "- State-Value function\n",
    "\n",
    "    $$\n",
    "    V_\\pi(s)=\\sum_a \\pi(a|s) Q_\\pi(s,a)\n",
    "    $$\n",
    "\n",
    "- policy network (actor): $\\pi_\\theta(a|s)$ to approximate $\\pi(a|s)$\n",
    "    - input: $s$\n",
    "    - output: $(a, p)$\n",
    "- value network (critic): $q_w(s,a)$ to approximate $Q_\\pi(s,a)$\n",
    "    - input: $s$\n",
    "    - output: $(a, v)$\n",
    "    - note: Critic 也可以用来直接近似 $V(s)$, (Advantage Function 优势函数，$A(s,a)=Q(s,a)-V(s)$)\n",
    "$$\n",
    "\\begin{split}\n",
    "&V_\\pi(s)=\\sum_a \\pi(a|s) Q_\\pi(s,a)\\\\\n",
    "&V(s;\\theta,w)=\\sum_a\\pi_\\theta(a|s)q_w(s,a)\n",
    "\\end{split}\n",
    "$$"
   ]
  },
  {
   "cell_type": "markdown",
   "id": "e5bbce26-ab5f-4593-a1c2-606e75d45b01",
   "metadata": {},
   "source": [
    "## training AC"
   ]
  },
  {
   "cell_type": "markdown",
   "id": "be0fc833-0b3b-414e-8878-854c693fdf84",
   "metadata": {},
   "source": [
    "### update value network $q$ using TD"
   ]
  },
  {
   "cell_type": "code",
   "execution_count": 3,
   "id": "c30e94f0-1cb7-46fb-9965-eda4f0e39328",
   "metadata": {},
   "outputs": [
    {
     "data": {
      "text/html": [
       "<img src=\"../imgs/ac_critic_td.png\" width=\"400\"/>"
      ],
      "text/plain": [
       "<IPython.core.display.Image object>"
      ]
     },
     "execution_count": 3,
     "metadata": {},
     "output_type": "execute_result"
    }
   ],
   "source": [
    "Image(url='../imgs/ac_critic_td.png', width=400)"
   ]
  },
  {
   "cell_type": "markdown",
   "id": "a22b0542-d6e1-4c36-98d9-c2f64acc8d18",
   "metadata": {},
   "source": [
    "### Update policy network $\\pi$ using policy gradient"
   ]
  },
  {
   "cell_type": "code",
   "execution_count": 4,
   "id": "b39f8e60-9ee0-4de8-be46-1b2c9065c9a1",
   "metadata": {},
   "outputs": [
    {
     "data": {
      "text/html": [
       "<img src=\"../imgs/ac_actor_pg.png\" width=\"500\"/>"
      ],
      "text/plain": [
       "<IPython.core.display.Image object>"
      ]
     },
     "execution_count": 4,
     "metadata": {},
     "output_type": "execute_result"
    }
   ],
   "source": [
    "Image(url='../imgs/ac_actor_pg.png', width=500)"
   ]
  },
  {
   "cell_type": "markdown",
   "id": "a025b40c-3d6d-4d33-9160-4d542d4e8919",
   "metadata": {},
   "source": [
    "### AC algorithm"
   ]
  },
  {
   "cell_type": "code",
   "execution_count": 5,
   "id": "be99f541-3fbc-4925-b2fe-d41f775a3784",
   "metadata": {},
   "outputs": [
    {
     "data": {
      "text/html": [
       "<img src=\"../imgs/ac_algo.png\" width=\"400\"/>"
      ],
      "text/plain": [
       "<IPython.core.display.Image object>"
      ]
     },
     "execution_count": 5,
     "metadata": {},
     "output_type": "execute_result"
    }
   ],
   "source": [
    "Image(url='../imgs/ac_algo.png', width=400)"
   ]
  },
  {
   "cell_type": "code",
   "execution_count": null,
   "id": "fa2d0e1e-f693-45cb-8687-c41a6530e73d",
   "metadata": {},
   "outputs": [],
   "source": []
  }
 ],
 "metadata": {
  "kernelspec": {
   "display_name": "Python 3 (ipykernel)",
   "language": "python",
   "name": "python3"
  },
  "language_info": {
   "codemirror_mode": {
    "name": "ipython",
    "version": 3
   },
   "file_extension": ".py",
   "mimetype": "text/x-python",
   "name": "python",
   "nbconvert_exporter": "python",
   "pygments_lexer": "ipython3",
   "version": "3.10.13"
  }
 },
 "nbformat": 4,
 "nbformat_minor": 5
}
