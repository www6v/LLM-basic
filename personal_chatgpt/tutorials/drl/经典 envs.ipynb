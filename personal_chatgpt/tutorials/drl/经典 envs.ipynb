{
 "cells": [
  {
   "cell_type": "markdown",
   "id": "c33c156e",
   "metadata": {},
   "source": [
    "## grid world"
   ]
  },
  {
   "cell_type": "markdown",
   "id": "a5ba134f",
   "metadata": {},
   "source": [
    "- 离散状态空间（[x, y]，格子坐标），离散动作空间（上下左右停）\n",
    "- 迷宫环境也是一种 grid world；"
   ]
  },
  {
   "cell_type": "markdown",
   "id": "c7f260d6",
   "metadata": {},
   "source": [
    "## gym"
   ]
  },
  {
   "cell_type": "markdown",
   "id": "df202d6e",
   "metadata": {},
   "source": [
    "- CartPole-V1\n",
    "- frozen lake\n",
    "    - https://github.com/simoninithomas/Deep_reinforcement_learning_Course/blob/master/Q%20learning/FrozenLake/Q%20Learning%20with%20FrozenLake.ipynb"
   ]
  }
 ],
 "metadata": {
  "kernelspec": {
   "display_name": "Python 3 (ipykernel)",
   "language": "python",
   "name": "python3"
  },
  "language_info": {
   "codemirror_mode": {
    "name": "ipython",
    "version": 3
   },
   "file_extension": ".py",
   "mimetype": "text/x-python",
   "name": "python",
   "nbconvert_exporter": "python",
   "pygments_lexer": "ipython3",
   "version": "3.10.13"
  },
  "toc": {
   "base_numbering": 1,
   "nav_menu": {},
   "number_sections": true,
   "sideBar": true,
   "skip_h1_title": false,
   "title_cell": "Table of Contents",
   "title_sidebar": "Contents",
   "toc_cell": false,
   "toc_position": {},
   "toc_section_display": true,
   "toc_window_display": false
  }
 },
 "nbformat": 4,
 "nbformat_minor": 5
}
