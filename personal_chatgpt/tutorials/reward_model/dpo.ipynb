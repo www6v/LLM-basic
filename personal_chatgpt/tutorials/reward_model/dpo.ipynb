{
 "cells": [
  {
   "cell_type": "code",
   "execution_count": null,
   "id": "33884a58",
   "metadata": {
    "ExecuteTime": {
     "end_time": "2024-01-27T10:08:17.266457Z",
     "start_time": "2024-01-27T10:08:17.250862Z"
    }
   },
   "outputs": [],
   "source": [
    "from IPython.display import Image"
   ]
  },
  {
   "cell_type": "markdown",
   "id": "81cdb421",
   "metadata": {},
   "source": [
    "## basics"
   ]
  },
  {
   "cell_type": "code",
   "execution_count": null,
   "id": "07c38498",
   "metadata": {
    "ExecuteTime": {
     "end_time": "2024-01-27T10:08:26.441469Z",
     "start_time": "2024-01-27T10:08:26.432037Z"
    }
   },
   "outputs": [],
   "source": [
    "Image(url='https://miro.medium.com/v2/resize:fit:1400/format:webp/0*YZB41c8c0FVuUrmb.png', width=500)"
   ]
  },
  {
   "cell_type": "markdown",
   "id": "8e3aa3a3",
   "metadata": {},
   "source": [
    "- treating the task as a **classification problem**.\n",
    "- uses two models: \n",
    "    - the trained model (or policy model)\n",
    "    - a copy of it called the reference model. \n",
    "- During training, the goal is to make sure the trained model outputs higher probabilities for preferred answers than the reference model. \n",
    "- Conversely, we also want it to output lower probabilities for rejected answers. It means we’re penalizing the LLM for bad answers and rewarding it for good ones."
   ]
  },
  {
   "cell_type": "markdown",
   "id": "25073d0f",
   "metadata": {},
   "source": [
    "## datasets"
   ]
  },
  {
   "cell_type": "markdown",
   "id": "241e5877",
   "metadata": {},
   "source": [
    "- https://huggingface.co/datasets/Intel/orca_dpo_pairs"
   ]
  },
  {
   "cell_type": "code",
   "execution_count": 1,
   "id": "a0cf3273",
   "metadata": {
    "ExecuteTime": {
     "end_time": "2024-01-28T02:05:36.800084Z",
     "start_time": "2024-01-28T02:05:36.242571Z"
    }
   },
   "outputs": [],
   "source": [
    "from datasets import load_dataset"
   ]
  },
  {
   "cell_type": "code",
   "execution_count": 8,
   "id": "2e4c0286",
   "metadata": {
    "ExecuteTime": {
     "end_time": "2024-01-28T02:06:53.121264Z",
     "start_time": "2024-01-28T02:06:53.115833Z"
    }
   },
   "outputs": [],
   "source": [
    "import os\n",
    "os.environ['https_proxy'] = 'http://127.0.0.1:7890'\n",
    "os.environ['http_proxy'] = 'http://127.0.0.1:7890'"
   ]
  },
  {
   "cell_type": "code",
   "execution_count": 13,
   "id": "89e94730",
   "metadata": {
    "ExecuteTime": {
     "end_time": "2024-01-28T02:09:52.454915Z",
     "start_time": "2024-01-28T02:09:41.012664Z"
    }
   },
   "outputs": [],
   "source": [
    "dataset = load_dataset('Intel/orca_dpo_pairs')['train']"
   ]
  },
  {
   "cell_type": "code",
   "execution_count": 14,
   "id": "54dd9513",
   "metadata": {
    "ExecuteTime": {
     "end_time": "2024-01-28T02:09:53.296308Z",
     "start_time": "2024-01-28T02:09:53.286708Z"
    }
   },
   "outputs": [
    {
     "data": {
      "text/plain": [
       "Dataset({\n",
       "    features: ['system', 'question', 'chosen', 'rejected'],\n",
       "    num_rows: 12859\n",
       "})"
      ]
     },
     "execution_count": 14,
     "metadata": {},
     "output_type": "execute_result"
    }
   ],
   "source": [
    "dataset"
   ]
  },
  {
   "cell_type": "code",
   "execution_count": 17,
   "id": "94ebcab8",
   "metadata": {
    "ExecuteTime": {
     "end_time": "2024-01-28T02:10:55.195456Z",
     "start_time": "2024-01-28T02:10:55.185828Z"
    }
   },
   "outputs": [
    {
     "data": {
      "text/plain": [
       "['system', 'question', 'chosen', 'rejected']"
      ]
     },
     "execution_count": 17,
     "metadata": {},
     "output_type": "execute_result"
    }
   ],
   "source": [
    "dataset.column_names"
   ]
  },
  {
   "cell_type": "code",
   "execution_count": 15,
   "id": "fd091060",
   "metadata": {
    "ExecuteTime": {
     "end_time": "2024-01-28T02:10:02.416075Z",
     "start_time": "2024-01-28T02:10:02.406189Z"
    }
   },
   "outputs": [
    {
     "name": "stdout",
     "output_type": "stream",
     "text": [
      "You will be given a definition of a task first, then some input of the task.\n",
      "This task is about using the specified sentence and converting the sentence to Resource Description Framework (RDF) triplets of the form (subject, predicate object). The RDF triplets generated must be such that the triplets accurately capture the structure and semantics of the input sentence. The input is a sentence and the output is a list of triplets of the form [subject, predicate, object] that capture the relationships present in the sentence. When a sentence has more than 1 RDF triplet possible, the output must contain all of them.\n",
      "\n",
      "AFC Ajax (amateurs)'s ground is Sportpark De Toekomst where Ajax Youth Academy also play.\n",
      "Output:\n",
      "[\n",
      "  [\"AFC Ajax (amateurs)\", \"has ground\", \"Sportpark De Toekomst\"],\n",
      "  [\"Ajax Youth Academy\", \"plays at\", \"Sportpark De Toekomst\"]\n",
      "]\n",
      " Sure, I'd be happy to help! Here are the RDF triplets for the input sentence:\n",
      "\n",
      "[AFC Ajax (amateurs), hasGround, Sportpark De Toekomst]\n",
      "[Ajax Youth Academy, playsAt, Sportpark De Toekomst]\n",
      "\n",
      "Explanation:\n",
      "\n",
      "* AFC Ajax (amateurs) is the subject of the first triplet, and hasGround is the predicate that describes the relationship between AFC Ajax (amateurs) and Sportpark De Toekomst.\n",
      "* Ajax Youth Academy is the subject of the second triplet, and playsAt is the predicate that describes the relationship between Ajax Youth Academy and Sportpark De Toekomst.\n",
      "\n",
      "Note that there may be other possible RDF triplets that could be derived from the input sentence, but the above triplets capture the main relationships present in the sentence.\n"
     ]
    }
   ],
   "source": [
    "print(dataset[0]['question'])\n",
    "print(dataset[0]['chosen'])\n",
    "print(dataset[0]['rejected'])"
   ]
  },
  {
   "cell_type": "markdown",
   "id": "fcbc8407",
   "metadata": {},
   "source": [
    "## DPOTrainer"
   ]
  },
  {
   "cell_type": "markdown",
   "id": "92a625db",
   "metadata": {},
   "source": [
    "- Moreover, `DPOTrainer` also requires a specific format with three columns: \n",
    "    - prompt, chosen, and rejected."
   ]
  }
 ],
 "metadata": {
  "kernelspec": {
   "display_name": "Python 3 (ipykernel)",
   "language": "python",
   "name": "python3"
  },
  "language_info": {
   "codemirror_mode": {
    "name": "ipython",
    "version": 3
   },
   "file_extension": ".py",
   "mimetype": "text/x-python",
   "name": "python",
   "nbconvert_exporter": "python",
   "pygments_lexer": "ipython3",
   "version": "3.10.13"
  },
  "toc": {
   "base_numbering": 1,
   "nav_menu": {},
   "number_sections": true,
   "sideBar": true,
   "skip_h1_title": false,
   "title_cell": "Table of Contents",
   "title_sidebar": "Contents",
   "toc_cell": false,
   "toc_position": {},
   "toc_section_display": true,
   "toc_window_display": false
  }
 },
 "nbformat": 4,
 "nbformat_minor": 5
}
