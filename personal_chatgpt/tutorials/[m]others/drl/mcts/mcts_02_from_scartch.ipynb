{
 "cells": [
  {
   "cell_type": "markdown",
   "id": "4d66efc0",
   "metadata": {},
   "source": [
    "- 补充\n",
    "    - nodes correspond to states $s$\n",
    "    - edges refer to actions $a$\n",
    "        - each edge transfers the environment from its parent state to its child state\n",
    "            - state transition\n",
    "    - game tree\n",
    "        - 交替落子 minimax setting；白子的 v（value） 是黑子的 -v；\n",
    "            - 当前层黑子（边是黑子的action），下一层的为白子（边是白子的action）\n",
    "            - 交替落子；\n",
    "    - UCT => pUCT: Q + U \n",
    "        - early on the simulation, U dominates (more exploration)\n",
    "        - but later, Q is more important (less exploration, more exploitation)\n",
    "    - training & inference\n",
    "        - training: uct = Q + U（select node）\n",
    "        - inference: Q（当前状态下的 best move）\n",
    "- 参考\n",
    "    - https://github.com/brilee/python_uct\n",
    "    - https://www.moderndescartes.com/essays/deep_dive_mcts/\n"
   ]
  },
  {
   "cell_type": "code",
   "execution_count": 2,
   "id": "9ad8d83a",
   "metadata": {
    "ExecuteTime": {
     "end_time": "2024-03-19T15:10:25.417902Z",
     "start_time": "2024-03-19T15:10:25.226000Z"
    }
   },
   "outputs": [],
   "source": [
    "import collections\n",
    "import numpy as np\n",
    "import math\n",
    "from IPython.display import Image\n",
    "from tqdm.notebook import tqdm"
   ]
  },
  {
   "cell_type": "markdown",
   "id": "76b194f9",
   "metadata": {},
   "source": [
    "## Node & search "
   ]
  },
  {
   "cell_type": "code",
   "execution_count": 3,
   "id": "694db1c0-1114-4def-87fb-898f17eabede",
   "metadata": {},
   "outputs": [
    {
     "data": {
      "text/html": [
       "<img src=\"../imgs/node-edge.png\" width=\"400\"/>"
      ],
      "text/plain": [
       "<IPython.core.display.Image object>"
      ]
     },
     "execution_count": 3,
     "metadata": {},
     "output_type": "execute_result"
    }
   ],
   "source": [
    "Image(url='../imgs/node-edge.png', width=400)"
   ]
  },
  {
   "cell_type": "markdown",
   "id": "4eb6ecf7-3939-45c4-879f-ecc6d5b3d33e",
   "metadata": {},
   "source": [
    "- node: 表示一个 game state，比如围棋里边的局面；\n",
    "- root：current state\n",
    "    - mcts planning 就是决策在 current state 下，如何choose best move；\n",
    "- leaf node：terminal node or unexplored node\n",
    "- edge：action leading to another node"
   ]
  },
  {
   "cell_type": "markdown",
   "id": "907e4c7b",
   "metadata": {},
   "source": [
    "### Node"
   ]
  },
  {
   "cell_type": "markdown",
   "id": "f5e774f8",
   "metadata": {},
   "source": [
    "- 因为 simulate（rollout/evaluate）完了之后涉及到 bp（反向传播或者回溯），每个 node 除了需要指向 children，还需要维护 parent"
   ]
  },
  {
   "cell_type": "code",
   "execution_count": 4,
   "id": "6ab0680a",
   "metadata": {
    "ExecuteTime": {
     "end_time": "2024-03-19T15:10:25.432755Z",
     "start_time": "2024-03-19T15:10:25.420388Z"
    }
   },
   "outputs": [],
   "source": [
    "name_id = 0\n",
    "\n",
    "class UCTNode():\n",
    "    def __init__(self, name, state, action, parent=None):\n",
    "        self.name = name\n",
    "        self.state = state\n",
    "        self.action = action\n",
    "        \n",
    "        self.is_expanded = False\n",
    "        \n",
    "        # self.parent.child_total_value[self.action]\n",
    "        # self.parent.child_number_visits[self.action]\n",
    "        # 指向self\n",
    "        self.parent = parent  # Optional[UCTNode]\n",
    "        \n",
    "        self.children = {}  # Dict[action, UCTNode]\n",
    "        self.child_priors = np.zeros([362], dtype=np.float32)\n",
    "        # ti\n",
    "        self.child_total_value = np.zeros([362], dtype=np.float32)\n",
    "        # ni\n",
    "        self.child_number_visits = np.zeros([362], dtype=np.float32)\n",
    "    \n",
    "    \n",
    "    # Ni\n",
    "    @property\n",
    "    def number_visits(self):\n",
    "        return self.parent.child_number_visits[self.action]\n",
    "\n",
    "    @number_visits.setter\n",
    "    def number_visits(self, value):\n",
    "        self.parent.child_number_visits[self.action] = value\n",
    "        \n",
    "    # ti\n",
    "    @property\n",
    "    def total_value(self):\n",
    "        return self.parent.child_total_value[self.action]\n",
    "\n",
    "    @total_value.setter\n",
    "    def total_value(self, value):\n",
    "        self.parent.child_total_value[self.action] = value\n",
    "\n",
    "    # pUCT\n",
    "    # https://courses.cs.washington.edu/courses/cse599i/18wi/resources/lecture19/lecture19.pdf\n",
    "    def child_Q(self) -> np.ndarray:\n",
    "        return self.child_total_value / (1 + self.child_number_visits)\n",
    "\n",
    "\n",
    "    def child_U(self) -> np.ndarray:\n",
    "        return math.sqrt(self.number_visits) * (\n",
    "            self.child_priors / (1 + self.child_number_visits))\n",
    "    \n",
    "    \n",
    "    def best_child(self) -> int:\n",
    "#         print(self.child_Q() + self.child_U())\n",
    "        return np.argmax(self.child_Q() + self.child_U())\n",
    "    \n",
    "    # traversal\n",
    "    def select_leaf(self):\n",
    "        current = self\n",
    "        while current.is_expanded:\n",
    "            # pUCT\n",
    "            best_action = current.best_child()\n",
    "            current = current.maybe_add_child(best_action)\n",
    "        return current\n",
    "\n",
    "    def expand(self, child_priors):\n",
    "        self.is_expanded = True\n",
    "        self.child_priors = child_priors\n",
    "\n",
    "    def maybe_add_child(self, action):\n",
    "        global name_id\n",
    "        if action not in self.children:\n",
    "            # 新增 child 节点时，切换 player 身份（白子 => 黑子，黑子 => 白子）\n",
    "            name_id += 1\n",
    "            self.children[action] = UCTNode(\n",
    "                name_id, self.state.play(action), action, parent=self)\n",
    "        return self.children[action]\n",
    "\n",
    "    def backup(self, value_estimate: float):\n",
    "        current = self\n",
    "        while current.parent is not None:\n",
    "            current.number_visits += 1\n",
    "            current.total_value += (value_estimate * self.state.to_play)\n",
    "            current = current.parent"
   ]
  },
  {
   "cell_type": "markdown",
   "id": "80a8c9f3",
   "metadata": {},
   "source": [
    "### Q + U"
   ]
  },
  {
   "cell_type": "code",
   "execution_count": 3,
   "id": "4f4bc74c",
   "metadata": {
    "ExecuteTime": {
     "end_time": "2024-03-19T15:10:25.461020Z",
     "start_time": "2024-03-19T15:10:25.435161Z"
    }
   },
   "outputs": [
    {
     "data": {
      "text/html": [
       "<img src=\"https://www.moderndescartes.com/static/deep_dive_mcts/alphago_uct_diagram.png\" width=\"700\"/>"
      ],
      "text/plain": [
       "<IPython.core.display.Image object>"
      ]
     },
     "execution_count": 3,
     "metadata": {},
     "output_type": "execute_result"
    }
   ],
   "source": [
    "# 黑子白子的交替\n",
    "# Select 的依据是 UCT：Q+U\n",
    "# edge：P（child priors）\n",
    "# node：V（value）\n",
    "# f_\\theta => (p, v)\n",
    "Image(url='https://www.moderndescartes.com/static/deep_dive_mcts/alphago_uct_diagram.png', width=700)"
   ]
  },
  {
   "cell_type": "markdown",
   "id": "b8b7a668",
   "metadata": {},
   "source": [
    "- Ranking = Quality + Uncertainty (Q + U)\n",
    "    - Quality: exploitation\n",
    "    - Uncertainty: exploration\n",
    "        - FOMO（fear of missing out）\n",
    "        - P from policy network"
   ]
  },
  {
   "cell_type": "markdown",
   "id": "a55a2d29",
   "metadata": {},
   "source": [
    "$$\n",
    "\\begin{split}\n",
    "&Q=\\frac{t_i}{1+n_i}\\\\\n",
    "&U=\\sqrt{\\ln N_i}\\times \\frac{P}{1+n_i}\n",
    "\\end{split}\n",
    "$$"
   ]
  },
  {
   "cell_type": "markdown",
   "id": "80b316be",
   "metadata": {},
   "source": [
    "## Game state"
   ]
  },
  {
   "cell_type": "code",
   "execution_count": 4,
   "id": "3dde5187",
   "metadata": {
    "ExecuteTime": {
     "end_time": "2024-03-19T15:10:25.473868Z",
     "start_time": "2024-03-19T15:10:25.466038Z"
    }
   },
   "outputs": [],
   "source": [
    "# 交替落子 minimax setting；白子的 v（value） 是黑子的 -v；\n",
    "class GameState:\n",
    "    def __init__(self, to_play=1):\n",
    "        self.to_play = to_play\n",
    "    def play(self, action):\n",
    "        return GameState(to_play=-self.to_play)"
   ]
  },
  {
   "cell_type": "markdown",
   "id": "c8a5cd13",
   "metadata": {},
   "source": [
    "## Policy network & Value network"
   ]
  },
  {
   "cell_type": "markdown",
   "id": "f5c4711c",
   "metadata": {},
   "source": [
    "- 结合使用策略网络（Policy network）来指导搜索方向, 并使用价值网络来评估棋局的潜在价值, 可以显著减少搜索树的大小，提高搜索的效率。\n",
    "    - 策略网络（Policy network）能够从先前的对局中学习到有效的走棋模式和策略，这相当于在搜索过程中加入了大量的“先验知识”（child_priors）。\n",
    "- 价值网络（value network）可以给出对当前棋局胜负的直接评估，而不需要到达游戏的终局。这种评估能力对于减少搜索深度、加速决策过程至关重要。"
   ]
  },
  {
   "cell_type": "code",
   "execution_count": 5,
   "id": "f1e0e290",
   "metadata": {
    "ExecuteTime": {
     "end_time": "2024-03-19T15:10:25.484653Z",
     "start_time": "2024-03-19T15:10:25.477567Z"
    }
   },
   "outputs": [],
   "source": [
    "class NeuralNet():\n",
    "    @classmethod\n",
    "    def evaluate(self, game_state):\n",
    "        # return policy_network(state), value_network(state)\n",
    "        # policy_network(state): return pi(a|s)\n",
    "        # value_network(state): return v(s)\n",
    "        return np.random.random([362]), np.random.random()"
   ]
  },
  {
   "cell_type": "markdown",
   "id": "c0b45b9b",
   "metadata": {},
   "source": [
    "## UCT_search"
   ]
  },
  {
   "cell_type": "code",
   "execution_count": 6,
   "id": "22302a5a",
   "metadata": {
    "ExecuteTime": {
     "end_time": "2024-03-19T15:10:25.496061Z",
     "start_time": "2024-03-19T15:10:25.488658Z"
    }
   },
   "outputs": [],
   "source": [
    "class DummyNode(object):\n",
    "    def __init__(self):\n",
    "        self.parent = None\n",
    "        self.child_total_value = collections.defaultdict(float)\n",
    "        self.child_number_visits = collections.defaultdict(float)"
   ]
  },
  {
   "cell_type": "code",
   "execution_count": 7,
   "id": "d1b51911",
   "metadata": {
    "ExecuteTime": {
     "end_time": "2024-03-19T15:10:25.510342Z",
     "start_time": "2024-03-19T15:10:25.500126Z"
    }
   },
   "outputs": [],
   "source": [
    "def print_tree_level_width(root: UCTNode):\n",
    "    if not root:\n",
    "        return\n",
    "    \n",
    "    queue = [(root, 0)]  # 初始化队列，元素为 (节点, 层级)\n",
    "    current_level = 0\n",
    "    level_nodes = []\n",
    "\n",
    "    while queue:\n",
    "        node, level = queue.pop(0)  # 从队列中取出当前节点和它的层级\n",
    "        # 当进入新的一层时，打印上一层的信息并重置\n",
    "        if level > current_level:\n",
    "            print(f\"Level {current_level} width: {len(level_nodes)}\")\n",
    "            level_nodes = [f'{node.action}']  # 重置当前层的节点列表\n",
    "            current_level = level\n",
    "        else:\n",
    "            level_nodes.append(f'{node.action}')\n",
    "        \n",
    "        # 将当前节点的所有子节点加入队列\n",
    "        for child in node.children.values():\n",
    "            queue.append((child, level + 1))\n",
    "    \n",
    "    # 打印最后一层的信息\n",
    "    print(f\"Level {current_level} width: {len(level_nodes)}\")"
   ]
  },
  {
   "cell_type": "code",
   "execution_count": 5,
   "id": "f8a29f5a",
   "metadata": {
    "ExecuteTime": {
     "end_time": "2024-03-19T15:17:00.713981Z",
     "start_time": "2024-03-19T15:17:00.706368Z"
    }
   },
   "outputs": [],
   "source": [
    "def UCT_search(state, num_reads):\n",
    "    # repeated simuations?\n",
    "    root = UCTNode(0, state, action=None, parent=DummyNode())\n",
    "    for i in tqdm(range(num_reads)):\n",
    "        # 每次都是从根节点出发\n",
    "        leaf = root.select_leaf()\n",
    "        # child_priors: [0, 1]\n",
    "        child_priors, value_estimate = NeuralNet().evaluate(leaf.state)\n",
    "        leaf.expand(child_priors)\n",
    "        leaf.backup(value_estimate)\n",
    "#         print(i)\n",
    "#         print_tree_level_width(root)\n",
    "    return root, np.argmax(root.child_number_visits)\n",
    "    # return root, root.best_child()"
   ]
  },
  {
   "cell_type": "code",
   "execution_count": 9,
   "id": "cb53dd00",
   "metadata": {
    "ExecuteTime": {
     "end_time": "2024-03-19T15:10:31.247196Z",
     "start_time": "2024-03-19T15:10:25.526002Z"
    }
   },
   "outputs": [
    {
     "data": {
      "application/vnd.jupyter.widget-view+json": {
       "model_id": "01174122131c4086918a1a8139e20749",
       "version_major": 2,
       "version_minor": 0
      },
      "text/plain": [
       "  0%|          | 0/100000 [00:00<?, ?it/s]"
      ]
     },
     "metadata": {},
     "output_type": "display_data"
    },
    {
     "name": "stdout",
     "output_type": "stream",
     "text": [
      "Took 5.709271430969238 sec to run 100000 times\n",
      "Consumed 758408KB memory\n"
     ]
    }
   ],
   "source": [
    "num_reads = 100000\n",
    "import time\n",
    "tick = time.time()\n",
    "root, _ = UCT_search(GameState(), num_reads)\n",
    "tock = time.time()\n",
    "print(\"Took %s sec to run %s times\" % (tock - tick, num_reads))\n",
    "import resource\n",
    "print(\"Consumed %sKB memory\" % resource.getrusage(resource.RUSAGE_SELF).ru_maxrss)"
   ]
  },
  {
   "cell_type": "code",
   "execution_count": 12,
   "id": "d9c6d3d8",
   "metadata": {
    "ExecuteTime": {
     "end_time": "2024-03-19T15:10:46.820503Z",
     "start_time": "2024-03-19T15:10:45.768237Z"
    }
   },
   "outputs": [
    {
     "name": "stdout",
     "output_type": "stream",
     "text": [
      "Level 0 width: 1\n",
      "Level 1 width: 360\n",
      "Level 2 width: 71329\n",
      "Level 3 width: 28310\n"
     ]
    }
   ],
   "source": [
    "print_tree_level_width(root)"
   ]
  },
  {
   "cell_type": "code",
   "execution_count": 10,
   "id": "3acafac6",
   "metadata": {
    "ExecuteTime": {
     "end_time": "2024-03-19T15:10:31.252162Z",
     "start_time": "2024-03-19T15:10:31.249370Z"
    }
   },
   "outputs": [],
   "source": [
    "# !pip install igraph"
   ]
  },
  {
   "cell_type": "code",
   "execution_count": 11,
   "id": "808db3b7",
   "metadata": {
    "ExecuteTime": {
     "end_time": "2024-03-19T15:10:31.270086Z",
     "start_time": "2024-03-19T15:10:31.253567Z"
    }
   },
   "outputs": [],
   "source": [
    "# import igraph as ig\n",
    "# g = ig.Graph(directed=True)\n",
    "\n",
    "# # 用于跟踪已添加节点的字典\n",
    "# nodes_dict = {}\n",
    "\n",
    "# def add_nodes_and_edges(node, parent_id=None):\n",
    "#     # 添加当前节点（如果尚未添加）\n",
    "#     if node not in nodes_dict:\n",
    "#         nodes_dict[node.name] = len(nodes_dict)\n",
    "#         g.add_vertices(1)\n",
    "    \n",
    "#     current_id = nodes_dict[node.name]\n",
    "    \n",
    "#     # 添加从父节点到当前节点的边\n",
    "#     if parent_id is not None:\n",
    "#         g.add_edges([(parent_id, current_id)])\n",
    "    \n",
    "#     # 递归为子节点做同样的处理\n",
    "#     for child in node.children.values():\n",
    "#         add_nodes_and_edges(child, current_id)\n",
    "\n",
    "# # 从根节点开始添加节点和边\n",
    "# add_nodes_and_edges(root)\n",
    "# layout = g.layout(\"tree\", root=[0])\n",
    "\n",
    "# # 设置节点名称\n",
    "# g.vs[\"label\"] = list(nodes_dict.keys())\n",
    "\n",
    "# # 可视化\n",
    "# ig.plot(g, layout=layout, bbox=(300, 300), margin=20)"
   ]
  }
 ],
 "metadata": {
  "kernelspec": {
   "display_name": "Python 3 (ipykernel)",
   "language": "python",
   "name": "python3"
  },
  "language_info": {
   "codemirror_mode": {
    "name": "ipython",
    "version": 3
   },
   "file_extension": ".py",
   "mimetype": "text/x-python",
   "name": "python",
   "nbconvert_exporter": "python",
   "pygments_lexer": "ipython3",
   "version": "3.10.13"
  },
  "toc": {
   "base_numbering": 1,
   "nav_menu": {},
   "number_sections": true,
   "sideBar": true,
   "skip_h1_title": false,
   "title_cell": "Table of Contents",
   "title_sidebar": "Contents",
   "toc_cell": false,
   "toc_position": {},
   "toc_section_display": true,
   "toc_window_display": false
  }
 },
 "nbformat": 4,
 "nbformat_minor": 5
}
