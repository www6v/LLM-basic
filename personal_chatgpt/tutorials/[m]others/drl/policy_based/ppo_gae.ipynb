{
 "cells": [
  {
   "cell_type": "markdown",
   "id": "794206ec-b817-4d8c-8787-b12afa06c338",
   "metadata": {},
   "source": [
    "- https://medium.com/aureliantactics/ppo-hyperparameters-and-ranges-6fc2d29bccbe"
   ]
  },
  {
   "cell_type": "code",
   "execution_count": 1,
   "id": "813ee78f-2dfa-4131-9ff6-452f1a491a1d",
   "metadata": {},
   "outputs": [],
   "source": [
    "from IPython.display import Image"
   ]
  },
  {
   "cell_type": "code",
   "execution_count": 3,
   "id": "1ec3bcc0-013d-4c52-9938-8b2e6067034d",
   "metadata": {},
   "outputs": [
    {
     "data": {
      "text/html": [
       "<img src=\"https://miro.medium.com/v2/resize:fit:720/format:webp/1*YqASRtlEqOgXPqB3QtkPwQ.png\" width=\"500\"/>"
      ],
      "text/plain": [
       "<IPython.core.display.Image object>"
      ]
     },
     "execution_count": 3,
     "metadata": {},
     "output_type": "execute_result"
    }
   ],
   "source": [
    "Image(url='https://miro.medium.com/v2/resize:fit:720/format:webp/1*YqASRtlEqOgXPqB3QtkPwQ.png', width=500)"
   ]
  },
  {
   "cell_type": "markdown",
   "id": "7cd4d542-2990-4fa8-ae74-152885257aae",
   "metadata": {},
   "source": [
    "## GAE"
   ]
  },
  {
   "cell_type": "markdown",
   "id": "3e2fb587-4e26-480f-bc41-7fc95c2b26e7",
   "metadata": {},
   "source": [
    "- The capital A hat ($\\hat A$) symbols in the above picture is the **advantage function**, which alters the reward stream with the parameters gamma ($\\gamma$) and lambda ($\\lambda$) as outlined in the **Generalized Advantage Estimation (GAE)** paper.\n",
    "    - https://arxiv.org/pdf/1506.02438\n",
    "- Lambda and gamma perform a bias-variance trade off of the trajectories and can also be viewed as a form of **reward shaping**. GAE at a glance:"
   ]
  },
  {
   "cell_type": "code",
   "execution_count": 4,
   "id": "710a7058-e2a1-445e-88a2-68cde296461d",
   "metadata": {},
   "outputs": [
    {
     "data": {
      "text/html": [
       "<img src=\"https://miro.medium.com/v2/resize:fit:720/format:webp/1*AM5QwhIcJUzNc_W5LCEUsA.png\" width=\"500\"/>"
      ],
      "text/plain": [
       "<IPython.core.display.Image object>"
      ]
     },
     "execution_count": 4,
     "metadata": {},
     "output_type": "execute_result"
    }
   ],
   "source": [
    "Image(url='https://miro.medium.com/v2/resize:fit:720/format:webp/1*AM5QwhIcJUzNc_W5LCEUsA.png', width=500)"
   ]
  },
  {
   "cell_type": "markdown",
   "id": "31aca48c-e0bf-4f56-80ee-f6681ccf0f08",
   "metadata": {},
   "source": [
    "## Value Function (VF) and Entropy Coefficients"
   ]
  },
  {
   "cell_type": "markdown",
   "id": "ffb7e5c5-fe92-4e0a-86c1-65d20186ee04",
   "metadata": {},
   "source": [
    "In addition to the surrogate loss functions discussed above, PPO contains two other losses in the objective function."
   ]
  },
  {
   "cell_type": "code",
   "execution_count": 5,
   "id": "dce96b31-3218-491f-830e-f344248105b8",
   "metadata": {},
   "outputs": [
    {
     "data": {
      "text/html": [
       "<img src=\"https://miro.medium.com/v2/resize:fit:720/format:webp/1*oZcXtY_lnGnBjqfg6Jjd9g.png\" width=\"500\"/>"
      ],
      "text/plain": [
       "<IPython.core.display.Image object>"
      ]
     },
     "execution_count": 5,
     "metadata": {},
     "output_type": "execute_result"
    }
   ],
   "source": [
    "Image(url='https://miro.medium.com/v2/resize:fit:720/format:webp/1*oZcXtY_lnGnBjqfg6Jjd9g.png', width=500)"
   ]
  },
  {
   "cell_type": "code",
   "execution_count": null,
   "id": "3c56a51e-64a0-4317-9309-17adbf3b4da1",
   "metadata": {},
   "outputs": [],
   "source": []
  }
 ],
 "metadata": {
  "kernelspec": {
   "display_name": "Python 3 (ipykernel)",
   "language": "python",
   "name": "python3"
  },
  "language_info": {
   "codemirror_mode": {
    "name": "ipython",
    "version": 3
   },
   "file_extension": ".py",
   "mimetype": "text/x-python",
   "name": "python",
   "nbconvert_exporter": "python",
   "pygments_lexer": "ipython3",
   "version": "3.10.13"
  }
 },
 "nbformat": 4,
 "nbformat_minor": 5
}
