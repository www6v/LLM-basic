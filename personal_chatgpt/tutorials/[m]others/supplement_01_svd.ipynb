{
 "cells": [
  {
   "cell_type": "markdown",
   "id": "eee1f049",
   "metadata": {},
   "source": [
    "- https://en.wikipedia.org/wiki/Low-rank_approximation\n",
    "\n",
    "$$\n",
    "\\begin{split}\n",
    "&A_{m\\times n}=U_{m\\times m}\\Sigma_{m\\times n} V^T_{n\\times n}\\\\\n",
    "&A_k=\\sum_{i=1}^k\\sigma_iu_iv_i^T\n",
    "\\end{split}\n",
    "$$"
   ]
  },
  {
   "cell_type": "markdown",
   "id": "581b493d",
   "metadata": {},
   "source": [
    "## $U,\\Sigma, V^T$ 的性质补充"
   ]
  },
  {
   "cell_type": "code",
   "execution_count": 1,
   "id": "8aa80ee2",
   "metadata": {
    "ExecuteTime": {
     "end_time": "2023-05-21T01:54:30.294396Z",
     "start_time": "2023-05-21T01:54:30.151718Z"
    }
   },
   "outputs": [],
   "source": [
    "import numpy as np"
   ]
  },
  {
   "cell_type": "code",
   "execution_count": 25,
   "id": "34c83d36",
   "metadata": {
    "ExecuteTime": {
     "end_time": "2023-05-21T02:23:05.298569Z",
     "start_time": "2023-05-21T02:23:05.287196Z"
    }
   },
   "outputs": [
    {
     "data": {
      "text/plain": [
       "array([[-0.3866689 ,  0.33928507,  0.10520867, -0.03458687, -0.31500214],\n",
       "       [-0.97880869,  0.44260941,  2.96062902,  2.0931785 , -0.25936143],\n",
       "       [ 0.4713509 , -0.73204923, -0.6700932 , -1.42363598, -0.31543659]])"
      ]
     },
     "execution_count": 25,
     "metadata": {},
     "output_type": "execute_result"
    }
   ],
   "source": [
    "A = np.random.randn(3, 5)\n",
    "A"
   ]
  },
  {
   "cell_type": "markdown",
   "id": "9d3c3453",
   "metadata": {},
   "source": [
    "### 分解及还原"
   ]
  },
  {
   "cell_type": "code",
   "execution_count": 26,
   "id": "28433e02",
   "metadata": {
    "ExecuteTime": {
     "end_time": "2023-05-21T02:23:25.142950Z",
     "start_time": "2023-05-21T02:23:25.135809Z"
    }
   },
   "outputs": [],
   "source": [
    "U, s, Vt = np.linalg.svd(A)"
   ]
  },
  {
   "cell_type": "code",
   "execution_count": 27,
   "id": "c26fa503",
   "metadata": {
    "ExecuteTime": {
     "end_time": "2023-05-21T02:23:27.181914Z",
     "start_time": "2023-05-21T02:23:27.172226Z"
    }
   },
   "outputs": [
    {
     "data": {
      "text/plain": [
       "array([[ 0.0558686 , -0.00895655,  0.99839796],\n",
       "       [ 0.91986024, -0.38837711, -0.05495786],\n",
       "       [-0.38824715, -0.921457  ,  0.01345931]])"
      ]
     },
     "execution_count": 27,
     "metadata": {},
     "output_type": "execute_result"
    }
   ],
   "source": [
    "U"
   ]
  },
  {
   "cell_type": "code",
   "execution_count": 28,
   "id": "adf700d6",
   "metadata": {
    "ExecuteTime": {
     "end_time": "2023-05-21T02:23:34.114098Z",
     "start_time": "2023-05-21T02:23:34.104195Z"
    }
   },
   "outputs": [
    {
     "data": {
      "text/plain": [
       "array([4.10019424, 0.97015882, 0.56974413])"
      ]
     },
     "execution_count": 28,
     "metadata": {},
     "output_type": "execute_result"
    }
   ],
   "source": [
    "# 1d vector\n",
    "# 降序排列的\n",
    "s"
   ]
  },
  {
   "cell_type": "code",
   "execution_count": 29,
   "id": "974d52c9",
   "metadata": {
    "ExecuteTime": {
     "end_time": "2023-05-21T02:23:47.994218Z",
     "start_time": "2023-05-21T02:23:47.983755Z"
    }
   },
   "outputs": [
    {
     "data": {
      "text/plain": [
       "array([[-0.26949223,  0.17323818,  0.72908852,  0.60392796, -0.03261007],\n",
       "       [-0.05227956,  0.51498136, -0.54972523,  0.51454101,  0.40633824],\n",
       "       [-0.57203248,  0.53456237, -0.11705028, -0.29614914, -0.53443131],\n",
       "       [ 0.75872269,  0.56237125,  0.19825893, -0.07565604, -0.25109364],\n",
       "       [-0.14751105,  0.32056883,  0.33648882, -0.52639378,  0.69653498]])"
      ]
     },
     "execution_count": 29,
     "metadata": {},
     "output_type": "execute_result"
    }
   ],
   "source": [
    "Vt"
   ]
  },
  {
   "cell_type": "code",
   "execution_count": 30,
   "id": "3211ccb0",
   "metadata": {
    "ExecuteTime": {
     "end_time": "2023-05-21T02:24:19.381627Z",
     "start_time": "2023-05-21T02:24:19.369747Z"
    }
   },
   "outputs": [
    {
     "data": {
      "text/plain": [
       "array([[-0.3866689 ,  0.33928507,  0.10520867, -0.03458687, -0.31500214],\n",
       "       [-0.97880869,  0.44260941,  2.96062902,  2.0931785 , -0.25936143],\n",
       "       [ 0.4713509 , -0.73204923, -0.6700932 , -1.42363598, -0.31543659]])"
      ]
     },
     "execution_count": 30,
     "metadata": {},
     "output_type": "execute_result"
    }
   ],
   "source": [
    "S = np.zeros_like(A)\n",
    "S[:3, :3] = np.diag(s)\n",
    "A_rec = U.dot(S).dot(Vt)\n",
    "A_rec"
   ]
  },
  {
   "cell_type": "code",
   "execution_count": 31,
   "id": "e18d1217",
   "metadata": {
    "ExecuteTime": {
     "end_time": "2023-05-21T02:24:32.488316Z",
     "start_time": "2023-05-21T02:24:32.477994Z"
    }
   },
   "outputs": [
    {
     "data": {
      "text/plain": [
       "True"
      ]
     },
     "execution_count": 31,
     "metadata": {},
     "output_type": "execute_result"
    }
   ],
   "source": [
    "np.allclose(A_rec, A)"
   ]
  },
  {
   "cell_type": "markdown",
   "id": "128d578e",
   "metadata": {},
   "source": [
    "### 性质补充"
   ]
  },
  {
   "cell_type": "markdown",
   "id": "a51ac8d1",
   "metadata": {},
   "source": [
    "- $U_{m\\times n}$ 是 $AA^T$ 的特征向量组成\n",
    "- $\\Sigma_{m\\times n}$是 $A^TA$ 的特征值的根号形式\n",
    "- $V^T_{n\\times n}$ 是 $A^TA$ 的特征向量组成"
   ]
  },
  {
   "cell_type": "code",
   "execution_count": 32,
   "id": "8ddc4127",
   "metadata": {
    "ExecuteTime": {
     "end_time": "2023-05-21T02:25:07.442538Z",
     "start_time": "2023-05-21T02:25:07.432332Z"
    }
   },
   "outputs": [
    {
     "data": {
      "text/plain": [
       "array([[ 0.0558686 , -0.00895655,  0.99839796],\n",
       "       [ 0.91986024, -0.38837711, -0.05495786],\n",
       "       [-0.38824715, -0.921457  ,  0.01345931]])"
      ]
     },
     "execution_count": 32,
     "metadata": {},
     "output_type": "execute_result"
    }
   ],
   "source": [
    "U"
   ]
  },
  {
   "cell_type": "code",
   "execution_count": 33,
   "id": "c5a5b998",
   "metadata": {
    "ExecuteTime": {
     "end_time": "2023-05-21T02:25:20.867603Z",
     "start_time": "2023-05-21T02:25:20.856496Z"
    }
   },
   "outputs": [
    {
     "data": {
      "text/plain": [
       "(array([16.8115928 ,  0.32460838,  0.94120814]),\n",
       " array([[ 0.0558686 ,  0.99839796,  0.00895655],\n",
       "        [ 0.91986024, -0.05495786,  0.38837711],\n",
       "        [-0.38824715,  0.01345931,  0.921457  ]]))"
      ]
     },
     "execution_count": 33,
     "metadata": {},
     "output_type": "execute_result"
    }
   ],
   "source": [
    "np.linalg.eig(A.dot(A.T))"
   ]
  },
  {
   "cell_type": "code",
   "execution_count": 34,
   "id": "4c1ae37a",
   "metadata": {
    "ExecuteTime": {
     "end_time": "2023-05-21T02:26:08.022441Z",
     "start_time": "2023-05-21T02:26:08.012310Z"
    }
   },
   "outputs": [
    {
     "data": {
      "text/plain": [
       "array([16.8115928 ,  0.94120814,  0.32460838])"
      ]
     },
     "execution_count": 34,
     "metadata": {},
     "output_type": "execute_result"
    }
   ],
   "source": [
    "s**2"
   ]
  },
  {
   "cell_type": "code",
   "execution_count": 37,
   "id": "1a385af2",
   "metadata": {
    "ExecuteTime": {
     "end_time": "2023-05-21T02:27:23.634801Z",
     "start_time": "2023-05-21T02:27:23.623207Z"
    }
   },
   "outputs": [
    {
     "data": {
      "text/plain": [
       "(array([ 1.68115928e+01,  9.41208139e-01,  3.24608379e-01, -1.75815656e-16,\n",
       "        -9.86791092e-16]),\n",
       " array([[ 0.26949223, -0.05227956, -0.57203248, -0.0619002 ,  0.38078615],\n",
       "        [-0.17323818,  0.51498136,  0.53456237,  0.38133775,  0.60905971],\n",
       "        [-0.72908852, -0.54972523, -0.11705028,  0.35651584,  0.38460647],\n",
       "        [-0.60392796,  0.51454101, -0.29614914, -0.53154906, -0.44932162],\n",
       "        [ 0.03261007,  0.40633824, -0.53443131,  0.66415505,  0.36638249]]))"
      ]
     },
     "execution_count": 37,
     "metadata": {},
     "output_type": "execute_result"
    }
   ],
   "source": [
    "np.linalg.eig(A.T.dot(A))"
   ]
  },
  {
   "cell_type": "code",
   "execution_count": 38,
   "id": "05f3413e",
   "metadata": {
    "ExecuteTime": {
     "end_time": "2023-05-21T02:27:25.150372Z",
     "start_time": "2023-05-21T02:27:25.140403Z"
    }
   },
   "outputs": [
    {
     "data": {
      "text/plain": [
       "array([[-0.26949223,  0.17323818,  0.72908852,  0.60392796, -0.03261007],\n",
       "       [-0.05227956,  0.51498136, -0.54972523,  0.51454101,  0.40633824],\n",
       "       [-0.57203248,  0.53456237, -0.11705028, -0.29614914, -0.53443131],\n",
       "       [ 0.75872269,  0.56237125,  0.19825893, -0.07565604, -0.25109364],\n",
       "       [-0.14751105,  0.32056883,  0.33648882, -0.52639378,  0.69653498]])"
      ]
     },
     "execution_count": 38,
     "metadata": {},
     "output_type": "execute_result"
    }
   ],
   "source": [
    "Vt"
   ]
  },
  {
   "cell_type": "markdown",
   "id": "0ded11c5",
   "metadata": {},
   "source": [
    "## 低秩逼近（low rank approximation）"
   ]
  },
  {
   "cell_type": "markdown",
   "id": "c7e82511",
   "metadata": {},
   "source": [
    "- https://en.wikipedia.org/wiki/Low-rank_approximation\n",
    "\n",
    "$$\n",
    "\\begin{split}\n",
    "&A_{m\\times n}=U_{m\\times m}\\Sigma_{m\\times n} V^T_{n\\times n}\\\\\n",
    "&A_k=\\sum_{i=1}^k\\sigma_iu_iv_i^T\n",
    "\\end{split}\n",
    "$$"
   ]
  },
  {
   "cell_type": "code",
   "execution_count": 17,
   "id": "a705a1d8",
   "metadata": {
    "ExecuteTime": {
     "end_time": "2023-05-21T02:05:14.216557Z",
     "start_time": "2023-05-21T02:05:14.207489Z"
    }
   },
   "outputs": [],
   "source": [
    "def low_rank_k(U, S, Vt, k):\n",
    "    m, n = U.shape[0], Vt.shape[0]\n",
    "    A_k = np.zeros((m, n))\n",
    "    for i in range(k):\n",
    "        A_k += S[i]*U[:, [i]].dot(Vt[[i], :])\n",
    "    return A_k"
   ]
  },
  {
   "cell_type": "code",
   "execution_count": 40,
   "id": "bc4404c7",
   "metadata": {
    "ExecuteTime": {
     "end_time": "2023-05-21T02:30:45.992235Z",
     "start_time": "2023-05-21T02:30:45.982816Z"
    }
   },
   "outputs": [
    {
     "name": "stdout",
     "output_type": "stream",
     "text": [
      "[[-0.3866689   0.33928507  0.10520867 -0.03458687 -0.31500214]\n",
      " [-0.97880869  0.44260941  2.96062902  2.0931785  -0.25936143]\n",
      " [ 0.4713509  -0.73204923 -0.6700932  -1.42363598 -0.31543659]]\n",
      "3\n"
     ]
    }
   ],
   "source": [
    "print(A)\n",
    "print(np.linalg.matrix_rank(A))"
   ]
  },
  {
   "cell_type": "code",
   "execution_count": 41,
   "id": "37211746",
   "metadata": {
    "ExecuteTime": {
     "end_time": "2023-05-21T02:30:54.704377Z",
     "start_time": "2023-05-21T02:30:54.690105Z"
    }
   },
   "outputs": [
    {
     "name": "stdout",
     "output_type": "stream",
     "text": [
      "[[-0.06173315  0.03968403  0.16701383  0.13834304 -0.00747006]\n",
      " [-1.01641841  0.65338611  2.74983437  2.27777811 -0.12299234]\n",
      " [ 0.42900164 -0.27577591 -1.16062779 -0.96138611  0.05191161]]\n"
     ]
    },
    {
     "data": {
      "text/plain": [
       "1"
      ]
     },
     "execution_count": 41,
     "metadata": {},
     "output_type": "execute_result"
    }
   ],
   "source": [
    "print(low_rank_k(U, s, Vt, 1))\n",
    "np.linalg.matrix_rank(low_rank_k(U, s, Vt, 1))"
   ]
  },
  {
   "cell_type": "code",
   "execution_count": 42,
   "id": "eed11116",
   "metadata": {
    "ExecuteTime": {
     "end_time": "2023-05-21T02:31:15.897461Z",
     "start_time": "2023-05-21T02:31:15.883493Z"
    }
   },
   "outputs": [
    {
     "name": "stdout",
     "output_type": "stream",
     "text": [
      "[[-0.06127888  0.03520922  0.17179054  0.13387206 -0.01100084]\n",
      " [-0.99672013  0.45934758  2.95696396  2.0839055  -0.2760955 ]\n",
      " [ 0.47573746 -0.73614845 -0.66919562 -1.421365   -0.31133838]]\n"
     ]
    },
    {
     "data": {
      "text/plain": [
       "2"
      ]
     },
     "execution_count": 42,
     "metadata": {},
     "output_type": "execute_result"
    }
   ],
   "source": [
    "print(low_rank_k(U, s, Vt, 2))\n",
    "np.linalg.matrix_rank(low_rank_k(U, s, Vt, 2))"
   ]
  },
  {
   "cell_type": "code",
   "execution_count": 43,
   "id": "cc5a02ae",
   "metadata": {
    "ExecuteTime": {
     "end_time": "2023-05-21T02:31:20.061395Z",
     "start_time": "2023-05-21T02:31:20.047711Z"
    }
   },
   "outputs": [
    {
     "name": "stdout",
     "output_type": "stream",
     "text": [
      "[[-0.3866689   0.33928507  0.10520867 -0.03458687 -0.31500214]\n",
      " [-0.97880869  0.44260941  2.96062902  2.0931785  -0.25936143]\n",
      " [ 0.4713509  -0.73204923 -0.6700932  -1.42363598 -0.31543659]]\n"
     ]
    },
    {
     "data": {
      "text/plain": [
       "3"
      ]
     },
     "execution_count": 43,
     "metadata": {},
     "output_type": "execute_result"
    }
   ],
   "source": [
    "print(low_rank_k(U, s, Vt, 3))\n",
    "np.linalg.matrix_rank(low_rank_k(U, s, Vt, 3))"
   ]
  },
  {
   "cell_type": "code",
   "execution_count": 44,
   "id": "06a11850",
   "metadata": {
    "ExecuteTime": {
     "end_time": "2023-05-21T02:31:26.417510Z",
     "start_time": "2023-05-21T02:31:26.407371Z"
    }
   },
   "outputs": [
    {
     "data": {
      "text/plain": [
       "array([[-0.3866689 ,  0.33928507,  0.10520867, -0.03458687, -0.31500214],\n",
       "       [-0.97880869,  0.44260941,  2.96062902,  2.0931785 , -0.25936143],\n",
       "       [ 0.4713509 , -0.73204923, -0.6700932 , -1.42363598, -0.31543659]])"
      ]
     },
     "execution_count": 44,
     "metadata": {},
     "output_type": "execute_result"
    }
   ],
   "source": [
    "A"
   ]
  }
 ],
 "metadata": {
  "kernelspec": {
   "display_name": "Python 3 (ipykernel)",
   "language": "python",
   "name": "python3"
  },
  "language_info": {
   "codemirror_mode": {
    "name": "ipython",
    "version": 3
   },
   "file_extension": ".py",
   "mimetype": "text/x-python",
   "name": "python",
   "nbconvert_exporter": "python",
   "pygments_lexer": "ipython3",
   "version": "3.10.9"
  },
  "toc": {
   "base_numbering": 1,
   "nav_menu": {},
   "number_sections": true,
   "sideBar": true,
   "skip_h1_title": false,
   "title_cell": "Table of Contents",
   "title_sidebar": "Contents",
   "toc_cell": false,
   "toc_position": {
    "height": "calc(100% - 180px)",
    "left": "10px",
    "top": "150px",
    "width": "227px"
   },
   "toc_section_display": true,
   "toc_window_display": true
  }
 },
 "nbformat": 4,
 "nbformat_minor": 5
}
