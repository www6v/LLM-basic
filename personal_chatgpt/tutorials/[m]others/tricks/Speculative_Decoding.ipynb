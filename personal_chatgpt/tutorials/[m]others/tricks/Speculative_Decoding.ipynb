{
 "cells": [
  {
   "cell_type": "code",
   "execution_count": 1,
   "id": "081b4022-ca3a-431d-b476-3a6558a5f8fd",
   "metadata": {},
   "outputs": [],
   "source": [
    "from IPython.display import Image"
   ]
  },
  {
   "cell_type": "markdown",
   "id": "f3712619-04f9-4052-bd89-79deb9c666f6",
   "metadata": {},
   "source": [
    "- strategy of generation：生成的策略，李宏毅\n",
    "    - https://drive.google.com/file/d/1Ac3oFUtq6ThokrMvB7VUfBCUFsoMPba-/view\n",
    "- paper\n",
    "    - https://github.com/lucidrains/speculative-decoding/tree/main\n",
    "    - https://pytorch.org/blog/hitchhikers-guide-speculative-decoding/"
   ]
  },
  {
   "cell_type": "code",
   "execution_count": 2,
   "id": "4e91baee-508d-4c67-a87e-62f748ad9acb",
   "metadata": {},
   "outputs": [
    {
     "data": {
      "text/html": [
       "<img src=\"./speculative_decoding.png\" width=\"800\"/>"
      ],
      "text/plain": [
       "<IPython.core.display.Image object>"
      ]
     },
     "execution_count": 2,
     "metadata": {},
     "output_type": "execute_result"
    }
   ],
   "source": [
    "Image(url='./speculative_decoding.png', width=800)"
   ]
  },
  {
   "cell_type": "markdown",
   "id": "6b0711e1-255c-4397-a198-ffc1e9fed25b",
   "metadata": {},
   "source": [
    "- 投机采样（猜测、随机)\n",
    "- approximation model vs. target model\n",
    "    - 预言家，模型小，速度快；\n",
    "        - 一次可以快速生成多个tokens\n",
    "    - non-AutoRegressive models，一次同时生成多个 tokens\n",
    "    - compressed models，量化/蒸馏，压缩过的小模型；\n",
    "    - 以外挂的形式接入，而不需要改变LLM；\n",
    "- 假如输入是 inputs，其输出为连续的两个 token：A, B\n",
    "    - 则对于 target model (LLM)，可以并行做三次推理，一次生成3个token（A+B+C）\n",
    "        - target_model(inputs) => A\n",
    "        - target_mdoel(inputs + A) => B\n",
    "        - target_mdoel(inputs + A + B) => C\n",
    "- 预言家犯错的情况，inputs => A,B (A is right, B is wrong)\n",
    "    - target_model(inputs) => A\n",
    "    - target_model(inputs + A) => **C**（这里识别错误）\n",
    "    - target_model(inputs + A + B) => D (显然更不可信)\n",
    "    - 这样依然可以一次生成2个tokens（A 和 C）\n",
    "- 极限情况下预言家预测的tokens （A 和 B）全错\n",
    "    -  target_model(inputs) => C\n",
    "    -  target_model(inputs + A) => D\n",
    "    -  target_mdoel(inputs + A + B) => E\n",
    "    -  此时最差可以拿到一个争取的 token；"
   ]
  }
 ],
 "metadata": {
  "kernelspec": {
   "display_name": "Python 3 (ipykernel)",
   "language": "python",
   "name": "python3"
  },
  "language_info": {
   "codemirror_mode": {
    "name": "ipython",
    "version": 3
   },
   "file_extension": ".py",
   "mimetype": "text/x-python",
   "name": "python",
   "nbconvert_exporter": "python",
   "pygments_lexer": "ipython3",
   "version": "3.10.13"
  }
 },
 "nbformat": 4,
 "nbformat_minor": 5
}
