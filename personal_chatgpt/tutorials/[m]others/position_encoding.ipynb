{
 "cells": [
  {
   "cell_type": "markdown",
   "id": "660e29fe",
   "metadata": {},
   "source": [
    "## basics"
   ]
  },
  {
   "cell_type": "markdown",
   "id": "3adad7f5",
   "metadata": {},
   "source": [
    "- absolute position encoding\n",
    "    - GPT-3\n",
    "- Sinusoidal Position Encoding\n",
    "- RoPE\n",
    "- ALiBi\n",
    "    - Attention with Linear Biases (ALiBi)\n",
    "    - https://arxiv.org/pdf/2108.12409.pdf\n",
    "\n",
    "- LM 的输入，有限序列长度，考虑到显存的限制\n",
    "    - 假如序列长度（窗口大小） 4000 tokens，推理阶段（inference）如果序列长度超出 4000，假如 4001 个 tokens，absolute position encoding挑战很大，"
   ]
  },
  {
   "cell_type": "markdown",
   "id": "c4ecaf8c",
   "metadata": {},
   "source": [
    "## absolute position encoding"
   ]
  },
  {
   "cell_type": "markdown",
   "id": "e196e4c7",
   "metadata": {},
   "source": [
    "- GPT-3, still use absolute positional embeddings.\n"
   ]
  },
  {
   "cell_type": "markdown",
   "id": "12b4f799",
   "metadata": {},
   "source": [
    "## RoPE"
   ]
  },
  {
   "cell_type": "markdown",
   "id": "b367e72d",
   "metadata": {},
   "source": [
    "## ALiBi"
   ]
  },
  {
   "cell_type": "markdown",
   "id": "94679072",
   "metadata": {},
   "source": []
  }
 ],
 "metadata": {
  "kernelspec": {
   "display_name": "Python 3 (ipykernel)",
   "language": "python",
   "name": "python3"
  },
  "language_info": {
   "codemirror_mode": {
    "name": "ipython",
    "version": 3
   },
   "file_extension": ".py",
   "mimetype": "text/x-python",
   "name": "python",
   "nbconvert_exporter": "python",
   "pygments_lexer": "ipython3",
   "version": "3.10.13"
  },
  "toc": {
   "base_numbering": 1,
   "nav_menu": {},
   "number_sections": true,
   "sideBar": true,
   "skip_h1_title": false,
   "title_cell": "Table of Contents",
   "title_sidebar": "Contents",
   "toc_cell": false,
   "toc_position": {},
   "toc_section_display": true,
   "toc_window_display": false
  }
 },
 "nbformat": 4,
 "nbformat_minor": 5
}
