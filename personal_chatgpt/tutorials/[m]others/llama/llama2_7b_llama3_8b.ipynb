{
 "cells": [
  {
   "cell_type": "code",
   "execution_count": 1,
   "id": "0c3d9529-3ccf-4c5a-90cd-254ec485b3c6",
   "metadata": {
    "execution": {
     "iopub.execute_input": "2024-07-13T11:26:21.086609Z",
     "iopub.status.busy": "2024-07-13T11:26:21.085232Z",
     "iopub.status.idle": "2024-07-13T11:26:22.705823Z",
     "shell.execute_reply": "2024-07-13T11:26:22.704961Z",
     "shell.execute_reply.started": "2024-07-13T11:26:21.086544Z"
    }
   },
   "outputs": [],
   "source": [
    "import transformers\n",
    "import torch\n",
    "from transformers import AutoModelForCausalLM\n",
    "\n",
    "from IPython.display import Image\n",
    "import os\n",
    "os.environ['http_proxy'] = 'http://127.0.0.1:7890'\n",
    "os.environ['https_proxy'] = 'http://127.0.0.1:7890'"
   ]
  },
  {
   "cell_type": "markdown",
   "id": "25705f14-e2fb-45a9-b832-eab2115b0eeb",
   "metadata": {},
   "source": [
    "## llama meta vs. hf"
   ]
  },
  {
   "cell_type": "markdown",
   "id": "a1f7d1e4-6c26-4b45-900e-e57b42f3c49d",
   "metadata": {},
   "source": [
    "\n",
    "- llama2-7b\n",
    "    - https://huggingface.co/meta-llama/Llama-2-7b/tree/main\n",
    "        - `checkpoint = torch.load(ckpt_path, map_location=\"cpu\")`\n",
    "        - `model = Transformer(model_args)`\n",
    "        - `model.load_state_dict(checkpoint, strict=False)`\n",
    "        - 自动地走 `bfloat16`（如果支持的话）\n",
    "    - https://huggingface.co/meta-llama/Llama-2-7b-hf/tree/main\n",
    "        - `pytorch_model.bin.index.json`\n",
    "- https://github.com/meta-llama/llama3/blob/main/MODEL_CARD.md"
   ]
  },
  {
   "cell_type": "markdown",
   "id": "4955fc37-c7b6-4019-9a76-3a8c91a279ba",
   "metadata": {},
   "source": [
    "## llama2-7b vs. llama3-8b (hf)"
   ]
  },
  {
   "cell_type": "code",
   "execution_count": 2,
   "id": "6c5afaaf-bd32-4428-ab1b-1a3645782c6b",
   "metadata": {
    "execution": {
     "iopub.execute_input": "2024-07-13T11:26:23.823165Z",
     "iopub.status.busy": "2024-07-13T11:26:23.822847Z",
     "iopub.status.idle": "2024-07-13T11:26:23.827949Z",
     "shell.execute_reply": "2024-07-13T11:26:23.826984Z",
     "shell.execute_reply.started": "2024-07-13T11:26:23.823148Z"
    }
   },
   "outputs": [],
   "source": [
    "llama2_id = 'meta-llama/Llama-2-7b-hf'\n",
    "llama3_id = \"meta-llama/Meta-Llama-3-8B\""
   ]
  },
  {
   "cell_type": "code",
   "execution_count": 3,
   "id": "234dee27-c218-4e96-af4c-ca45249c05f6",
   "metadata": {
    "execution": {
     "iopub.execute_input": "2024-07-13T11:26:33.052696Z",
     "iopub.status.busy": "2024-07-13T11:26:33.050086Z",
     "iopub.status.idle": "2024-07-13T11:26:45.132867Z",
     "shell.execute_reply": "2024-07-13T11:26:45.131984Z",
     "shell.execute_reply.started": "2024-07-13T11:26:33.052629Z"
    }
   },
   "outputs": [
    {
     "data": {
      "application/vnd.jupyter.widget-view+json": {
       "model_id": "f14875a59332445aa6acaead044c9628",
       "version_major": 2,
       "version_minor": 0
      },
      "text/plain": [
       "Loading checkpoint shards:   0%|          | 0/2 [00:00<?, ?it/s]"
      ]
     },
     "metadata": {},
     "output_type": "display_data"
    },
    {
     "name": "stderr",
     "output_type": "stream",
     "text": [
      "We've detected an older driver with an RTX 4000 series GPU. These drivers have issues with P2P. This can affect the multi-gpu inference when using accelerate device_map.Please make sure to update your driver to the latest version which resolves this.\n"
     ]
    }
   ],
   "source": [
    "# bfloat16: 2 byte\n",
    "# 7b => 14GB\n",
    "llama2 = AutoModelForCausalLM.from_pretrained(llama2_id, torch_dtype=torch.bfloat16, device_map='auto')"
   ]
  },
  {
   "cell_type": "code",
   "execution_count": 5,
   "id": "62bed3cc-0e5d-4faf-8602-13cab2d420ec",
   "metadata": {
    "execution": {
     "iopub.execute_input": "2024-07-13T11:27:44.205930Z",
     "iopub.status.busy": "2024-07-13T11:27:44.205245Z",
     "iopub.status.idle": "2024-07-13T11:27:44.214110Z",
     "shell.execute_reply": "2024-07-13T11:27:44.211969Z",
     "shell.execute_reply.started": "2024-07-13T11:27:44.205881Z"
    }
   },
   "outputs": [],
   "source": [
    "# for name, para in llama2.named_parameters():\n",
    "#     print(name, para.device)"
   ]
  },
  {
   "cell_type": "code",
   "execution_count": 6,
   "id": "ed97e026-7447-4525-bfd6-53f8b5ca414e",
   "metadata": {
    "execution": {
     "iopub.execute_input": "2024-07-13T11:27:49.049639Z",
     "iopub.status.busy": "2024-07-13T11:27:49.049007Z",
     "iopub.status.idle": "2024-07-13T11:27:53.203274Z",
     "shell.execute_reply": "2024-07-13T11:27:53.202212Z",
     "shell.execute_reply.started": "2024-07-13T11:27:49.049593Z"
    }
   },
   "outputs": [
    {
     "data": {
      "application/vnd.jupyter.widget-view+json": {
       "model_id": "ffe8ddd93a2841e8bbd46304f75a5ba5",
       "version_major": 2,
       "version_minor": 0
      },
      "text/plain": [
       "Loading checkpoint shards:   0%|          | 0/4 [00:00<?, ?it/s]"
      ]
     },
     "metadata": {},
     "output_type": "display_data"
    },
    {
     "name": "stderr",
     "output_type": "stream",
     "text": [
      "We've detected an older driver with an RTX 4000 series GPU. These drivers have issues with P2P. This can affect the multi-gpu inference when using accelerate device_map.Please make sure to update your driver to the latest version which resolves this.\n"
     ]
    }
   ],
   "source": [
    "# 8b => 16GB \n",
    "llama3 = AutoModelForCausalLM.from_pretrained(llama3_id, torch_dtype=torch.bfloat16, device_map='auto')"
   ]
  },
  {
   "cell_type": "markdown",
   "id": "68ef1008-bbea-46dd-90a1-223514e8df86",
   "metadata": {},
   "source": [
    "### `device_map='auto'`"
   ]
  },
  {
   "cell_type": "markdown",
   "id": "8a09e809-101f-4f0a-8875-04f18497c4fe",
   "metadata": {},
   "source": [
    "- 自动地模型并行；\n",
    "\n",
    "```\n",
    "if device_map != \"sequential\":\n",
    "    # Compute a `max_memory` dictionary for [`infer_auto_device_map`] that will balance the use of each available GPU.\n",
    "    max_memory = get_balanced_memory(\n",
    "        model,\n",
    "        dtype=target_dtype,\n",
    "        low_zero=(device_map == \"balanced_low_0\"),\n",
    "        max_memory=max_memory,\n",
    "        **device_map_kwargs,\n",
    "    )\n",
    "```"
   ]
  },
  {
   "cell_type": "markdown",
   "id": "98a96ed8-0a65-4bd2-b512-d14736e4e9ad",
   "metadata": {},
   "source": [
    "### learnable parameters"
   ]
  },
  {
   "cell_type": "code",
   "execution_count": 10,
   "id": "a136966c-5e33-4530-8511-80f7f55019d8",
   "metadata": {
    "execution": {
     "iopub.execute_input": "2024-07-13T10:56:13.626969Z",
     "iopub.status.busy": "2024-07-13T10:56:13.626645Z",
     "iopub.status.idle": "2024-07-13T10:56:13.634742Z",
     "shell.execute_reply": "2024-07-13T10:56:13.633168Z",
     "shell.execute_reply.started": "2024-07-13T10:56:13.626948Z"
    }
   },
   "outputs": [],
   "source": [
    "def print_trainable_parameters(model):\n",
    "    \"\"\"\n",
    "    Prints the number of trainable parameters in the model.\n",
    "    \"\"\"\n",
    "    trainable_params = 0\n",
    "    all_params = 0\n",
    "    for _, param in model.named_parameters():\n",
    "        all_params += param.numel()\n",
    "        if param.requires_grad:\n",
    "            trainable_params += param.numel()\n",
    "    print(f\"trainable params: {trainable_params} || all params: {all_params} || trainable%: {100 * trainable_params / all_params}\")"
   ]
  },
  {
   "cell_type": "code",
   "execution_count": 11,
   "id": "389f5edb-188e-4e7f-ad01-8f6fc66ff718",
   "metadata": {
    "execution": {
     "iopub.execute_input": "2024-07-13T10:56:15.079735Z",
     "iopub.status.busy": "2024-07-13T10:56:15.079112Z",
     "iopub.status.idle": "2024-07-13T10:56:15.095269Z",
     "shell.execute_reply": "2024-07-13T10:56:15.093024Z",
     "shell.execute_reply.started": "2024-07-13T10:56:15.079690Z"
    }
   },
   "outputs": [
    {
     "name": "stdout",
     "output_type": "stream",
     "text": [
      "trainable params: 6738415616 || all params: 6738415616 || trainable%: 100.0\n"
     ]
    }
   ],
   "source": [
    "print_trainable_parameters(llama2)"
   ]
  },
  {
   "cell_type": "code",
   "execution_count": 12,
   "id": "ace0cbb4-05e7-4f37-9a66-0dec030f1d3c",
   "metadata": {
    "execution": {
     "iopub.execute_input": "2024-07-13T10:56:28.007982Z",
     "iopub.status.busy": "2024-07-13T10:56:28.007343Z",
     "iopub.status.idle": "2024-07-13T10:56:28.021709Z",
     "shell.execute_reply": "2024-07-13T10:56:28.019532Z",
     "shell.execute_reply.started": "2024-07-13T10:56:28.007937Z"
    }
   },
   "outputs": [
    {
     "name": "stdout",
     "output_type": "stream",
     "text": [
      "trainable params: 8030261248 || all params: 8030261248 || trainable%: 100.0\n"
     ]
    }
   ],
   "source": [
    "print_trainable_parameters(llama3)"
   ]
  },
  {
   "cell_type": "code",
   "execution_count": 13,
   "id": "be123f24-bbb5-4d99-a41a-f72fa80353cf",
   "metadata": {
    "execution": {
     "iopub.execute_input": "2024-07-13T10:56:37.578281Z",
     "iopub.status.busy": "2024-07-13T10:56:37.577557Z",
     "iopub.status.idle": "2024-07-13T10:56:37.595970Z",
     "shell.execute_reply": "2024-07-13T10:56:37.593853Z",
     "shell.execute_reply.started": "2024-07-13T10:56:37.578233Z"
    }
   },
   "outputs": [
    {
     "data": {
      "text/plain": [
       "LlamaForCausalLM(\n",
       "  (model): LlamaModel(\n",
       "    (embed_tokens): Embedding(32000, 4096)\n",
       "    (layers): ModuleList(\n",
       "      (0-31): 32 x LlamaDecoderLayer(\n",
       "        (self_attn): LlamaSdpaAttention(\n",
       "          (q_proj): Linear(in_features=4096, out_features=4096, bias=False)\n",
       "          (k_proj): Linear(in_features=4096, out_features=4096, bias=False)\n",
       "          (v_proj): Linear(in_features=4096, out_features=4096, bias=False)\n",
       "          (o_proj): Linear(in_features=4096, out_features=4096, bias=False)\n",
       "          (rotary_emb): LlamaRotaryEmbedding()\n",
       "        )\n",
       "        (mlp): LlamaMLP(\n",
       "          (gate_proj): Linear(in_features=4096, out_features=11008, bias=False)\n",
       "          (up_proj): Linear(in_features=4096, out_features=11008, bias=False)\n",
       "          (down_proj): Linear(in_features=11008, out_features=4096, bias=False)\n",
       "          (act_fn): SiLU()\n",
       "        )\n",
       "        (input_layernorm): LlamaRMSNorm()\n",
       "        (post_attention_layernorm): LlamaRMSNorm()\n",
       "      )\n",
       "    )\n",
       "    (norm): LlamaRMSNorm()\n",
       "  )\n",
       "  (lm_head): Linear(in_features=4096, out_features=32000, bias=False)\n",
       ")"
      ]
     },
     "execution_count": 13,
     "metadata": {},
     "output_type": "execute_result"
    }
   ],
   "source": [
    "llama2"
   ]
  },
  {
   "cell_type": "code",
   "execution_count": 14,
   "id": "e1d1472a-ab6d-4a91-a47e-da70a46feef9",
   "metadata": {
    "execution": {
     "iopub.execute_input": "2024-07-13T10:56:41.427741Z",
     "iopub.status.busy": "2024-07-13T10:56:41.427103Z",
     "iopub.status.idle": "2024-07-13T10:56:41.445141Z",
     "shell.execute_reply": "2024-07-13T10:56:41.442967Z",
     "shell.execute_reply.started": "2024-07-13T10:56:41.427695Z"
    }
   },
   "outputs": [
    {
     "data": {
      "text/plain": [
       "LlamaForCausalLM(\n",
       "  (model): LlamaModel(\n",
       "    (embed_tokens): Embedding(128256, 4096)\n",
       "    (layers): ModuleList(\n",
       "      (0-31): 32 x LlamaDecoderLayer(\n",
       "        (self_attn): LlamaSdpaAttention(\n",
       "          (q_proj): Linear(in_features=4096, out_features=4096, bias=False)\n",
       "          (k_proj): Linear(in_features=4096, out_features=1024, bias=False)\n",
       "          (v_proj): Linear(in_features=4096, out_features=1024, bias=False)\n",
       "          (o_proj): Linear(in_features=4096, out_features=4096, bias=False)\n",
       "          (rotary_emb): LlamaRotaryEmbedding()\n",
       "        )\n",
       "        (mlp): LlamaMLP(\n",
       "          (gate_proj): Linear(in_features=4096, out_features=14336, bias=False)\n",
       "          (up_proj): Linear(in_features=4096, out_features=14336, bias=False)\n",
       "          (down_proj): Linear(in_features=14336, out_features=4096, bias=False)\n",
       "          (act_fn): SiLU()\n",
       "        )\n",
       "        (input_layernorm): LlamaRMSNorm()\n",
       "        (post_attention_layernorm): LlamaRMSNorm()\n",
       "      )\n",
       "    )\n",
       "    (norm): LlamaRMSNorm()\n",
       "  )\n",
       "  (lm_head): Linear(in_features=4096, out_features=128256, bias=False)\n",
       ")"
      ]
     },
     "execution_count": 14,
     "metadata": {},
     "output_type": "execute_result"
    }
   ],
   "source": [
    "llama3"
   ]
  },
  {
   "cell_type": "code",
   "execution_count": 27,
   "id": "cbc358eb-c61f-4c8c-8dd1-75c08c8b0fda",
   "metadata": {
    "execution": {
     "iopub.execute_input": "2024-07-13T11:00:06.529185Z",
     "iopub.status.busy": "2024-07-13T11:00:06.528555Z",
     "iopub.status.idle": "2024-07-13T11:00:06.542198Z",
     "shell.execute_reply": "2024-07-13T11:00:06.539963Z",
     "shell.execute_reply.started": "2024-07-13T11:00:06.529141Z"
    }
   },
   "outputs": [
    {
     "data": {
      "text/plain": [
       "('131,072,000', '525,336,576')"
      ]
     },
     "execution_count": 27,
     "metadata": {},
     "output_type": "execute_result"
    }
   ],
   "source": [
    "f'{llama2.model.embed_tokens.weight.numel():,}', f'{llama3.model.embed_tokens.weight.numel():,}'"
   ]
  },
  {
   "cell_type": "code",
   "execution_count": 29,
   "id": "81079605-6012-4949-94d3-e4b7ad1d6565",
   "metadata": {
    "execution": {
     "iopub.execute_input": "2024-07-13T11:05:00.421327Z",
     "iopub.status.busy": "2024-07-13T11:05:00.420696Z",
     "iopub.status.idle": "2024-07-13T11:05:00.433750Z",
     "shell.execute_reply": "2024-07-13T11:05:00.431585Z",
     "shell.execute_reply.started": "2024-07-13T11:05:00.421281Z"
    }
   },
   "outputs": [
    {
     "data": {
      "text/plain": [
       "(2.6875, 3.5)"
      ]
     },
     "execution_count": 29,
     "metadata": {},
     "output_type": "execute_result"
    }
   ],
   "source": [
    "11008/4096, 14336/4096"
   ]
  },
  {
   "cell_type": "markdown",
   "id": "bc326c01-5d29-4b4f-9bb8-19de4897a1a0",
   "metadata": {},
   "source": [
    "- attention mechanism （Transformer 最特色的）\n",
    "    - $X\\in\\mathbb R^{\\ell\\times d}$\n",
    "    - $W_k\\in\\mathbb R^{d\\times d_k},W_q\\in\\mathbb R^{d\\times d_k},W_v\\in\\mathbb R^{d\\times d_v}$\n",
    "    - $Q=XW_q\\in\\mathbb R^{\\ell\\times d_k}, K=XW_k\\in\\mathbb R^{\\ell\\times d_k}, V=XW_v\\in\\mathbb R^{\\ell\\times d_v}$\n",
    "\n",
    "$$\n",
    "\\text{Attention}(Q,K,V)=\\text{softmax}\\left(\\frac{QK^T}{\\sqrt{d_k}}\\right)V\n",
    "$$\n",
    "\n",
    "$$\n",
    "A_{ij}=\\frac{\\exp(\\frac{q^T_ik_j}{\\sqrt{d_k}})}{\\sum_{j'}\\exp(\\frac{q^T_ik_{j'}}{\\sqrt{d_k}})}\n",
    "$$\n"
   ]
  },
  {
   "cell_type": "code",
   "execution_count": 6,
   "id": "68a68dcf-7430-419f-9a3a-7757e48d9a5d",
   "metadata": {
    "execution": {
     "iopub.execute_input": "2024-07-13T05:17:10.636310Z",
     "iopub.status.busy": "2024-07-13T05:17:10.635673Z",
     "iopub.status.idle": "2024-07-13T05:17:10.648406Z",
     "shell.execute_reply": "2024-07-13T05:17:10.646567Z",
     "shell.execute_reply.started": "2024-07-13T05:17:10.636263Z"
    }
   },
   "outputs": [
    {
     "data": {
      "text/html": [
       "<img src=\"https://pbs.twimg.com/media/FzjhZk5X0AYAs_-?format=jpg&name=4096x4096\" width=\"500\"/>"
      ],
      "text/plain": [
       "<IPython.core.display.Image object>"
      ]
     },
     "execution_count": 6,
     "metadata": {},
     "output_type": "execute_result"
    }
   ],
   "source": [
    "# quality & computation efficiency\n",
    "Image(url='https://pbs.twimg.com/media/FzjhZk5X0AYAs_-?format=jpg&name=4096x4096', width=500)"
   ]
  },
  {
   "cell_type": "code",
   "execution_count": 30,
   "id": "dc67f78c-2656-4569-bf72-846682150f66",
   "metadata": {
    "execution": {
     "iopub.execute_input": "2024-07-13T11:11:12.923693Z",
     "iopub.status.busy": "2024-07-13T11:11:12.923059Z",
     "iopub.status.idle": "2024-07-13T11:11:12.934627Z",
     "shell.execute_reply": "2024-07-13T11:11:12.932628Z",
     "shell.execute_reply.started": "2024-07-13T11:11:12.923646Z"
    }
   },
   "outputs": [
    {
     "data": {
      "text/plain": [
       "128.0"
      ]
     },
     "execution_count": 30,
     "metadata": {},
     "output_type": "execute_result"
    }
   ],
   "source": [
    "(4096/32)"
   ]
  },
  {
   "cell_type": "markdown",
   "id": "96e4a029-d245-42a2-b303-4d1b0ccdbdb0",
   "metadata": {},
   "source": [
    "```\n",
    "# self attn\n",
    "self.q_proj = nn.Linear(self.hidden_size, self.num_heads * self.head_dim, bias=config.attention_bias)\n",
    "# GQA，llama2: 32*(4096/32) = 4096\n",
    "# GQA，llama3: 8*(4096/32) = 1024\n",
    "self.k_proj = nn.Linear(self.hidden_size, self.num_key_value_heads * self.head_dim, bias=config.attention_bias)\n",
    "self.v_proj = nn.Linear(self.hidden_size, self.num_key_value_heads * self.head_dim, bias=config.attention_bias)\n",
    "self.o_proj = nn.Linear(self.hidden_size, self.hidden_size, bias=config.attention_bias)\n",
    "\n",
    "# GQA\n",
    "# llama2: 32/32\n",
    "# llama3: 32/8 = 4, 4对1\n",
    "self.num_key_value_groups = self.num_heads // self.num_key_value_heads\n",
    "\n",
    "# mlp\n",
    "self.gate_proj = nn.Linear(self.hidden_size, self.intermediate_size, bias=config.mlp_bias)\n",
    "self.up_proj = nn.Linear(self.hidden_size, self.intermediate_size, bias=config.mlp_bias)\n",
    "self.down_proj = nn.Linear(self.intermediate_size, self.hidden_size, bias=config.mlp_bias)\n",
    "\n",
    "# mlp forward\n",
    "# hf\n",
    "down_proj = self.down_proj(self.act_fn(self.gate_proj(x)) * self.up_proj(x))\n",
    "# meta\n",
    "self.w2(F.silu(self.w1(x)) * self.w3(x))\n",
    "```"
   ]
  },
  {
   "cell_type": "markdown",
   "id": "94342b9e-5d2a-4418-9489-4e7c1f08e625",
   "metadata": {},
   "source": [
    "|     **model**    | **heads** | **layers** | **dim** | **head_dim** |\n",
    "|------------------|-----------|------------|---------|--------------|\n",
    "| llama2-7b        | 32        | 32         | 4096    | 4096/32      |\n",
    "| llama2-13b       | 40        | 40         | 5120    | 5120/40      |\n",
    "| llama2-70b       | 64        | 80         | 8192    | 8192/64      |\n",
    "\n",
    "|     **model**    | **heads** | **layers** | **dim** | **head_dim** |\n",
    "|------------------|-----------|------------|---------|--------------|\n",
    "| llama3-8b        | 32        | 32         | 4096    | 4096/32      |\n",
    "\n",
    "-  vocab_size (Embedding):\n",
    "    - llama2: 32000\n",
    "    - llama3: 128256\n",
    "- GQA (k_proj, v_proj)\n",
    "    - head_dim: hidden_size/num_heads\n",
    "        - llama2: 4096/32 = 128\n",
    "        - llama3: 4096/32 = 128\n",
    "    - llama2: **32***(4096/32) = 4096\n",
    "    - llama3: 8*128 = 1024 (k_proj, v_proj 可以看到一个 learnable parameters 的一个降低)"
   ]
  },
  {
   "cell_type": "code",
   "execution_count": null,
   "id": "ef01a56d-076f-4d9c-839d-ff5261f8ce45",
   "metadata": {},
   "outputs": [],
   "source": []
  }
 ],
 "metadata": {
  "kernelspec": {
   "display_name": "Python 3 (ipykernel)",
   "language": "python",
   "name": "python3"
  },
  "language_info": {
   "codemirror_mode": {
    "name": "ipython",
    "version": 3
   },
   "file_extension": ".py",
   "mimetype": "text/x-python",
   "name": "python",
   "nbconvert_exporter": "python",
   "pygments_lexer": "ipython3",
   "version": "3.10.13"
  }
 },
 "nbformat": 4,
 "nbformat_minor": 5
}
