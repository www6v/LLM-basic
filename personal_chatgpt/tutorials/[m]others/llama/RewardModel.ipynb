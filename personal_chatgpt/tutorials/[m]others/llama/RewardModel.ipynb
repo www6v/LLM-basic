{
 "cells": [
  {
   "cell_type": "markdown",
   "id": "a0a01d80-dad0-4938-962a-7ebfa5fce292",
   "metadata": {},
   "source": [
    "## Adding a margin to the loss"
   ]
  },
  {
   "cell_type": "markdown",
   "id": "c41539df-4cab-4d4a-98d1-e5fef7d7fdc1",
   "metadata": {},
   "source": [
    "- https://huggingface.co/papers/2307.09288"
   ]
  },
  {
   "cell_type": "markdown",
   "id": "af0b8039-4221-4098-b886-9ea95363d40b",
   "metadata": {},
   "source": [
    "$$\n",
    "\\mathcal{L}_{\\text{ranking}} = -\\log\\left(\\sigma\\left(r_{\\theta}(x, y_c) - r_{\\theta}(x, y_r) - m(r)\\right)\\right)\n",
    "$$\n",
    "\n",
    "- where the margin $m(r)$ is a discrete function of the preference rating. Naturally, we use a large margin\n",
    "for pairs with distinct responses, and a smaller one for those with similar responses"
   ]
  },
  {
   "cell_type": "markdown",
   "id": "83644f40-179b-45d0-bf87-796b8f82a1aa",
   "metadata": {},
   "source": [
    "```\n",
    "def add_margin(row):\n",
    "    # Assume you have a score_chosen and score_rejected columns that you want to use to compute the margin\n",
    "    return {'margin': row['score_chosen'] - row['score_rejected']}\n",
    "\n",
    "dataset = dataset.map(add_margin)\n",
    "```"
   ]
  },
  {
   "cell_type": "code",
   "execution_count": null,
   "id": "6ab2e07d-4270-4aac-8be9-9eed25c5482e",
   "metadata": {},
   "outputs": [],
   "source": []
  }
 ],
 "metadata": {
  "kernelspec": {
   "display_name": "Python 3 (ipykernel)",
   "language": "python",
   "name": "python3"
  },
  "language_info": {
   "codemirror_mode": {
    "name": "ipython",
    "version": 3
   },
   "file_extension": ".py",
   "mimetype": "text/x-python",
   "name": "python",
   "nbconvert_exporter": "python",
   "pygments_lexer": "ipython3",
   "version": "3.10.13"
  }
 },
 "nbformat": 4,
 "nbformat_minor": 5
}
