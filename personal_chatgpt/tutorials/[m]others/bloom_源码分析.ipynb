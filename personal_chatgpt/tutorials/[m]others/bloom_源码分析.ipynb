{
 "cells": [
  {
   "cell_type": "markdown",
   "id": "e6ff21d9",
   "metadata": {},
   "source": [
    "## query_key_value"
   ]
  },
  {
   "cell_type": "markdown",
   "id": "10963322",
   "metadata": {},
   "source": [
    "```\n",
    "class BloomAttention(nn.Module):\n",
    "    def __init__(self, config: BloomConfig):\n",
    "        self.query_key_value = nn.Linear(self.hidden_size, 3 * self.hidden_size, bias=True)\n",
    "        \n",
    "    def forward(self, ...):\n",
    "        fused_qkv = self.query_key_value(hidden_states)  # [batch_size, seq_length, 3 x hidden_size]\n",
    "        \n",
    "        # 3 x [batch_size, seq_length, num_heads, head_dim]\n",
    "        (query_layer, key_layer, value_layer) = self._split_heads(fused_qkv)\n",
    "```"
   ]
  }
 ],
 "metadata": {
  "kernelspec": {
   "display_name": "Python 3 (ipykernel)",
   "language": "python",
   "name": "python3"
  },
  "language_info": {
   "codemirror_mode": {
    "name": "ipython",
    "version": 3
   },
   "file_extension": ".py",
   "mimetype": "text/x-python",
   "name": "python",
   "nbconvert_exporter": "python",
   "pygments_lexer": "ipython3",
   "version": "3.10.9"
  },
  "toc": {
   "base_numbering": 1,
   "nav_menu": {},
   "number_sections": true,
   "sideBar": true,
   "skip_h1_title": false,
   "title_cell": "Table of Contents",
   "title_sidebar": "Contents",
   "toc_cell": false,
   "toc_position": {},
   "toc_section_display": true,
   "toc_window_display": false
  }
 },
 "nbformat": 4,
 "nbformat_minor": 5
}
