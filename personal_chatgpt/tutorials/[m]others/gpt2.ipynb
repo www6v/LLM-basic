{
 "cells": [
  {
   "cell_type": "markdown",
   "id": "bd6bfeca",
   "metadata": {},
   "source": [
    "## datasets"
   ]
  },
  {
   "cell_type": "code",
   "execution_count": 7,
   "id": "df276db8",
   "metadata": {
    "ExecuteTime": {
     "end_time": "2023-07-08T14:15:23.584689Z",
     "start_time": "2023-07-08T14:15:23.457504Z"
    }
   },
   "outputs": [],
   "source": [
    "!cd /media/whaow/ "
   ]
  },
  {
   "cell_type": "code",
   "execution_count": 2,
   "id": "e4af8565",
   "metadata": {
    "ExecuteTime": {
     "end_time": "2023-07-08T14:14:46.511203Z",
     "start_time": "2023-07-08T14:14:45.732808Z"
    }
   },
   "outputs": [],
   "source": [
    "from datasets import load_dataset, DownloadConfig, load_dataset_builder"
   ]
  },
  {
   "cell_type": "code",
   "execution_count": 3,
   "id": "cb2efb99",
   "metadata": {
    "ExecuteTime": {
     "end_time": "2023-07-08T14:14:49.373507Z",
     "start_time": "2023-07-08T14:14:49.368501Z"
    }
   },
   "outputs": [],
   "source": [
    "# import os\n",
    "# os.environ['HTTP_PROXY'] = 'http://127.0.0.1:7890'\n",
    "# os.environ['HTTPS_PROXY'] = 'http://127.0.0.1:7890'\n",
    "# os.environ['all_proxy'] = 'socks5://127.0.0.1:7890'\n",
    "# os.environ['CURL_CA_BUNDLE'] = ''"
   ]
  },
  {
   "cell_type": "code",
   "execution_count": 8,
   "id": "493b86b6",
   "metadata": {
    "ExecuteTime": {
     "end_time": "2023-07-08T14:15:25.479215Z",
     "start_time": "2023-07-08T14:15:25.356306Z"
    }
   },
   "outputs": [
    {
     "name": "stdout",
     "output_type": "stream",
     "text": [
      "/home/whaow/workspaces/personal_chatgpt/tutorials\r\n"
     ]
    }
   ],
   "source": [
    "!pwd"
   ]
  },
  {
   "cell_type": "code",
   "execution_count": 5,
   "id": "b061a3cd",
   "metadata": {
    "ExecuteTime": {
     "end_time": "2023-07-08T14:15:05.095521Z",
     "start_time": "2023-07-08T14:15:01.105736Z"
    }
   },
   "outputs": [
    {
     "data": {
      "application/vnd.jupyter.widget-view+json": {
       "model_id": "ebf029bda1ea4c1593de45f8a12f4c77",
       "version_major": 2,
       "version_minor": 0
      },
      "text/plain": [
       "Resolving data files:   0%|          | 0/184 [00:00<?, ?it/s]"
      ]
     },
     "metadata": {},
     "output_type": "display_data"
    },
    {
     "data": {
      "text/plain": [
       "'/media/whaow/.cache/huggingface/datasets/json/codeparrot-d10722bddea95ca9/0.0.0/0f7e3662623656454fcd2b650f34e886a7db4b9104504885bd462096cc7a9f51'"
      ]
     },
     "execution_count": 5,
     "metadata": {},
     "output_type": "execute_result"
    }
   ],
   "source": [
    "# config = DownloadConfig(delete_extracted=True)\n",
    "load_dataset_builder('./dataset/codeparrot/').cache_dir\n",
    "# load_dataset('./dataset/codeparrot', split='train')\n",
    "# /media/whaow/.cache/huggingface/datasets/json/codeparrot-ed48b0160d7b840d/0.0.0/0f7e3662623656454fcd2b650f34e886a7db4b9104504885bd462096cc7a9f51"
   ]
  }
 ],
 "metadata": {
  "kernelspec": {
   "display_name": "Python 3 (ipykernel)",
   "language": "python",
   "name": "python3"
  },
  "language_info": {
   "codemirror_mode": {
    "name": "ipython",
    "version": 3
   },
   "file_extension": ".py",
   "mimetype": "text/x-python",
   "name": "python",
   "nbconvert_exporter": "python",
   "pygments_lexer": "ipython3",
   "version": "3.10.9"
  },
  "toc": {
   "base_numbering": 1,
   "nav_menu": {},
   "number_sections": true,
   "sideBar": true,
   "skip_h1_title": false,
   "title_cell": "Table of Contents",
   "title_sidebar": "Contents",
   "toc_cell": false,
   "toc_position": {},
   "toc_section_display": true,
   "toc_window_display": false
  }
 },
 "nbformat": 4,
 "nbformat_minor": 5
}
