{
 "cells": [
  {
   "cell_type": "markdown",
   "id": "dc88dc2c",
   "metadata": {},
   "source": [
    "## basics"
   ]
  },
  {
   "cell_type": "markdown",
   "id": "f1699a7e",
   "metadata": {},
   "source": [
    "- dataset\n",
    "    - \"tatsu-lab/alpaca\"\n",
    "    - \"timdettmers/openassistant-guanaco\"\n",
    "- mdoels\n",
    "    - casual model\n",
    "        - \"Salesforce/xgen-7b-8k-base\"\n",
    "        - \"facebook/opt-350m\"\n",
    "        - \"bigscience/bloom-3b\""
   ]
  },
  {
   "cell_type": "markdown",
   "id": "60b33fbd",
   "metadata": {},
   "source": [
    "## datasets"
   ]
  },
  {
   "cell_type": "code",
   "execution_count": 1,
   "id": "d0df36be",
   "metadata": {
    "ExecuteTime": {
     "end_time": "2023-07-30T08:42:02.656089Z",
     "start_time": "2023-07-30T08:41:44.229534Z"
    }
   },
   "outputs": [
    {
     "name": "stderr",
     "output_type": "stream",
     "text": [
      "Found cached dataset parquet (/media/whaow/.cache/huggingface/datasets/tatsu-lab___parquet/tatsu-lab--alpaca-2b32f0433506ef5f/0.0.0/2a3b91fbd88a2c90d1dbbb32b460cf621d31bd5b05b934492fdef7d8d6f236ec)\n"
     ]
    }
   ],
   "source": [
    "from datasets import load_dataset\n",
    "train_dataset = load_dataset(\"tatsu-lab/alpaca\", split=\"train\")"
   ]
  },
  {
   "cell_type": "code",
   "execution_count": 8,
   "id": "4d01c19d",
   "metadata": {
    "ExecuteTime": {
     "end_time": "2023-07-30T08:43:03.861530Z",
     "start_time": "2023-07-30T08:43:03.852133Z"
    }
   },
   "outputs": [
    {
     "name": "stdout",
     "output_type": "stream",
     "text": [
      "{'instruction': 'Give three tips for staying healthy.', 'input': '', 'output': '1.Eat a balanced diet and make sure to include plenty of fruits and vegetables. \\n2. Exercise regularly to keep your body active and strong. \\n3. Get enough sleep and maintain a consistent sleep schedule.', 'text': 'Below is an instruction that describes a task. Write a response that appropriately completes the request.\\n\\n### Instruction:\\nGive three tips for staying healthy.\\n\\n### Response:\\n1.Eat a balanced diet and make sure to include plenty of fruits and vegetables. \\n2. Exercise regularly to keep your body active and strong. \\n3. Get enough sleep and maintain a consistent sleep schedule.'}\n",
      "==================\n",
      "Below is an instruction that describes a task. Write a response that appropriately completes the request.\n",
      "\n",
      "### Instruction:\n",
      "Give three tips for staying healthy.\n",
      "\n",
      "### Response:\n",
      "1.Eat a balanced diet and make sure to include plenty of fruits and vegetables. \n",
      "2. Exercise regularly to keep your body active and strong. \n",
      "3. Get enough sleep and maintain a consistent sleep schedule.\n"
     ]
    }
   ],
   "source": [
    "# withoout input\n",
    "print(train_dataset[0])\n",
    "print('==================')\n",
    "print(train_dataset[0]['text'])"
   ]
  },
  {
   "cell_type": "code",
   "execution_count": 10,
   "id": "dfdf6035",
   "metadata": {
    "ExecuteTime": {
     "end_time": "2023-07-30T08:43:11.167219Z",
     "start_time": "2023-07-30T08:43:11.159858Z"
    }
   },
   "outputs": [
    {
     "name": "stdout",
     "output_type": "stream",
     "text": [
      "{'instruction': 'Identify the odd one out.', 'input': 'Twitter, Instagram, Telegram', 'output': 'Telegram', 'text': 'Below is an instruction that describes a task, paired with an input that provides further context. Write a response that appropriately completes the request.\\n\\n### Instruction:\\nIdentify the odd one out.\\n\\n### Input:\\nTwitter, Instagram, Telegram\\n\\n### Response:\\nTelegram'}\n",
      "==================\n",
      "Below is an instruction that describes a task, paired with an input that provides further context. Write a response that appropriately completes the request.\n",
      "\n",
      "### Instruction:\n",
      "Identify the odd one out.\n",
      "\n",
      "### Input:\n",
      "Twitter, Instagram, Telegram\n",
      "\n",
      "### Response:\n",
      "Telegram\n"
     ]
    }
   ],
   "source": [
    "# with input\n",
    "print(train_dataset[5])\n",
    "print('==================')\n",
    "print(train_dataset[5]['text'])"
   ]
  },
  {
   "cell_type": "markdown",
   "id": "7ace3d06",
   "metadata": {},
   "source": [
    "## models"
   ]
  },
  {
   "cell_type": "code",
   "execution_count": null,
   "id": "7f69134c",
   "metadata": {},
   "outputs": [],
   "source": [
    "model_ckpt = \"Salesforce/xgen-7b-8k-base\"\n",
    "# model = AutoModelForCausalLM.from_pretrained(\n",
    "#         model_ckpt, load_in_4bit=True, torch_dtype=torch.float16, device_map=\"auto\"\n",
    "#     )"
   ]
  },
  {
   "cell_type": "code",
   "execution_count": null,
   "id": "4a7a3b69",
   "metadata": {},
   "outputs": [],
   "source": []
  }
 ],
 "metadata": {
  "kernelspec": {
   "display_name": "Python 3 (ipykernel)",
   "language": "python",
   "name": "python3"
  },
  "language_info": {
   "codemirror_mode": {
    "name": "ipython",
    "version": 3
   },
   "file_extension": ".py",
   "mimetype": "text/x-python",
   "name": "python",
   "nbconvert_exporter": "python",
   "pygments_lexer": "ipython3",
   "version": "3.10.9"
  },
  "toc": {
   "base_numbering": 1,
   "nav_menu": {},
   "number_sections": true,
   "sideBar": true,
   "skip_h1_title": false,
   "title_cell": "Table of Contents",
   "title_sidebar": "Contents",
   "toc_cell": false,
   "toc_position": {},
   "toc_section_display": true,
   "toc_window_display": false
  }
 },
 "nbformat": 4,
 "nbformat_minor": 5
}
