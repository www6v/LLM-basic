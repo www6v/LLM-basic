{
 "cells": [
  {
   "cell_type": "markdown",
   "id": "c60c80a8-9fbe-45df-836f-faa8119b3f46",
   "metadata": {},
   "source": [
    "## HumanEval"
   ]
  },
  {
   "cell_type": "markdown",
   "id": "6d7bfae1-67a3-4c67-af61-0e36b235c8b3",
   "metadata": {},
   "source": [
    "- OpenAI 发布的 HumanEval 数据集包括 164 个编程问题，包括函数签名、文档字符串、正文和多个单元测试。它们是手写的，以确保不包含在代码生成模型的训练集中。"
   ]
  }
 ],
 "metadata": {
  "kernelspec": {
   "display_name": "Python 3 (ipykernel)",
   "language": "python",
   "name": "python3"
  },
  "language_info": {
   "codemirror_mode": {
    "name": "ipython",
    "version": 3
   },
   "file_extension": ".py",
   "mimetype": "text/x-python",
   "name": "python",
   "nbconvert_exporter": "python",
   "pygments_lexer": "ipython3",
   "version": "3.10.13"
  }
 },
 "nbformat": 4,
 "nbformat_minor": 5
}
