{
 "cells": [
  {
   "cell_type": "code",
   "execution_count": 1,
   "id": "77fe99d3",
   "metadata": {
    "ExecuteTime": {
     "end_time": "2024-03-22T15:10:38.378771Z",
     "start_time": "2024-03-22T15:10:32.697051Z"
    }
   },
   "outputs": [
    {
     "name": "stdout",
     "output_type": "stream",
     "text": [
      "[2024-03-23 13:50:02,109] [INFO] [real_accelerator.py:161:get_accelerator] Setting ds_accelerator to cuda (auto detect)\n"
     ]
    }
   ],
   "source": [
    "import peft\n",
    "from peft import LoraConfig, get_peft_model\n",
    "import os\n",
    "import torch\n",
    "import numpy as np\n",
    "from tqdm import tqdm\n",
    "from torch import nn\n",
    "from torch import optim\n",
    "from torch.utils.data import Dataset, DataLoader\n",
    "import torchvision\n",
    "from torchvision import transforms\n",
    "from torchvision.transforms import Resize\n",
    "from torchvision.models import resnet152"
   ]
  },
  {
   "cell_type": "code",
   "execution_count": 2,
   "id": "5652aa98",
   "metadata": {
    "ExecuteTime": {
     "end_time": "2024-03-22T15:10:38.382565Z",
     "start_time": "2024-03-22T15:10:38.380333Z"
    }
   },
   "outputs": [],
   "source": [
    "os.environ['http_proxy'] = 'http://127.0.0.1:7890'\n",
    "os.environ['https_proxy'] = 'http://127.0.0.1:7890'"
   ]
  },
  {
   "cell_type": "code",
   "execution_count": 3,
   "id": "bbb5bcb0",
   "metadata": {
    "ExecuteTime": {
     "end_time": "2024-03-22T15:10:38.850562Z",
     "start_time": "2024-03-22T15:10:38.383572Z"
    }
   },
   "outputs": [],
   "source": [
    "DEVICE = \"cuda:0\"\n",
    "normalize = transforms.Compose(\n",
    "    [\n",
    "        transforms.Resize(224),\n",
    "        transforms.ToTensor(),\n",
    "        transforms.Normalize([0.485, 0.456, 0.406], [0.229, 0.224, 0.225]),\n",
    "    ]\n",
    ")\n",
    "train_set = torchvision.datasets.CIFAR10(\n",
    "    root=\"./data\", \n",
    "    train=True, \n",
    "#     download=True, \n",
    "    transform=normalize\n",
    ")\n",
    "train_loader = DataLoader(train_set, batch_size=128, shuffle=False, num_workers=2)"
   ]
  },
  {
   "cell_type": "code",
   "execution_count": 5,
   "id": "1d108dda",
   "metadata": {
    "ExecuteTime": {
     "end_time": "2024-03-22T15:10:39.141895Z",
     "start_time": "2024-03-22T15:10:38.852033Z"
    }
   },
   "outputs": [],
   "source": [
    "test_set = torchvision.datasets.CIFAR10(\n",
    "    root='./data', \n",
    "    train=False, \n",
    "#     download=True, \n",
    "    transform=normalize)\n",
    "test_loader = torch.utils.data.DataLoader(\n",
    "    test_set, batch_size=128, shuffle=False, num_workers=2)"
   ]
  },
  {
   "cell_type": "code",
   "execution_count": 4,
   "id": "a8506c9a",
   "metadata": {
    "ExecuteTime": {
     "end_time": "2024-03-22T15:10:39.274172Z",
     "start_time": "2024-03-22T15:10:39.270705Z"
    }
   },
   "outputs": [],
   "source": [
    "criterion = nn.CrossEntropyLoss()"
   ]
  },
  {
   "cell_type": "code",
   "execution_count": 6,
   "id": "5cd55625",
   "metadata": {
    "ExecuteTime": {
     "end_time": "2024-03-22T15:10:40.111193Z",
     "start_time": "2024-03-22T15:10:40.104158Z"
    }
   },
   "outputs": [],
   "source": [
    "def train(net, train_loader, lr=1e-3, epochs=20):\n",
    "    trainable_para = []\n",
    "    for p in net.parameters():\n",
    "        if p.requires_grad:\n",
    "            trainable_para.append(p)\n",
    "            \n",
    "    print(\"num of trainable parameters: \", sum(p.numel() for p in trainable_para if p.requires_grad))\n",
    "    optimizer = optim.Adam(trainable_para, lr=lr)\n",
    "    scheduler = torch.optim.lr_scheduler.CosineAnnealingLR(optimizer, T_max=epochs)\n",
    "    net.train()\n",
    "    \n",
    "    for epoch in range(epochs):\n",
    "        net.train()\n",
    "        for inputs, targets in tqdm(train_loader):\n",
    "            inputs, targets = inputs.to(DEVICE), targets.to(DEVICE)\n",
    "            optimizer.zero_grad()\n",
    "            outputs = net(inputs)\n",
    "            loss = criterion(outputs, targets)\n",
    "            loss.backward()\n",
    "            optimizer.step()\n",
    "        scheduler.step()\n",
    "        if (epoch+1) % 2 == 0:\n",
    "            test(net)\n",
    "    net.eval()"
   ]
  },
  {
   "cell_type": "code",
   "execution_count": 7,
   "id": "5329d9de",
   "metadata": {
    "ExecuteTime": {
     "end_time": "2024-03-22T15:10:41.705390Z",
     "start_time": "2024-03-22T15:10:41.695381Z"
    }
   },
   "outputs": [],
   "source": [
    "def test(net):\n",
    "    net.eval()\n",
    "    test_loss = 0\n",
    "    correct = 0\n",
    "    total = 0\n",
    "    with torch.no_grad():\n",
    "        for batch_idx, (inputs, targets) in enumerate(test_loader):\n",
    "            inputs, targets = inputs.to(DEVICE), targets.to(DEVICE)\n",
    "            outputs = net(inputs)\n",
    "            loss = criterion(outputs, targets)\n",
    "\n",
    "            test_loss += loss.item()\n",
    "            _, predicted = outputs.max(1)\n",
    "            total += targets.size(0)\n",
    "            correct += predicted.eq(targets).sum().item()\n",
    "\n",
    "    print( 'Loss: %.3f | Acc: %.3f%% (%d/%d)' % (test_loss/len(test_loader), 100.*correct/total, correct, total))"
   ]
  },
  {
   "cell_type": "markdown",
   "id": "8025e676",
   "metadata": {},
   "source": [
    "## whole train"
   ]
  },
  {
   "cell_type": "code",
   "execution_count": 8,
   "id": "cd2a7fd1",
   "metadata": {
    "ExecuteTime": {
     "start_time": "2024-03-22T15:10:43.376Z"
    }
   },
   "outputs": [
    {
     "name": "stdout",
     "output_type": "stream",
     "text": [
      "num of trainable parameters:  58164298\n"
     ]
    },
    {
     "name": "stderr",
     "output_type": "stream",
     "text": [
      " 18%|█▊        | 71/391 [00:30<02:16,  2.34it/s]\n"
     ]
    },
    {
     "ename": "KeyboardInterrupt",
     "evalue": "",
     "output_type": "error",
     "traceback": [
      "\u001b[0;31m---------------------------------------------------------------------------\u001b[0m",
      "\u001b[0;31mKeyboardInterrupt\u001b[0m                         Traceback (most recent call last)",
      "Cell \u001b[0;32mIn[8], line 6\u001b[0m\n\u001b[1;32m      4\u001b[0m model\u001b[38;5;241m.\u001b[39mto(DEVICE)\n\u001b[1;32m      5\u001b[0m train_loader \u001b[38;5;241m=\u001b[39m DataLoader(train_set, batch_size\u001b[38;5;241m=\u001b[39m\u001b[38;5;241m128\u001b[39m, shuffle\u001b[38;5;241m=\u001b[39m\u001b[38;5;28;01mFalse\u001b[39;00m, num_workers\u001b[38;5;241m=\u001b[39m\u001b[38;5;241m2\u001b[39m)\n\u001b[0;32m----> 6\u001b[0m \u001b[43mtrain\u001b[49m\u001b[43m(\u001b[49m\u001b[43mmodel\u001b[49m\u001b[43m,\u001b[49m\u001b[43m \u001b[49m\u001b[43mtrain_loader\u001b[49m\u001b[43m,\u001b[49m\u001b[43m \u001b[49m\u001b[43mlr\u001b[49m\u001b[38;5;241;43m=\u001b[39;49m\u001b[38;5;241;43m3e-4\u001b[39;49m\u001b[43m)\u001b[49m\n",
      "Cell \u001b[0;32mIn[6], line 15\u001b[0m, in \u001b[0;36mtrain\u001b[0;34m(net, train_loader, lr, epochs)\u001b[0m\n\u001b[1;32m     13\u001b[0m net\u001b[38;5;241m.\u001b[39mtrain()\n\u001b[1;32m     14\u001b[0m \u001b[38;5;28;01mfor\u001b[39;00m inputs, targets \u001b[38;5;129;01min\u001b[39;00m tqdm(train_loader):\n\u001b[0;32m---> 15\u001b[0m     inputs, targets \u001b[38;5;241m=\u001b[39m \u001b[43minputs\u001b[49m\u001b[38;5;241;43m.\u001b[39;49m\u001b[43mto\u001b[49m\u001b[43m(\u001b[49m\u001b[43mDEVICE\u001b[49m\u001b[43m)\u001b[49m, targets\u001b[38;5;241m.\u001b[39mto(DEVICE)\n\u001b[1;32m     16\u001b[0m     optimizer\u001b[38;5;241m.\u001b[39mzero_grad()\n\u001b[1;32m     17\u001b[0m     outputs \u001b[38;5;241m=\u001b[39m net(inputs)\n",
      "\u001b[0;31mKeyboardInterrupt\u001b[0m: "
     ]
    }
   ],
   "source": [
    "model = resnet152(weights='DEFAULT')\n",
    "in_features = model.fc.in_features\n",
    "model.fc = nn.Linear(in_features, 10)\n",
    "model.to(DEVICE)\n",
    "train_loader = DataLoader(train_set, batch_size=128, shuffle=False, num_workers=2)\n",
    "train(model, train_loader, lr=3e-4)"
   ]
  },
  {
   "cell_type": "markdown",
   "id": "62554680",
   "metadata": {
    "ExecuteTime": {
     "end_time": "2024-03-22T14:16:03.463802Z",
     "start_time": "2024-03-22T14:16:03.455950Z"
    }
   },
   "source": [
    "## lora"
   ]
  },
  {
   "cell_type": "code",
   "execution_count": null,
   "id": "38682556",
   "metadata": {
    "ExecuteTime": {
     "end_time": "2024-03-22T14:53:30.368881Z",
     "start_time": "2024-03-22T14:53:29.193944Z"
    }
   },
   "outputs": [],
   "source": [
    "target_modules = []\n",
    "available_types = [torch.nn.modules.conv.Conv2d, torch.nn.modules.linear.Linear]\n",
    "for n, m in model.named_modules():\n",
    "    if type(m) in available_types:\n",
    "        target_modules.append(n)\n",
    "target_modules.remove('fc')\n",
    "\n",
    "config = LoraConfig(\n",
    "    r=16,\n",
    "    lora_alpha=16,\n",
    "    lora_dropout=0.1,\n",
    "    bias=\"none\",# 'none', 'all' or 'lora_only'\n",
    "    target_modules=target_modules,\n",
    "    modules_to_save=[\"fc\"],\n",
    ")\n",
    "peft_model = get_peft_model(model, config).to(DEVICE)\n",
    "peft_model.print_trainable_parameters()"
   ]
  },
  {
   "cell_type": "code",
   "execution_count": null,
   "id": "ee8dab91",
   "metadata": {
    "ExecuteTime": {
     "end_time": "2024-03-22T14:56:01.037924Z",
     "start_time": "2024-03-22T14:53:30.372293Z"
    }
   },
   "outputs": [],
   "source": [
    "train_loader = DataLoader(train_set, batch_size=1024, shuffle=False, num_workers=2)\n",
    "model = resnet152(weights=None, num_classes=10)\n",
    "model.to(DEVICE)\n",
    "peft_model = get_peft_model(model, config).to(DEVICE)\n",
    "peft_model.print_trainable_parameters()\n",
    "train(peft_model, train_loader)"
   ]
  },
  {
   "cell_type": "code",
   "execution_count": null,
   "id": "1edb793f",
   "metadata": {
    "ExecuteTime": {
     "end_time": "2024-03-22T14:56:48.770731Z",
     "start_time": "2024-03-22T14:56:03.484693Z"
    }
   },
   "outputs": [],
   "source": [
    "train_loader = DataLoader(train_set, batch_size=2048, shuffle=False, num_workers=2)\n",
    "model = resnet152(weights=None, num_classes=10)\n",
    "model.to(DEVICE)\n",
    "peft_model = get_peft_model(model, config).to(DEVICE)\n",
    "peft_model.print_trainable_parameters()\n",
    "train(peft_model, train_loader)"
   ]
  },
  {
   "cell_type": "code",
   "execution_count": null,
   "id": "81a74cba",
   "metadata": {
    "ExecuteTime": {
     "end_time": "2024-03-22T14:56:48.772744Z",
     "start_time": "2024-03-22T14:56:48.772731Z"
    }
   },
   "outputs": [],
   "source": [
    "test(peft_model)"
   ]
  },
  {
   "cell_type": "code",
   "execution_count": null,
   "id": "b5aa66a8",
   "metadata": {},
   "outputs": [],
   "source": []
  }
 ],
 "metadata": {
  "kernelspec": {
   "display_name": "Python 3 (ipykernel)",
   "language": "python",
   "name": "python3"
  },
  "language_info": {
   "codemirror_mode": {
    "name": "ipython",
    "version": 3
   },
   "file_extension": ".py",
   "mimetype": "text/x-python",
   "name": "python",
   "nbconvert_exporter": "python",
   "pygments_lexer": "ipython3",
   "version": "3.10.13"
  },
  "toc": {
   "base_numbering": 1,
   "nav_menu": {},
   "number_sections": true,
   "sideBar": true,
   "skip_h1_title": false,
   "title_cell": "Table of Contents",
   "title_sidebar": "Contents",
   "toc_cell": false,
   "toc_position": {},
   "toc_section_display": true,
   "toc_window_display": false
  }
 },
 "nbformat": 4,
 "nbformat_minor": 5
}
