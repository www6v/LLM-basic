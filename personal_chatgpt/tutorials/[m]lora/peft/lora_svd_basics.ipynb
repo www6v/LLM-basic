{
 "cells": [
  {
   "cell_type": "markdown",
   "id": "b2377651-ee40-4a91-8d49-8c7bceb67328",
   "metadata": {},
   "source": [
    "- torch svd\n",
    "    - https://pytorch.org/docs/stable/generated/torch.linalg.svd.html\n",
    "- lora merge by svd\n",
    "    - https://github.com/huggingface/peft/blob/main/src/peft/tuners/lora/model.py#L622\n",
    "    - https://github.com/huggingface/peft/blob/main/src/peft/tuners/lora/model.py#L674-L688"
   ]
  },
  {
   "cell_type": "code",
   "execution_count": 21,
   "id": "1f84a832-86eb-4f6c-8c7d-2cbc47debae7",
   "metadata": {},
   "outputs": [],
   "source": [
    "from IPython.display import Image"
   ]
  },
  {
   "cell_type": "code",
   "execution_count": 23,
   "id": "6f650df7-283c-4bcf-92e6-bd5c15fcc264",
   "metadata": {},
   "outputs": [
    {
     "data": {
      "text/html": [
       "<img src=\"https://huggingface.co/datasets/huggingface/documentation-images/resolve/main/peft/lora_diagram.png\" width=\"500\"/>"
      ],
      "text/plain": [
       "<IPython.core.display.Image object>"
      ]
     },
     "execution_count": 23,
     "metadata": {},
     "output_type": "execute_result"
    }
   ],
   "source": [
    "Image(url='https://huggingface.co/datasets/huggingface/documentation-images/resolve/main/peft/lora_diagram.png', width=500)"
   ]
  },
  {
   "cell_type": "code",
   "execution_count": 1,
   "id": "e9d36a09-9fac-4cc3-9e96-6fdb6ab724a3",
   "metadata": {},
   "outputs": [
    {
     "data": {
      "text/plain": [
       "<torch._C.Generator at 0x76838c0369f0>"
      ]
     },
     "execution_count": 1,
     "metadata": {},
     "output_type": "execute_result"
    }
   ],
   "source": [
    "import torch\n",
    "torch.random.manual_seed(0)"
   ]
  },
  {
   "cell_type": "code",
   "execution_count": 2,
   "id": "734c120d-a612-4c6b-9fff-7b742a5a31f0",
   "metadata": {},
   "outputs": [],
   "source": [
    "# Define dimensions and low rank\n",
    "d, n = 100, 100\n",
    "low_rank = 20"
   ]
  },
  {
   "cell_type": "code",
   "execution_count": 6,
   "id": "f56e7da0-5b1f-4e6c-9611-71a8aa733340",
   "metadata": {},
   "outputs": [],
   "source": [
    "# Create a low rank matrix W\n",
    "# lora_b @ lora_a\n",
    "W = torch.randn(d, low_rank) @ torch.randn(low_rank, n)"
   ]
  },
  {
   "cell_type": "code",
   "execution_count": 7,
   "id": "d87c9610-0193-4f42-84f4-90ab8e420aec",
   "metadata": {},
   "outputs": [
    {
     "data": {
      "text/plain": [
       "tensor(20)"
      ]
     },
     "execution_count": 7,
     "metadata": {},
     "output_type": "execute_result"
    }
   ],
   "source": [
    "torch.linalg.matrix_rank(W)"
   ]
  },
  {
   "cell_type": "markdown",
   "id": "f23ff92e-fca4-4278-acd7-893f2eacbdee",
   "metadata": {},
   "source": [
    "## svd"
   ]
  },
  {
   "cell_type": "code",
   "execution_count": 24,
   "id": "ac29e757-902f-4243-b433-168e8d2ca720",
   "metadata": {},
   "outputs": [
    {
     "data": {
      "text/html": [
       "<img src=\"https://www.statlect.com/images/matrix-product-and-rank__5.png\" width=\"400\"/>"
      ],
      "text/plain": [
       "<IPython.core.display.Image object>"
      ]
     },
     "execution_count": 24,
     "metadata": {},
     "output_type": "execute_result"
    }
   ],
   "source": [
    "Image(url='https://www.statlect.com/images/matrix-product-and-rank__5.png', width=400)"
   ]
  },
  {
   "cell_type": "markdown",
   "id": "bbe934c4-057a-4e01-adca-94950afa4a27",
   "metadata": {},
   "source": [
    "### low rank svd"
   ]
  },
  {
   "cell_type": "code",
   "execution_count": 8,
   "id": "9e1874cf-41ee-4b7c-b1ff-c5373440bbb2",
   "metadata": {},
   "outputs": [],
   "source": [
    "U, S, Vh = torch.linalg.svd(W, full_matrices=True)"
   ]
  },
  {
   "cell_type": "code",
   "execution_count": 10,
   "id": "a9d40b14-25c8-4395-8756-2b96ed7d7d46",
   "metadata": {},
   "outputs": [
    {
     "data": {
      "text/plain": [
       "(torch.Size([100, 100]), torch.Size([100]), torch.Size([100, 100]))"
      ]
     },
     "execution_count": 10,
     "metadata": {},
     "output_type": "execute_result"
    }
   ],
   "source": [
    "U.shape, S.shape, Vh.shape"
   ]
  },
  {
   "cell_type": "code",
   "execution_count": 11,
   "id": "840a5504-5437-415f-a088-e30449a6a89f",
   "metadata": {},
   "outputs": [
    {
     "data": {
      "text/plain": [
       "tensor(0.0004)"
      ]
     },
     "execution_count": 11,
     "metadata": {},
     "output_type": "execute_result"
    }
   ],
   "source": [
    "torch.dist(U @ torch.diag(S) @ Vh, W)"
   ]
  },
  {
   "cell_type": "code",
   "execution_count": 12,
   "id": "a68f631a-c392-4271-aa07-30939115a233",
   "metadata": {},
   "outputs": [],
   "source": [
    "U = U[:, :low_rank]\n",
    "S = S[:low_rank]\n",
    "U = U @ torch.diag(S)\n",
    "Vh = Vh[:low_rank, :]"
   ]
  },
  {
   "cell_type": "code",
   "execution_count": 15,
   "id": "32fb7184-fd57-4fbb-add5-27b4d53a6ba0",
   "metadata": {},
   "outputs": [
    {
     "data": {
      "text/plain": [
       "tensor(0.0004)"
      ]
     },
     "execution_count": 15,
     "metadata": {},
     "output_type": "execute_result"
    }
   ],
   "source": [
    "torch.dist(U @ Vh, W)"
   ]
  },
  {
   "cell_type": "markdown",
   "id": "4a569480-1a31-40c7-8d42-59d19dc16651",
   "metadata": {},
   "source": [
    "### full rank svd"
   ]
  },
  {
   "cell_type": "code",
   "execution_count": 17,
   "id": "41ca03e8-5d7d-4afa-a286-7520e3928faf",
   "metadata": {},
   "outputs": [],
   "source": [
    "W2 = torch.randn_like(W)"
   ]
  },
  {
   "cell_type": "code",
   "execution_count": 25,
   "id": "9abe6f74-1523-439e-a04b-12c78aa33c34",
   "metadata": {},
   "outputs": [
    {
     "data": {
      "text/plain": [
       "tensor(100)"
      ]
     },
     "execution_count": 25,
     "metadata": {},
     "output_type": "execute_result"
    }
   ],
   "source": [
    "torch.linalg.matrix_rank(W2)"
   ]
  },
  {
   "cell_type": "code",
   "execution_count": 18,
   "id": "398a7931-4175-4eb3-8b16-d925f933689c",
   "metadata": {},
   "outputs": [],
   "source": [
    "U, S, Vh = torch.linalg.svd(W2, full_matrices=True)"
   ]
  },
  {
   "cell_type": "code",
   "execution_count": 19,
   "id": "e02fe764-e1c4-43a3-9d4a-bf999efaf78d",
   "metadata": {},
   "outputs": [
    {
     "data": {
      "text/plain": [
       "tensor(0.0001)"
      ]
     },
     "execution_count": 19,
     "metadata": {},
     "output_type": "execute_result"
    }
   ],
   "source": [
    "torch.dist(U @ torch.diag(S) @ Vh, W2)"
   ]
  },
  {
   "cell_type": "code",
   "execution_count": 20,
   "id": "e7e36970-92e8-4bbc-bf03-74950ae47312",
   "metadata": {},
   "outputs": [
    {
     "data": {
      "text/plain": [
       "tensor(67.6974)"
      ]
     },
     "execution_count": 20,
     "metadata": {},
     "output_type": "execute_result"
    }
   ],
   "source": [
    "U = U[:, :low_rank]\n",
    "S = S[:low_rank]\n",
    "U = U @ torch.diag(S)\n",
    "Vh = Vh[:low_rank, :]\n",
    "\n",
    "torch.dist(U @ Vh, W2)"
   ]
  }
 ],
 "metadata": {
  "kernelspec": {
   "display_name": "Python 3 (ipykernel)",
   "language": "python",
   "name": "python3"
  },
  "language_info": {
   "codemirror_mode": {
    "name": "ipython",
    "version": 3
   },
   "file_extension": ".py",
   "mimetype": "text/x-python",
   "name": "python",
   "nbconvert_exporter": "python",
   "pygments_lexer": "ipython3",
   "version": "3.10.13"
  }
 },
 "nbformat": 4,
 "nbformat_minor": 5
}
