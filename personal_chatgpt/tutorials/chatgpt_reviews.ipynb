{
 "cells": [
  {
   "cell_type": "markdown",
   "id": "b8673a69",
   "metadata": {},
   "source": [
    "## overall"
   ]
  },
  {
   "cell_type": "markdown",
   "id": "ab7ac5ab",
   "metadata": {},
   "source": [
    "- Scaling Laws for Neural Language Models\n",
    "    - https://arxiv.org/pdf/2001.08361.pdf"
   ]
  },
  {
   "cell_type": "markdown",
   "id": "4772889b",
   "metadata": {},
   "source": [
    "## 细节"
   ]
  },
  {
   "cell_type": "markdown",
   "id": "88c4dafb",
   "metadata": {},
   "source": [
    "- 主要是重新 review 以 gpt 为代表的 auto-regressive 模型；\n",
    "\n",
    "    - Auto-regressive models for code generation from natural language have a similar limitation: they do not easily allow reconsidering earlier tokens generated.\n",
    "        - https://arxiv.org/abs/2310.17680"
   ]
  },
  {
   "cell_type": "markdown",
   "id": "3aa05678",
   "metadata": {},
   "source": [
    "- strong prior vs. in-context learning\n",
    "    - 数据中学到的强先验，很难被 in-context learning 中的 prompt 掰回来；"
   ]
  },
  {
   "cell_type": "markdown",
   "id": "a425fafd",
   "metadata": {},
   "source": [
    "- temperature=0, 时也随机\n",
    "    - https://152334h.github.io/blog/non-determinism-in-gpt-4/\n",
    "    - 对于 gpt4，做3次实验，每次内部30次，温度为0时，generation 去重后的不重复的数量\n",
    "        - 12次，11次，12次；"
   ]
  }
 ],
 "metadata": {
  "kernelspec": {
   "display_name": "Python 3 (ipykernel)",
   "language": "python",
   "name": "python3"
  },
  "language_info": {
   "codemirror_mode": {
    "name": "ipython",
    "version": 3
   },
   "file_extension": ".py",
   "mimetype": "text/x-python",
   "name": "python",
   "nbconvert_exporter": "python",
   "pygments_lexer": "ipython3",
   "version": "3.10.9"
  },
  "toc": {
   "base_numbering": 1,
   "nav_menu": {},
   "number_sections": true,
   "sideBar": true,
   "skip_h1_title": false,
   "title_cell": "Table of Contents",
   "title_sidebar": "Contents",
   "toc_cell": false,
   "toc_position": {},
   "toc_section_display": true,
   "toc_window_display": false
  }
 },
 "nbformat": 4,
 "nbformat_minor": 5
}
