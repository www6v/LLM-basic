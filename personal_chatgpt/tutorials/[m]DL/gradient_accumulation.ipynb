{
 "cells": [
  {
   "cell_type": "code",
   "execution_count": 1,
   "id": "baa3776c",
   "metadata": {
    "ExecuteTime": {
     "end_time": "2023-07-15T15:48:50.985380Z",
     "start_time": "2023-07-15T15:48:47.952070Z"
    }
   },
   "outputs": [],
   "source": [
    "import numpy as np\n",
    "# from torch.utils.data import Dataset\n",
    "from datasets import Dataset\n",
    "import torch\n",
    "from transformers import AutoModelForSequenceClassification\n",
    "from transformers import TrainingArguments, Trainer, logging\n",
    "from IPython.display import Image"
   ]
  },
  {
   "cell_type": "markdown",
   "id": "341189a9",
   "metadata": {},
   "source": [
    "## basics"
   ]
  },
  {
   "cell_type": "code",
   "execution_count": 4,
   "id": "b22e203e",
   "metadata": {
    "ExecuteTime": {
     "end_time": "2023-07-15T15:53:11.333137Z",
     "start_time": "2023-07-15T15:53:11.317864Z"
    }
   },
   "outputs": [
    {
     "data": {
      "image/png": "[encoded data removed]",
      "text/plain": [
       "<IPython.core.display.Image object>"
      ]
     },
     "execution_count": 4,
     "metadata": {
      "image/png": {
       "width": 400
      }
     },
     "output_type": "execute_result"
    }
   ],
   "source": [
    "Image('../imgs/grad-accumulation.png', width=400)"
   ]
  },
  {
   "cell_type": "markdown",
   "id": "45254662",
   "metadata": {},
   "source": [
    "- 显存占用优化算法\n",
    "    - 可以在 `batch_size = 1` （或者是很小时）的时候，还能事实上提升真正的 `batch_size`\n",
    "        - `batch_size = 1` （或者很小时）会导致训练过程的不稳定，收敛更慢，精度更低；"
   ]
  },
  {
   "cell_type": "markdown",
   "id": "f13ce161",
   "metadata": {},
   "source": [
    "### Vanilla "
   ]
  },
  {
   "cell_type": "markdown",
   "id": "8a7b8d28",
   "metadata": {},
   "source": [
    "```\n",
    "# loop through batches\n",
    "for (inputs, labels) in data_loader:\n",
    "\n",
    "    # extract inputs and labels\n",
    "    inputs = inputs.to(device)\n",
    "    labels = labels.to(device)\n",
    "\n",
    "    # passes and weights update\n",
    "    with torch.set_grad_enabled(True):\n",
    "        \n",
    "        # forward pass \n",
    "        preds = model(inputs)\n",
    "        loss  = criterion(preds, labels)\n",
    "\n",
    "        # backward pass\n",
    "        loss.backward() \n",
    "\n",
    "        # weights update\n",
    "        optimizer.step()\n",
    "        optimizer.zero_grad()\n",
    "```"
   ]
  },
  {
   "cell_type": "markdown",
   "id": "3b95178d",
   "metadata": {},
   "source": [
    "### accumulation"
   ]
  },
  {
   "cell_type": "markdown",
   "id": "d797fafa",
   "metadata": {},
   "source": [
    "```\n",
    "gradient_accumulation_steps = 4\n",
    "\n",
    "# loop through batches\n",
    "for batch_idx, (inputs, labels) in enumerate(data_loader):\n",
    "\n",
    "    # extract inputs and labels\n",
    "    inputs = inputs.to(device)\n",
    "    labels = labels.to(device)\n",
    "\n",
    "    # passes and weights update\n",
    "    with torch.set_grad_enabled(True):\n",
    "        \n",
    "        # forward pass \n",
    "        preds = model(inputs)\n",
    "        loss = criterion(preds, labels)\n",
    "        \n",
    "        loss /= gradient_accumulation_steps\n",
    "        \n",
    "        # backward pass => compute gradient\n",
    "        loss.backward() \n",
    "        \n",
    "        if ((batch_idx + 1) % gradient_accumulation_steps == 0) or ((batch_idx+1) == len(data_loader)):\n",
    "            # weights update\n",
    "            optimizer.step()\n",
    "            optimizer.zero_grad()\n",
    "```"
   ]
  },
  {
   "cell_type": "code",
   "execution_count": 5,
   "id": "60a5502b",
   "metadata": {
    "ExecuteTime": {
     "end_time": "2023-07-15T16:02:56.427624Z",
     "start_time": "2023-07-15T16:02:56.421135Z"
    }
   },
   "outputs": [],
   "source": [
    "x = torch.tensor(1., requires_grad=True)\n",
    "y = x**2"
   ]
  },
  {
   "cell_type": "code",
   "execution_count": 6,
   "id": "59a854b1",
   "metadata": {
    "ExecuteTime": {
     "end_time": "2023-07-15T16:03:06.819422Z",
     "start_time": "2023-07-15T16:03:06.808700Z"
    }
   },
   "outputs": [
    {
     "data": {
      "text/plain": [
       "tensor(2.)"
      ]
     },
     "execution_count": 6,
     "metadata": {},
     "output_type": "execute_result"
    }
   ],
   "source": [
    "y.backward(retain_graph=True)\n",
    "x.grad"
   ]
  },
  {
   "cell_type": "code",
   "execution_count": 7,
   "id": "6efae4b1",
   "metadata": {
    "ExecuteTime": {
     "end_time": "2023-07-15T16:03:11.100823Z",
     "start_time": "2023-07-15T16:03:11.087680Z"
    }
   },
   "outputs": [
    {
     "data": {
      "text/plain": [
       "tensor(4.)"
      ]
     },
     "execution_count": 7,
     "metadata": {},
     "output_type": "execute_result"
    }
   ],
   "source": [
    "y.backward()\n",
    "x.grad"
   ]
  },
  {
   "cell_type": "markdown",
   "id": "f43758c9",
   "metadata": {},
   "source": [
    "## demo"
   ]
  },
  {
   "cell_type": "code",
   "execution_count": 8,
   "id": "1f1fbf92",
   "metadata": {
    "ExecuteTime": {
     "end_time": "2023-07-15T16:03:55.369636Z",
     "start_time": "2023-07-15T16:03:55.362762Z"
    }
   },
   "outputs": [],
   "source": [
    "# !pip install nvidia-ml-py3\n",
    "from pynvml import *\n",
    "\n",
    "def print_gpu_utilization():\n",
    "    nvmlInit()\n",
    "    total_used = 0\n",
    "    for i in range(torch.cuda.device_count()):\n",
    "        handle = nvmlDeviceGetHandleByIndex(i)\n",
    "        info = nvmlDeviceGetMemoryInfo(handle)\n",
    "        total_used += info.used\n",
    "    print(f\"GPU memory occupied: {total_used//1024**2} MB.\")\n",
    "\n",
    "def print_summary(result):\n",
    "    print(f\"Time: {result.metrics['train_runtime']:.2f}\")\n",
    "    print(f\"Samples/second: {result.metrics['train_samples_per_second']:.2f}\")\n",
    "    print_gpu_utilization()"
   ]
  },
  {
   "cell_type": "code",
   "execution_count": 9,
   "id": "391fe77a",
   "metadata": {
    "ExecuteTime": {
     "end_time": "2023-07-15T16:03:57.019733Z",
     "start_time": "2023-07-15T16:03:57.011061Z"
    }
   },
   "outputs": [
    {
     "name": "stdout",
     "output_type": "stream",
     "text": [
      "GPU memory occupied: 13166 MB.\n"
     ]
    }
   ],
   "source": [
    "print_gpu_utilization()"
   ]
  },
  {
   "cell_type": "markdown",
   "id": "06cbf6c9",
   "metadata": {},
   "source": [
    "### dataset"
   ]
  },
  {
   "cell_type": "code",
   "execution_count": 10,
   "id": "db00e2f5",
   "metadata": {
    "ExecuteTime": {
     "end_time": "2023-07-15T16:04:20.104504Z",
     "start_time": "2023-07-15T16:04:20.067341Z"
    }
   },
   "outputs": [],
   "source": [
    "num_seqs = 1024\n",
    "seq_len = 512\n",
    "dummy_data = {\n",
    "    'input_ids': np.random.randint(100, 30000, (num_seqs, seq_len)),\n",
    "    'labels': np.random.randint(0, 2, (num_seqs))\n",
    "}\n",
    "ds = Dataset.from_dict(dummy_data)\n",
    "ds.set_format('pt')"
   ]
  },
  {
   "cell_type": "code",
   "execution_count": 11,
   "id": "9adee794",
   "metadata": {
    "ExecuteTime": {
     "end_time": "2023-07-15T16:04:40.737826Z",
     "start_time": "2023-07-15T16:04:40.724869Z"
    }
   },
   "outputs": [
    {
     "data": {
      "text/plain": [
       "{0, 1}"
      ]
     },
     "execution_count": 11,
     "metadata": {},
     "output_type": "execute_result"
    }
   ],
   "source": [
    "set(ds['labels'].numpy())"
   ]
  },
  {
   "cell_type": "markdown",
   "id": "3f7a3362",
   "metadata": {},
   "source": [
    "### load model"
   ]
  },
  {
   "cell_type": "code",
   "execution_count": null,
   "id": "a845d4c1",
   "metadata": {
    "ExecuteTime": {
     "end_time": "2023-07-15T12:11:21.627905Z",
     "start_time": "2023-07-15T12:11:21.620079Z"
    }
   },
   "outputs": [],
   "source": [
    "import os\n",
    "os.environ['HTTP_PROXY'] = 'http://127.0.0.1:7890'\n",
    "os.environ['HTTPS_PROXY'] = 'http://127.0.0.1:7890'"
   ]
  },
  {
   "cell_type": "code",
   "execution_count": 12,
   "id": "7eff0a7b",
   "metadata": {
    "ExecuteTime": {
     "end_time": "2023-07-15T16:04:50.252807Z",
     "start_time": "2023-07-15T16:04:43.674385Z"
    },
    "scrolled": true
   },
   "outputs": [],
   "source": [
    "model = AutoModelForSequenceClassification.from_pretrained('bert-large-uncased').to('cuda')"
   ]
  },
  {
   "cell_type": "code",
   "execution_count": 13,
   "id": "8b3b8458",
   "metadata": {
    "ExecuteTime": {
     "end_time": "2023-07-15T16:04:51.220069Z",
     "start_time": "2023-07-15T16:04:51.214221Z"
    }
   },
   "outputs": [
    {
     "name": "stdout",
     "output_type": "stream",
     "text": [
      "GPU memory occupied: 13166 MB.\n"
     ]
    }
   ],
   "source": [
    "print_gpu_utilization()"
   ]
  },
  {
   "cell_type": "code",
   "execution_count": null,
   "id": "f62260fb",
   "metadata": {
    "ExecuteTime": {
     "end_time": "2023-07-15T12:01:47.615885Z",
     "start_time": "2023-07-15T12:01:47.615877Z"
    }
   },
   "outputs": [],
   "source": [
    "# model"
   ]
  },
  {
   "cell_type": "markdown",
   "id": "e2b6b1cf",
   "metadata": {},
   "source": [
    "### training args & trainer"
   ]
  },
  {
   "cell_type": "code",
   "execution_count": null,
   "id": "4fc3c0e4",
   "metadata": {
    "ExecuteTime": {
     "end_time": "2023-07-15T15:47:33.318433Z",
     "start_time": "2023-07-15T15:46:55.249745Z"
    },
    "scrolled": true
   },
   "outputs": [],
   "source": [
    "logging.set_verbosity_error()\n",
    "default_args = {\n",
    "    \"output_dir\": \"tmp\",\n",
    "    \"evaluation_strategy\": \"steps\",\n",
    "    \"num_train_epochs\": 1,\n",
    "    \"log_level\": \"error\",\n",
    "    \"report_to\": \"none\",\n",
    "}\n",
    "training_args = TrainingArguments(per_device_train_batch_size=4, **default_args)\n",
    "trainer = Trainer(model=model, args=training_args, train_dataset=ds)\n",
    "result = trainer.train()\n",
    "print_summary(result)"
   ]
  },
  {
   "cell_type": "markdown",
   "id": "6a47c43f",
   "metadata": {},
   "source": [
    "```\n",
    "{'train_runtime': 38.0194, 'train_samples_per_second': 26.934, 'train_steps_per_second': 3.367, 'train_loss': 0.7216147780418396, 'epoch': 1.0}\n",
    "Time: 38.02\n",
    "Samples/second: 26.93\n",
    "GPU memory occupied: 21296 MB.\n",
    "```"
   ]
  },
  {
   "cell_type": "markdown",
   "id": "5e1ad3cf",
   "metadata": {},
   "source": [
    "#### gradient accumulation"
   ]
  },
  {
   "cell_type": "code",
   "execution_count": 3,
   "id": "6e54bf6d",
   "metadata": {
    "ExecuteTime": {
     "end_time": "2023-07-15T15:50:46.779602Z",
     "start_time": "2023-07-15T15:48:58.436823Z"
    },
    "scrolled": false
   },
   "outputs": [
    {
     "name": "stderr",
     "output_type": "stream",
     "text": [
      "Some weights of the model checkpoint at bert-large-uncased were not used when initializing BertForSequenceClassification: ['cls.predictions.transform.dense.bias', 'cls.predictions.transform.LayerNorm.weight', 'cls.seq_relationship.weight', 'cls.predictions.transform.LayerNorm.bias', 'cls.seq_relationship.bias', 'cls.predictions.bias', 'cls.predictions.transform.dense.weight']\n",
      "- This IS expected if you are initializing BertForSequenceClassification from the checkpoint of a model trained on another task or with another architecture (e.g. initializing a BertForSequenceClassification model from a BertForPreTraining model).\n",
      "- This IS NOT expected if you are initializing BertForSequenceClassification from the checkpoint of a model that you expect to be exactly identical (initializing a BertForSequenceClassification model from a BertForSequenceClassification model).\n",
      "Some weights of BertForSequenceClassification were not initialized from the model checkpoint at bert-large-uncased and are newly initialized: ['classifier.bias', 'classifier.weight']\n",
      "You should probably TRAIN this model on a down-stream task to be able to use it for predictions and inference.\n",
      "/home/whaow/anaconda3/lib/python3.10/site-packages/transformers/optimization.py:391: FutureWarning: This implementation of AdamW is deprecated and will be removed in a future version. Use the PyTorch implementation torch.optim.AdamW instead, or set `no_deprecation_warning=True` to disable this warning\n",
      "  warnings.warn(\n",
      "/home/whaow/anaconda3/lib/python3.10/site-packages/torch/nn/parallel/_functions.py:68: UserWarning: Was asked to gather along dimension 0, but all input tensors were scalars; will instead unsqueeze and return a vector.\n",
      "  warnings.warn('Was asked to gather along dimension 0, but all '\n"
     ]
    },
    {
     "name": "stdout",
     "output_type": "stream",
     "text": [
      "{'train_runtime': 102.8176, 'train_samples_per_second': 9.959, 'train_steps_per_second': 1.245, 'train_loss': 0.7096406817436218, 'epoch': 1.0}\n",
      "Time: 102.82\n",
      "Samples/second: 9.96\n",
      "GPU memory occupied: 13166 MB.\n"
     ]
    }
   ],
   "source": [
    "import numpy as np\n",
    "# from torch.utils.data import Dataset\n",
    "from datasets import Dataset\n",
    "import torch\n",
    "from transformers import AutoModelForSequenceClassification\n",
    "from transformers import TrainingArguments, Trainer, logging\n",
    "from IPython.display import Image\n",
    "\n",
    "\n",
    "from pynvml import *\n",
    "\n",
    "def print_gpu_utilization():\n",
    "    nvmlInit()\n",
    "    total_used = 0\n",
    "    for i in range(torch.cuda.device_count()):\n",
    "        handle = nvmlDeviceGetHandleByIndex(i)\n",
    "        info = nvmlDeviceGetMemoryInfo(handle)\n",
    "        total_used += info.used\n",
    "    print(f\"GPU memory occupied: {total_used//1024**2} MB.\")\n",
    "\n",
    "def print_summary(result):\n",
    "    print(f\"Time: {result.metrics['train_runtime']:.2f}\")\n",
    "    print(f\"Samples/second: {result.metrics['train_samples_per_second']:.2f}\")\n",
    "    print_gpu_utilization()\n",
    "\n",
    "num_seqs = 1024\n",
    "seq_len = 512\n",
    "dummy_data = {\n",
    "    'input_ids': np.random.randint(100, 30000, (num_seqs, seq_len)),\n",
    "    'labels': np.random.randint(0, 2, (num_seqs))\n",
    "}\n",
    "ds = Dataset.from_dict(dummy_data)\n",
    "ds.set_format('pt')\n",
    "\n",
    "model = AutoModelForSequenceClassification.from_pretrained('bert-large-uncased').to('cuda')\n",
    "\n",
    "logging.set_verbosity_error()\n",
    "default_args = {\n",
    "    \"output_dir\": \"tmp\",\n",
    "    \"evaluation_strategy\": \"steps\",\n",
    "    \"num_train_epochs\": 1,\n",
    "    \"log_level\": \"error\",\n",
    "    \"report_to\": \"none\",\n",
    "}\n",
    "training_args = TrainingArguments(per_device_train_batch_size=1, gradient_accumulation_steps=4, **default_args)\n",
    "trainer = Trainer(model=model, args=training_args, train_dataset=ds)\n",
    "result = trainer.train()\n",
    "print_summary(result)"
   ]
  },
  {
   "cell_type": "markdown",
   "id": "bf8c303d",
   "metadata": {},
   "source": [
    "```\n",
    "{'train_runtime': 102.8176, 'train_samples_per_second': 9.959, 'train_steps_per_second': 1.245, 'train_loss': 0.7096406817436218, 'epoch': 1.0}\n",
    "Time: 102.82\n",
    "Samples/second: 9.96\n",
    "GPU memory occupied: 13166 MB.\n",
    "```"
   ]
  }
 ],
 "metadata": {
  "kernelspec": {
   "display_name": "Python 3 (ipykernel)",
   "language": "python",
   "name": "python3"
  },
  "language_info": {
   "codemirror_mode": {
    "name": "ipython",
    "version": 3
   },
   "file_extension": ".py",
   "mimetype": "text/x-python",
   "name": "python",
   "nbconvert_exporter": "python",
   "pygments_lexer": "ipython3",
   "version": "3.10.9"
  },
  "toc": {
   "base_numbering": 1,
   "nav_menu": {},
   "number_sections": true,
   "sideBar": true,
   "skip_h1_title": false,
   "title_cell": "Table of Contents",
   "title_sidebar": "Contents",
   "toc_cell": false,
   "toc_position": {},
   "toc_section_display": true,
   "toc_window_display": false
  }
 },
 "nbformat": 4,
 "nbformat_minor": 5
}
