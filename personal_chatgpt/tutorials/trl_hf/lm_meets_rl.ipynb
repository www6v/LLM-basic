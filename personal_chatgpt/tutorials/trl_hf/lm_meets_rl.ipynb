{
 "cells": [
  {
   "cell_type": "code",
   "execution_count": 1,
   "id": "641b7e80-3303-42d4-a5c6-4ff4d0d16d97",
   "metadata": {
    "execution": {
     "iopub.execute_input": "2024-06-23T01:48:11.746868Z",
     "iopub.status.busy": "2024-06-23T01:48:11.746278Z",
     "iopub.status.idle": "2024-06-23T01:48:11.756884Z",
     "shell.execute_reply": "2024-06-23T01:48:11.754824Z",
     "shell.execute_reply.started": "2024-06-23T01:48:11.746820Z"
    }
   },
   "outputs": [],
   "source": [
    "from IPython.display import Image"
   ]
  },
  {
   "cell_type": "markdown",
   "id": "d8d0a6ff-b7b9-4231-9967-fafad3a32926",
   "metadata": {},
   "source": [
    "- policy: $a_t\\sim \\pi(\\cdot|s_t)$"
   ]
  },
  {
   "cell_type": "code",
   "execution_count": 2,
   "id": "60df441d-223c-466f-9371-78516892e68f",
   "metadata": {
    "execution": {
     "iopub.execute_input": "2024-06-23T01:48:25.276675Z",
     "iopub.status.busy": "2024-06-23T01:48:25.276174Z",
     "iopub.status.idle": "2024-06-23T01:48:25.293665Z",
     "shell.execute_reply": "2024-06-23T01:48:25.291552Z",
     "shell.execute_reply.started": "2024-06-23T01:48:25.276634Z"
    }
   },
   "outputs": [
    {
     "data": {
      "text/html": [
       "<img src=\"./imgs/lm_rl.png\" width=\"400\"/>"
      ],
      "text/plain": [
       "<IPython.core.display.Image object>"
      ]
     },
     "execution_count": 2,
     "metadata": {},
     "output_type": "execute_result"
    }
   ],
   "source": [
    "Image(url='./imgs/lm_rl.png', width=400)"
   ]
  },
  {
   "cell_type": "markdown",
   "id": "7c94fc13-5317-446b-97db-e42f44a404ee",
   "metadata": {},
   "source": [
    "## RM for LMs"
   ]
  },
  {
   "cell_type": "markdown",
   "id": "8ee7ebd6-ee25-4bb0-b318-bd507f095a53",
   "metadata": {},
   "source": [
    "- It is not easy to create a reward model for language models, because this would require us to create a dataset of prompts and responses and assign a **universally accepted** “reward” for each answer.\n",
    "    \n",
    "    | Question                           | Answer                                                                                       | Reward (0.0 ~ 1.0) |\n",
    "    |------------------------------------|----------------------------------------------------------------------------------------------|--------------------|\n",
    "    | Where is Shanghai?                 | Shanghai is a city in China                                                                  | ???                |\n",
    "    | Explain gravity like I’m 5         | Gravity is what pulls things toward each other. It's why you stay on the ground and planets orbit the sun. | ???                |\n",
    "    | What is 2+2?                       | 4                                                                                            | ???                |\n",
    "\n",
    "- People are good at comparing (**Reward model by comparison**)\n",
    "\n",
    "    | Question (Prompt)                  | Answer 1                                             | Answer 2                                                                                       | Chosen |\n",
    "    |------------------------------------|------------------------------------------------------|-----------------------------------------------------------------------------------------------|--------|\n",
    "    | Where is Shanghai?                 | Shanghai is a city in China                          | Shanghai does not exist                                                                       | 1      |\n",
    "    | Explain gravity like I’m 5         | Gravity is a famous restaurant                       | Gravity is what pulls things toward each other. It's why you stay on the ground and planets orbit the sun. | 2      |\n",
    "    | What is 2+2?                       | 4                                                    | 2+2 is a very complicated math problem…                                                        | 1      |\n"
   ]
  },
  {
   "cell_type": "code",
   "execution_count": null,
   "id": "0c304c8d-3439-48cb-aef0-16292f6bcfc4",
   "metadata": {},
   "outputs": [],
   "source": []
  }
 ],
 "metadata": {
  "kernelspec": {
   "display_name": "Python 3 (ipykernel)",
   "language": "python",
   "name": "python3"
  },
  "language_info": {
   "codemirror_mode": {
    "name": "ipython",
    "version": 3
   },
   "file_extension": ".py",
   "mimetype": "text/x-python",
   "name": "python",
   "nbconvert_exporter": "python",
   "pygments_lexer": "ipython3",
   "version": "3.10.13"
  }
 },
 "nbformat": 4,
 "nbformat_minor": 5
}
