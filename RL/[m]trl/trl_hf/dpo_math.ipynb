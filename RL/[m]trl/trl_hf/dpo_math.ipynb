{
 "cells": [
  {
   "cell_type": "markdown",
   "id": "21ab1707-b031-4650-b27c-712cd3db4b67",
   "metadata": {},
   "source": [
    "- 从 RM loss objective 推导的过程就是把 $r(x,y)$ 消掉的过程"
   ]
  },
  {
   "cell_type": "markdown",
   "id": "76d67914-225a-4512-9fe2-f98d502a4639",
   "metadata": {},
   "source": [
    "$$\n",
    "\\max_{\\pi} \\mathbb{E}_{x \\sim D, y \\sim \\pi} \\left[ r(x, y) \\right] - \\beta \\mathbb{D}_{KL} \\left[ \\pi(y | x) \\| \\pi_{\\text{ref}}(y | x) \\right]\n",
    "$$"
   ]
  },
  {
   "cell_type": "markdown",
   "id": "006bdae5-da22-49e4-a86a-541083d266a7",
   "metadata": {},
   "source": [
    "$$\n",
    "\\mathbb{D}_{KL} \\left[ \\pi(y | x) \\| \\pi_{\\text{ref}}(y | x) \\right]=\\mathbb E_{y\\sim \\pi}\\left[\\log\\frac{\\pi(y|x)}{\\pi_{ref}(y|x)}\\right]\n",
    "$$"
   ]
  },
  {
   "cell_type": "markdown",
   "id": "5fbe2fde-4398-402e-9720-e750e79afe89",
   "metadata": {},
   "source": [
    "$$\n",
    "\\begin{split}\n",
    "&=\\max_{\\pi} \\mathbb{E}_{x \\sim D} \\left[ \\mathbb{E}_{y \\sim \\pi} \\left[ r(x, y) \\right] - \\beta \\mathbb{E}_{y \\sim \\pi} \\left[ \\log \\frac{\\pi(y|x)}{\\pi_{\\text{ref}}(y|x)} \\right] \\right]\\\\\n",
    "&=\\max_{\\pi} \\mathbb{E}_{x \\sim D} \\mathbb{E}_{y \\sim \\pi(y|x)} \\left[ r(x, y) - \\beta \\log \\frac{\\pi(y|x)}{\\pi_{\\text{ref}}(y|x)} \\right], \\quad \\times \\frac{1}\\beta\\\\\n",
    "&= \\min_{\\pi} \\mathbb{E}_{x \\sim D} \\mathbb{E}_{y \\sim \\pi(y|x)} \\left[ \\log \\frac{\\pi(y|x)}{\\pi_{ref}(y|x)} - \\frac{1}{\\beta} r(x, y) \\right]\\\\\n",
    "&=\\min_{\\pi} \\mathbb{E}_{x \\sim D} \\mathbb{E}_{y \\sim \\pi(y|x)} \\left[ \\log \\frac{\\pi(y|x)}{\\pi_{ref}(y|x)} - \\log e^{(\\frac{1}{\\beta} r(x, y))} \\right]\\\\\n",
    "&=\\min_{\\pi} \\mathbb{E}_{x \\sim D} \\mathbb{E}_{y \\sim \\pi(y|x)} \\left[ \\log \\frac{\\pi(y|x)}{\\pi_{ref}(y|x)\\exp{(\\frac{1}{\\beta} r(x, y))}}\\right]\\\\\n",
    "&=\\min_{\\pi} \\mathbb{E}_{x \\sim D} \\mathbb{E}_{y \\sim \\pi(y|x)} \\left[ \\log \\frac{\\pi(y|x)}{\\frac{Z(x)}{Z(x)}\\pi_{ref}(y|x)\\exp{(\\frac{1}{\\beta} r(x, y))}}\\right]\\\\\n",
    "&=\\min_{\\pi} \\mathbb{E}_{x \\sim D} \\mathbb{E}_{y \\sim \\pi(y|x)} \\left[ \\log \\frac{\\pi(y|x)}{\\frac{1}{Z(x)}\\pi_{ref}(y|x)\\exp{(\\frac{1}{\\beta} r(x, y))}}\\frac{1}{Z(x)}\\right]\\\\\n",
    "&=\\min_{\\pi} \\mathbb{E}_{x \\sim D} \\mathbb{E}_{y \\sim \\pi(y|x)} \\left[ \\log \\frac{\\pi(y|x)}{\\frac{1}{Z(x)}\\pi_{ref}(y|x)\\exp{(\\frac{1}{\\beta} r(x, y))}} - \\log Z(x)\\right]\n",
    "\\end{split}\n",
    "$$\n"
   ]
  },
  {
   "cell_type": "markdown",
   "id": "076c854f-049e-49f1-88e5-7e372b957b23",
   "metadata": {},
   "source": [
    "- $Z(x)$ Partition Function（配分函数），这里的 $Z(x)$ 只跟 $x$ 和 $\\pi_{ref}$ 有关，而与 $\\pi$ 无关\n",
    "  - 标准化概率分布，使其成为一个有效的概率分布\n",
    "    $$\n",
    "    Z(x)=\\sum_y\\pi_{ref}(y|x)\\exp{(\\frac{1}{\\beta} r(x, y))}\n",
    "    $$\n",
    "- 我们定义 $\\pi^*=\\frac{1}{Z(x)}\\pi_{ref}(y|x)\\exp{(\\frac{1}{\\beta} r(x, y))}$, 它是一个有效的概率分布\n",
    "    - $\\pi^*(y|x)\\geq 0$\n",
    "    - $\\sum_y\\pi^*(y|x)=1$\n",
    "\n",
    "$$\n",
    "\\min_{\\pi} \\mathbb{E}_{x \\sim D} \\left[ \\mathbb{E}_{y \\sim \\pi(y|x)} \\left[ \\log \\frac{\\pi(y|x)}{\\pi^*(y|x)} \\right] - \\log Z(x) \\right] = \\min_{\\pi} \\mathbb{E}_{x \\sim D} \\left[ \\mathbb{D}_{KL}(\\pi(y|x) \\parallel \\pi^*(y|x)) - \\log Z(x) \\right]\n",
    "$$"
   ]
  },
  {
   "cell_type": "markdown",
   "id": "9f997ad1-17ee-4bc2-b9d4-cffa6a628c11",
   "metadata": {},
   "source": [
    "- Gibbs’ inequality tells us that the KL-divergence is minimized at 0 if and only if the two distributions are identical\n",
    "    - kl-div 非负，p = q 时，为0\n",
    "\n",
    "$$\n",
    "\\pi(y|x) = \\pi^*(y|x) = \\frac{1}{Z(x)} \\pi_{\\text{ref}}(y|x) \\exp \\left( \\frac{1}{\\beta} r(x, y) \\right)\n",
    "$$"
   ]
  }
 ],
 "metadata": {
  "kernelspec": {
   "display_name": "Python 3 (ipykernel)",
   "language": "python",
   "name": "python3"
  },
  "language_info": {
   "codemirror_mode": {
    "name": "ipython",
    "version": 3
   },
   "file_extension": ".py",
   "mimetype": "text/x-python",
   "name": "python",
   "nbconvert_exporter": "python",
   "pygments_lexer": "ipython3",
   "version": "3.10.13"
  }
 },
 "nbformat": 4,
 "nbformat_minor": 5
}
