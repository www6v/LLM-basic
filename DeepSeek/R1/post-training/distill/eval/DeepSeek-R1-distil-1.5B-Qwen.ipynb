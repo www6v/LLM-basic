{
 "cells": [
  {
   "cell_type": "markdown",
   "id": "c7fb016c-b355-44a2-86bc-86ecb2336bfc",
   "metadata": {},
   "source": [
    "### 蒸馏模型对比测试流程"
   ]
  },
  {
   "cell_type": "code",
   "execution_count": 19,
   "id": "4607b3be-be17-443e-aeac-2a9606b11319",
   "metadata": {},
   "outputs": [],
   "source": [
    "prompt = \"请问X平方+1=2，X等于几？\""
   ]
  },
  {
   "cell_type": "code",
   "execution_count": 51,
   "id": "eefcaba8-3a43-45db-9997-4c3debb0d0e3",
   "metadata": {},
   "outputs": [],
   "source": [
    "prompt = \"设函数 f(x)= x^3 - 6x^2 + 9x + 2，求;\\\n",
    "1.f(x)的极值点;\\\n",
    "2.在这些极值点处的函数值;\\\n",
    "3.f(x)在这些极值点处的单调性。\" "
   ]
  },
  {
   "cell_type": "code",
   "execution_count": 10,
   "id": "6bf0ff21-e43d-4421-9f99-8f06d6a14c3f",
   "metadata": {},
   "outputs": [],
   "source": [
    "prompt = \"\"\"\n",
    "假设有 7 个海盗，他们需要分配一批金币。每个海盗都具有以下特点：\n",
    "\n",
    "1. **绝对理性**：每个海盗都会尽量使自己的利益最大化。\n",
    "2. **绝对自私**：他们只关心自己的得失，不关心他人的情况。\n",
    "3. **暴力威胁**：如果一个提案无法被通过（投票否决），则提议者会被“扔下船”。\n",
    "\n",
    "**分赃规则**\n",
    "\n",
    "1. 按照从首领（编号为 1 的海盗）到最后一名海盗的顺序，依次由每个海盗提出分赃方案。\n",
    "2. 每名海盗（包括提议者）对提案进行投票。提案若获得 **至少一半人数（包括自己）或以上** 的支持，则通过；否则，提议者被抛弃，剩下的海盗继续讨论。\n",
    "3. 海盗之间按照逻辑进行投票，遵循理性自私的行为模式。\n",
    "\n",
    "**目标**\n",
    "\n",
    "首领（提议者）需要提出一个分赃方案，使：\n",
    "\n",
    "1. 自己不会被扔下船（提案被通过）。\n",
    "2. 自己分得的金币尽可能多。\n",
    "\n",
    "问，他们应该如何分赃\n",
    "\"\"\""
   ]
  },
  {
   "cell_type": "code",
   "execution_count": 25,
   "id": "78a3c868-a787-4f75-9f16-d061ff63689e",
   "metadata": {},
   "outputs": [],
   "source": [
    "prompt = \"\"\"\n",
    "写一个 Bash 脚本，将格式为 '[1,2],[3,4],[5,6]' 的字符串表示的矩阵转置，并以相同格式输出\n",
    "\"\"\""
   ]
  },
  {
   "cell_type": "code",
   "execution_count": 42,
   "id": "0959ad3b-2a5f-480f-b7da-817340f3f84d",
   "metadata": {},
   "outputs": [],
   "source": [
    "prompt = \"\"\"\n",
    "证明n趋于无穷时，1/(n^2)为0.\n",
    "\"\"\""
   ]
  },
  {
   "cell_type": "code",
   "execution_count": 2,
   "id": "9c85afcd-0f29-4413-8186-399ce2af66e8",
   "metadata": {},
   "outputs": [],
   "source": [
    "# 测试问题\n",
    "prompt = \"\"\"\n",
    "实现一个使用 HTML + JS + CSS 的贪吃蛇游戏。\n",
    "整个代码应该写在一个单一的 HTML 块中，嵌入 JS 和 CSS。不要使用任何远程资源。\n",
    "打开 HTML 后，用户需要按空格键开始/重新开始游戏，蛇在开始时会随机朝一个方向移动，并使用 \"wasd\" 键来控制蛇的方向。\n",
    "让游戏界面美观，并使游戏区域较大。\n",
    "\"\"\""
   ]
  },
  {
   "cell_type": "markdown",
   "id": "5939a205-002a-4f1c-a519-9aea936b62e5",
   "metadata": {},
   "source": [
    "---"
   ]
  },
  {
   "cell_type": "markdown",
   "id": "05a0c463-82d6-45f0-aafb-41748fcbe4b6",
   "metadata": {},
   "source": [
    "- 原始模型回答流程"
   ]
  },
  {
   "cell_type": "code",
   "execution_count": 11,
   "id": "73ae4cb0-4095-440b-a227-31c46029c5ac",
   "metadata": {},
   "outputs": [],
   "source": [
    "# 普通模型\n",
    "path1 = \"/root/autodl-tmp/DeepSeek-R1-Distill/Qwen2.5-1.5B-Instruct\""
   ]
  },
  {
   "cell_type": "code",
   "execution_count": 12,
   "id": "21d5c30e-3f8f-45cc-9b64-50e17bd88ea3",
   "metadata": {},
   "outputs": [],
   "source": [
    "from modelscope import AutoModelForCausalLM, AutoTokenizer"
   ]
  },
  {
   "cell_type": "code",
   "execution_count": 13,
   "id": "604443b8-76e0-4a85-badb-f0833572a48b",
   "metadata": {},
   "outputs": [],
   "source": [
    "# 输入模型下载地址\n",
    "model_name = path1"
   ]
  },
  {
   "cell_type": "code",
   "execution_count": 14,
   "id": "637065a6-76b1-466a-b686-0caf291e0482",
   "metadata": {},
   "outputs": [],
   "source": [
    "# 实例化预训练模型\n",
    "model = AutoModelForCausalLM.from_pretrained(\n",
    "    model_name,\n",
    "    torch_dtype=\"auto\",\n",
    "    device_map=\"auto\",\n",
    "    low_cpu_mem_usage=True\n",
    ")\n",
    "\n",
    "tokenizer = AutoTokenizer.from_pretrained(model_name)"
   ]
  },
  {
   "cell_type": "code",
   "execution_count": 15,
   "id": "d473ff07-0715-4460-8fa2-e1cced4b3d3b",
   "metadata": {},
   "outputs": [],
   "source": [
    "# 创建消息\n",
    "# prompt = \"你好，好久不见，请介绍下你自己。\"\n",
    "messages = [\n",
    "    {\"role\": \"system\", \"content\": \"你是一名助人为乐的助手。\"},\n",
    "    {\"role\": \"user\", \"content\": prompt}\n",
    "]"
   ]
  },
  {
   "cell_type": "code",
   "execution_count": 16,
   "id": "c37406da-5c93-4cc1-bf0e-43da8a6e1cce",
   "metadata": {},
   "outputs": [],
   "source": [
    "# 分词\n",
    "text = tokenizer.apply_chat_template(\n",
    "    messages,\n",
    "    tokenize=False,\n",
    "    add_generation_prompt=True\n",
    ")\n",
    "model_inputs = tokenizer([text], return_tensors=\"pt\").to(model.device)"
   ]
  },
  {
   "cell_type": "code",
   "execution_count": 17,
   "id": "78947cf5-3dd7-49ca-a068-41fa6c39a65a",
   "metadata": {},
   "outputs": [],
   "source": [
    "# 创建回复\n",
    "generated_ids = model.generate(\n",
    "    **model_inputs,\n",
    "    max_new_tokens=16000\n",
    ")\n",
    "generated_ids = [\n",
    "    output_ids[len(input_ids):] for input_ids, output_ids in zip(model_inputs.input_ids, generated_ids)\n",
    "]\n",
    "\n",
    "response = tokenizer.batch_decode(generated_ids, skip_special_tokens=True)[0]"
   ]
  },
  {
   "cell_type": "code",
   "execution_count": 18,
   "id": "fd92c6e0-b54c-4d1c-88bf-c4998c122967",
   "metadata": {
    "scrolled": true
   },
   "outputs": [
    {
     "name": "stdout",
     "output_type": "stream",
     "text": [
      "在海盗分赃问题中，为了确保首领（提议者）能够得到最多金币且自身不会被丢弃，可以采取以下策略：\n",
      "\n",
      "### 分赃计划\n",
      "\n",
      "1. **前两名海盗（首领和第二名海盗）**：\n",
      "   - 第一海盗（首领）将拥有所有金币，并将其平均分给第二名海盗。\n",
      "   - 第二名海盗（第二名海盗）会同意这一分配，因为这样他能拿到第一海盗所有的金币，而首领是绝对理性的，他会选择这种分配以确保自己不会被丢弃。\n",
      "\n",
      "2. **剩余的五名海盗（第三到第七名海盗）**：\n",
      "   - 剩余的五名海盗将会采用相同的逻辑，即第二名海盗会接受第一名海盗的分配方案，因为他能得到最多的金币。\n",
      "   - 这样，第三名海盗会接受第二名海盗的分配方案，以此类推，直到第七名海盗。\n",
      "\n",
      "因此，最终的分配方案如下：\n",
      "\n",
      "- 首领（第1名海盗）：所有金币\n",
      "- 第二名海盗（第2名海盗）：所有金币的一半\n",
      "\n",
      "这样，首领既能保证自己不会被丢弃，又能得到最多的金币。\n"
     ]
    }
   ],
   "source": [
    "print(response)"
   ]
  },
  {
   "cell_type": "markdown",
   "id": "4073c470-ea45-4094-ac7c-70ecd5ee7c07",
   "metadata": {},
   "source": [
    "- 蒸馏模型回答流程"
   ]
  },
  {
   "cell_type": "code",
   "execution_count": 19,
   "id": "958aa093-b888-44be-815e-ca425703ee05",
   "metadata": {},
   "outputs": [],
   "source": [
    "# 蒸馏模型\n",
    "path2 = \"/root/autodl-tmp/DeepSeek-R1-Distill/Qwen2.5-1.5B-Distill\""
   ]
  },
  {
   "cell_type": "code",
   "execution_count": 20,
   "id": "76ee0991-2473-4e4c-a9fe-7271bf67c02d",
   "metadata": {},
   "outputs": [],
   "source": [
    "# 输入模型下载地址\n",
    "model_name = path2"
   ]
  },
  {
   "cell_type": "code",
   "execution_count": 21,
   "id": "987d34fe-9ea9-4528-876c-702d9a65664e",
   "metadata": {},
   "outputs": [],
   "source": [
    "# 实例化预训练模型\n",
    "model = AutoModelForCausalLM.from_pretrained(\n",
    "    model_name,\n",
    "    torch_dtype=\"auto\",\n",
    "    device_map=\"auto\",\n",
    "    low_cpu_mem_usage=True\n",
    ")\n",
    "\n",
    "tokenizer = AutoTokenizer.from_pretrained(model_name)"
   ]
  },
  {
   "cell_type": "code",
   "execution_count": 22,
   "id": "b826c2cf-6ebb-4267-a762-a922d3ef46f5",
   "metadata": {},
   "outputs": [],
   "source": [
    "# 创建消息\n",
    "# prompt = \"你好，好久不见，请介绍下你自己。\"\n",
    "messages = [\n",
    "    {\"role\": \"system\", \"content\": \"你是一名助人为乐的助手。\"},\n",
    "    {\"role\": \"user\", \"content\": prompt}\n",
    "]"
   ]
  },
  {
   "cell_type": "code",
   "execution_count": 23,
   "id": "51023d62-97e0-4945-a335-ba9f547cee64",
   "metadata": {},
   "outputs": [
    {
     "data": {
      "text/plain": [
       "[{'role': 'system', 'content': '你是一名助人为乐的助手。'},\n",
       " {'role': 'user',\n",
       "  'content': '\\n假设有 7 个海盗，他们需要分配一批金币。每个海盗都具有以下特点：\\n\\n1. **绝对理性**：每个海盗都会尽量使自己的利益最大化。\\n2. **绝对自私**：他们只关心自己的得失，不关心他人的情况。\\n3. **暴力威胁**：如果一个提案无法被通过（投票否决），则提议者会被“扔下船”。\\n\\n**分赃规则**\\n\\n1. 按照从首领（编号为 1 的海盗）到最后一名海盗的顺序，依次由每个海盗提出分赃方案。\\n2. 每名海盗（包括提议者）对提案进行投票。提案若获得 **至少一半人数（包括自己）或以上** 的支持，则通过；否则，提议者被抛弃，剩下的海盗继续讨论。\\n3. 海盗之间按照逻辑进行投票，遵循理性自私的行为模式。\\n\\n**目标**\\n\\n首领（提议者）需要提出一个分赃方案，使：\\n\\n1. 自己不会被扔下船（提案被通过）。\\n2. 自己分得的金币尽可能多。\\n\\n问，他们应该如何分赃\\n'}]"
      ]
     },
     "execution_count": 23,
     "metadata": {},
     "output_type": "execute_result"
    }
   ],
   "source": [
    "messages"
   ]
  },
  {
   "cell_type": "code",
   "execution_count": 24,
   "id": "7eeea49f-6d4a-4136-9bdb-03e937d0fdea",
   "metadata": {},
   "outputs": [],
   "source": [
    "# 分词\n",
    "text = tokenizer.apply_chat_template(\n",
    "    messages,\n",
    "    tokenize=False,\n",
    "    add_generation_prompt=True\n",
    ")\n",
    "model_inputs = tokenizer([text], return_tensors=\"pt\").to(model.device)"
   ]
  },
  {
   "cell_type": "code",
   "execution_count": 25,
   "id": "92a6ab8b-302b-4a00-a083-a6641e4d1e6a",
   "metadata": {},
   "outputs": [],
   "source": [
    "# 创建回复\n",
    "generated_ids = model.generate(\n",
    "    **model_inputs,\n",
    "    max_new_tokens=16000\n",
    ")\n",
    "generated_ids = [\n",
    "    output_ids[len(input_ids):] for input_ids, output_ids in zip(model_inputs.input_ids, generated_ids)\n",
    "]\n",
    "\n",
    "response = tokenizer.batch_decode(generated_ids, skip_special_tokens=True)[0]"
   ]
  },
  {
   "cell_type": "code",
   "execution_count": 26,
   "id": "561665fa-3829-43c7-8fe7-88acb3dcc526",
   "metadata": {
    "scrolled": true
   },
   "outputs": [
    {
     "name": "stdout",
     "output_type": "stream",
     "text": [
      "在这样的海盗分赃问题中，我们需要确保首领能够提出一个提案，并且这个提案能够得到至少一半的支持。同时，首领希望自己的份额尽可能多。由于是绝对理性和绝对自私的海盗，他们会根据自己的利益来决定是否接受提案。\n",
      "\n",
      "首先，让我们明确一下所有海盗的特征和规则：\n",
      "\n",
      "- 理性、自私的海盗会考虑自己的利益最大化。\n",
      "- 提案如果不能得到超过半数的支持，那么提议者就会被抛弃，剩下的海盗会重新开始讨论。\n",
      "\n",
      "目标：\n",
      "\n",
      "- 第1号海盗要确保自己的提案能够得到至少半数的支持。\n",
      "- 同时，第1号海盗希望自己分得的金币尽可能多。\n",
      "\n",
      "### 分析步骤\n",
      "\n",
      "1. **确定可能的选择**：\n",
      "   - 可能的分赃方案有多种，比如按比例分配、固定数量等。\n",
      "   - 首先，考虑最简单的方案，即固定金币的数量给每个海盗。\n",
      "\n",
      "2. **考虑不同情况**：\n",
      "   - 如果金币数量少于海盗数量的一半，那么只有首领能得到全部金币。\n",
      "   - 如果金币数量等于海盗数量的一半，那么每个人都能得到相同数量的金币。\n",
      "   - 如果金币数量多于海盗数量的一半，那么可以分成两部分：一部分给首领，另一部分给剩余的海盗。\n",
      "\n",
      "3. **考虑首领的利益**：\n",
      "   - 首领的目标是最大化自己的利益，即最大化自己的金币份额，同时确保自己的提案能够通过。\n",
      "\n",
      "### 推测方案\n",
      "\n",
      "基于上述分析，我推测一种可能的分赃方案：\n",
      "\n",
      "- **首领（1号）**：得到最多金币，比如50%或者更多。\n",
      "- **第二号到第六号**：得到较少的金币，但为了生存，他们可能会接受较低的份额以避免被抛弃。\n",
      "- **第七号**：得到最少的金币，或者没有任何金币，因为他是最后一名。\n",
      "\n",
      "具体来说：\n",
      "\n",
      "1. **首领**：得到大部分金币，比如60%。\n",
      "2. **第二号**：得到20%。\n",
      "3. **第三号到第五号**：各得到10%。\n",
      "4. **第六号**：再分一些给第三号到第五号，因为他们是首领之前的人，可能愿意接受较低的份额。\n",
      "5. **第七号**：什么也不得到，因为他的提案没有通过。\n",
      "\n",
      "### 议程\n",
      "\n",
      "1. **第一轮**：首领提出一个提案，例如60%给首领，其他50%分给第二号到第七号。\n",
      "2. **第二轮**：第二号到第七号对提案进行投票。假设他们中有四人同意，三人反对。首领会失去这次投票的权利，剩下的海盗继续讨论。\n",
      "3. **第三轮**：首领再次尝试，但已经失去了投票权，所以只能等待其他人投票。\n",
      "4. **第四轮**：首领必须接受任何提案，因为他不能再提出新的提案。\n",
      "\n",
      "### 结论\n",
      "\n",
      "在这种情况下，首领需要将大部分金币留给自己的提案，以确保提案能够得到至少一半的支持。而其他海盗可能会接受较低的份额，只要他们的提案没有被抛弃。\n",
      "\n",
      "最终答案是：首领应该把大部分金币留给自己的提案，以确保提案能够通过，并且自己分得尽可能多的金币。具体的金币分配比例可以根据实际情况调整，但总体上，首领需要控制提案的制定和通过过程。\n"
     ]
    }
   ],
   "source": [
    "print(response)"
   ]
  }
 ],
 "metadata": {
  "kernelspec": {
   "display_name": "Python 3 (ipykernel)",
   "language": "python",
   "name": "python3"
  },
  "language_info": {
   "codemirror_mode": {
    "name": "ipython",
    "version": 3
   },
   "file_extension": ".py",
   "mimetype": "text/x-python",
   "name": "python",
   "nbconvert_exporter": "python",
   "pygments_lexer": "ipython3",
   "version": "3.12.3"
  }
 },
 "nbformat": 4,
 "nbformat_minor": 5
}
